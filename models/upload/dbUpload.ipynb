{
 "cells": [
  {
   "cell_type": "code",
   "execution_count": 2,
   "id": "9012204a",
   "metadata": {},
   "outputs": [
    {
     "name": "stderr",
     "output_type": "stream",
     "text": [
      " 46%|████▋     | 237/510 [01:26<01:39,  2.75it/s]"
     ]
    },
    {
     "name": "stdout",
     "output_type": "stream",
     "text": [
      "⚠️ 확률 결측 → 건너뜀: West Ham United vs Chelsea on 2024-09-21\n"
     ]
    },
    {
     "name": "stderr",
     "output_type": "stream",
     "text": [
      " 58%|█████▊    | 297/510 [01:47<01:18,  2.72it/s]"
     ]
    },
    {
     "name": "stdout",
     "output_type": "stream",
     "text": [
      "⚠️ 확률 결측 → 건너뜀: Arsenal vs Nottingham Forest on 2024-11-23\n"
     ]
    },
    {
     "name": "stderr",
     "output_type": "stream",
     "text": [
      " 90%|█████████ | 461/510 [02:47<00:17,  2.73it/s]"
     ]
    },
    {
     "name": "stdout",
     "output_type": "stream",
     "text": [
      "⚠️ 확률 결측 → 건너뜀: Nottingham Forest vs Everton on 2025-04-12\n"
     ]
    },
    {
     "name": "stderr",
     "output_type": "stream",
     "text": [
      "100%|██████████| 510/510 [03:04<00:00,  2.76it/s]"
     ]
    },
    {
     "name": "stdout",
     "output_type": "stream",
     "text": [
      "✅ model_output 테이블에 INSERT 완료\n"
     ]
    },
    {
     "name": "stderr",
     "output_type": "stream",
     "text": [
      "\n"
     ]
    }
   ],
   "source": [
    "import pymysql\n",
    "from tqdm import tqdm\n",
    "import pandas as pd\n",
    "\n",
    "# 1. DB 연결\n",
    "conn = pymysql.connect(\n",
    "    host=\"premo-instance.czwmu86ms4yl.us-east-1.rds.amazonaws.com\",\n",
    "    user=\"admin\",\n",
    "    password=\"tteam891\",\n",
    "    db=\"premo\",\n",
    "    charset=\"utf8mb4\",\n",
    "    cursorclass=pymysql.cursors.DictCursor\n",
    ")\n",
    "\n",
    "# 2. 팀 이름 매핑 (CSV → DB)\n",
    "team_folder_map = {\n",
    "    \"AFC Bournemouth\": \"Bournemouth\"\n",
    "}\n",
    "\n",
    "# 3. team_name → team_id 매핑 (common_name + short_name, 소문자)\n",
    "with conn.cursor() as cursor:\n",
    "    cursor.execute(\"SELECT team_id, team_common_name, short_name FROM team\")\n",
    "    team_rows = cursor.fetchall()\n",
    "\n",
    "team_name_to_id = {}\n",
    "for row in team_rows:\n",
    "    team_name_to_id[row['team_common_name'].lower()] = row['team_id']\n",
    "    team_name_to_id[row['short_name'].lower()] = row['team_id']\n",
    "\n",
    "# 4. CSV 로딩\n",
    "df = pd.read_csv(\"../../output/predicted_score.csv\")\n",
    "\n",
    "# 5. INSERT SQL\n",
    "insert_sql = \"\"\"\n",
    "INSERT INTO model_output (\n",
    "    match_id,\n",
    "    home_winrate, drawrate, away_winrate,\n",
    "    home_score_1, away_score_1, score_1_prob,\n",
    "    home_score_2, away_score_2, score_2_prob,\n",
    "    home_score_3, away_score_3, score_3_prob,\n",
    "    prediction_date, created_at, updated_at\n",
    ") VALUES (\n",
    "    %(match_id)s,\n",
    "    %(home_winrate)s, %(drawrate)s, %(away_winrate)s,\n",
    "    %(home_score_1)s, %(away_score_1)s, %(score_1_prob)s,\n",
    "    %(home_score_2)s, %(away_score_2)s, %(score_2_prob)s,\n",
    "    %(home_score_3)s, %(away_score_3)s, %(score_3_prob)s,\n",
    "    NOW(), NOW(), NOW()\n",
    ");\n",
    "\"\"\"\n",
    "\n",
    "# 6. INSERT 반복\n",
    "with conn.cursor() as cursor:\n",
    "    for i in tqdm(range(len(df))):\n",
    "        row = df.iloc[i]\n",
    "\n",
    "        # 결측값 존재 시 스킵\n",
    "        if pd.isna(row[\"Home Win Probability\"]) or pd.isna(row[\"Draw Probability\"]) or pd.isna(row[\"Away Win Probability\"]):\n",
    "            print(f\"⚠️ 확률 결측 → 건너뜀: {row.get('Home Team')} vs {row.get('Away Team')} on {row.get('Date')}\")\n",
    "            continue\n",
    "\n",
    "        # 팀 이름 매핑 적용\n",
    "        home_team_name = team_folder_map.get(row[\"Home Team\"], row[\"Home Team\"]).lower()\n",
    "        away_team_name = team_folder_map.get(row[\"Away Team\"], row[\"Away Team\"]).lower()\n",
    "\n",
    "        home_team_id = team_name_to_id.get(home_team_name)\n",
    "        away_team_id = team_name_to_id.get(away_team_name)\n",
    "        row_date = pd.to_datetime(row[\"Date\"]).strftime(\"%Y-%m-%d\")\n",
    "\n",
    "        if home_team_id is None or away_team_id is None:\n",
    "            print(f\"❌ 팀 ID 매핑 실패: {row['Home Team']} / {row['Away Team']}\")\n",
    "            continue\n",
    "\n",
    "        # match_id 찾기\n",
    "        cursor.execute(\"\"\"\n",
    "            SELECT match_id FROM `match`\n",
    "            WHERE home_team_id = %s AND away_team_id = %s AND start_time = %s\n",
    "        \"\"\", (home_team_id, away_team_id, row_date))\n",
    "        result = cursor.fetchone()\n",
    "\n",
    "        if not result:\n",
    "            print(f\"❌ Match not found: {row['Home Team']} vs {row['Away Team']} on {row['Date']}\")\n",
    "            continue\n",
    "\n",
    "        match_id = result[\"match_id\"]\n",
    "\n",
    "        # INSERT 데이터 구성\n",
    "        insert_data = {\n",
    "            \"match_id\": match_id,\n",
    "            \"home_winrate\": round(float(row[\"Home Win Probability\"]) * 100, 2),\n",
    "            \"drawrate\": round(float(row[\"Draw Probability\"]) * 100, 2),\n",
    "            \"away_winrate\": round(float(row[\"Away Win Probability\"]) * 100, 2),\n",
    "        }\n",
    "\n",
    "        for k in range(1, 4):\n",
    "            score = str(row.get(f\"Top-{k}\", \"\")).replace(\"'\", \"\").strip()\n",
    "            prob = row.get(f\"Top-{k} Prob\", 0)\n",
    "\n",
    "            if \"-\" in score:\n",
    "                h, a = score.split(\"-\", 1)\n",
    "                h = h.strip()\n",
    "                a = a.strip()\n",
    "            else:\n",
    "                h, a = None, None\n",
    "\n",
    "            insert_data[f\"home_score_{k}\"] = h if h else None\n",
    "            insert_data[f\"away_score_{k}\"] = a if a else None\n",
    "            insert_data[f\"score_{k}_prob\"] = float(prob) * 100 if pd.notnull(prob) else None\n",
    "            \n",
    "        cursor.execute(insert_sql, insert_data)\n",
    "\n",
    "    conn.commit()\n",
    "\n",
    "print(\"✅ model_output 테이블에 INSERT 완료\")"
   ]
  }
 ],
 "metadata": {
  "kernelspec": {
   "display_name": "Python (venv)",
   "language": "python",
   "name": "venv"
  },
  "language_info": {
   "codemirror_mode": {
    "name": "ipython",
    "version": 3
   },
   "file_extension": ".py",
   "mimetype": "text/x-python",
   "name": "python",
   "nbconvert_exporter": "python",
   "pygments_lexer": "ipython3",
   "version": "3.13.2"
  }
 },
 "nbformat": 4,
 "nbformat_minor": 5
}
