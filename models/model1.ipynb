{
 "cells": [
  {
   "cell_type": "code",
   "execution_count": null,
   "id": "ecce6d2b",
   "metadata": {},
   "outputs": [
    {
     "name": "stdout",
     "output_type": "stream",
     "text": [
      "🎯 Home Goal 예측 결과\n",
      "MAE: 0.3111 | R²: 0.7898 | 정수 정확도: 0.8070\n"
     ]
    }
   ],
   "source": [
    "import pandas as pd\n",
    "from xgboost import XGBRegressor\n",
    "from sklearn.metrics import mean_absolute_error, r2_score\n",
    "\n",
    "df = pd.read_csv(\"../data/datas/2425/england-premier-league-final-2024-to-2025-stats_processed.csv\")\n",
    "\n",
    "# 앞 70% → train / 뒤 30% → test\n",
    "split_idx = int(len(df) * 0.7)\n",
    "train_df = df.iloc[:split_idx]\n",
    "test_df = df.iloc[split_idx:]\n",
    "\n",
    "# feature/target 분리\n",
    "exclude = ['home_team_name', 'away_team_name', 'match_date',\n",
    "'home_team_goal_count', 'away_team_goal_count', 'result', 'home_points', 'away_points']\n",
    "\n",
    "X_train = train_df.drop(columns=exclude, errors='ignore').select_dtypes(include=['float64', 'int64']).fillna(0)\n",
    "y_train = train_df['home_team_goal_count']\n",
    "\n",
    "X_test = test_df.drop(columns=exclude, errors='ignore').select_dtypes(include=['float64', 'int64']).fillna(0)\n",
    "y_test = test_df['home_team_goal_count']\n",
    "\n",
    "# 학습 및 예측\n",
    "from xgboost import XGBRegressor\n",
    "from sklearn.metrics import mean_absolute_error\n",
    "\n",
    "model = XGBRegressor()\n",
    "model.fit(X_train, y_train)\n",
    "y_pred = model.predict(X_test)\n",
    "\n",
    "# 평가\n",
    "mae = mean_absolute_error(y_test, y_pred)\n",
    "r2 = r2_score(y_test, y_pred)\n",
    "accuracy = (y_pred.round() == y_test).mean()\n",
    "\n",
    "print(f\"🎯 Home Goal 예측 결과\")\n",
    "print(f\"MAE: {mae:.4f} | R²: {r2:.4f} | 정수 정확도: {accuracy:.4f}\")\n"
   ]
  }
 ],
 "metadata": {
  "kernelspec": {
   "display_name": "venv",
   "language": "python",
   "name": "python3"
  },
  "language_info": {
   "codemirror_mode": {
    "name": "ipython",
    "version": 3
   },
   "file_extension": ".py",
   "mimetype": "text/x-python",
   "name": "python",
   "nbconvert_exporter": "python",
   "pygments_lexer": "ipython3",
   "version": "3.13.2"
  }
 },
 "nbformat": 4,
 "nbformat_minor": 5
}
