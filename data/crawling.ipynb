{
 "cells": [
  {
   "cell_type": "code",
   "execution_count": 16,
   "id": "c6f43ae3",
   "metadata": {},
   "outputs": [],
   "source": [
    "from selenium import webdriver\n",
    "from selenium.webdriver.chrome.service import Service\n",
    "from selenium.webdriver.common.by import By\n",
    "from selenium.webdriver.chrome.options import Options\n",
    "from bs4 import BeautifulSoup\n",
    "from selenium.webdriver.support.ui import WebDriverWait\n",
    "from selenium.webdriver.support import expected_conditions as EC\n",
    "from tqdm import tqdm\n",
    "import time\n",
    "import pandas as pd\n",
    "import requests\n",
    "import os\n",
    "import re\n",
    "\n",
    "#저장 경로 설정\n",
    "SAVE_DIR = \"C:/Users/user080524/Desktop/project/PREMO/data/datas/1\"\n",
    "os.makedirs(SAVE_DIR, exist_ok=True)\n",
    "\n",
    "#셀레니움 드라이버 설정\n",
    "chrome_options = Options()\n",
    "chrome_options.add_argument(\"--headless\")\n",
    "driver = webdriver.Chrome(service=Service(), options=chrome_options)\n"
   ]
  },
  {
   "cell_type": "code",
   "execution_count": 17,
   "id": "b6b78e8d",
   "metadata": {},
   "outputs": [],
   "source": [
    "def crawl(season_url, team_index):\n",
    "    print(f\"[시즌 페이지 로딩] URL: {season_url}\")\n",
    "    driver.get(season_url)\n",
    "    time.sleep(2)\n",
    "    \n",
    "    try:\n",
    "        \n",
    "        match = re.search(r'/(\\d{4}-\\d{4})/', season_url)\n",
    "        if match:\n",
    "            season_code = match.group(1)\n",
    "        else:\n",
    "            season_code = '2024-2025'\n",
    "        id = \"results\" + season_code + \"91_overall\"\n",
    "        \n",
    "        table = WebDriverWait(driver, 10).until(\n",
    "            EC.presence_of_element_located((By.ID, id))\n",
    "            )\n",
    "        if not table:\n",
    "            print(\"팀 테이블 없음\")\n",
    "            return []\n",
    "        \n",
    "        rows = table.find_elements(By.CSS_SELECTOR, 'tbody > tr')\n",
    "        if team_index >= len(rows):\n",
    "            print(f\"team_index {team_index} out of range\")\n",
    "            return []\n",
    "    \n",
    "        row = rows[team_index]    \n",
    "        link = row.find_element(By.CSS_SELECTOR, 'td[data-stat=\"team\"] a')\n",
    "        team_name = link.text.strip()\n",
    "        team_href = link.get_attribute('href')\n",
    "        print(f\"팀: {team_name}, 링크:{team_href}\")\n",
    "        \n",
    "        driver.get(team_href)\n",
    "        time.sleep(2)\n",
    "\n",
    "\n",
    "        team_results=[]\n",
    "        try:\n",
    "            WebDriverWait(driver, 10).until(EC.presence_of_element_located((By.ID, \"matchlogs_for\")))\n",
    "            match_table = driver.find_element(By.ID, \"matchlogs_for\")\n",
    "            if not match_table:\n",
    "                print(\"match 테이블 없음\")\n",
    "                return []\n",
    "            \n",
    "            match_rows = match_table.find_elements(By.CSS_SELECTOR, 'tbody > tr')\n",
    "            if not match_rows:\n",
    "                print(\"match_rows 비어 있음\")\n",
    "                return []   \n",
    "    \n",
    "            for match_row in match_rows:\n",
    "                try:\n",
    "                    comp_value = match_row.find_element(By.CSS_SELECTOR, 'td[data-stat=\"comp\"]').text.strip()\n",
    "                    venue = match_row.find_element(By.CSS_SELECTOR, 'td[data-stat=\"venue\"]').text.strip()\n",
    "                    if comp_value != \"Premier League\" or venue != \"Home\":\n",
    "                        continue\n",
    "                    \n",
    "                    match = match_row.find_element(By.CSS_SELECTOR, 'th[data-stat=\"date\"]')\n",
    "                    match_date = match.get_attribute(\"csk\") or \"unknown_date\"\n",
    "                    \n",
    "                    try:\n",
    "                        match_link = match.find_element(By.TAG_NAME, 'a').get_attribute('href')\n",
    "                    except:\n",
    "                        match_link = None\n",
    "                    \n",
    "                    if match_link: \n",
    "                        team_results.append({\n",
    "                            \"team\":team_name,\n",
    "                            \"date\":match_date,\n",
    "                            \"link\":match_link\n",
    "                        })\n",
    "                        print(match_date)\n",
    "                        print(match_link)\n",
    "                except Exception as e:\n",
    "                    print(\"match row 처리 중 오류:\", e)\n",
    "                    continue\n",
    "                \n",
    "            print(len(team_results))\n",
    "                \n",
    "        except Exception as e:\n",
    "            print(\"match 테이블 오류:\", e)\n",
    "        \n",
    "        return team_results\n",
    "    \n",
    "    except Exception as e:\n",
    "        print(\"시즌 오류 발생:\", e)\n",
    "        return []"
   ]
  },
  {
   "cell_type": "code",
   "execution_count": null,
   "id": "8d4f8e1e",
   "metadata": {},
   "outputs": [
    {
     "name": "stderr",
     "output_type": "stream",
     "text": [
      "Season URLs:   0%|          | 0/2 [00:00<?, ?it/s]"
     ]
    },
    {
     "name": "stdout",
     "output_type": "stream",
     "text": [
      "[시즌 페이지 로딩] URL: https://fbref.com/en/comps/9/2021-2022/2021-2022-Premier-League-Stats\n",
      "팀: Manchester City, 링크:https://fbref.com/en/squads/b8fd03ef/2021-2022/Manchester-City-Stats\n",
      "20210821\n",
      "https://fbref.com/en/matches/ab6db0d6/Manchester-City-Norwich-City-August-21-2021-Premier-League\n",
      "20210828\n",
      "https://fbref.com/en/matches/d4650aa2/Manchester-City-Arsenal-August-28-2021-Premier-League\n",
      "20210918\n",
      "https://fbref.com/en/matches/1576c578/Manchester-City-Southampton-September-18-2021-Premier-League\n",
      "match row 처리 중 오류: Message: no such element: Unable to locate element: {\"method\":\"css selector\",\"selector\":\"td[data-stat=\"comp\"]\"}\n",
      "  (Session info: chrome=136.0.7103.114); For documentation on this error, please visit: https://www.selenium.dev/documentation/webdriver/troubleshooting/errors#no-such-element-exception\n",
      "Stacktrace:\n",
      "\tGetHandleVerifier [0x00007FF7535BCF45+75717]\n",
      "\tGetHandleVerifier [0x00007FF7535BCFA0+75808]\n",
      "\t(No symbol) [0x00007FF753388F9A]\n",
      "\t(No symbol) [0x00007FF7533DF4C6]\n",
      "\t(No symbol) [0x00007FF7533DF77C]\n",
      "\t(No symbol) [0x00007FF7533D1D7C]\n",
      "\t(No symbol) [0x00007FF7534073BF]\n",
      "\t(No symbol) [0x00007FF7533D1C46]\n",
      "\t(No symbol) [0x00007FF753407590]\n",
      "\t(No symbol) [0x00007FF75342F39C]\n",
      "\t(No symbol) [0x00007FF753407153]\n",
      "\t(No symbol) [0x00007FF7533D0421]\n",
      "\t(No symbol) [0x00007FF7533D11B3]\n",
      "\tGetHandleVerifier [0x00007FF7538BD71D+3223453]\n",
      "\tGetHandleVerifier [0x00007FF7538B7CC2+3200322]\n",
      "\tGetHandleVerifier [0x00007FF7538D5AF3+3322739]\n",
      "\tGetHandleVerifier [0x00007FF7535D6A1A+180890]\n",
      "\tGetHandleVerifier [0x00007FF7535DE11F+211359]\n",
      "\tGetHandleVerifier [0x00007FF7535C5294+109332]\n",
      "\tGetHandleVerifier [0x00007FF7535C5442+109762]\n",
      "\tGetHandleVerifier [0x00007FF7535ABA59+4825]\n",
      "\tBaseThreadInitThunk [0x00007FFE15767374+20]\n",
      "\tRtlUserThreadStart [0x00007FFE16F5CC91+33]\n",
      "\n",
      "20211016\n",
      "https://fbref.com/en/matches/55778d0d/Manchester-City-Burnley-October-16-2021-Premier-League\n",
      "20211030\n",
      "https://fbref.com/en/matches/eb6c294f/Manchester-City-Crystal-Palace-October-30-2021-Premier-League\n",
      "20211121\n",
      "https://fbref.com/en/matches/bfbe7402/Manchester-City-Everton-November-21-2021-Premier-League\n",
      "match row 처리 중 오류: Message: no such element: Unable to locate element: {\"method\":\"css selector\",\"selector\":\"td[data-stat=\"comp\"]\"}\n",
      "  (Session info: chrome=136.0.7103.114); For documentation on this error, please visit: https://www.selenium.dev/documentation/webdriver/troubleshooting/errors#no-such-element-exception\n",
      "Stacktrace:\n",
      "\tGetHandleVerifier [0x00007FF7535BCF45+75717]\n",
      "\tGetHandleVerifier [0x00007FF7535BCFA0+75808]\n",
      "\t(No symbol) [0x00007FF753388F9A]\n",
      "\t(No symbol) [0x00007FF7533DF4C6]\n",
      "\t(No symbol) [0x00007FF7533DF77C]\n",
      "\t(No symbol) [0x00007FF7533D1D7C]\n",
      "\t(No symbol) [0x00007FF7534073BF]\n",
      "\t(No symbol) [0x00007FF7533D1C46]\n",
      "\t(No symbol) [0x00007FF753407590]\n",
      "\t(No symbol) [0x00007FF75342F39C]\n",
      "\t(No symbol) [0x00007FF753407153]\n",
      "\t(No symbol) [0x00007FF7533D0421]\n",
      "\t(No symbol) [0x00007FF7533D11B3]\n",
      "\tGetHandleVerifier [0x00007FF7538BD71D+3223453]\n",
      "\tGetHandleVerifier [0x00007FF7538B7CC2+3200322]\n",
      "\tGetHandleVerifier [0x00007FF7538D5AF3+3322739]\n",
      "\tGetHandleVerifier [0x00007FF7535D6A1A+180890]\n",
      "\tGetHandleVerifier [0x00007FF7535DE11F+211359]\n",
      "\tGetHandleVerifier [0x00007FF7535C5294+109332]\n",
      "\tGetHandleVerifier [0x00007FF7535C5442+109762]\n",
      "\tGetHandleVerifier [0x00007FF7535ABA59+4825]\n",
      "\tBaseThreadInitThunk [0x00007FFE15767374+20]\n",
      "\tRtlUserThreadStart [0x00007FFE16F5CC91+33]\n",
      "\n",
      "20211128\n",
      "https://fbref.com/en/matches/c37446de/Manchester-City-West-Ham-United-November-28-2021-Premier-League\n",
      "20211211\n",
      "https://fbref.com/en/matches/d46b4a18/Manchester-City-Wolverhampton-Wanderers-December-11-2021-Premier-League\n",
      "20211214\n",
      "https://fbref.com/en/matches/5730a84c/Manchester-City-Leeds-United-December-14-2021-Premier-League\n",
      "20211226\n",
      "https://fbref.com/en/matches/49e84e17/Manchester-City-Leicester-City-December-26-2021-Premier-League\n",
      "match row 처리 중 오류: Message: no such element: Unable to locate element: {\"method\":\"css selector\",\"selector\":\"td[data-stat=\"comp\"]\"}\n",
      "  (Session info: chrome=136.0.7103.114); For documentation on this error, please visit: https://www.selenium.dev/documentation/webdriver/troubleshooting/errors#no-such-element-exception\n",
      "Stacktrace:\n",
      "\tGetHandleVerifier [0x00007FF7535BCF45+75717]\n",
      "\tGetHandleVerifier [0x00007FF7535BCFA0+75808]\n",
      "\t(No symbol) [0x00007FF753388F9A]\n",
      "\t(No symbol) [0x00007FF7533DF4C6]\n",
      "\t(No symbol) [0x00007FF7533DF77C]\n",
      "\t(No symbol) [0x00007FF7533D1D7C]\n",
      "\t(No symbol) [0x00007FF7534073BF]\n",
      "\t(No symbol) [0x00007FF7533D1C46]\n",
      "\t(No symbol) [0x00007FF753407590]\n",
      "\t(No symbol) [0x00007FF75342F39C]\n",
      "\t(No symbol) [0x00007FF753407153]\n",
      "\t(No symbol) [0x00007FF7533D0421]\n",
      "\t(No symbol) [0x00007FF7533D11B3]\n",
      "\tGetHandleVerifier [0x00007FF7538BD71D+3223453]\n",
      "\tGetHandleVerifier [0x00007FF7538B7CC2+3200322]\n",
      "\tGetHandleVerifier [0x00007FF7538D5AF3+3322739]\n",
      "\tGetHandleVerifier [0x00007FF7535D6A1A+180890]\n",
      "\tGetHandleVerifier [0x00007FF7535DE11F+211359]\n",
      "\tGetHandleVerifier [0x00007FF7535C5294+109332]\n",
      "\tGetHandleVerifier [0x00007FF7535C5442+109762]\n",
      "\tGetHandleVerifier [0x00007FF7535ABA59+4825]\n",
      "\tBaseThreadInitThunk [0x00007FFE15767374+20]\n",
      "\tRtlUserThreadStart [0x00007FFE16F5CC91+33]\n",
      "\n",
      "20220115\n",
      "https://fbref.com/en/matches/febd7f38/Manchester-City-Chelsea-January-15-2022-Premier-League\n",
      "20220209\n",
      "https://fbref.com/en/matches/3b077554/Manchester-City-Brentford-February-9-2022-Premier-League\n",
      "20220219\n",
      "https://fbref.com/en/matches/cd797899/Manchester-City-Tottenham-Hotspur-February-19-2022-Premier-League\n",
      "match row 처리 중 오류: Message: no such element: Unable to locate element: {\"method\":\"css selector\",\"selector\":\"td[data-stat=\"comp\"]\"}\n",
      "  (Session info: chrome=136.0.7103.114); For documentation on this error, please visit: https://www.selenium.dev/documentation/webdriver/troubleshooting/errors#no-such-element-exception\n",
      "Stacktrace:\n",
      "\tGetHandleVerifier [0x00007FF7535BCF45+75717]\n",
      "\tGetHandleVerifier [0x00007FF7535BCFA0+75808]\n",
      "\t(No symbol) [0x00007FF753388F9A]\n",
      "\t(No symbol) [0x00007FF7533DF4C6]\n",
      "\t(No symbol) [0x00007FF7533DF77C]\n",
      "\t(No symbol) [0x00007FF7533D1D7C]\n",
      "\t(No symbol) [0x00007FF7534073BF]\n",
      "\t(No symbol) [0x00007FF7533D1C46]\n",
      "\t(No symbol) [0x00007FF753407590]\n",
      "\t(No symbol) [0x00007FF75342F39C]\n",
      "\t(No symbol) [0x00007FF753407153]\n",
      "\t(No symbol) [0x00007FF7533D0421]\n",
      "\t(No symbol) [0x00007FF7533D11B3]\n",
      "\tGetHandleVerifier [0x00007FF7538BD71D+3223453]\n",
      "\tGetHandleVerifier [0x00007FF7538B7CC2+3200322]\n",
      "\tGetHandleVerifier [0x00007FF7538D5AF3+3322739]\n",
      "\tGetHandleVerifier [0x00007FF7535D6A1A+180890]\n",
      "\tGetHandleVerifier [0x00007FF7535DE11F+211359]\n",
      "\tGetHandleVerifier [0x00007FF7535C5294+109332]\n",
      "\tGetHandleVerifier [0x00007FF7535C5442+109762]\n",
      "\tGetHandleVerifier [0x00007FF7535ABA59+4825]\n",
      "\tBaseThreadInitThunk [0x00007FFE15767374+20]\n",
      "\tRtlUserThreadStart [0x00007FFE16F5CC91+33]\n",
      "\n",
      "20220306\n",
      "https://fbref.com/en/matches/2dc5b8b0/Manchester-Derby-Manchester-City-Manchester-United-March-6-2022-Premier-League\n",
      "20220410\n",
      "https://fbref.com/en/matches/37e2fe92/Manchester-City-Liverpool-April-10-2022-Premier-League\n",
      "20220420\n",
      "https://fbref.com/en/matches/34fd93f9/Manchester-City-Brighton-and-Hove-Albion-April-20-2022-Premier-League\n",
      "match row 처리 중 오류: Message: no such element: Unable to locate element: {\"method\":\"css selector\",\"selector\":\"td[data-stat=\"comp\"]\"}\n",
      "  (Session info: chrome=136.0.7103.114); For documentation on this error, please visit: https://www.selenium.dev/documentation/webdriver/troubleshooting/errors#no-such-element-exception\n",
      "Stacktrace:\n",
      "\tGetHandleVerifier [0x00007FF7535BCF45+75717]\n",
      "\tGetHandleVerifier [0x00007FF7535BCFA0+75808]\n",
      "\t(No symbol) [0x00007FF753388F9A]\n",
      "\t(No symbol) [0x00007FF7533DF4C6]\n",
      "\t(No symbol) [0x00007FF7533DF77C]\n",
      "\t(No symbol) [0x00007FF7533D1D7C]\n",
      "\t(No symbol) [0x00007FF7534073BF]\n",
      "\t(No symbol) [0x00007FF7533D1C46]\n",
      "\t(No symbol) [0x00007FF753407590]\n",
      "\t(No symbol) [0x00007FF75342F39C]\n",
      "\t(No symbol) [0x00007FF753407153]\n",
      "\t(No symbol) [0x00007FF7533D0421]\n",
      "\t(No symbol) [0x00007FF7533D11B3]\n",
      "\tGetHandleVerifier [0x00007FF7538BD71D+3223453]\n",
      "\tGetHandleVerifier [0x00007FF7538B7CC2+3200322]\n",
      "\tGetHandleVerifier [0x00007FF7538D5AF3+3322739]\n",
      "\tGetHandleVerifier [0x00007FF7535D6A1A+180890]\n",
      "\tGetHandleVerifier [0x00007FF7535DE11F+211359]\n",
      "\tGetHandleVerifier [0x00007FF7535C5294+109332]\n",
      "\tGetHandleVerifier [0x00007FF7535C5442+109762]\n",
      "\tGetHandleVerifier [0x00007FF7535ABA59+4825]\n",
      "\tBaseThreadInitThunk [0x00007FFE15767374+20]\n",
      "\tRtlUserThreadStart [0x00007FFE16F5CC91+33]\n",
      "\n",
      "20220423\n",
      "https://fbref.com/en/matches/af522ca3/Manchester-City-Watford-April-23-2022-Premier-League\n",
      "20220508\n",
      "https://fbref.com/en/matches/d1bcaf2b/Manchester-City-Newcastle-United-May-8-2022-Premier-League\n",
      "20220522\n",
      "https://fbref.com/en/matches/7b4b63d0/Manchester-City-Aston-Villa-May-22-2022-Premier-League\n",
      "19\n",
      "19\n"
     ]
    },
    {
     "name": "stderr",
     "output_type": "stream",
     "text": [
      "\n",
      "\u001b[A"
     ]
    },
    {
     "name": "stdout",
     "output_type": "stream",
     "text": [
      "[players stats summary 저장 완료] C:/Users/user080524/Desktop/project/PREMO/data/datas/1\\2021-2022\\Manchester City\\20210821\\20210821_home_palyers_summary.csv\n",
      "[players stats summary 저장 완료] C:/Users/user080524/Desktop/project/PREMO/data/datas/1\\2021-2022\\Manchester City\\20210821\\20210821_home_gk.csv\n",
      "[players stats summary 저장 완료] C:/Users/user080524/Desktop/project/PREMO/data/datas/1\\2021-2022\\Manchester City\\20210821\\20210821_away_players_summary.csv\n",
      "[players stats summary 저장 완료] C:/Users/user080524/Desktop/project/PREMO/data/datas/1\\2021-2022\\Manchester City\\20210821\\20210821_away_gk.csv\n"
     ]
    },
    {
     "name": "stderr",
     "output_type": "stream",
     "text": [
      "\n",
      "\u001b[A"
     ]
    },
    {
     "name": "stdout",
     "output_type": "stream",
     "text": [
      "team_stats 없음 could not convert string to float: ''\n",
      "[team_stats 저장 완료] C:/Users/user080524/Desktop/project/PREMO/data/datas/1\\2021-2022\\Manchester City\\20210821\\20210821_team_stats.csv\n",
      "[players stats summary 저장 완료] C:/Users/user080524/Desktop/project/PREMO/data/datas/1\\2021-2022\\Manchester City\\20210828\\20210828_home_palyers_summary.csv\n",
      "[players stats summary 저장 완료] C:/Users/user080524/Desktop/project/PREMO/data/datas/1\\2021-2022\\Manchester City\\20210828\\20210828_home_gk.csv\n",
      "[players stats summary 저장 완료] C:/Users/user080524/Desktop/project/PREMO/data/datas/1\\2021-2022\\Manchester City\\20210828\\20210828_away_players_summary.csv\n",
      "[players stats summary 저장 완료] C:/Users/user080524/Desktop/project/PREMO/data/datas/1\\2021-2022\\Manchester City\\20210828\\20210828_away_gk.csv\n"
     ]
    },
    {
     "name": "stderr",
     "output_type": "stream",
     "text": [
      "\n",
      "\u001b[A"
     ]
    },
    {
     "name": "stdout",
     "output_type": "stream",
     "text": [
      "team_stats 없음 could not convert string to float: ''\n",
      "[team_stats 저장 완료] C:/Users/user080524/Desktop/project/PREMO/data/datas/1\\2021-2022\\Manchester City\\20210828\\20210828_team_stats.csv\n",
      "[players stats summary 저장 완료] C:/Users/user080524/Desktop/project/PREMO/data/datas/1\\2021-2022\\Manchester City\\20210918\\20210918_home_palyers_summary.csv\n",
      "[players stats summary 저장 완료] C:/Users/user080524/Desktop/project/PREMO/data/datas/1\\2021-2022\\Manchester City\\20210918\\20210918_home_gk.csv\n",
      "[players stats summary 저장 완료] C:/Users/user080524/Desktop/project/PREMO/data/datas/1\\2021-2022\\Manchester City\\20210918\\20210918_away_players_summary.csv\n",
      "[players stats summary 저장 완료] C:/Users/user080524/Desktop/project/PREMO/data/datas/1\\2021-2022\\Manchester City\\20210918\\20210918_away_gk.csv\n"
     ]
    },
    {
     "name": "stderr",
     "output_type": "stream",
     "text": [
      "\n",
      "\u001b[A"
     ]
    },
    {
     "name": "stdout",
     "output_type": "stream",
     "text": [
      "[team_stats 저장 완료] C:/Users/user080524/Desktop/project/PREMO/data/datas/1\\2021-2022\\Manchester City\\20210918\\20210918_team_stats.csv\n",
      "[players stats summary 저장 완료] C:/Users/user080524/Desktop/project/PREMO/data/datas/1\\2021-2022\\Manchester City\\20211016\\20211016_home_palyers_summary.csv\n",
      "[players stats summary 저장 완료] C:/Users/user080524/Desktop/project/PREMO/data/datas/1\\2021-2022\\Manchester City\\20211016\\20211016_home_gk.csv\n",
      "[players stats summary 저장 완료] C:/Users/user080524/Desktop/project/PREMO/data/datas/1\\2021-2022\\Manchester City\\20211016\\20211016_away_players_summary.csv\n",
      "[players stats summary 저장 완료] C:/Users/user080524/Desktop/project/PREMO/data/datas/1\\2021-2022\\Manchester City\\20211016\\20211016_away_gk.csv\n"
     ]
    },
    {
     "name": "stderr",
     "output_type": "stream",
     "text": [
      "\n",
      "\u001b[A"
     ]
    },
    {
     "name": "stdout",
     "output_type": "stream",
     "text": [
      "[team_stats 저장 완료] C:/Users/user080524/Desktop/project/PREMO/data/datas/1\\2021-2022\\Manchester City\\20211016\\20211016_team_stats.csv\n",
      "[players stats summary 저장 완료] C:/Users/user080524/Desktop/project/PREMO/data/datas/1\\2021-2022\\Manchester City\\20211030\\20211030_home_palyers_summary.csv\n",
      "[players stats summary 저장 완료] C:/Users/user080524/Desktop/project/PREMO/data/datas/1\\2021-2022\\Manchester City\\20211030\\20211030_home_gk.csv\n",
      "[players stats summary 저장 완료] C:/Users/user080524/Desktop/project/PREMO/data/datas/1\\2021-2022\\Manchester City\\20211030\\20211030_away_players_summary.csv\n",
      "[players stats summary 저장 완료] C:/Users/user080524/Desktop/project/PREMO/data/datas/1\\2021-2022\\Manchester City\\20211030\\20211030_away_gk.csv\n"
     ]
    },
    {
     "name": "stderr",
     "output_type": "stream",
     "text": [
      "\n",
      "\u001b[A"
     ]
    },
    {
     "name": "stdout",
     "output_type": "stream",
     "text": [
      "[team_stats 저장 완료] C:/Users/user080524/Desktop/project/PREMO/data/datas/1\\2021-2022\\Manchester City\\20211030\\20211030_team_stats.csv\n",
      "[players stats summary 저장 완료] C:/Users/user080524/Desktop/project/PREMO/data/datas/1\\2021-2022\\Manchester City\\20211121\\20211121_home_palyers_summary.csv\n",
      "[players stats summary 저장 완료] C:/Users/user080524/Desktop/project/PREMO/data/datas/1\\2021-2022\\Manchester City\\20211121\\20211121_home_gk.csv\n",
      "[players stats summary 저장 완료] C:/Users/user080524/Desktop/project/PREMO/data/datas/1\\2021-2022\\Manchester City\\20211121\\20211121_away_players_summary.csv\n",
      "[players stats summary 저장 완료] C:/Users/user080524/Desktop/project/PREMO/data/datas/1\\2021-2022\\Manchester City\\20211121\\20211121_away_gk.csv\n"
     ]
    },
    {
     "name": "stderr",
     "output_type": "stream",
     "text": [
      "\n",
      "\u001b[A"
     ]
    },
    {
     "name": "stdout",
     "output_type": "stream",
     "text": [
      "[team_stats 저장 완료] C:/Users/user080524/Desktop/project/PREMO/data/datas/1\\2021-2022\\Manchester City\\20211121\\20211121_team_stats.csv\n",
      "[players stats summary 저장 완료] C:/Users/user080524/Desktop/project/PREMO/data/datas/1\\2021-2022\\Manchester City\\20211128\\20211128_home_palyers_summary.csv\n",
      "[players stats summary 저장 완료] C:/Users/user080524/Desktop/project/PREMO/data/datas/1\\2021-2022\\Manchester City\\20211128\\20211128_home_gk.csv\n",
      "[players stats summary 저장 완료] C:/Users/user080524/Desktop/project/PREMO/data/datas/1\\2021-2022\\Manchester City\\20211128\\20211128_away_players_summary.csv\n",
      "[players stats summary 저장 완료] C:/Users/user080524/Desktop/project/PREMO/data/datas/1\\2021-2022\\Manchester City\\20211128\\20211128_away_gk.csv\n"
     ]
    },
    {
     "name": "stderr",
     "output_type": "stream",
     "text": [
      "\n",
      "\u001b[A"
     ]
    },
    {
     "name": "stdout",
     "output_type": "stream",
     "text": [
      "[team_stats 저장 완료] C:/Users/user080524/Desktop/project/PREMO/data/datas/1\\2021-2022\\Manchester City\\20211128\\20211128_team_stats.csv\n",
      "[players stats summary 저장 완료] C:/Users/user080524/Desktop/project/PREMO/data/datas/1\\2021-2022\\Manchester City\\20211211\\20211211_home_palyers_summary.csv\n",
      "[players stats summary 저장 완료] C:/Users/user080524/Desktop/project/PREMO/data/datas/1\\2021-2022\\Manchester City\\20211211\\20211211_home_gk.csv\n",
      "[players stats summary 저장 완료] C:/Users/user080524/Desktop/project/PREMO/data/datas/1\\2021-2022\\Manchester City\\20211211\\20211211_away_players_summary.csv\n",
      "[players stats summary 저장 완료] C:/Users/user080524/Desktop/project/PREMO/data/datas/1\\2021-2022\\Manchester City\\20211211\\20211211_away_gk.csv\n"
     ]
    },
    {
     "name": "stderr",
     "output_type": "stream",
     "text": [
      "\n",
      "\u001b[A"
     ]
    },
    {
     "name": "stdout",
     "output_type": "stream",
     "text": [
      "[team_stats 저장 완료] C:/Users/user080524/Desktop/project/PREMO/data/datas/1\\2021-2022\\Manchester City\\20211211\\20211211_team_stats.csv\n",
      "[players stats summary 저장 완료] C:/Users/user080524/Desktop/project/PREMO/data/datas/1\\2021-2022\\Manchester City\\20211214\\20211214_home_palyers_summary.csv\n",
      "[players stats summary 저장 완료] C:/Users/user080524/Desktop/project/PREMO/data/datas/1\\2021-2022\\Manchester City\\20211214\\20211214_home_gk.csv\n",
      "[players stats summary 저장 완료] C:/Users/user080524/Desktop/project/PREMO/data/datas/1\\2021-2022\\Manchester City\\20211214\\20211214_away_players_summary.csv\n",
      "[players stats summary 저장 완료] C:/Users/user080524/Desktop/project/PREMO/data/datas/1\\2021-2022\\Manchester City\\20211214\\20211214_away_gk.csv\n"
     ]
    },
    {
     "name": "stderr",
     "output_type": "stream",
     "text": [
      "\n",
      "\u001b[A"
     ]
    },
    {
     "name": "stdout",
     "output_type": "stream",
     "text": [
      "[team_stats 저장 완료] C:/Users/user080524/Desktop/project/PREMO/data/datas/1\\2021-2022\\Manchester City\\20211214\\20211214_team_stats.csv\n",
      "[players stats summary 저장 완료] C:/Users/user080524/Desktop/project/PREMO/data/datas/1\\2021-2022\\Manchester City\\20211226\\20211226_home_palyers_summary.csv\n",
      "[players stats summary 저장 완료] C:/Users/user080524/Desktop/project/PREMO/data/datas/1\\2021-2022\\Manchester City\\20211226\\20211226_home_gk.csv\n",
      "[players stats summary 저장 완료] C:/Users/user080524/Desktop/project/PREMO/data/datas/1\\2021-2022\\Manchester City\\20211226\\20211226_away_players_summary.csv\n",
      "[players stats summary 저장 완료] C:/Users/user080524/Desktop/project/PREMO/data/datas/1\\2021-2022\\Manchester City\\20211226\\20211226_away_gk.csv\n"
     ]
    },
    {
     "name": "stderr",
     "output_type": "stream",
     "text": [
      "\n",
      "\u001b[A"
     ]
    },
    {
     "name": "stdout",
     "output_type": "stream",
     "text": [
      "[team_stats 저장 완료] C:/Users/user080524/Desktop/project/PREMO/data/datas/1\\2021-2022\\Manchester City\\20211226\\20211226_team_stats.csv\n",
      "[players stats summary 저장 완료] C:/Users/user080524/Desktop/project/PREMO/data/datas/1\\2021-2022\\Manchester City\\20220115\\20220115_home_palyers_summary.csv\n",
      "[players stats summary 저장 완료] C:/Users/user080524/Desktop/project/PREMO/data/datas/1\\2021-2022\\Manchester City\\20220115\\20220115_home_gk.csv\n",
      "[players stats summary 저장 완료] C:/Users/user080524/Desktop/project/PREMO/data/datas/1\\2021-2022\\Manchester City\\20220115\\20220115_away_players_summary.csv\n",
      "[players stats summary 저장 완료] C:/Users/user080524/Desktop/project/PREMO/data/datas/1\\2021-2022\\Manchester City\\20220115\\20220115_away_gk.csv\n"
     ]
    },
    {
     "name": "stderr",
     "output_type": "stream",
     "text": [
      "\n",
      "\u001b[A"
     ]
    },
    {
     "name": "stdout",
     "output_type": "stream",
     "text": [
      "[team_stats 저장 완료] C:/Users/user080524/Desktop/project/PREMO/data/datas/1\\2021-2022\\Manchester City\\20220115\\20220115_team_stats.csv\n",
      "[players stats summary 저장 완료] C:/Users/user080524/Desktop/project/PREMO/data/datas/1\\2021-2022\\Manchester City\\20220209\\20220209_home_palyers_summary.csv\n",
      "[players stats summary 저장 완료] C:/Users/user080524/Desktop/project/PREMO/data/datas/1\\2021-2022\\Manchester City\\20220209\\20220209_home_gk.csv\n",
      "[players stats summary 저장 완료] C:/Users/user080524/Desktop/project/PREMO/data/datas/1\\2021-2022\\Manchester City\\20220209\\20220209_away_players_summary.csv\n",
      "[players stats summary 저장 완료] C:/Users/user080524/Desktop/project/PREMO/data/datas/1\\2021-2022\\Manchester City\\20220209\\20220209_away_gk.csv\n"
     ]
    },
    {
     "name": "stderr",
     "output_type": "stream",
     "text": [
      "\n",
      "\u001b[A"
     ]
    },
    {
     "name": "stdout",
     "output_type": "stream",
     "text": [
      "[team_stats 저장 완료] C:/Users/user080524/Desktop/project/PREMO/data/datas/1\\2021-2022\\Manchester City\\20220209\\20220209_team_stats.csv\n",
      "[players stats summary 저장 완료] C:/Users/user080524/Desktop/project/PREMO/data/datas/1\\2021-2022\\Manchester City\\20220219\\20220219_home_palyers_summary.csv\n",
      "[players stats summary 저장 완료] C:/Users/user080524/Desktop/project/PREMO/data/datas/1\\2021-2022\\Manchester City\\20220219\\20220219_home_gk.csv\n",
      "[players stats summary 저장 완료] C:/Users/user080524/Desktop/project/PREMO/data/datas/1\\2021-2022\\Manchester City\\20220219\\20220219_away_players_summary.csv\n",
      "[players stats summary 저장 완료] C:/Users/user080524/Desktop/project/PREMO/data/datas/1\\2021-2022\\Manchester City\\20220219\\20220219_away_gk.csv\n"
     ]
    },
    {
     "name": "stderr",
     "output_type": "stream",
     "text": [
      "\n",
      "\u001b[A"
     ]
    },
    {
     "name": "stdout",
     "output_type": "stream",
     "text": [
      "[team_stats 저장 완료] C:/Users/user080524/Desktop/project/PREMO/data/datas/1\\2021-2022\\Manchester City\\20220219\\20220219_team_stats.csv\n",
      "[players stats summary 저장 완료] C:/Users/user080524/Desktop/project/PREMO/data/datas/1\\2021-2022\\Manchester City\\20220306\\20220306_home_palyers_summary.csv\n",
      "[players stats summary 저장 완료] C:/Users/user080524/Desktop/project/PREMO/data/datas/1\\2021-2022\\Manchester City\\20220306\\20220306_home_gk.csv\n",
      "[players stats summary 저장 완료] C:/Users/user080524/Desktop/project/PREMO/data/datas/1\\2021-2022\\Manchester City\\20220306\\20220306_away_players_summary.csv\n",
      "[players stats summary 저장 완료] C:/Users/user080524/Desktop/project/PREMO/data/datas/1\\2021-2022\\Manchester City\\20220306\\20220306_away_gk.csv\n"
     ]
    },
    {
     "name": "stderr",
     "output_type": "stream",
     "text": [
      "\n",
      "\u001b[A"
     ]
    },
    {
     "name": "stdout",
     "output_type": "stream",
     "text": [
      "[team_stats 저장 완료] C:/Users/user080524/Desktop/project/PREMO/data/datas/1\\2021-2022\\Manchester City\\20220306\\20220306_team_stats.csv\n",
      "[players stats summary 저장 완료] C:/Users/user080524/Desktop/project/PREMO/data/datas/1\\2021-2022\\Manchester City\\20220410\\20220410_home_palyers_summary.csv\n",
      "[players stats summary 저장 완료] C:/Users/user080524/Desktop/project/PREMO/data/datas/1\\2021-2022\\Manchester City\\20220410\\20220410_home_gk.csv\n",
      "[players stats summary 저장 완료] C:/Users/user080524/Desktop/project/PREMO/data/datas/1\\2021-2022\\Manchester City\\20220410\\20220410_away_players_summary.csv\n",
      "[players stats summary 저장 완료] C:/Users/user080524/Desktop/project/PREMO/data/datas/1\\2021-2022\\Manchester City\\20220410\\20220410_away_gk.csv\n"
     ]
    },
    {
     "name": "stderr",
     "output_type": "stream",
     "text": [
      "\n",
      "\u001b[A"
     ]
    },
    {
     "name": "stdout",
     "output_type": "stream",
     "text": [
      "[team_stats 저장 완료] C:/Users/user080524/Desktop/project/PREMO/data/datas/1\\2021-2022\\Manchester City\\20220410\\20220410_team_stats.csv\n",
      "[players stats summary 저장 완료] C:/Users/user080524/Desktop/project/PREMO/data/datas/1\\2021-2022\\Manchester City\\20220420\\20220420_home_palyers_summary.csv\n",
      "[players stats summary 저장 완료] C:/Users/user080524/Desktop/project/PREMO/data/datas/1\\2021-2022\\Manchester City\\20220420\\20220420_home_gk.csv\n",
      "[players stats summary 저장 완료] C:/Users/user080524/Desktop/project/PREMO/data/datas/1\\2021-2022\\Manchester City\\20220420\\20220420_away_players_summary.csv\n",
      "[players stats summary 저장 완료] C:/Users/user080524/Desktop/project/PREMO/data/datas/1\\2021-2022\\Manchester City\\20220420\\20220420_away_gk.csv\n"
     ]
    },
    {
     "name": "stderr",
     "output_type": "stream",
     "text": [
      "\n",
      "\u001b[A"
     ]
    },
    {
     "name": "stdout",
     "output_type": "stream",
     "text": [
      "[team_stats 저장 완료] C:/Users/user080524/Desktop/project/PREMO/data/datas/1\\2021-2022\\Manchester City\\20220420\\20220420_team_stats.csv\n",
      "[players stats summary 저장 완료] C:/Users/user080524/Desktop/project/PREMO/data/datas/1\\2021-2022\\Manchester City\\20220423\\20220423_home_palyers_summary.csv\n",
      "[players stats summary 저장 완료] C:/Users/user080524/Desktop/project/PREMO/data/datas/1\\2021-2022\\Manchester City\\20220423\\20220423_home_gk.csv\n",
      "[players stats summary 저장 완료] C:/Users/user080524/Desktop/project/PREMO/data/datas/1\\2021-2022\\Manchester City\\20220423\\20220423_away_players_summary.csv\n",
      "[players stats summary 저장 완료] C:/Users/user080524/Desktop/project/PREMO/data/datas/1\\2021-2022\\Manchester City\\20220423\\20220423_away_gk.csv\n"
     ]
    },
    {
     "name": "stderr",
     "output_type": "stream",
     "text": [
      "\n",
      "\u001b[A"
     ]
    },
    {
     "name": "stdout",
     "output_type": "stream",
     "text": [
      "[team_stats 저장 완료] C:/Users/user080524/Desktop/project/PREMO/data/datas/1\\2021-2022\\Manchester City\\20220423\\20220423_team_stats.csv\n",
      "[players stats summary 저장 완료] C:/Users/user080524/Desktop/project/PREMO/data/datas/1\\2021-2022\\Manchester City\\20220508\\20220508_home_palyers_summary.csv\n",
      "[players stats summary 저장 완료] C:/Users/user080524/Desktop/project/PREMO/data/datas/1\\2021-2022\\Manchester City\\20220508\\20220508_home_gk.csv\n",
      "[players stats summary 저장 완료] C:/Users/user080524/Desktop/project/PREMO/data/datas/1\\2021-2022\\Manchester City\\20220508\\20220508_away_players_summary.csv\n",
      "[players stats summary 저장 완료] C:/Users/user080524/Desktop/project/PREMO/data/datas/1\\2021-2022\\Manchester City\\20220508\\20220508_away_gk.csv\n"
     ]
    },
    {
     "name": "stderr",
     "output_type": "stream",
     "text": [
      "\n",
      "\u001b[A"
     ]
    },
    {
     "name": "stdout",
     "output_type": "stream",
     "text": [
      "[team_stats 저장 완료] C:/Users/user080524/Desktop/project/PREMO/data/datas/1\\2021-2022\\Manchester City\\20220508\\20220508_team_stats.csv\n",
      "[players stats summary 저장 완료] C:/Users/user080524/Desktop/project/PREMO/data/datas/1\\2021-2022\\Manchester City\\20220522\\20220522_home_palyers_summary.csv\n",
      "[players stats summary 저장 완료] C:/Users/user080524/Desktop/project/PREMO/data/datas/1\\2021-2022\\Manchester City\\20220522\\20220522_home_gk.csv\n",
      "[players stats summary 저장 완료] C:/Users/user080524/Desktop/project/PREMO/data/datas/1\\2021-2022\\Manchester City\\20220522\\20220522_away_players_summary.csv\n",
      "[players stats summary 저장 완료] C:/Users/user080524/Desktop/project/PREMO/data/datas/1\\2021-2022\\Manchester City\\20220522\\20220522_away_gk.csv\n"
     ]
    },
    {
     "name": "stderr",
     "output_type": "stream",
     "text": [
      "\n",
      "\u001b[A\n",
      "\u001b[A"
     ]
    },
    {
     "name": "stdout",
     "output_type": "stream",
     "text": [
      "[team_stats 저장 완료] C:/Users/user080524/Desktop/project/PREMO/data/datas/1\\2021-2022\\Manchester City\\20220522\\20220522_team_stats.csv\n",
      "[시즌 페이지 로딩] URL: https://fbref.com/en/comps/9/2021-2022/2021-2022-Premier-League-Stats\n",
      "팀: Liverpool, 링크:https://fbref.com/en/squads/822bd0ba/2021-2022/Liverpool-Stats\n",
      "20210821\n",
      "https://fbref.com/en/matches/94d9dac0/Liverpool-Burnley-August-21-2021-Premier-League\n",
      "20210828\n",
      "https://fbref.com/en/matches/78aa75e6/Liverpool-Chelsea-August-28-2021-Premier-League\n",
      "20210918\n",
      "https://fbref.com/en/matches/59ef8c18/Liverpool-Crystal-Palace-September-18-2021-Premier-League\n",
      "20211003\n",
      "https://fbref.com/en/matches/2598b046/Liverpool-Manchester-City-October-3-2021-Premier-League\n",
      "match row 처리 중 오류: Message: no such element: Unable to locate element: {\"method\":\"css selector\",\"selector\":\"td[data-stat=\"comp\"]\"}\n",
      "  (Session info: chrome=136.0.7103.114); For documentation on this error, please visit: https://www.selenium.dev/documentation/webdriver/troubleshooting/errors#no-such-element-exception\n",
      "Stacktrace:\n",
      "\tGetHandleVerifier [0x00007FF7535BCF45+75717]\n",
      "\tGetHandleVerifier [0x00007FF7535BCFA0+75808]\n",
      "\t(No symbol) [0x00007FF753388F9A]\n",
      "\t(No symbol) [0x00007FF7533DF4C6]\n",
      "\t(No symbol) [0x00007FF7533DF77C]\n",
      "\t(No symbol) [0x00007FF7533D1D7C]\n",
      "\t(No symbol) [0x00007FF7534073BF]\n",
      "\t(No symbol) [0x00007FF7533D1C46]\n",
      "\t(No symbol) [0x00007FF753407590]\n",
      "\t(No symbol) [0x00007FF75342F39C]\n",
      "\t(No symbol) [0x00007FF753407153]\n",
      "\t(No symbol) [0x00007FF7533D0421]\n",
      "\t(No symbol) [0x00007FF7533D11B3]\n",
      "\tGetHandleVerifier [0x00007FF7538BD71D+3223453]\n",
      "\tGetHandleVerifier [0x00007FF7538B7CC2+3200322]\n",
      "\tGetHandleVerifier [0x00007FF7538D5AF3+3322739]\n",
      "\tGetHandleVerifier [0x00007FF7535D6A1A+180890]\n",
      "\tGetHandleVerifier [0x00007FF7535DE11F+211359]\n",
      "\tGetHandleVerifier [0x00007FF7535C5294+109332]\n",
      "\tGetHandleVerifier [0x00007FF7535C5442+109762]\n",
      "\tGetHandleVerifier [0x00007FF7535ABA59+4825]\n",
      "\tBaseThreadInitThunk [0x00007FFE15767374+20]\n",
      "\tRtlUserThreadStart [0x00007FFE16F5CC91+33]\n",
      "\n",
      "20211030\n",
      "https://fbref.com/en/matches/c68998b5/Liverpool-Brighton-and-Hove-Albion-October-30-2021-Premier-League\n",
      "20211120\n",
      "https://fbref.com/en/matches/e9ea66e1/Liverpool-Arsenal-November-20-2021-Premier-League\n",
      "20211127\n",
      "https://fbref.com/en/matches/aa9b882d/Liverpool-Southampton-November-27-2021-Premier-League\n",
      "match row 처리 중 오류: Message: no such element: Unable to locate element: {\"method\":\"css selector\",\"selector\":\"td[data-stat=\"comp\"]\"}\n",
      "  (Session info: chrome=136.0.7103.114); For documentation on this error, please visit: https://www.selenium.dev/documentation/webdriver/troubleshooting/errors#no-such-element-exception\n",
      "Stacktrace:\n",
      "\tGetHandleVerifier [0x00007FF7535BCF45+75717]\n",
      "\tGetHandleVerifier [0x00007FF7535BCFA0+75808]\n",
      "\t(No symbol) [0x00007FF753388F9A]\n",
      "\t(No symbol) [0x00007FF7533DF4C6]\n",
      "\t(No symbol) [0x00007FF7533DF77C]\n",
      "\t(No symbol) [0x00007FF7533D1D7C]\n",
      "\t(No symbol) [0x00007FF7534073BF]\n",
      "\t(No symbol) [0x00007FF7533D1C46]\n",
      "\t(No symbol) [0x00007FF753407590]\n",
      "\t(No symbol) [0x00007FF75342F39C]\n",
      "\t(No symbol) [0x00007FF753407153]\n",
      "\t(No symbol) [0x00007FF7533D0421]\n",
      "\t(No symbol) [0x00007FF7533D11B3]\n",
      "\tGetHandleVerifier [0x00007FF7538BD71D+3223453]\n",
      "\tGetHandleVerifier [0x00007FF7538B7CC2+3200322]\n",
      "\tGetHandleVerifier [0x00007FF7538D5AF3+3322739]\n",
      "\tGetHandleVerifier [0x00007FF7535D6A1A+180890]\n",
      "\tGetHandleVerifier [0x00007FF7535DE11F+211359]\n",
      "\tGetHandleVerifier [0x00007FF7535C5294+109332]\n",
      "\tGetHandleVerifier [0x00007FF7535C5442+109762]\n",
      "\tGetHandleVerifier [0x00007FF7535ABA59+4825]\n",
      "\tBaseThreadInitThunk [0x00007FFE15767374+20]\n",
      "\tRtlUserThreadStart [0x00007FFE16F5CC91+33]\n",
      "\n",
      "20211211\n",
      "https://fbref.com/en/matches/678d7dca/Liverpool-Aston-Villa-December-11-2021-Premier-League\n",
      "20211216\n",
      "https://fbref.com/en/matches/5aec4772/Liverpool-Newcastle-United-December-16-2021-Premier-League\n",
      "match row 처리 중 오류: Message: no such element: Unable to locate element: {\"method\":\"css selector\",\"selector\":\"td[data-stat=\"comp\"]\"}\n",
      "  (Session info: chrome=136.0.7103.114); For documentation on this error, please visit: https://www.selenium.dev/documentation/webdriver/troubleshooting/errors#no-such-element-exception\n",
      "Stacktrace:\n",
      "\tGetHandleVerifier [0x00007FF7535BCF45+75717]\n",
      "\tGetHandleVerifier [0x00007FF7535BCFA0+75808]\n",
      "\t(No symbol) [0x00007FF753388F9A]\n",
      "\t(No symbol) [0x00007FF7533DF4C6]\n",
      "\t(No symbol) [0x00007FF7533DF77C]\n",
      "\t(No symbol) [0x00007FF7533D1D7C]\n",
      "\t(No symbol) [0x00007FF7534073BF]\n",
      "\t(No symbol) [0x00007FF7533D1C46]\n",
      "\t(No symbol) [0x00007FF753407590]\n",
      "\t(No symbol) [0x00007FF75342F39C]\n",
      "\t(No symbol) [0x00007FF753407153]\n",
      "\t(No symbol) [0x00007FF7533D0421]\n",
      "\t(No symbol) [0x00007FF7533D11B3]\n",
      "\tGetHandleVerifier [0x00007FF7538BD71D+3223453]\n",
      "\tGetHandleVerifier [0x00007FF7538B7CC2+3200322]\n",
      "\tGetHandleVerifier [0x00007FF7538D5AF3+3322739]\n",
      "\tGetHandleVerifier [0x00007FF7535D6A1A+180890]\n",
      "\tGetHandleVerifier [0x00007FF7535DE11F+211359]\n",
      "\tGetHandleVerifier [0x00007FF7535C5294+109332]\n",
      "\tGetHandleVerifier [0x00007FF7535C5442+109762]\n",
      "\tGetHandleVerifier [0x00007FF7535ABA59+4825]\n",
      "\tBaseThreadInitThunk [0x00007FFE15767374+20]\n",
      "\tRtlUserThreadStart [0x00007FFE16F5CC91+33]\n",
      "\n",
      "20220116\n",
      "https://fbref.com/en/matches/c8c457d6/Liverpool-Brentford-January-16-2022-Premier-League\n",
      "20220210\n",
      "https://fbref.com/en/matches/911fa284/Liverpool-Leicester-City-February-10-2022-Premier-League\n",
      "20220219\n",
      "https://fbref.com/en/matches/700c9eaf/Liverpool-Norwich-City-February-19-2022-Premier-League\n",
      "20220223\n",
      "https://fbref.com/en/matches/6d0f3b48/Liverpool-Leeds-United-February-23-2022-Premier-League\n",
      "match row 처리 중 오류: Message: no such element: Unable to locate element: {\"method\":\"css selector\",\"selector\":\"td[data-stat=\"comp\"]\"}\n",
      "  (Session info: chrome=136.0.7103.114); For documentation on this error, please visit: https://www.selenium.dev/documentation/webdriver/troubleshooting/errors#no-such-element-exception\n",
      "Stacktrace:\n",
      "\tGetHandleVerifier [0x00007FF7535BCF45+75717]\n",
      "\tGetHandleVerifier [0x00007FF7535BCFA0+75808]\n",
      "\t(No symbol) [0x00007FF753388F9A]\n",
      "\t(No symbol) [0x00007FF7533DF4C6]\n",
      "\t(No symbol) [0x00007FF7533DF77C]\n",
      "\t(No symbol) [0x00007FF7533D1D7C]\n",
      "\t(No symbol) [0x00007FF7534073BF]\n",
      "\t(No symbol) [0x00007FF7533D1C46]\n",
      "\t(No symbol) [0x00007FF753407590]\n",
      "\t(No symbol) [0x00007FF75342F39C]\n",
      "\t(No symbol) [0x00007FF753407153]\n",
      "\t(No symbol) [0x00007FF7533D0421]\n",
      "\t(No symbol) [0x00007FF7533D11B3]\n",
      "\tGetHandleVerifier [0x00007FF7538BD71D+3223453]\n",
      "\tGetHandleVerifier [0x00007FF7538B7CC2+3200322]\n",
      "\tGetHandleVerifier [0x00007FF7538D5AF3+3322739]\n",
      "\tGetHandleVerifier [0x00007FF7535D6A1A+180890]\n",
      "\tGetHandleVerifier [0x00007FF7535DE11F+211359]\n",
      "\tGetHandleVerifier [0x00007FF7535C5294+109332]\n",
      "\tGetHandleVerifier [0x00007FF7535C5442+109762]\n",
      "\tGetHandleVerifier [0x00007FF7535ABA59+4825]\n",
      "\tBaseThreadInitThunk [0x00007FFE15767374+20]\n",
      "\tRtlUserThreadStart [0x00007FFE16F5CC91+33]\n",
      "\n",
      "20220305\n",
      "https://fbref.com/en/matches/bc1944c3/Liverpool-West-Ham-United-March-5-2022-Premier-League\n",
      "20220402\n",
      "https://fbref.com/en/matches/8e05e22c/Liverpool-Watford-April-2-2022-Premier-League\n",
      "match row 처리 중 오류: Message: no such element: Unable to locate element: {\"method\":\"css selector\",\"selector\":\"td[data-stat=\"comp\"]\"}\n",
      "  (Session info: chrome=136.0.7103.114); For documentation on this error, please visit: https://www.selenium.dev/documentation/webdriver/troubleshooting/errors#no-such-element-exception\n",
      "Stacktrace:\n",
      "\tGetHandleVerifier [0x00007FF7535BCF45+75717]\n",
      "\tGetHandleVerifier [0x00007FF7535BCFA0+75808]\n",
      "\t(No symbol) [0x00007FF753388F9A]\n",
      "\t(No symbol) [0x00007FF7533DF4C6]\n",
      "\t(No symbol) [0x00007FF7533DF77C]\n",
      "\t(No symbol) [0x00007FF7533D1D7C]\n",
      "\t(No symbol) [0x00007FF7534073BF]\n",
      "\t(No symbol) [0x00007FF7533D1C46]\n",
      "\t(No symbol) [0x00007FF753407590]\n",
      "\t(No symbol) [0x00007FF75342F39C]\n",
      "\t(No symbol) [0x00007FF753407153]\n",
      "\t(No symbol) [0x00007FF7533D0421]\n",
      "\t(No symbol) [0x00007FF7533D11B3]\n",
      "\tGetHandleVerifier [0x00007FF7538BD71D+3223453]\n",
      "\tGetHandleVerifier [0x00007FF7538B7CC2+3200322]\n",
      "\tGetHandleVerifier [0x00007FF7538D5AF3+3322739]\n",
      "\tGetHandleVerifier [0x00007FF7535D6A1A+180890]\n",
      "\tGetHandleVerifier [0x00007FF7535DE11F+211359]\n",
      "\tGetHandleVerifier [0x00007FF7535C5294+109332]\n",
      "\tGetHandleVerifier [0x00007FF7535C5442+109762]\n",
      "\tGetHandleVerifier [0x00007FF7535ABA59+4825]\n",
      "\tBaseThreadInitThunk [0x00007FFE15767374+20]\n",
      "\tRtlUserThreadStart [0x00007FFE16F5CC91+33]\n",
      "\n",
      "20220419\n",
      "https://fbref.com/en/matches/09f1bef7/North-West-Derby-Liverpool-Manchester-United-April-19-2022-Premier-League\n",
      "20220424\n",
      "https://fbref.com/en/matches/69235d39/Merseyside-Derby-Liverpool-Everton-April-24-2022-Premier-League\n",
      "20220507\n",
      "https://fbref.com/en/matches/9a93e9b2/Liverpool-Tottenham-Hotspur-May-7-2022-Premier-League\n",
      "20220522\n",
      "https://fbref.com/en/matches/8b0f3e28/Liverpool-Wolverhampton-Wanderers-May-22-2022-Premier-League\n",
      "19\n",
      "19\n"
     ]
    },
    {
     "name": "stderr",
     "output_type": "stream",
     "text": [
      "\n",
      "\u001b[A"
     ]
    },
    {
     "name": "stdout",
     "output_type": "stream",
     "text": [
      "[players stats summary 저장 완료] C:/Users/user080524/Desktop/project/PREMO/data/datas/1\\2021-2022\\Liverpool\\20210821\\20210821_home_palyers_summary.csv\n",
      "[players stats summary 저장 완료] C:/Users/user080524/Desktop/project/PREMO/data/datas/1\\2021-2022\\Liverpool\\20210821\\20210821_home_gk.csv\n",
      "[players stats summary 저장 완료] C:/Users/user080524/Desktop/project/PREMO/data/datas/1\\2021-2022\\Liverpool\\20210821\\20210821_away_players_summary.csv\n",
      "[players stats summary 저장 완료] C:/Users/user080524/Desktop/project/PREMO/data/datas/1\\2021-2022\\Liverpool\\20210821\\20210821_away_gk.csv\n"
     ]
    },
    {
     "name": "stderr",
     "output_type": "stream",
     "text": [
      "\n",
      "\u001b[A"
     ]
    },
    {
     "name": "stdout",
     "output_type": "stream",
     "text": [
      "[team_stats 저장 완료] C:/Users/user080524/Desktop/project/PREMO/data/datas/1\\2021-2022\\Liverpool\\20210821\\20210821_team_stats.csv\n",
      "[players stats summary 저장 완료] C:/Users/user080524/Desktop/project/PREMO/data/datas/1\\2021-2022\\Liverpool\\20210828\\20210828_home_palyers_summary.csv\n",
      "[players stats summary 저장 완료] C:/Users/user080524/Desktop/project/PREMO/data/datas/1\\2021-2022\\Liverpool\\20210828\\20210828_home_gk.csv\n",
      "[players stats summary 저장 완료] C:/Users/user080524/Desktop/project/PREMO/data/datas/1\\2021-2022\\Liverpool\\20210828\\20210828_away_players_summary.csv\n",
      "[players stats summary 저장 완료] C:/Users/user080524/Desktop/project/PREMO/data/datas/1\\2021-2022\\Liverpool\\20210828\\20210828_away_gk.csv\n"
     ]
    },
    {
     "name": "stderr",
     "output_type": "stream",
     "text": [
      "\n",
      "\u001b[A"
     ]
    },
    {
     "name": "stdout",
     "output_type": "stream",
     "text": [
      "[team_stats 저장 완료] C:/Users/user080524/Desktop/project/PREMO/data/datas/1\\2021-2022\\Liverpool\\20210828\\20210828_team_stats.csv\n",
      "[players stats summary 저장 완료] C:/Users/user080524/Desktop/project/PREMO/data/datas/1\\2021-2022\\Liverpool\\20210918\\20210918_home_palyers_summary.csv\n",
      "[players stats summary 저장 완료] C:/Users/user080524/Desktop/project/PREMO/data/datas/1\\2021-2022\\Liverpool\\20210918\\20210918_home_gk.csv\n",
      "[players stats summary 저장 완료] C:/Users/user080524/Desktop/project/PREMO/data/datas/1\\2021-2022\\Liverpool\\20210918\\20210918_away_players_summary.csv\n",
      "[players stats summary 저장 완료] C:/Users/user080524/Desktop/project/PREMO/data/datas/1\\2021-2022\\Liverpool\\20210918\\20210918_away_gk.csv\n"
     ]
    },
    {
     "name": "stderr",
     "output_type": "stream",
     "text": [
      "\n",
      "\u001b[A"
     ]
    },
    {
     "name": "stdout",
     "output_type": "stream",
     "text": [
      "[team_stats 저장 완료] C:/Users/user080524/Desktop/project/PREMO/data/datas/1\\2021-2022\\Liverpool\\20210918\\20210918_team_stats.csv\n",
      "[players stats summary 저장 완료] C:/Users/user080524/Desktop/project/PREMO/data/datas/1\\2021-2022\\Liverpool\\20211003\\20211003_home_palyers_summary.csv\n",
      "[players stats summary 저장 완료] C:/Users/user080524/Desktop/project/PREMO/data/datas/1\\2021-2022\\Liverpool\\20211003\\20211003_home_gk.csv\n",
      "[players stats summary 저장 완료] C:/Users/user080524/Desktop/project/PREMO/data/datas/1\\2021-2022\\Liverpool\\20211003\\20211003_away_players_summary.csv\n",
      "[players stats summary 저장 완료] C:/Users/user080524/Desktop/project/PREMO/data/datas/1\\2021-2022\\Liverpool\\20211003\\20211003_away_gk.csv\n"
     ]
    },
    {
     "name": "stderr",
     "output_type": "stream",
     "text": [
      "\n",
      "\u001b[A"
     ]
    },
    {
     "name": "stdout",
     "output_type": "stream",
     "text": [
      "[team_stats 저장 완료] C:/Users/user080524/Desktop/project/PREMO/data/datas/1\\2021-2022\\Liverpool\\20211003\\20211003_team_stats.csv\n",
      "[players stats summary 저장 완료] C:/Users/user080524/Desktop/project/PREMO/data/datas/1\\2021-2022\\Liverpool\\20211030\\20211030_home_palyers_summary.csv\n",
      "[players stats summary 저장 완료] C:/Users/user080524/Desktop/project/PREMO/data/datas/1\\2021-2022\\Liverpool\\20211030\\20211030_home_gk.csv\n",
      "[players stats summary 저장 완료] C:/Users/user080524/Desktop/project/PREMO/data/datas/1\\2021-2022\\Liverpool\\20211030\\20211030_away_players_summary.csv\n",
      "[players stats summary 저장 완료] C:/Users/user080524/Desktop/project/PREMO/data/datas/1\\2021-2022\\Liverpool\\20211030\\20211030_away_gk.csv\n"
     ]
    },
    {
     "name": "stderr",
     "output_type": "stream",
     "text": [
      "\n",
      "\u001b[A"
     ]
    },
    {
     "name": "stdout",
     "output_type": "stream",
     "text": [
      "[team_stats 저장 완료] C:/Users/user080524/Desktop/project/PREMO/data/datas/1\\2021-2022\\Liverpool\\20211030\\20211030_team_stats.csv\n",
      "[players stats summary 저장 완료] C:/Users/user080524/Desktop/project/PREMO/data/datas/1\\2021-2022\\Liverpool\\20211120\\20211120_home_palyers_summary.csv\n",
      "[players stats summary 저장 완료] C:/Users/user080524/Desktop/project/PREMO/data/datas/1\\2021-2022\\Liverpool\\20211120\\20211120_home_gk.csv\n",
      "[players stats summary 저장 완료] C:/Users/user080524/Desktop/project/PREMO/data/datas/1\\2021-2022\\Liverpool\\20211120\\20211120_away_players_summary.csv\n",
      "[players stats summary 저장 완료] C:/Users/user080524/Desktop/project/PREMO/data/datas/1\\2021-2022\\Liverpool\\20211120\\20211120_away_gk.csv\n"
     ]
    },
    {
     "name": "stderr",
     "output_type": "stream",
     "text": [
      "\n",
      "\u001b[A"
     ]
    },
    {
     "name": "stdout",
     "output_type": "stream",
     "text": [
      "[team_stats 저장 완료] C:/Users/user080524/Desktop/project/PREMO/data/datas/1\\2021-2022\\Liverpool\\20211120\\20211120_team_stats.csv\n",
      "[players stats summary 저장 완료] C:/Users/user080524/Desktop/project/PREMO/data/datas/1\\2021-2022\\Liverpool\\20211127\\20211127_home_palyers_summary.csv\n",
      "[players stats summary 저장 완료] C:/Users/user080524/Desktop/project/PREMO/data/datas/1\\2021-2022\\Liverpool\\20211127\\20211127_home_gk.csv\n",
      "[players stats summary 저장 완료] C:/Users/user080524/Desktop/project/PREMO/data/datas/1\\2021-2022\\Liverpool\\20211127\\20211127_away_players_summary.csv\n",
      "[players stats summary 저장 완료] C:/Users/user080524/Desktop/project/PREMO/data/datas/1\\2021-2022\\Liverpool\\20211127\\20211127_away_gk.csv\n"
     ]
    },
    {
     "name": "stderr",
     "output_type": "stream",
     "text": [
      "\n",
      "\u001b[A"
     ]
    },
    {
     "name": "stdout",
     "output_type": "stream",
     "text": [
      "[team_stats 저장 완료] C:/Users/user080524/Desktop/project/PREMO/data/datas/1\\2021-2022\\Liverpool\\20211127\\20211127_team_stats.csv\n",
      "[players stats summary 저장 완료] C:/Users/user080524/Desktop/project/PREMO/data/datas/1\\2021-2022\\Liverpool\\20211211\\20211211_home_palyers_summary.csv\n",
      "[players stats summary 저장 완료] C:/Users/user080524/Desktop/project/PREMO/data/datas/1\\2021-2022\\Liverpool\\20211211\\20211211_home_gk.csv\n",
      "[players stats summary 저장 완료] C:/Users/user080524/Desktop/project/PREMO/data/datas/1\\2021-2022\\Liverpool\\20211211\\20211211_away_players_summary.csv\n",
      "[players stats summary 저장 완료] C:/Users/user080524/Desktop/project/PREMO/data/datas/1\\2021-2022\\Liverpool\\20211211\\20211211_away_gk.csv\n"
     ]
    },
    {
     "name": "stderr",
     "output_type": "stream",
     "text": [
      "\n",
      "\u001b[A"
     ]
    },
    {
     "name": "stdout",
     "output_type": "stream",
     "text": [
      "team_stats 없음 could not convert string to float: ''\n",
      "[team_stats 저장 완료] C:/Users/user080524/Desktop/project/PREMO/data/datas/1\\2021-2022\\Liverpool\\20211211\\20211211_team_stats.csv\n",
      "[players stats summary 저장 완료] C:/Users/user080524/Desktop/project/PREMO/data/datas/1\\2021-2022\\Liverpool\\20211216\\20211216_home_palyers_summary.csv\n",
      "[players stats summary 저장 완료] C:/Users/user080524/Desktop/project/PREMO/data/datas/1\\2021-2022\\Liverpool\\20211216\\20211216_home_gk.csv\n",
      "[players stats summary 저장 완료] C:/Users/user080524/Desktop/project/PREMO/data/datas/1\\2021-2022\\Liverpool\\20211216\\20211216_away_players_summary.csv\n",
      "[players stats summary 저장 완료] C:/Users/user080524/Desktop/project/PREMO/data/datas/1\\2021-2022\\Liverpool\\20211216\\20211216_away_gk.csv\n"
     ]
    },
    {
     "name": "stderr",
     "output_type": "stream",
     "text": [
      "\n",
      "\u001b[A"
     ]
    },
    {
     "name": "stdout",
     "output_type": "stream",
     "text": [
      "[team_stats 저장 완료] C:/Users/user080524/Desktop/project/PREMO/data/datas/1\\2021-2022\\Liverpool\\20211216\\20211216_team_stats.csv\n",
      "[players stats summary 저장 완료] C:/Users/user080524/Desktop/project/PREMO/data/datas/1\\2021-2022\\Liverpool\\20220116\\20220116_home_palyers_summary.csv\n",
      "[players stats summary 저장 완료] C:/Users/user080524/Desktop/project/PREMO/data/datas/1\\2021-2022\\Liverpool\\20220116\\20220116_home_gk.csv\n",
      "[players stats summary 저장 완료] C:/Users/user080524/Desktop/project/PREMO/data/datas/1\\2021-2022\\Liverpool\\20220116\\20220116_away_players_summary.csv\n",
      "[players stats summary 저장 완료] C:/Users/user080524/Desktop/project/PREMO/data/datas/1\\2021-2022\\Liverpool\\20220116\\20220116_away_gk.csv\n"
     ]
    },
    {
     "name": "stderr",
     "output_type": "stream",
     "text": [
      "\n",
      "\u001b[A"
     ]
    },
    {
     "name": "stdout",
     "output_type": "stream",
     "text": [
      "[team_stats 저장 완료] C:/Users/user080524/Desktop/project/PREMO/data/datas/1\\2021-2022\\Liverpool\\20220116\\20220116_team_stats.csv\n",
      "[players stats summary 저장 완료] C:/Users/user080524/Desktop/project/PREMO/data/datas/1\\2021-2022\\Liverpool\\20220210\\20220210_home_palyers_summary.csv\n",
      "[players stats summary 저장 완료] C:/Users/user080524/Desktop/project/PREMO/data/datas/1\\2021-2022\\Liverpool\\20220210\\20220210_home_gk.csv\n",
      "[players stats summary 저장 완료] C:/Users/user080524/Desktop/project/PREMO/data/datas/1\\2021-2022\\Liverpool\\20220210\\20220210_away_players_summary.csv\n",
      "[players stats summary 저장 완료] C:/Users/user080524/Desktop/project/PREMO/data/datas/1\\2021-2022\\Liverpool\\20220210\\20220210_away_gk.csv\n"
     ]
    },
    {
     "name": "stderr",
     "output_type": "stream",
     "text": [
      "\n",
      "\u001b[A"
     ]
    },
    {
     "name": "stdout",
     "output_type": "stream",
     "text": [
      "[team_stats 저장 완료] C:/Users/user080524/Desktop/project/PREMO/data/datas/1\\2021-2022\\Liverpool\\20220210\\20220210_team_stats.csv\n",
      "[players stats summary 저장 완료] C:/Users/user080524/Desktop/project/PREMO/data/datas/1\\2021-2022\\Liverpool\\20220219\\20220219_home_palyers_summary.csv\n",
      "[players stats summary 저장 완료] C:/Users/user080524/Desktop/project/PREMO/data/datas/1\\2021-2022\\Liverpool\\20220219\\20220219_home_gk.csv\n",
      "[players stats summary 저장 완료] C:/Users/user080524/Desktop/project/PREMO/data/datas/1\\2021-2022\\Liverpool\\20220219\\20220219_away_players_summary.csv\n",
      "[players stats summary 저장 완료] C:/Users/user080524/Desktop/project/PREMO/data/datas/1\\2021-2022\\Liverpool\\20220219\\20220219_away_gk.csv\n"
     ]
    },
    {
     "name": "stderr",
     "output_type": "stream",
     "text": [
      "\n",
      "\u001b[A"
     ]
    },
    {
     "name": "stdout",
     "output_type": "stream",
     "text": [
      "[team_stats 저장 완료] C:/Users/user080524/Desktop/project/PREMO/data/datas/1\\2021-2022\\Liverpool\\20220219\\20220219_team_stats.csv\n",
      "[players stats summary 저장 완료] C:/Users/user080524/Desktop/project/PREMO/data/datas/1\\2021-2022\\Liverpool\\20220223\\20220223_home_palyers_summary.csv\n",
      "[players stats summary 저장 완료] C:/Users/user080524/Desktop/project/PREMO/data/datas/1\\2021-2022\\Liverpool\\20220223\\20220223_home_gk.csv\n",
      "[players stats summary 저장 완료] C:/Users/user080524/Desktop/project/PREMO/data/datas/1\\2021-2022\\Liverpool\\20220223\\20220223_away_players_summary.csv\n",
      "[players stats summary 저장 완료] C:/Users/user080524/Desktop/project/PREMO/data/datas/1\\2021-2022\\Liverpool\\20220223\\20220223_away_gk.csv\n"
     ]
    },
    {
     "name": "stderr",
     "output_type": "stream",
     "text": [
      "\n",
      "\u001b[A"
     ]
    },
    {
     "name": "stdout",
     "output_type": "stream",
     "text": [
      "[team_stats 저장 완료] C:/Users/user080524/Desktop/project/PREMO/data/datas/1\\2021-2022\\Liverpool\\20220223\\20220223_team_stats.csv\n",
      "[players stats summary 저장 완료] C:/Users/user080524/Desktop/project/PREMO/data/datas/1\\2021-2022\\Liverpool\\20220305\\20220305_home_palyers_summary.csv\n",
      "[players stats summary 저장 완료] C:/Users/user080524/Desktop/project/PREMO/data/datas/1\\2021-2022\\Liverpool\\20220305\\20220305_home_gk.csv\n",
      "[players stats summary 저장 완료] C:/Users/user080524/Desktop/project/PREMO/data/datas/1\\2021-2022\\Liverpool\\20220305\\20220305_away_players_summary.csv\n",
      "[players stats summary 저장 완료] C:/Users/user080524/Desktop/project/PREMO/data/datas/1\\2021-2022\\Liverpool\\20220305\\20220305_away_gk.csv\n"
     ]
    },
    {
     "name": "stderr",
     "output_type": "stream",
     "text": [
      "\n",
      "\u001b[A"
     ]
    },
    {
     "name": "stdout",
     "output_type": "stream",
     "text": [
      "[team_stats 저장 완료] C:/Users/user080524/Desktop/project/PREMO/data/datas/1\\2021-2022\\Liverpool\\20220305\\20220305_team_stats.csv\n",
      "[players stats summary 저장 완료] C:/Users/user080524/Desktop/project/PREMO/data/datas/1\\2021-2022\\Liverpool\\20220402\\20220402_home_palyers_summary.csv\n",
      "[players stats summary 저장 완료] C:/Users/user080524/Desktop/project/PREMO/data/datas/1\\2021-2022\\Liverpool\\20220402\\20220402_home_gk.csv\n",
      "[players stats summary 저장 완료] C:/Users/user080524/Desktop/project/PREMO/data/datas/1\\2021-2022\\Liverpool\\20220402\\20220402_away_players_summary.csv\n",
      "[players stats summary 저장 완료] C:/Users/user080524/Desktop/project/PREMO/data/datas/1\\2021-2022\\Liverpool\\20220402\\20220402_away_gk.csv\n"
     ]
    },
    {
     "name": "stderr",
     "output_type": "stream",
     "text": [
      "\n",
      "\u001b[A"
     ]
    },
    {
     "name": "stdout",
     "output_type": "stream",
     "text": [
      "[team_stats 저장 완료] C:/Users/user080524/Desktop/project/PREMO/data/datas/1\\2021-2022\\Liverpool\\20220402\\20220402_team_stats.csv\n",
      "[players stats summary 저장 완료] C:/Users/user080524/Desktop/project/PREMO/data/datas/1\\2021-2022\\Liverpool\\20220419\\20220419_home_palyers_summary.csv\n",
      "[players stats summary 저장 완료] C:/Users/user080524/Desktop/project/PREMO/data/datas/1\\2021-2022\\Liverpool\\20220419\\20220419_home_gk.csv\n",
      "[players stats summary 저장 완료] C:/Users/user080524/Desktop/project/PREMO/data/datas/1\\2021-2022\\Liverpool\\20220419\\20220419_away_players_summary.csv\n",
      "[players stats summary 저장 완료] C:/Users/user080524/Desktop/project/PREMO/data/datas/1\\2021-2022\\Liverpool\\20220419\\20220419_away_gk.csv\n"
     ]
    },
    {
     "name": "stderr",
     "output_type": "stream",
     "text": [
      "\n",
      "\u001b[A"
     ]
    },
    {
     "name": "stdout",
     "output_type": "stream",
     "text": [
      "[team_stats 저장 완료] C:/Users/user080524/Desktop/project/PREMO/data/datas/1\\2021-2022\\Liverpool\\20220419\\20220419_team_stats.csv\n",
      "[players stats summary 저장 완료] C:/Users/user080524/Desktop/project/PREMO/data/datas/1\\2021-2022\\Liverpool\\20220424\\20220424_home_palyers_summary.csv\n",
      "[players stats summary 저장 완료] C:/Users/user080524/Desktop/project/PREMO/data/datas/1\\2021-2022\\Liverpool\\20220424\\20220424_home_gk.csv\n",
      "[players stats summary 저장 완료] C:/Users/user080524/Desktop/project/PREMO/data/datas/1\\2021-2022\\Liverpool\\20220424\\20220424_away_players_summary.csv\n",
      "[players stats summary 저장 완료] C:/Users/user080524/Desktop/project/PREMO/data/datas/1\\2021-2022\\Liverpool\\20220424\\20220424_away_gk.csv\n"
     ]
    },
    {
     "name": "stderr",
     "output_type": "stream",
     "text": [
      "\n",
      "\u001b[A"
     ]
    },
    {
     "name": "stdout",
     "output_type": "stream",
     "text": [
      "[team_stats 저장 완료] C:/Users/user080524/Desktop/project/PREMO/data/datas/1\\2021-2022\\Liverpool\\20220424\\20220424_team_stats.csv\n",
      "[players stats summary 저장 완료] C:/Users/user080524/Desktop/project/PREMO/data/datas/1\\2021-2022\\Liverpool\\20220507\\20220507_home_palyers_summary.csv\n",
      "[players stats summary 저장 완료] C:/Users/user080524/Desktop/project/PREMO/data/datas/1\\2021-2022\\Liverpool\\20220507\\20220507_home_gk.csv\n",
      "[players stats summary 저장 완료] C:/Users/user080524/Desktop/project/PREMO/data/datas/1\\2021-2022\\Liverpool\\20220507\\20220507_away_players_summary.csv\n",
      "[players stats summary 저장 완료] C:/Users/user080524/Desktop/project/PREMO/data/datas/1\\2021-2022\\Liverpool\\20220507\\20220507_away_gk.csv\n"
     ]
    },
    {
     "name": "stderr",
     "output_type": "stream",
     "text": [
      "\n",
      "\u001b[A"
     ]
    },
    {
     "name": "stdout",
     "output_type": "stream",
     "text": [
      "[team_stats 저장 완료] C:/Users/user080524/Desktop/project/PREMO/data/datas/1\\2021-2022\\Liverpool\\20220507\\20220507_team_stats.csv\n",
      "[players stats summary 저장 완료] C:/Users/user080524/Desktop/project/PREMO/data/datas/1\\2021-2022\\Liverpool\\20220522\\20220522_home_palyers_summary.csv\n",
      "[players stats summary 저장 완료] C:/Users/user080524/Desktop/project/PREMO/data/datas/1\\2021-2022\\Liverpool\\20220522\\20220522_home_gk.csv\n",
      "[players stats summary 저장 완료] C:/Users/user080524/Desktop/project/PREMO/data/datas/1\\2021-2022\\Liverpool\\20220522\\20220522_away_players_summary.csv\n",
      "[players stats summary 저장 완료] C:/Users/user080524/Desktop/project/PREMO/data/datas/1\\2021-2022\\Liverpool\\20220522\\20220522_away_gk.csv\n"
     ]
    },
    {
     "name": "stderr",
     "output_type": "stream",
     "text": [
      "\n",
      "\u001b[A\n",
      "\u001b[A"
     ]
    },
    {
     "name": "stdout",
     "output_type": "stream",
     "text": [
      "[team_stats 저장 완료] C:/Users/user080524/Desktop/project/PREMO/data/datas/1\\2021-2022\\Liverpool\\20220522\\20220522_team_stats.csv\n",
      "[시즌 페이지 로딩] URL: https://fbref.com/en/comps/9/2021-2022/2021-2022-Premier-League-Stats\n",
      "팀: Chelsea, 링크:https://fbref.com/en/squads/cff3d9bb/2021-2022/Chelsea-Stats\n",
      "20210814\n",
      "https://fbref.com/en/matches/6f454493/Chelsea-Crystal-Palace-August-14-2021-Premier-League\n",
      "20210911\n",
      "https://fbref.com/en/matches/67bbc3a5/Chelsea-Aston-Villa-September-11-2021-Premier-League\n",
      "20210925\n",
      "https://fbref.com/en/matches/fc59faf7/Chelsea-Manchester-City-September-25-2021-Premier-League\n",
      "match row 처리 중 오류: Message: no such element: Unable to locate element: {\"method\":\"css selector\",\"selector\":\"td[data-stat=\"comp\"]\"}\n",
      "  (Session info: chrome=136.0.7103.114); For documentation on this error, please visit: https://www.selenium.dev/documentation/webdriver/troubleshooting/errors#no-such-element-exception\n",
      "Stacktrace:\n",
      "\tGetHandleVerifier [0x00007FF7535BCF45+75717]\n",
      "\tGetHandleVerifier [0x00007FF7535BCFA0+75808]\n",
      "\t(No symbol) [0x00007FF753388F9A]\n",
      "\t(No symbol) [0x00007FF7533DF4C6]\n",
      "\t(No symbol) [0x00007FF7533DF77C]\n",
      "\t(No symbol) [0x00007FF7533D1D7C]\n",
      "\t(No symbol) [0x00007FF7534073BF]\n",
      "\t(No symbol) [0x00007FF7533D1C46]\n",
      "\t(No symbol) [0x00007FF753407590]\n",
      "\t(No symbol) [0x00007FF75342F39C]\n",
      "\t(No symbol) [0x00007FF753407153]\n",
      "\t(No symbol) [0x00007FF7533D0421]\n",
      "\t(No symbol) [0x00007FF7533D11B3]\n",
      "\tGetHandleVerifier [0x00007FF7538BD71D+3223453]\n",
      "\tGetHandleVerifier [0x00007FF7538B7CC2+3200322]\n",
      "\tGetHandleVerifier [0x00007FF7538D5AF3+3322739]\n",
      "\tGetHandleVerifier [0x00007FF7535D6A1A+180890]\n",
      "\tGetHandleVerifier [0x00007FF7535DE11F+211359]\n",
      "\tGetHandleVerifier [0x00007FF7535C5294+109332]\n",
      "\tGetHandleVerifier [0x00007FF7535C5442+109762]\n",
      "\tGetHandleVerifier [0x00007FF7535ABA59+4825]\n",
      "\tBaseThreadInitThunk [0x00007FFE15767374+20]\n",
      "\tRtlUserThreadStart [0x00007FFE16F5CC91+33]\n",
      "\n",
      "20211002\n",
      "https://fbref.com/en/matches/a6466617/Chelsea-Southampton-October-2-2021-Premier-League\n",
      "20211023\n",
      "https://fbref.com/en/matches/a6ff9cf9/Chelsea-Norwich-City-October-23-2021-Premier-League\n",
      "20211106\n",
      "https://fbref.com/en/matches/316c0296/Chelsea-Burnley-November-6-2021-Premier-League\n",
      "match row 처리 중 오류: Message: no such element: Unable to locate element: {\"method\":\"css selector\",\"selector\":\"td[data-stat=\"comp\"]\"}\n",
      "  (Session info: chrome=136.0.7103.114); For documentation on this error, please visit: https://www.selenium.dev/documentation/webdriver/troubleshooting/errors#no-such-element-exception\n",
      "Stacktrace:\n",
      "\tGetHandleVerifier [0x00007FF7535BCF45+75717]\n",
      "\tGetHandleVerifier [0x00007FF7535BCFA0+75808]\n",
      "\t(No symbol) [0x00007FF753388F9A]\n",
      "\t(No symbol) [0x00007FF7533DF4C6]\n",
      "\t(No symbol) [0x00007FF7533DF77C]\n",
      "\t(No symbol) [0x00007FF7533D1D7C]\n",
      "\t(No symbol) [0x00007FF7534073BF]\n",
      "\t(No symbol) [0x00007FF7533D1C46]\n",
      "\t(No symbol) [0x00007FF753407590]\n",
      "\t(No symbol) [0x00007FF75342F39C]\n",
      "\t(No symbol) [0x00007FF753407153]\n",
      "\t(No symbol) [0x00007FF7533D0421]\n",
      "\t(No symbol) [0x00007FF7533D11B3]\n",
      "\tGetHandleVerifier [0x00007FF7538BD71D+3223453]\n",
      "\tGetHandleVerifier [0x00007FF7538B7CC2+3200322]\n",
      "\tGetHandleVerifier [0x00007FF7538D5AF3+3322739]\n",
      "\tGetHandleVerifier [0x00007FF7535D6A1A+180890]\n",
      "\tGetHandleVerifier [0x00007FF7535DE11F+211359]\n",
      "\tGetHandleVerifier [0x00007FF7535C5294+109332]\n",
      "\tGetHandleVerifier [0x00007FF7535C5442+109762]\n",
      "\tGetHandleVerifier [0x00007FF7535ABA59+4825]\n",
      "\tBaseThreadInitThunk [0x00007FFE15767374+20]\n",
      "\tRtlUserThreadStart [0x00007FFE16F5CC91+33]\n",
      "\n",
      "20211128\n",
      "https://fbref.com/en/matches/08b3c5d8/Chelsea-Manchester-United-November-28-2021-Premier-League\n",
      "20211211\n",
      "https://fbref.com/en/matches/6ad3036b/Chelsea-Leeds-United-December-11-2021-Premier-League\n",
      "20211216\n",
      "https://fbref.com/en/matches/70209eb1/Chelsea-Everton-December-16-2021-Premier-League\n",
      "20211229\n",
      "https://fbref.com/en/matches/8fbe2e12/Chelsea-Brighton-and-Hove-Albion-December-29-2021-Premier-League\n",
      "match row 처리 중 오류: Message: no such element: Unable to locate element: {\"method\":\"css selector\",\"selector\":\"td[data-stat=\"comp\"]\"}\n",
      "  (Session info: chrome=136.0.7103.114); For documentation on this error, please visit: https://www.selenium.dev/documentation/webdriver/troubleshooting/errors#no-such-element-exception\n",
      "Stacktrace:\n",
      "\tGetHandleVerifier [0x00007FF7535BCF45+75717]\n",
      "\tGetHandleVerifier [0x00007FF7535BCFA0+75808]\n",
      "\t(No symbol) [0x00007FF753388F9A]\n",
      "\t(No symbol) [0x00007FF7533DF4C6]\n",
      "\t(No symbol) [0x00007FF7533DF77C]\n",
      "\t(No symbol) [0x00007FF7533D1D7C]\n",
      "\t(No symbol) [0x00007FF7534073BF]\n",
      "\t(No symbol) [0x00007FF7533D1C46]\n",
      "\t(No symbol) [0x00007FF753407590]\n",
      "\t(No symbol) [0x00007FF75342F39C]\n",
      "\t(No symbol) [0x00007FF753407153]\n",
      "\t(No symbol) [0x00007FF7533D0421]\n",
      "\t(No symbol) [0x00007FF7533D11B3]\n",
      "\tGetHandleVerifier [0x00007FF7538BD71D+3223453]\n",
      "\tGetHandleVerifier [0x00007FF7538B7CC2+3200322]\n",
      "\tGetHandleVerifier [0x00007FF7538D5AF3+3322739]\n",
      "\tGetHandleVerifier [0x00007FF7535D6A1A+180890]\n",
      "\tGetHandleVerifier [0x00007FF7535DE11F+211359]\n",
      "\tGetHandleVerifier [0x00007FF7535C5294+109332]\n",
      "\tGetHandleVerifier [0x00007FF7535C5442+109762]\n",
      "\tGetHandleVerifier [0x00007FF7535ABA59+4825]\n",
      "\tBaseThreadInitThunk [0x00007FFE15767374+20]\n",
      "\tRtlUserThreadStart [0x00007FFE16F5CC91+33]\n",
      "\n",
      "20220102\n",
      "https://fbref.com/en/matches/3480cc09/Chelsea-Liverpool-January-2-2022-Premier-League\n",
      "20220123\n",
      "https://fbref.com/en/matches/29e164e3/Chelsea-Tottenham-Hotspur-January-23-2022-Premier-League\n",
      "match row 처리 중 오류: Message: no such element: Unable to locate element: {\"method\":\"css selector\",\"selector\":\"td[data-stat=\"comp\"]\"}\n",
      "  (Session info: chrome=136.0.7103.114); For documentation on this error, please visit: https://www.selenium.dev/documentation/webdriver/troubleshooting/errors#no-such-element-exception\n",
      "Stacktrace:\n",
      "\tGetHandleVerifier [0x00007FF7535BCF45+75717]\n",
      "\tGetHandleVerifier [0x00007FF7535BCFA0+75808]\n",
      "\t(No symbol) [0x00007FF753388F9A]\n",
      "\t(No symbol) [0x00007FF7533DF4C6]\n",
      "\t(No symbol) [0x00007FF7533DF77C]\n",
      "\t(No symbol) [0x00007FF7533D1D7C]\n",
      "\t(No symbol) [0x00007FF7534073BF]\n",
      "\t(No symbol) [0x00007FF7533D1C46]\n",
      "\t(No symbol) [0x00007FF753407590]\n",
      "\t(No symbol) [0x00007FF75342F39C]\n",
      "\t(No symbol) [0x00007FF753407153]\n",
      "\t(No symbol) [0x00007FF7533D0421]\n",
      "\t(No symbol) [0x00007FF7533D11B3]\n",
      "\tGetHandleVerifier [0x00007FF7538BD71D+3223453]\n",
      "\tGetHandleVerifier [0x00007FF7538B7CC2+3200322]\n",
      "\tGetHandleVerifier [0x00007FF7538D5AF3+3322739]\n",
      "\tGetHandleVerifier [0x00007FF7535D6A1A+180890]\n",
      "\tGetHandleVerifier [0x00007FF7535DE11F+211359]\n",
      "\tGetHandleVerifier [0x00007FF7535C5294+109332]\n",
      "\tGetHandleVerifier [0x00007FF7535C5442+109762]\n",
      "\tGetHandleVerifier [0x00007FF7535ABA59+4825]\n",
      "\tBaseThreadInitThunk [0x00007FFE15767374+20]\n",
      "\tRtlUserThreadStart [0x00007FFE16F5CC91+33]\n",
      "\n",
      "20220313\n",
      "https://fbref.com/en/matches/0dcf103b/Chelsea-Newcastle-United-March-13-2022-Premier-League\n",
      "20220402\n",
      "https://fbref.com/en/matches/c0037074/Chelsea-Brentford-April-2-2022-Premier-League\n",
      "match row 처리 중 오류: Message: no such element: Unable to locate element: {\"method\":\"css selector\",\"selector\":\"td[data-stat=\"comp\"]\"}\n",
      "  (Session info: chrome=136.0.7103.114); For documentation on this error, please visit: https://www.selenium.dev/documentation/webdriver/troubleshooting/errors#no-such-element-exception\n",
      "Stacktrace:\n",
      "\tGetHandleVerifier [0x00007FF7535BCF45+75717]\n",
      "\tGetHandleVerifier [0x00007FF7535BCFA0+75808]\n",
      "\t(No symbol) [0x00007FF753388F9A]\n",
      "\t(No symbol) [0x00007FF7533DF4C6]\n",
      "\t(No symbol) [0x00007FF7533DF77C]\n",
      "\t(No symbol) [0x00007FF7533D1D7C]\n",
      "\t(No symbol) [0x00007FF7534073BF]\n",
      "\t(No symbol) [0x00007FF7533D1C46]\n",
      "\t(No symbol) [0x00007FF753407590]\n",
      "\t(No symbol) [0x00007FF75342F39C]\n",
      "\t(No symbol) [0x00007FF753407153]\n",
      "\t(No symbol) [0x00007FF7533D0421]\n",
      "\t(No symbol) [0x00007FF7533D11B3]\n",
      "\tGetHandleVerifier [0x00007FF7538BD71D+3223453]\n",
      "\tGetHandleVerifier [0x00007FF7538B7CC2+3200322]\n",
      "\tGetHandleVerifier [0x00007FF7538D5AF3+3322739]\n",
      "\tGetHandleVerifier [0x00007FF7535D6A1A+180890]\n",
      "\tGetHandleVerifier [0x00007FF7535DE11F+211359]\n",
      "\tGetHandleVerifier [0x00007FF7535C5294+109332]\n",
      "\tGetHandleVerifier [0x00007FF7535C5442+109762]\n",
      "\tGetHandleVerifier [0x00007FF7535ABA59+4825]\n",
      "\tBaseThreadInitThunk [0x00007FFE15767374+20]\n",
      "\tRtlUserThreadStart [0x00007FFE16F5CC91+33]\n",
      "\n",
      "20220420\n",
      "https://fbref.com/en/matches/cf8c0df6/North-West-London-Derby-Chelsea-Arsenal-April-20-2022-Premier-League\n",
      "20220424\n",
      "https://fbref.com/en/matches/cfcd90ed/Chelsea-West-Ham-United-April-24-2022-Premier-League\n",
      "20220507\n",
      "https://fbref.com/en/matches/7c8a79d2/Chelsea-Wolverhampton-Wanderers-May-7-2022-Premier-League\n",
      "20220519\n",
      "https://fbref.com/en/matches/75d8f6e0/Chelsea-Leicester-City-May-19-2022-Premier-League\n",
      "20220522\n",
      "https://fbref.com/en/matches/df85b298/Chelsea-Watford-May-22-2022-Premier-League\n",
      "19\n",
      "19\n"
     ]
    },
    {
     "name": "stderr",
     "output_type": "stream",
     "text": [
      "\n",
      "\u001b[A"
     ]
    },
    {
     "name": "stdout",
     "output_type": "stream",
     "text": [
      "[players stats summary 저장 완료] C:/Users/user080524/Desktop/project/PREMO/data/datas/1\\2021-2022\\Chelsea\\20210814\\20210814_home_palyers_summary.csv\n",
      "[players stats summary 저장 완료] C:/Users/user080524/Desktop/project/PREMO/data/datas/1\\2021-2022\\Chelsea\\20210814\\20210814_home_gk.csv\n",
      "[players stats summary 저장 완료] C:/Users/user080524/Desktop/project/PREMO/data/datas/1\\2021-2022\\Chelsea\\20210814\\20210814_away_players_summary.csv\n",
      "[players stats summary 저장 완료] C:/Users/user080524/Desktop/project/PREMO/data/datas/1\\2021-2022\\Chelsea\\20210814\\20210814_away_gk.csv\n"
     ]
    },
    {
     "name": "stderr",
     "output_type": "stream",
     "text": [
      "\n",
      "\u001b[A"
     ]
    },
    {
     "name": "stdout",
     "output_type": "stream",
     "text": [
      "[team_stats 저장 완료] C:/Users/user080524/Desktop/project/PREMO/data/datas/1\\2021-2022\\Chelsea\\20210814\\20210814_team_stats.csv\n",
      "[players stats summary 저장 완료] C:/Users/user080524/Desktop/project/PREMO/data/datas/1\\2021-2022\\Chelsea\\20210911\\20210911_home_palyers_summary.csv\n",
      "[players stats summary 저장 완료] C:/Users/user080524/Desktop/project/PREMO/data/datas/1\\2021-2022\\Chelsea\\20210911\\20210911_home_gk.csv\n",
      "[players stats summary 저장 완료] C:/Users/user080524/Desktop/project/PREMO/data/datas/1\\2021-2022\\Chelsea\\20210911\\20210911_away_players_summary.csv\n",
      "[players stats summary 저장 완료] C:/Users/user080524/Desktop/project/PREMO/data/datas/1\\2021-2022\\Chelsea\\20210911\\20210911_away_gk.csv\n"
     ]
    },
    {
     "name": "stderr",
     "output_type": "stream",
     "text": [
      "\n",
      "\u001b[A"
     ]
    },
    {
     "name": "stdout",
     "output_type": "stream",
     "text": [
      "[team_stats 저장 완료] C:/Users/user080524/Desktop/project/PREMO/data/datas/1\\2021-2022\\Chelsea\\20210911\\20210911_team_stats.csv\n",
      "[players stats summary 저장 완료] C:/Users/user080524/Desktop/project/PREMO/data/datas/1\\2021-2022\\Chelsea\\20210925\\20210925_home_palyers_summary.csv\n",
      "[players stats summary 저장 완료] C:/Users/user080524/Desktop/project/PREMO/data/datas/1\\2021-2022\\Chelsea\\20210925\\20210925_home_gk.csv\n",
      "[players stats summary 저장 완료] C:/Users/user080524/Desktop/project/PREMO/data/datas/1\\2021-2022\\Chelsea\\20210925\\20210925_away_players_summary.csv\n",
      "[players stats summary 저장 완료] C:/Users/user080524/Desktop/project/PREMO/data/datas/1\\2021-2022\\Chelsea\\20210925\\20210925_away_gk.csv\n"
     ]
    },
    {
     "name": "stderr",
     "output_type": "stream",
     "text": [
      "\n",
      "\u001b[A"
     ]
    },
    {
     "name": "stdout",
     "output_type": "stream",
     "text": [
      "team_stats 없음 could not convert string to float: ''\n",
      "[team_stats 저장 완료] C:/Users/user080524/Desktop/project/PREMO/data/datas/1\\2021-2022\\Chelsea\\20210925\\20210925_team_stats.csv\n",
      "[players stats summary 저장 완료] C:/Users/user080524/Desktop/project/PREMO/data/datas/1\\2021-2022\\Chelsea\\20211002\\20211002_home_palyers_summary.csv\n",
      "[players stats summary 저장 완료] C:/Users/user080524/Desktop/project/PREMO/data/datas/1\\2021-2022\\Chelsea\\20211002\\20211002_home_gk.csv\n",
      "[players stats summary 저장 완료] C:/Users/user080524/Desktop/project/PREMO/data/datas/1\\2021-2022\\Chelsea\\20211002\\20211002_away_players_summary.csv\n",
      "[players stats summary 저장 완료] C:/Users/user080524/Desktop/project/PREMO/data/datas/1\\2021-2022\\Chelsea\\20211002\\20211002_away_gk.csv\n"
     ]
    },
    {
     "name": "stderr",
     "output_type": "stream",
     "text": [
      "\n",
      "\u001b[A"
     ]
    },
    {
     "name": "stdout",
     "output_type": "stream",
     "text": [
      "[team_stats 저장 완료] C:/Users/user080524/Desktop/project/PREMO/data/datas/1\\2021-2022\\Chelsea\\20211002\\20211002_team_stats.csv\n",
      "[players stats summary 저장 완료] C:/Users/user080524/Desktop/project/PREMO/data/datas/1\\2021-2022\\Chelsea\\20211023\\20211023_home_palyers_summary.csv\n",
      "[players stats summary 저장 완료] C:/Users/user080524/Desktop/project/PREMO/data/datas/1\\2021-2022\\Chelsea\\20211023\\20211023_home_gk.csv\n",
      "[players stats summary 저장 완료] C:/Users/user080524/Desktop/project/PREMO/data/datas/1\\2021-2022\\Chelsea\\20211023\\20211023_away_players_summary.csv\n",
      "[players stats summary 저장 완료] C:/Users/user080524/Desktop/project/PREMO/data/datas/1\\2021-2022\\Chelsea\\20211023\\20211023_away_gk.csv\n"
     ]
    },
    {
     "name": "stderr",
     "output_type": "stream",
     "text": [
      "\n",
      "\u001b[A"
     ]
    },
    {
     "name": "stdout",
     "output_type": "stream",
     "text": [
      "[team_stats 저장 완료] C:/Users/user080524/Desktop/project/PREMO/data/datas/1\\2021-2022\\Chelsea\\20211023\\20211023_team_stats.csv\n",
      "[players stats summary 저장 완료] C:/Users/user080524/Desktop/project/PREMO/data/datas/1\\2021-2022\\Chelsea\\20211106\\20211106_home_palyers_summary.csv\n",
      "[players stats summary 저장 완료] C:/Users/user080524/Desktop/project/PREMO/data/datas/1\\2021-2022\\Chelsea\\20211106\\20211106_home_gk.csv\n",
      "[players stats summary 저장 완료] C:/Users/user080524/Desktop/project/PREMO/data/datas/1\\2021-2022\\Chelsea\\20211106\\20211106_away_players_summary.csv\n",
      "[players stats summary 저장 완료] C:/Users/user080524/Desktop/project/PREMO/data/datas/1\\2021-2022\\Chelsea\\20211106\\20211106_away_gk.csv\n"
     ]
    },
    {
     "name": "stderr",
     "output_type": "stream",
     "text": [
      "\n",
      "\u001b[A"
     ]
    },
    {
     "name": "stdout",
     "output_type": "stream",
     "text": [
      "[team_stats 저장 완료] C:/Users/user080524/Desktop/project/PREMO/data/datas/1\\2021-2022\\Chelsea\\20211106\\20211106_team_stats.csv\n",
      "[players stats summary 저장 완료] C:/Users/user080524/Desktop/project/PREMO/data/datas/1\\2021-2022\\Chelsea\\20211128\\20211128_home_palyers_summary.csv\n",
      "[players stats summary 저장 완료] C:/Users/user080524/Desktop/project/PREMO/data/datas/1\\2021-2022\\Chelsea\\20211128\\20211128_home_gk.csv\n",
      "[players stats summary 저장 완료] C:/Users/user080524/Desktop/project/PREMO/data/datas/1\\2021-2022\\Chelsea\\20211128\\20211128_away_players_summary.csv\n",
      "[players stats summary 저장 완료] C:/Users/user080524/Desktop/project/PREMO/data/datas/1\\2021-2022\\Chelsea\\20211128\\20211128_away_gk.csv\n"
     ]
    },
    {
     "name": "stderr",
     "output_type": "stream",
     "text": [
      "\n",
      "\u001b[A"
     ]
    },
    {
     "name": "stdout",
     "output_type": "stream",
     "text": [
      "[team_stats 저장 완료] C:/Users/user080524/Desktop/project/PREMO/data/datas/1\\2021-2022\\Chelsea\\20211128\\20211128_team_stats.csv\n",
      "[players stats summary 저장 완료] C:/Users/user080524/Desktop/project/PREMO/data/datas/1\\2021-2022\\Chelsea\\20211211\\20211211_home_palyers_summary.csv\n",
      "[players stats summary 저장 완료] C:/Users/user080524/Desktop/project/PREMO/data/datas/1\\2021-2022\\Chelsea\\20211211\\20211211_home_gk.csv\n",
      "[players stats summary 저장 완료] C:/Users/user080524/Desktop/project/PREMO/data/datas/1\\2021-2022\\Chelsea\\20211211\\20211211_away_players_summary.csv\n",
      "[players stats summary 저장 완료] C:/Users/user080524/Desktop/project/PREMO/data/datas/1\\2021-2022\\Chelsea\\20211211\\20211211_away_gk.csv\n"
     ]
    },
    {
     "name": "stderr",
     "output_type": "stream",
     "text": [
      "\n",
      "\u001b[A"
     ]
    },
    {
     "name": "stdout",
     "output_type": "stream",
     "text": [
      "[team_stats 저장 완료] C:/Users/user080524/Desktop/project/PREMO/data/datas/1\\2021-2022\\Chelsea\\20211211\\20211211_team_stats.csv\n",
      "[players stats summary 저장 완료] C:/Users/user080524/Desktop/project/PREMO/data/datas/1\\2021-2022\\Chelsea\\20211216\\20211216_home_palyers_summary.csv\n",
      "[players stats summary 저장 완료] C:/Users/user080524/Desktop/project/PREMO/data/datas/1\\2021-2022\\Chelsea\\20211216\\20211216_home_gk.csv\n",
      "[players stats summary 저장 완료] C:/Users/user080524/Desktop/project/PREMO/data/datas/1\\2021-2022\\Chelsea\\20211216\\20211216_away_players_summary.csv\n",
      "[players stats summary 저장 완료] C:/Users/user080524/Desktop/project/PREMO/data/datas/1\\2021-2022\\Chelsea\\20211216\\20211216_away_gk.csv\n"
     ]
    },
    {
     "name": "stderr",
     "output_type": "stream",
     "text": [
      "\n",
      "\u001b[A"
     ]
    },
    {
     "name": "stdout",
     "output_type": "stream",
     "text": [
      "[team_stats 저장 완료] C:/Users/user080524/Desktop/project/PREMO/data/datas/1\\2021-2022\\Chelsea\\20211216\\20211216_team_stats.csv\n",
      "[players stats summary 저장 완료] C:/Users/user080524/Desktop/project/PREMO/data/datas/1\\2021-2022\\Chelsea\\20211229\\20211229_home_palyers_summary.csv\n",
      "[players stats summary 저장 완료] C:/Users/user080524/Desktop/project/PREMO/data/datas/1\\2021-2022\\Chelsea\\20211229\\20211229_home_gk.csv\n",
      "[players stats summary 저장 완료] C:/Users/user080524/Desktop/project/PREMO/data/datas/1\\2021-2022\\Chelsea\\20211229\\20211229_away_players_summary.csv\n",
      "[players stats summary 저장 완료] C:/Users/user080524/Desktop/project/PREMO/data/datas/1\\2021-2022\\Chelsea\\20211229\\20211229_away_gk.csv\n"
     ]
    },
    {
     "name": "stderr",
     "output_type": "stream",
     "text": [
      "\n",
      "\u001b[A"
     ]
    },
    {
     "name": "stdout",
     "output_type": "stream",
     "text": [
      "[team_stats 저장 완료] C:/Users/user080524/Desktop/project/PREMO/data/datas/1\\2021-2022\\Chelsea\\20211229\\20211229_team_stats.csv\n",
      "[players stats summary 저장 완료] C:/Users/user080524/Desktop/project/PREMO/data/datas/1\\2021-2022\\Chelsea\\20220102\\20220102_home_palyers_summary.csv\n",
      "[players stats summary 저장 완료] C:/Users/user080524/Desktop/project/PREMO/data/datas/1\\2021-2022\\Chelsea\\20220102\\20220102_home_gk.csv\n",
      "[players stats summary 저장 완료] C:/Users/user080524/Desktop/project/PREMO/data/datas/1\\2021-2022\\Chelsea\\20220102\\20220102_away_players_summary.csv\n",
      "[players stats summary 저장 완료] C:/Users/user080524/Desktop/project/PREMO/data/datas/1\\2021-2022\\Chelsea\\20220102\\20220102_away_gk.csv\n"
     ]
    },
    {
     "name": "stderr",
     "output_type": "stream",
     "text": [
      "\n",
      "\u001b[A"
     ]
    },
    {
     "name": "stdout",
     "output_type": "stream",
     "text": [
      "[team_stats 저장 완료] C:/Users/user080524/Desktop/project/PREMO/data/datas/1\\2021-2022\\Chelsea\\20220102\\20220102_team_stats.csv\n",
      "[players stats summary 저장 완료] C:/Users/user080524/Desktop/project/PREMO/data/datas/1\\2021-2022\\Chelsea\\20220123\\20220123_home_palyers_summary.csv\n",
      "[players stats summary 저장 완료] C:/Users/user080524/Desktop/project/PREMO/data/datas/1\\2021-2022\\Chelsea\\20220123\\20220123_home_gk.csv\n",
      "[players stats summary 저장 완료] C:/Users/user080524/Desktop/project/PREMO/data/datas/1\\2021-2022\\Chelsea\\20220123\\20220123_away_players_summary.csv\n",
      "[players stats summary 저장 완료] C:/Users/user080524/Desktop/project/PREMO/data/datas/1\\2021-2022\\Chelsea\\20220123\\20220123_away_gk.csv\n"
     ]
    },
    {
     "name": "stderr",
     "output_type": "stream",
     "text": [
      "\n",
      "\u001b[A"
     ]
    },
    {
     "name": "stdout",
     "output_type": "stream",
     "text": [
      "[team_stats 저장 완료] C:/Users/user080524/Desktop/project/PREMO/data/datas/1\\2021-2022\\Chelsea\\20220123\\20220123_team_stats.csv\n",
      "[players stats summary 저장 완료] C:/Users/user080524/Desktop/project/PREMO/data/datas/1\\2021-2022\\Chelsea\\20220313\\20220313_home_palyers_summary.csv\n",
      "[players stats summary 저장 완료] C:/Users/user080524/Desktop/project/PREMO/data/datas/1\\2021-2022\\Chelsea\\20220313\\20220313_home_gk.csv\n",
      "[players stats summary 저장 완료] C:/Users/user080524/Desktop/project/PREMO/data/datas/1\\2021-2022\\Chelsea\\20220313\\20220313_away_players_summary.csv\n",
      "[players stats summary 저장 완료] C:/Users/user080524/Desktop/project/PREMO/data/datas/1\\2021-2022\\Chelsea\\20220313\\20220313_away_gk.csv\n"
     ]
    },
    {
     "name": "stderr",
     "output_type": "stream",
     "text": [
      "\n",
      "\u001b[A"
     ]
    },
    {
     "name": "stdout",
     "output_type": "stream",
     "text": [
      "[team_stats 저장 완료] C:/Users/user080524/Desktop/project/PREMO/data/datas/1\\2021-2022\\Chelsea\\20220313\\20220313_team_stats.csv\n",
      "[players stats summary 저장 완료] C:/Users/user080524/Desktop/project/PREMO/data/datas/1\\2021-2022\\Chelsea\\20220402\\20220402_home_palyers_summary.csv\n",
      "[players stats summary 저장 완료] C:/Users/user080524/Desktop/project/PREMO/data/datas/1\\2021-2022\\Chelsea\\20220402\\20220402_home_gk.csv\n",
      "[players stats summary 저장 완료] C:/Users/user080524/Desktop/project/PREMO/data/datas/1\\2021-2022\\Chelsea\\20220402\\20220402_away_players_summary.csv\n",
      "[players stats summary 저장 완료] C:/Users/user080524/Desktop/project/PREMO/data/datas/1\\2021-2022\\Chelsea\\20220402\\20220402_away_gk.csv\n"
     ]
    },
    {
     "name": "stderr",
     "output_type": "stream",
     "text": [
      "\n",
      "\u001b[A"
     ]
    },
    {
     "name": "stdout",
     "output_type": "stream",
     "text": [
      "[team_stats 저장 완료] C:/Users/user080524/Desktop/project/PREMO/data/datas/1\\2021-2022\\Chelsea\\20220402\\20220402_team_stats.csv\n",
      "[players stats summary 저장 완료] C:/Users/user080524/Desktop/project/PREMO/data/datas/1\\2021-2022\\Chelsea\\20220420\\20220420_home_palyers_summary.csv\n",
      "[players stats summary 저장 완료] C:/Users/user080524/Desktop/project/PREMO/data/datas/1\\2021-2022\\Chelsea\\20220420\\20220420_home_gk.csv\n",
      "[players stats summary 저장 완료] C:/Users/user080524/Desktop/project/PREMO/data/datas/1\\2021-2022\\Chelsea\\20220420\\20220420_away_players_summary.csv\n",
      "[players stats summary 저장 완료] C:/Users/user080524/Desktop/project/PREMO/data/datas/1\\2021-2022\\Chelsea\\20220420\\20220420_away_gk.csv\n"
     ]
    },
    {
     "name": "stderr",
     "output_type": "stream",
     "text": [
      "\n",
      "\u001b[A"
     ]
    },
    {
     "name": "stdout",
     "output_type": "stream",
     "text": [
      "[team_stats 저장 완료] C:/Users/user080524/Desktop/project/PREMO/data/datas/1\\2021-2022\\Chelsea\\20220420\\20220420_team_stats.csv\n",
      "[players stats summary 저장 완료] C:/Users/user080524/Desktop/project/PREMO/data/datas/1\\2021-2022\\Chelsea\\20220424\\20220424_home_palyers_summary.csv\n",
      "[players stats summary 저장 완료] C:/Users/user080524/Desktop/project/PREMO/data/datas/1\\2021-2022\\Chelsea\\20220424\\20220424_home_gk.csv\n",
      "[players stats summary 저장 완료] C:/Users/user080524/Desktop/project/PREMO/data/datas/1\\2021-2022\\Chelsea\\20220424\\20220424_away_players_summary.csv\n",
      "[players stats summary 저장 완료] C:/Users/user080524/Desktop/project/PREMO/data/datas/1\\2021-2022\\Chelsea\\20220424\\20220424_away_gk.csv\n"
     ]
    },
    {
     "name": "stderr",
     "output_type": "stream",
     "text": [
      "\n",
      "\u001b[A"
     ]
    },
    {
     "name": "stdout",
     "output_type": "stream",
     "text": [
      "[team_stats 저장 완료] C:/Users/user080524/Desktop/project/PREMO/data/datas/1\\2021-2022\\Chelsea\\20220424\\20220424_team_stats.csv\n",
      "[players stats summary 저장 완료] C:/Users/user080524/Desktop/project/PREMO/data/datas/1\\2021-2022\\Chelsea\\20220507\\20220507_home_palyers_summary.csv\n",
      "[players stats summary 저장 완료] C:/Users/user080524/Desktop/project/PREMO/data/datas/1\\2021-2022\\Chelsea\\20220507\\20220507_home_gk.csv\n",
      "[players stats summary 저장 완료] C:/Users/user080524/Desktop/project/PREMO/data/datas/1\\2021-2022\\Chelsea\\20220507\\20220507_away_players_summary.csv\n",
      "[players stats summary 저장 완료] C:/Users/user080524/Desktop/project/PREMO/data/datas/1\\2021-2022\\Chelsea\\20220507\\20220507_away_gk.csv\n"
     ]
    },
    {
     "name": "stderr",
     "output_type": "stream",
     "text": [
      "\n",
      "\u001b[A"
     ]
    },
    {
     "name": "stdout",
     "output_type": "stream",
     "text": [
      "[team_stats 저장 완료] C:/Users/user080524/Desktop/project/PREMO/data/datas/1\\2021-2022\\Chelsea\\20220507\\20220507_team_stats.csv\n",
      "[players stats summary 저장 완료] C:/Users/user080524/Desktop/project/PREMO/data/datas/1\\2021-2022\\Chelsea\\20220519\\20220519_home_palyers_summary.csv\n",
      "[players stats summary 저장 완료] C:/Users/user080524/Desktop/project/PREMO/data/datas/1\\2021-2022\\Chelsea\\20220519\\20220519_home_gk.csv\n",
      "[players stats summary 저장 완료] C:/Users/user080524/Desktop/project/PREMO/data/datas/1\\2021-2022\\Chelsea\\20220519\\20220519_away_players_summary.csv\n",
      "[players stats summary 저장 완료] C:/Users/user080524/Desktop/project/PREMO/data/datas/1\\2021-2022\\Chelsea\\20220519\\20220519_away_gk.csv\n"
     ]
    },
    {
     "name": "stderr",
     "output_type": "stream",
     "text": [
      "\n",
      "\u001b[A"
     ]
    },
    {
     "name": "stdout",
     "output_type": "stream",
     "text": [
      "[team_stats 저장 완료] C:/Users/user080524/Desktop/project/PREMO/data/datas/1\\2021-2022\\Chelsea\\20220519\\20220519_team_stats.csv\n",
      "[players stats summary 저장 완료] C:/Users/user080524/Desktop/project/PREMO/data/datas/1\\2021-2022\\Chelsea\\20220522\\20220522_home_palyers_summary.csv\n",
      "[players stats summary 저장 완료] C:/Users/user080524/Desktop/project/PREMO/data/datas/1\\2021-2022\\Chelsea\\20220522\\20220522_home_gk.csv\n",
      "[players stats summary 저장 완료] C:/Users/user080524/Desktop/project/PREMO/data/datas/1\\2021-2022\\Chelsea\\20220522\\20220522_away_players_summary.csv\n",
      "[players stats summary 저장 완료] C:/Users/user080524/Desktop/project/PREMO/data/datas/1\\2021-2022\\Chelsea\\20220522\\20220522_away_gk.csv\n"
     ]
    },
    {
     "name": "stderr",
     "output_type": "stream",
     "text": [
      "\n",
      "\u001b[A\n",
      "\u001b[A"
     ]
    },
    {
     "name": "stdout",
     "output_type": "stream",
     "text": [
      "[team_stats 저장 완료] C:/Users/user080524/Desktop/project/PREMO/data/datas/1\\2021-2022\\Chelsea\\20220522\\20220522_team_stats.csv\n",
      "[시즌 페이지 로딩] URL: https://fbref.com/en/comps/9/2021-2022/2021-2022-Premier-League-Stats\n",
      "팀: Tottenham, 링크:https://fbref.com/en/squads/361ca564/2021-2022/Tottenham-Hotspur-Stats\n",
      "20210815\n",
      "https://fbref.com/en/matches/ff51efc7/Tottenham-Hotspur-Manchester-City-August-15-2021-Premier-League\n",
      "20210829\n",
      "https://fbref.com/en/matches/3cd9a733/Tottenham-Hotspur-Watford-August-29-2021-Premier-League\n",
      "20210919\n",
      "https://fbref.com/en/matches/eaf98461/Tottenham-Hotspur-Chelsea-September-19-2021-Premier-League\n",
      "20211003\n",
      "https://fbref.com/en/matches/7bb0a43c/Tottenham-Hotspur-Aston-Villa-October-3-2021-Premier-League\n",
      "match row 처리 중 오류: Message: no such element: Unable to locate element: {\"method\":\"css selector\",\"selector\":\"td[data-stat=\"comp\"]\"}\n",
      "  (Session info: chrome=136.0.7103.114); For documentation on this error, please visit: https://www.selenium.dev/documentation/webdriver/troubleshooting/errors#no-such-element-exception\n",
      "Stacktrace:\n",
      "\tGetHandleVerifier [0x00007FF7535BCF45+75717]\n",
      "\tGetHandleVerifier [0x00007FF7535BCFA0+75808]\n",
      "\t(No symbol) [0x00007FF753388F9A]\n",
      "\t(No symbol) [0x00007FF7533DF4C6]\n",
      "\t(No symbol) [0x00007FF7533DF77C]\n",
      "\t(No symbol) [0x00007FF7533D1D7C]\n",
      "\t(No symbol) [0x00007FF7534073BF]\n",
      "\t(No symbol) [0x00007FF7533D1C46]\n",
      "\t(No symbol) [0x00007FF753407590]\n",
      "\t(No symbol) [0x00007FF75342F39C]\n",
      "\t(No symbol) [0x00007FF753407153]\n",
      "\t(No symbol) [0x00007FF7533D0421]\n",
      "\t(No symbol) [0x00007FF7533D11B3]\n",
      "\tGetHandleVerifier [0x00007FF7538BD71D+3223453]\n",
      "\tGetHandleVerifier [0x00007FF7538B7CC2+3200322]\n",
      "\tGetHandleVerifier [0x00007FF7538D5AF3+3322739]\n",
      "\tGetHandleVerifier [0x00007FF7535D6A1A+180890]\n",
      "\tGetHandleVerifier [0x00007FF7535DE11F+211359]\n",
      "\tGetHandleVerifier [0x00007FF7535C5294+109332]\n",
      "\tGetHandleVerifier [0x00007FF7535C5442+109762]\n",
      "\tGetHandleVerifier [0x00007FF7535ABA59+4825]\n",
      "\tBaseThreadInitThunk [0x00007FFE15767374+20]\n",
      "\tRtlUserThreadStart [0x00007FFE16F5CC91+33]\n",
      "\n",
      "20211030\n",
      "https://fbref.com/en/matches/5a2b8c26/Tottenham-Hotspur-Manchester-United-October-30-2021-Premier-League\n",
      "20211121\n",
      "https://fbref.com/en/matches/a74a684e/Tottenham-Hotspur-Leeds-United-November-21-2021-Premier-League\n",
      "20211202\n",
      "https://fbref.com/en/matches/a80b3790/Tottenham-Hotspur-Brentford-December-2-2021-Premier-League\n",
      "20211205\n",
      "https://fbref.com/en/matches/78e62deb/Tottenham-Hotspur-Norwich-City-December-5-2021-Premier-League\n",
      "20211219\n",
      "https://fbref.com/en/matches/4ac8dee4/Tottenham-Hotspur-Liverpool-December-19-2021-Premier-League\n",
      "20211226\n",
      "https://fbref.com/en/matches/ac4560d6/Tottenham-Hotspur-Crystal-Palace-December-26-2021-Premier-League\n",
      "match row 처리 중 오류: Message: no such element: Unable to locate element: {\"method\":\"css selector\",\"selector\":\"td[data-stat=\"comp\"]\"}\n",
      "  (Session info: chrome=136.0.7103.114); For documentation on this error, please visit: https://www.selenium.dev/documentation/webdriver/troubleshooting/errors#no-such-element-exception\n",
      "Stacktrace:\n",
      "\tGetHandleVerifier [0x00007FF7535BCF45+75717]\n",
      "\tGetHandleVerifier [0x00007FF7535BCFA0+75808]\n",
      "\t(No symbol) [0x00007FF753388F9A]\n",
      "\t(No symbol) [0x00007FF7533DF4C6]\n",
      "\t(No symbol) [0x00007FF7533DF77C]\n",
      "\t(No symbol) [0x00007FF7533D1D7C]\n",
      "\t(No symbol) [0x00007FF7534073BF]\n",
      "\t(No symbol) [0x00007FF7533D1C46]\n",
      "\t(No symbol) [0x00007FF753407590]\n",
      "\t(No symbol) [0x00007FF75342F39C]\n",
      "\t(No symbol) [0x00007FF753407153]\n",
      "\t(No symbol) [0x00007FF7533D0421]\n",
      "\t(No symbol) [0x00007FF7533D11B3]\n",
      "\tGetHandleVerifier [0x00007FF7538BD71D+3223453]\n",
      "\tGetHandleVerifier [0x00007FF7538B7CC2+3200322]\n",
      "\tGetHandleVerifier [0x00007FF7538D5AF3+3322739]\n",
      "\tGetHandleVerifier [0x00007FF7535D6A1A+180890]\n",
      "\tGetHandleVerifier [0x00007FF7535DE11F+211359]\n",
      "\tGetHandleVerifier [0x00007FF7535C5294+109332]\n",
      "\tGetHandleVerifier [0x00007FF7535C5442+109762]\n",
      "\tGetHandleVerifier [0x00007FF7535ABA59+4825]\n",
      "\tBaseThreadInitThunk [0x00007FFE15767374+20]\n",
      "\tRtlUserThreadStart [0x00007FFE16F5CC91+33]\n",
      "\n",
      "20220209\n",
      "https://fbref.com/en/matches/0613df22/Tottenham-Hotspur-Southampton-February-9-2022-Premier-League\n",
      "20220213\n",
      "https://fbref.com/en/matches/fe93b491/Tottenham-Hotspur-Wolverhampton-Wanderers-February-13-2022-Premier-League\n",
      "20220307\n",
      "https://fbref.com/en/matches/6e11eac6/Tottenham-Hotspur-Everton-March-7-2022-Premier-League\n",
      "20220320\n",
      "https://fbref.com/en/matches/5fb752fa/Tottenham-Hotspur-West-Ham-United-March-20-2022-Premier-League\n",
      "match row 처리 중 오류: Message: no such element: Unable to locate element: {\"method\":\"css selector\",\"selector\":\"td[data-stat=\"comp\"]\"}\n",
      "  (Session info: chrome=136.0.7103.114); For documentation on this error, please visit: https://www.selenium.dev/documentation/webdriver/troubleshooting/errors#no-such-element-exception\n",
      "Stacktrace:\n",
      "\tGetHandleVerifier [0x00007FF7535BCF45+75717]\n",
      "\tGetHandleVerifier [0x00007FF7535BCFA0+75808]\n",
      "\t(No symbol) [0x00007FF753388F9A]\n",
      "\t(No symbol) [0x00007FF7533DF4C6]\n",
      "\t(No symbol) [0x00007FF7533DF77C]\n",
      "\t(No symbol) [0x00007FF7533D1D7C]\n",
      "\t(No symbol) [0x00007FF7534073BF]\n",
      "\t(No symbol) [0x00007FF7533D1C46]\n",
      "\t(No symbol) [0x00007FF753407590]\n",
      "\t(No symbol) [0x00007FF75342F39C]\n",
      "\t(No symbol) [0x00007FF753407153]\n",
      "\t(No symbol) [0x00007FF7533D0421]\n",
      "\t(No symbol) [0x00007FF7533D11B3]\n",
      "\tGetHandleVerifier [0x00007FF7538BD71D+3223453]\n",
      "\tGetHandleVerifier [0x00007FF7538B7CC2+3200322]\n",
      "\tGetHandleVerifier [0x00007FF7538D5AF3+3322739]\n",
      "\tGetHandleVerifier [0x00007FF7535D6A1A+180890]\n",
      "\tGetHandleVerifier [0x00007FF7535DE11F+211359]\n",
      "\tGetHandleVerifier [0x00007FF7535C5294+109332]\n",
      "\tGetHandleVerifier [0x00007FF7535C5442+109762]\n",
      "\tGetHandleVerifier [0x00007FF7535ABA59+4825]\n",
      "\tBaseThreadInitThunk [0x00007FFE15767374+20]\n",
      "\tRtlUserThreadStart [0x00007FFE16F5CC91+33]\n",
      "\n",
      "20220403\n",
      "https://fbref.com/en/matches/6f8a2207/Tottenham-Hotspur-Newcastle-United-April-3-2022-Premier-League\n",
      "20220416\n",
      "https://fbref.com/en/matches/0b266073/Tottenham-Hotspur-Brighton-and-Hove-Albion-April-16-2022-Premier-League\n",
      "20220501\n",
      "https://fbref.com/en/matches/26ff83e6/Tottenham-Hotspur-Leicester-City-May-1-2022-Premier-League\n",
      "20220512\n",
      "https://fbref.com/en/matches/607d0562/North-London-Derby-Tottenham-Hotspur-Arsenal-May-12-2022-Premier-League\n",
      "20220515\n",
      "https://fbref.com/en/matches/1d0f7282/Tottenham-Hotspur-Burnley-May-15-2022-Premier-League\n",
      "19\n",
      "19\n"
     ]
    },
    {
     "name": "stderr",
     "output_type": "stream",
     "text": [
      "\n",
      "\u001b[A"
     ]
    },
    {
     "name": "stdout",
     "output_type": "stream",
     "text": [
      "[players stats summary 저장 완료] C:/Users/user080524/Desktop/project/PREMO/data/datas/1\\2021-2022\\Tottenham\\20210815\\20210815_home_palyers_summary.csv\n",
      "[players stats summary 저장 완료] C:/Users/user080524/Desktop/project/PREMO/data/datas/1\\2021-2022\\Tottenham\\20210815\\20210815_home_gk.csv\n",
      "[players stats summary 저장 완료] C:/Users/user080524/Desktop/project/PREMO/data/datas/1\\2021-2022\\Tottenham\\20210815\\20210815_away_players_summary.csv\n",
      "[players stats summary 저장 완료] C:/Users/user080524/Desktop/project/PREMO/data/datas/1\\2021-2022\\Tottenham\\20210815\\20210815_away_gk.csv\n"
     ]
    },
    {
     "name": "stderr",
     "output_type": "stream",
     "text": [
      "\n",
      "\u001b[A"
     ]
    },
    {
     "name": "stdout",
     "output_type": "stream",
     "text": [
      "[team_stats 저장 완료] C:/Users/user080524/Desktop/project/PREMO/data/datas/1\\2021-2022\\Tottenham\\20210815\\20210815_team_stats.csv\n",
      "[players stats summary 저장 완료] C:/Users/user080524/Desktop/project/PREMO/data/datas/1\\2021-2022\\Tottenham\\20210829\\20210829_home_palyers_summary.csv\n",
      "[players stats summary 저장 완료] C:/Users/user080524/Desktop/project/PREMO/data/datas/1\\2021-2022\\Tottenham\\20210829\\20210829_home_gk.csv\n",
      "[players stats summary 저장 완료] C:/Users/user080524/Desktop/project/PREMO/data/datas/1\\2021-2022\\Tottenham\\20210829\\20210829_away_players_summary.csv\n",
      "[players stats summary 저장 완료] C:/Users/user080524/Desktop/project/PREMO/data/datas/1\\2021-2022\\Tottenham\\20210829\\20210829_away_gk.csv\n"
     ]
    },
    {
     "name": "stderr",
     "output_type": "stream",
     "text": [
      "\n",
      "\u001b[A"
     ]
    },
    {
     "name": "stdout",
     "output_type": "stream",
     "text": [
      "[team_stats 저장 완료] C:/Users/user080524/Desktop/project/PREMO/data/datas/1\\2021-2022\\Tottenham\\20210829\\20210829_team_stats.csv\n",
      "[players stats summary 저장 완료] C:/Users/user080524/Desktop/project/PREMO/data/datas/1\\2021-2022\\Tottenham\\20210919\\20210919_home_palyers_summary.csv\n",
      "[players stats summary 저장 완료] C:/Users/user080524/Desktop/project/PREMO/data/datas/1\\2021-2022\\Tottenham\\20210919\\20210919_home_gk.csv\n",
      "[players stats summary 저장 완료] C:/Users/user080524/Desktop/project/PREMO/data/datas/1\\2021-2022\\Tottenham\\20210919\\20210919_away_players_summary.csv\n",
      "[players stats summary 저장 완료] C:/Users/user080524/Desktop/project/PREMO/data/datas/1\\2021-2022\\Tottenham\\20210919\\20210919_away_gk.csv\n"
     ]
    },
    {
     "name": "stderr",
     "output_type": "stream",
     "text": [
      "\n",
      "\u001b[A"
     ]
    },
    {
     "name": "stdout",
     "output_type": "stream",
     "text": [
      "[team_stats 저장 완료] C:/Users/user080524/Desktop/project/PREMO/data/datas/1\\2021-2022\\Tottenham\\20210919\\20210919_team_stats.csv\n",
      "[players stats summary 저장 완료] C:/Users/user080524/Desktop/project/PREMO/data/datas/1\\2021-2022\\Tottenham\\20211003\\20211003_home_palyers_summary.csv\n",
      "[players stats summary 저장 완료] C:/Users/user080524/Desktop/project/PREMO/data/datas/1\\2021-2022\\Tottenham\\20211003\\20211003_home_gk.csv\n",
      "[players stats summary 저장 완료] C:/Users/user080524/Desktop/project/PREMO/data/datas/1\\2021-2022\\Tottenham\\20211003\\20211003_away_players_summary.csv\n",
      "[players stats summary 저장 완료] C:/Users/user080524/Desktop/project/PREMO/data/datas/1\\2021-2022\\Tottenham\\20211003\\20211003_away_gk.csv\n"
     ]
    },
    {
     "name": "stderr",
     "output_type": "stream",
     "text": [
      "\n",
      "\u001b[A"
     ]
    },
    {
     "name": "stdout",
     "output_type": "stream",
     "text": [
      "[team_stats 저장 완료] C:/Users/user080524/Desktop/project/PREMO/data/datas/1\\2021-2022\\Tottenham\\20211003\\20211003_team_stats.csv\n",
      "[players stats summary 저장 완료] C:/Users/user080524/Desktop/project/PREMO/data/datas/1\\2021-2022\\Tottenham\\20211030\\20211030_home_palyers_summary.csv\n",
      "[players stats summary 저장 완료] C:/Users/user080524/Desktop/project/PREMO/data/datas/1\\2021-2022\\Tottenham\\20211030\\20211030_home_gk.csv\n",
      "[players stats summary 저장 완료] C:/Users/user080524/Desktop/project/PREMO/data/datas/1\\2021-2022\\Tottenham\\20211030\\20211030_away_players_summary.csv\n",
      "[players stats summary 저장 완료] C:/Users/user080524/Desktop/project/PREMO/data/datas/1\\2021-2022\\Tottenham\\20211030\\20211030_away_gk.csv\n"
     ]
    },
    {
     "name": "stderr",
     "output_type": "stream",
     "text": [
      "\n",
      "\u001b[A"
     ]
    },
    {
     "name": "stdout",
     "output_type": "stream",
     "text": [
      "team_stats 없음 could not convert string to float: ''\n",
      "[team_stats 저장 완료] C:/Users/user080524/Desktop/project/PREMO/data/datas/1\\2021-2022\\Tottenham\\20211030\\20211030_team_stats.csv\n",
      "[players stats summary 저장 완료] C:/Users/user080524/Desktop/project/PREMO/data/datas/1\\2021-2022\\Tottenham\\20211121\\20211121_home_palyers_summary.csv\n",
      "[players stats summary 저장 완료] C:/Users/user080524/Desktop/project/PREMO/data/datas/1\\2021-2022\\Tottenham\\20211121\\20211121_home_gk.csv\n",
      "[players stats summary 저장 완료] C:/Users/user080524/Desktop/project/PREMO/data/datas/1\\2021-2022\\Tottenham\\20211121\\20211121_away_players_summary.csv\n",
      "[players stats summary 저장 완료] C:/Users/user080524/Desktop/project/PREMO/data/datas/1\\2021-2022\\Tottenham\\20211121\\20211121_away_gk.csv\n"
     ]
    },
    {
     "name": "stderr",
     "output_type": "stream",
     "text": [
      "\n",
      "\u001b[A"
     ]
    },
    {
     "name": "stdout",
     "output_type": "stream",
     "text": [
      "[team_stats 저장 완료] C:/Users/user080524/Desktop/project/PREMO/data/datas/1\\2021-2022\\Tottenham\\20211121\\20211121_team_stats.csv\n",
      "[players stats summary 저장 완료] C:/Users/user080524/Desktop/project/PREMO/data/datas/1\\2021-2022\\Tottenham\\20211202\\20211202_home_palyers_summary.csv\n",
      "[players stats summary 저장 완료] C:/Users/user080524/Desktop/project/PREMO/data/datas/1\\2021-2022\\Tottenham\\20211202\\20211202_home_gk.csv\n",
      "[players stats summary 저장 완료] C:/Users/user080524/Desktop/project/PREMO/data/datas/1\\2021-2022\\Tottenham\\20211202\\20211202_away_players_summary.csv\n",
      "[players stats summary 저장 완료] C:/Users/user080524/Desktop/project/PREMO/data/datas/1\\2021-2022\\Tottenham\\20211202\\20211202_away_gk.csv\n"
     ]
    },
    {
     "name": "stderr",
     "output_type": "stream",
     "text": [
      "\n",
      "\u001b[A"
     ]
    },
    {
     "name": "stdout",
     "output_type": "stream",
     "text": [
      "[team_stats 저장 완료] C:/Users/user080524/Desktop/project/PREMO/data/datas/1\\2021-2022\\Tottenham\\20211202\\20211202_team_stats.csv\n",
      "[players stats summary 저장 완료] C:/Users/user080524/Desktop/project/PREMO/data/datas/1\\2021-2022\\Tottenham\\20211205\\20211205_home_palyers_summary.csv\n",
      "[players stats summary 저장 완료] C:/Users/user080524/Desktop/project/PREMO/data/datas/1\\2021-2022\\Tottenham\\20211205\\20211205_home_gk.csv\n",
      "[players stats summary 저장 완료] C:/Users/user080524/Desktop/project/PREMO/data/datas/1\\2021-2022\\Tottenham\\20211205\\20211205_away_players_summary.csv\n",
      "[players stats summary 저장 완료] C:/Users/user080524/Desktop/project/PREMO/data/datas/1\\2021-2022\\Tottenham\\20211205\\20211205_away_gk.csv\n"
     ]
    },
    {
     "name": "stderr",
     "output_type": "stream",
     "text": [
      "\n",
      "\u001b[A"
     ]
    },
    {
     "name": "stdout",
     "output_type": "stream",
     "text": [
      "[team_stats 저장 완료] C:/Users/user080524/Desktop/project/PREMO/data/datas/1\\2021-2022\\Tottenham\\20211205\\20211205_team_stats.csv\n",
      "[players stats summary 저장 완료] C:/Users/user080524/Desktop/project/PREMO/data/datas/1\\2021-2022\\Tottenham\\20211219\\20211219_home_palyers_summary.csv\n",
      "[players stats summary 저장 완료] C:/Users/user080524/Desktop/project/PREMO/data/datas/1\\2021-2022\\Tottenham\\20211219\\20211219_home_gk.csv\n",
      "[players stats summary 저장 완료] C:/Users/user080524/Desktop/project/PREMO/data/datas/1\\2021-2022\\Tottenham\\20211219\\20211219_away_players_summary.csv\n",
      "[players stats summary 저장 완료] C:/Users/user080524/Desktop/project/PREMO/data/datas/1\\2021-2022\\Tottenham\\20211219\\20211219_away_gk.csv\n"
     ]
    },
    {
     "name": "stderr",
     "output_type": "stream",
     "text": [
      "\n",
      "\u001b[A"
     ]
    },
    {
     "name": "stdout",
     "output_type": "stream",
     "text": [
      "[team_stats 저장 완료] C:/Users/user080524/Desktop/project/PREMO/data/datas/1\\2021-2022\\Tottenham\\20211219\\20211219_team_stats.csv\n",
      "[players stats summary 저장 완료] C:/Users/user080524/Desktop/project/PREMO/data/datas/1\\2021-2022\\Tottenham\\20211226\\20211226_home_palyers_summary.csv\n",
      "[players stats summary 저장 완료] C:/Users/user080524/Desktop/project/PREMO/data/datas/1\\2021-2022\\Tottenham\\20211226\\20211226_home_gk.csv\n",
      "[players stats summary 저장 완료] C:/Users/user080524/Desktop/project/PREMO/data/datas/1\\2021-2022\\Tottenham\\20211226\\20211226_away_players_summary.csv\n",
      "[players stats summary 저장 완료] C:/Users/user080524/Desktop/project/PREMO/data/datas/1\\2021-2022\\Tottenham\\20211226\\20211226_away_gk.csv\n"
     ]
    },
    {
     "name": "stderr",
     "output_type": "stream",
     "text": [
      "\n",
      "\u001b[A"
     ]
    },
    {
     "name": "stdout",
     "output_type": "stream",
     "text": [
      "team_stats 없음 could not convert string to float: ''\n",
      "[team_stats 저장 완료] C:/Users/user080524/Desktop/project/PREMO/data/datas/1\\2021-2022\\Tottenham\\20211226\\20211226_team_stats.csv\n",
      "[players stats summary 저장 완료] C:/Users/user080524/Desktop/project/PREMO/data/datas/1\\2021-2022\\Tottenham\\20220209\\20220209_home_palyers_summary.csv\n",
      "[players stats summary 저장 완료] C:/Users/user080524/Desktop/project/PREMO/data/datas/1\\2021-2022\\Tottenham\\20220209\\20220209_home_gk.csv\n",
      "[players stats summary 저장 완료] C:/Users/user080524/Desktop/project/PREMO/data/datas/1\\2021-2022\\Tottenham\\20220209\\20220209_away_players_summary.csv\n",
      "[players stats summary 저장 완료] C:/Users/user080524/Desktop/project/PREMO/data/datas/1\\2021-2022\\Tottenham\\20220209\\20220209_away_gk.csv\n"
     ]
    },
    {
     "name": "stderr",
     "output_type": "stream",
     "text": [
      "\n",
      "\u001b[A"
     ]
    },
    {
     "name": "stdout",
     "output_type": "stream",
     "text": [
      "[team_stats 저장 완료] C:/Users/user080524/Desktop/project/PREMO/data/datas/1\\2021-2022\\Tottenham\\20220209\\20220209_team_stats.csv\n",
      "[players stats summary 저장 완료] C:/Users/user080524/Desktop/project/PREMO/data/datas/1\\2021-2022\\Tottenham\\20220213\\20220213_home_palyers_summary.csv\n",
      "[players stats summary 저장 완료] C:/Users/user080524/Desktop/project/PREMO/data/datas/1\\2021-2022\\Tottenham\\20220213\\20220213_home_gk.csv\n",
      "[players stats summary 저장 완료] C:/Users/user080524/Desktop/project/PREMO/data/datas/1\\2021-2022\\Tottenham\\20220213\\20220213_away_players_summary.csv\n",
      "[players stats summary 저장 완료] C:/Users/user080524/Desktop/project/PREMO/data/datas/1\\2021-2022\\Tottenham\\20220213\\20220213_away_gk.csv\n"
     ]
    },
    {
     "name": "stderr",
     "output_type": "stream",
     "text": [
      "\n",
      "\u001b[A"
     ]
    },
    {
     "name": "stdout",
     "output_type": "stream",
     "text": [
      "[team_stats 저장 완료] C:/Users/user080524/Desktop/project/PREMO/data/datas/1\\2021-2022\\Tottenham\\20220213\\20220213_team_stats.csv\n",
      "[players stats summary 저장 완료] C:/Users/user080524/Desktop/project/PREMO/data/datas/1\\2021-2022\\Tottenham\\20220307\\20220307_home_palyers_summary.csv\n",
      "[players stats summary 저장 완료] C:/Users/user080524/Desktop/project/PREMO/data/datas/1\\2021-2022\\Tottenham\\20220307\\20220307_home_gk.csv\n",
      "[players stats summary 저장 완료] C:/Users/user080524/Desktop/project/PREMO/data/datas/1\\2021-2022\\Tottenham\\20220307\\20220307_away_players_summary.csv\n",
      "[players stats summary 저장 완료] C:/Users/user080524/Desktop/project/PREMO/data/datas/1\\2021-2022\\Tottenham\\20220307\\20220307_away_gk.csv\n"
     ]
    },
    {
     "name": "stderr",
     "output_type": "stream",
     "text": [
      "\n",
      "\u001b[A"
     ]
    },
    {
     "name": "stdout",
     "output_type": "stream",
     "text": [
      "team_stats 없음 could not convert string to float: ''\n",
      "[team_stats 저장 완료] C:/Users/user080524/Desktop/project/PREMO/data/datas/1\\2021-2022\\Tottenham\\20220307\\20220307_team_stats.csv\n",
      "[players stats summary 저장 완료] C:/Users/user080524/Desktop/project/PREMO/data/datas/1\\2021-2022\\Tottenham\\20220320\\20220320_home_palyers_summary.csv\n",
      "[players stats summary 저장 완료] C:/Users/user080524/Desktop/project/PREMO/data/datas/1\\2021-2022\\Tottenham\\20220320\\20220320_home_gk.csv\n",
      "[players stats summary 저장 완료] C:/Users/user080524/Desktop/project/PREMO/data/datas/1\\2021-2022\\Tottenham\\20220320\\20220320_away_players_summary.csv\n",
      "[players stats summary 저장 완료] C:/Users/user080524/Desktop/project/PREMO/data/datas/1\\2021-2022\\Tottenham\\20220320\\20220320_away_gk.csv\n"
     ]
    },
    {
     "name": "stderr",
     "output_type": "stream",
     "text": [
      "\n",
      "\u001b[A"
     ]
    },
    {
     "name": "stdout",
     "output_type": "stream",
     "text": [
      "[team_stats 저장 완료] C:/Users/user080524/Desktop/project/PREMO/data/datas/1\\2021-2022\\Tottenham\\20220320\\20220320_team_stats.csv\n",
      "[players stats summary 저장 완료] C:/Users/user080524/Desktop/project/PREMO/data/datas/1\\2021-2022\\Tottenham\\20220403\\20220403_home_palyers_summary.csv\n",
      "[players stats summary 저장 완료] C:/Users/user080524/Desktop/project/PREMO/data/datas/1\\2021-2022\\Tottenham\\20220403\\20220403_home_gk.csv\n",
      "[players stats summary 저장 완료] C:/Users/user080524/Desktop/project/PREMO/data/datas/1\\2021-2022\\Tottenham\\20220403\\20220403_away_players_summary.csv\n",
      "[players stats summary 저장 완료] C:/Users/user080524/Desktop/project/PREMO/data/datas/1\\2021-2022\\Tottenham\\20220403\\20220403_away_gk.csv\n"
     ]
    },
    {
     "name": "stderr",
     "output_type": "stream",
     "text": [
      "\n",
      "\u001b[A"
     ]
    },
    {
     "name": "stdout",
     "output_type": "stream",
     "text": [
      "[team_stats 저장 완료] C:/Users/user080524/Desktop/project/PREMO/data/datas/1\\2021-2022\\Tottenham\\20220403\\20220403_team_stats.csv\n",
      "[players stats summary 저장 완료] C:/Users/user080524/Desktop/project/PREMO/data/datas/1\\2021-2022\\Tottenham\\20220416\\20220416_home_palyers_summary.csv\n",
      "[players stats summary 저장 완료] C:/Users/user080524/Desktop/project/PREMO/data/datas/1\\2021-2022\\Tottenham\\20220416\\20220416_home_gk.csv\n",
      "[players stats summary 저장 완료] C:/Users/user080524/Desktop/project/PREMO/data/datas/1\\2021-2022\\Tottenham\\20220416\\20220416_away_players_summary.csv\n",
      "[players stats summary 저장 완료] C:/Users/user080524/Desktop/project/PREMO/data/datas/1\\2021-2022\\Tottenham\\20220416\\20220416_away_gk.csv\n"
     ]
    },
    {
     "name": "stderr",
     "output_type": "stream",
     "text": [
      "\n",
      "\u001b[A"
     ]
    },
    {
     "name": "stdout",
     "output_type": "stream",
     "text": [
      "team_stats 없음 could not convert string to float: ''\n",
      "[team_stats 저장 완료] C:/Users/user080524/Desktop/project/PREMO/data/datas/1\\2021-2022\\Tottenham\\20220416\\20220416_team_stats.csv\n",
      "[players stats summary 저장 완료] C:/Users/user080524/Desktop/project/PREMO/data/datas/1\\2021-2022\\Tottenham\\20220501\\20220501_home_palyers_summary.csv\n",
      "[players stats summary 저장 완료] C:/Users/user080524/Desktop/project/PREMO/data/datas/1\\2021-2022\\Tottenham\\20220501\\20220501_home_gk.csv\n",
      "[players stats summary 저장 완료] C:/Users/user080524/Desktop/project/PREMO/data/datas/1\\2021-2022\\Tottenham\\20220501\\20220501_away_players_summary.csv\n",
      "[players stats summary 저장 완료] C:/Users/user080524/Desktop/project/PREMO/data/datas/1\\2021-2022\\Tottenham\\20220501\\20220501_away_gk.csv\n"
     ]
    },
    {
     "name": "stderr",
     "output_type": "stream",
     "text": [
      "\n",
      "\u001b[A"
     ]
    },
    {
     "name": "stdout",
     "output_type": "stream",
     "text": [
      "[team_stats 저장 완료] C:/Users/user080524/Desktop/project/PREMO/data/datas/1\\2021-2022\\Tottenham\\20220501\\20220501_team_stats.csv\n",
      "[players stats summary 저장 완료] C:/Users/user080524/Desktop/project/PREMO/data/datas/1\\2021-2022\\Tottenham\\20220512\\20220512_home_palyers_summary.csv\n",
      "[players stats summary 저장 완료] C:/Users/user080524/Desktop/project/PREMO/data/datas/1\\2021-2022\\Tottenham\\20220512\\20220512_home_gk.csv\n",
      "[players stats summary 저장 완료] C:/Users/user080524/Desktop/project/PREMO/data/datas/1\\2021-2022\\Tottenham\\20220512\\20220512_away_players_summary.csv\n",
      "[players stats summary 저장 완료] C:/Users/user080524/Desktop/project/PREMO/data/datas/1\\2021-2022\\Tottenham\\20220512\\20220512_away_gk.csv\n"
     ]
    },
    {
     "name": "stderr",
     "output_type": "stream",
     "text": [
      "\n",
      "\u001b[A"
     ]
    },
    {
     "name": "stdout",
     "output_type": "stream",
     "text": [
      "[team_stats 저장 완료] C:/Users/user080524/Desktop/project/PREMO/data/datas/1\\2021-2022\\Tottenham\\20220512\\20220512_team_stats.csv\n",
      "[players stats summary 저장 완료] C:/Users/user080524/Desktop/project/PREMO/data/datas/1\\2021-2022\\Tottenham\\20220515\\20220515_home_palyers_summary.csv\n",
      "[players stats summary 저장 완료] C:/Users/user080524/Desktop/project/PREMO/data/datas/1\\2021-2022\\Tottenham\\20220515\\20220515_home_gk.csv\n",
      "[players stats summary 저장 완료] C:/Users/user080524/Desktop/project/PREMO/data/datas/1\\2021-2022\\Tottenham\\20220515\\20220515_away_players_summary.csv\n",
      "[players stats summary 저장 완료] C:/Users/user080524/Desktop/project/PREMO/data/datas/1\\2021-2022\\Tottenham\\20220515\\20220515_away_gk.csv\n"
     ]
    },
    {
     "name": "stderr",
     "output_type": "stream",
     "text": [
      "\n",
      "\u001b[A\n",
      "\u001b[A"
     ]
    },
    {
     "name": "stdout",
     "output_type": "stream",
     "text": [
      "[team_stats 저장 완료] C:/Users/user080524/Desktop/project/PREMO/data/datas/1\\2021-2022\\Tottenham\\20220515\\20220515_team_stats.csv\n",
      "[시즌 페이지 로딩] URL: https://fbref.com/en/comps/9/2021-2022/2021-2022-Premier-League-Stats\n",
      "팀: Arsenal, 링크:https://fbref.com/en/squads/18bb7c10/2021-2022/Arsenal-Stats\n",
      "20210822\n",
      "https://fbref.com/en/matches/93954213/North-West-London-Derby-Arsenal-Chelsea-August-22-2021-Premier-League\n",
      "20210911\n",
      "https://fbref.com/en/matches/4ac58f71/Arsenal-Norwich-City-September-11-2021-Premier-League\n",
      "20210926\n",
      "https://fbref.com/en/matches/a2c07e97/North-London-Derby-Arsenal-Tottenham-Hotspur-September-26-2021-Premier-League\n",
      "20211018\n",
      "https://fbref.com/en/matches/0f3a1892/Arsenal-Crystal-Palace-October-18-2021-Premier-League\n",
      "match row 처리 중 오류: Message: no such element: Unable to locate element: {\"method\":\"css selector\",\"selector\":\"td[data-stat=\"comp\"]\"}\n",
      "  (Session info: chrome=136.0.7103.114); For documentation on this error, please visit: https://www.selenium.dev/documentation/webdriver/troubleshooting/errors#no-such-element-exception\n",
      "Stacktrace:\n",
      "\tGetHandleVerifier [0x00007FF7535BCF45+75717]\n",
      "\tGetHandleVerifier [0x00007FF7535BCFA0+75808]\n",
      "\t(No symbol) [0x00007FF753388F9A]\n",
      "\t(No symbol) [0x00007FF7533DF4C6]\n",
      "\t(No symbol) [0x00007FF7533DF77C]\n",
      "\t(No symbol) [0x00007FF7533D1D7C]\n",
      "\t(No symbol) [0x00007FF7534073BF]\n",
      "\t(No symbol) [0x00007FF7533D1C46]\n",
      "\t(No symbol) [0x00007FF753407590]\n",
      "\t(No symbol) [0x00007FF75342F39C]\n",
      "\t(No symbol) [0x00007FF753407153]\n",
      "\t(No symbol) [0x00007FF7533D0421]\n",
      "\t(No symbol) [0x00007FF7533D11B3]\n",
      "\tGetHandleVerifier [0x00007FF7538BD71D+3223453]\n",
      "\tGetHandleVerifier [0x00007FF7538B7CC2+3200322]\n",
      "\tGetHandleVerifier [0x00007FF7538D5AF3+3322739]\n",
      "\tGetHandleVerifier [0x00007FF7535D6A1A+180890]\n",
      "\tGetHandleVerifier [0x00007FF7535DE11F+211359]\n",
      "\tGetHandleVerifier [0x00007FF7535C5294+109332]\n",
      "\tGetHandleVerifier [0x00007FF7535C5442+109762]\n",
      "\tGetHandleVerifier [0x00007FF7535ABA59+4825]\n",
      "\tBaseThreadInitThunk [0x00007FFE15767374+20]\n",
      "\tRtlUserThreadStart [0x00007FFE16F5CC91+33]\n",
      "\n",
      "20211022\n",
      "https://fbref.com/en/matches/ac95a75a/Arsenal-Aston-Villa-October-22-2021-Premier-League\n",
      "20211107\n",
      "https://fbref.com/en/matches/e0208fcf/Arsenal-Watford-November-7-2021-Premier-League\n",
      "20211127\n",
      "https://fbref.com/en/matches/067e0ab9/Arsenal-Newcastle-United-November-27-2021-Premier-League\n",
      "20211211\n",
      "https://fbref.com/en/matches/6a35f07c/Arsenal-Southampton-December-11-2021-Premier-League\n",
      "20211215\n",
      "https://fbref.com/en/matches/3f1ff3a5/Arsenal-West-Ham-United-December-15-2021-Premier-League\n",
      "match row 처리 중 오류: Message: no such element: Unable to locate element: {\"method\":\"css selector\",\"selector\":\"td[data-stat=\"comp\"]\"}\n",
      "  (Session info: chrome=136.0.7103.114); For documentation on this error, please visit: https://www.selenium.dev/documentation/webdriver/troubleshooting/errors#no-such-element-exception\n",
      "Stacktrace:\n",
      "\tGetHandleVerifier [0x00007FF7535BCF45+75717]\n",
      "\tGetHandleVerifier [0x00007FF7535BCFA0+75808]\n",
      "\t(No symbol) [0x00007FF753388F9A]\n",
      "\t(No symbol) [0x00007FF7533DF4C6]\n",
      "\t(No symbol) [0x00007FF7533DF77C]\n",
      "\t(No symbol) [0x00007FF7533D1D7C]\n",
      "\t(No symbol) [0x00007FF7534073BF]\n",
      "\t(No symbol) [0x00007FF7533D1C46]\n",
      "\t(No symbol) [0x00007FF753407590]\n",
      "\t(No symbol) [0x00007FF75342F39C]\n",
      "\t(No symbol) [0x00007FF753407153]\n",
      "\t(No symbol) [0x00007FF7533D0421]\n",
      "\t(No symbol) [0x00007FF7533D11B3]\n",
      "\tGetHandleVerifier [0x00007FF7538BD71D+3223453]\n",
      "\tGetHandleVerifier [0x00007FF7538B7CC2+3200322]\n",
      "\tGetHandleVerifier [0x00007FF7538D5AF3+3322739]\n",
      "\tGetHandleVerifier [0x00007FF7535D6A1A+180890]\n",
      "\tGetHandleVerifier [0x00007FF7535DE11F+211359]\n",
      "\tGetHandleVerifier [0x00007FF7535C5294+109332]\n",
      "\tGetHandleVerifier [0x00007FF7535C5442+109762]\n",
      "\tGetHandleVerifier [0x00007FF7535ABA59+4825]\n",
      "\tBaseThreadInitThunk [0x00007FFE15767374+20]\n",
      "\tRtlUserThreadStart [0x00007FFE16F5CC91+33]\n",
      "\n",
      "20220101\n",
      "https://fbref.com/en/matches/a9903a63/Arsenal-Manchester-City-January-1-2022-Premier-League\n",
      "20220123\n",
      "https://fbref.com/en/matches/845ec84d/Arsenal-Burnley-January-23-2022-Premier-League\n",
      "20220219\n",
      "https://fbref.com/en/matches/401c8cc8/Arsenal-Brentford-February-19-2022-Premier-League\n",
      "match row 처리 중 오류: Message: no such element: Unable to locate element: {\"method\":\"css selector\",\"selector\":\"td[data-stat=\"comp\"]\"}\n",
      "  (Session info: chrome=136.0.7103.114); For documentation on this error, please visit: https://www.selenium.dev/documentation/webdriver/troubleshooting/errors#no-such-element-exception\n",
      "Stacktrace:\n",
      "\tGetHandleVerifier [0x00007FF7535BCF45+75717]\n",
      "\tGetHandleVerifier [0x00007FF7535BCFA0+75808]\n",
      "\t(No symbol) [0x00007FF753388F9A]\n",
      "\t(No symbol) [0x00007FF7533DF4C6]\n",
      "\t(No symbol) [0x00007FF7533DF77C]\n",
      "\t(No symbol) [0x00007FF7533D1D7C]\n",
      "\t(No symbol) [0x00007FF7534073BF]\n",
      "\t(No symbol) [0x00007FF7533D1C46]\n",
      "\t(No symbol) [0x00007FF753407590]\n",
      "\t(No symbol) [0x00007FF75342F39C]\n",
      "\t(No symbol) [0x00007FF753407153]\n",
      "\t(No symbol) [0x00007FF7533D0421]\n",
      "\t(No symbol) [0x00007FF7533D11B3]\n",
      "\tGetHandleVerifier [0x00007FF7538BD71D+3223453]\n",
      "\tGetHandleVerifier [0x00007FF7538B7CC2+3200322]\n",
      "\tGetHandleVerifier [0x00007FF7538D5AF3+3322739]\n",
      "\tGetHandleVerifier [0x00007FF7535D6A1A+180890]\n",
      "\tGetHandleVerifier [0x00007FF7535DE11F+211359]\n",
      "\tGetHandleVerifier [0x00007FF7535C5294+109332]\n",
      "\tGetHandleVerifier [0x00007FF7535C5442+109762]\n",
      "\tGetHandleVerifier [0x00007FF7535ABA59+4825]\n",
      "\tBaseThreadInitThunk [0x00007FFE15767374+20]\n",
      "\tRtlUserThreadStart [0x00007FFE16F5CC91+33]\n",
      "\n",
      "20220224\n",
      "https://fbref.com/en/matches/3c516ed6/Arsenal-Wolverhampton-Wanderers-February-24-2022-Premier-League\n",
      "20220313\n",
      "https://fbref.com/en/matches/47ea9ab2/Arsenal-Leicester-City-March-13-2022-Premier-League\n",
      "20220316\n",
      "https://fbref.com/en/matches/8ef5cc6b/Arsenal-Liverpool-March-16-2022-Premier-League\n",
      "20220409\n",
      "https://fbref.com/en/matches/37ddcda6/Arsenal-Brighton-and-Hove-Albion-April-9-2022-Premier-League\n",
      "20220423\n",
      "https://fbref.com/en/matches/b9f7c065/Arsenal-Manchester-United-April-23-2022-Premier-League\n",
      "20220508\n",
      "https://fbref.com/en/matches/ef41dec1/Arsenal-Leeds-United-May-8-2022-Premier-League\n",
      "20220522\n",
      "https://fbref.com/en/matches/4100d195/Arsenal-Everton-May-22-2022-Premier-League\n",
      "19\n",
      "19\n"
     ]
    },
    {
     "name": "stderr",
     "output_type": "stream",
     "text": [
      "\n",
      "\u001b[A"
     ]
    },
    {
     "name": "stdout",
     "output_type": "stream",
     "text": [
      "[players stats summary 저장 완료] C:/Users/user080524/Desktop/project/PREMO/data/datas/1\\2021-2022\\Arsenal\\20210822\\20210822_home_palyers_summary.csv\n",
      "[players stats summary 저장 완료] C:/Users/user080524/Desktop/project/PREMO/data/datas/1\\2021-2022\\Arsenal\\20210822\\20210822_home_gk.csv\n",
      "[players stats summary 저장 완료] C:/Users/user080524/Desktop/project/PREMO/data/datas/1\\2021-2022\\Arsenal\\20210822\\20210822_away_players_summary.csv\n",
      "[players stats summary 저장 완료] C:/Users/user080524/Desktop/project/PREMO/data/datas/1\\2021-2022\\Arsenal\\20210822\\20210822_away_gk.csv\n"
     ]
    },
    {
     "name": "stderr",
     "output_type": "stream",
     "text": [
      "\n",
      "\u001b[A"
     ]
    },
    {
     "name": "stdout",
     "output_type": "stream",
     "text": [
      "[team_stats 저장 완료] C:/Users/user080524/Desktop/project/PREMO/data/datas/1\\2021-2022\\Arsenal\\20210822\\20210822_team_stats.csv\n",
      "[players stats summary 저장 완료] C:/Users/user080524/Desktop/project/PREMO/data/datas/1\\2021-2022\\Arsenal\\20210911\\20210911_home_palyers_summary.csv\n",
      "[players stats summary 저장 완료] C:/Users/user080524/Desktop/project/PREMO/data/datas/1\\2021-2022\\Arsenal\\20210911\\20210911_home_gk.csv\n",
      "[players stats summary 저장 완료] C:/Users/user080524/Desktop/project/PREMO/data/datas/1\\2021-2022\\Arsenal\\20210911\\20210911_away_players_summary.csv\n",
      "[players stats summary 저장 완료] C:/Users/user080524/Desktop/project/PREMO/data/datas/1\\2021-2022\\Arsenal\\20210911\\20210911_away_gk.csv\n"
     ]
    },
    {
     "name": "stderr",
     "output_type": "stream",
     "text": [
      "\n",
      "\u001b[A"
     ]
    },
    {
     "name": "stdout",
     "output_type": "stream",
     "text": [
      "[team_stats 저장 완료] C:/Users/user080524/Desktop/project/PREMO/data/datas/1\\2021-2022\\Arsenal\\20210911\\20210911_team_stats.csv\n",
      "[players stats summary 저장 완료] C:/Users/user080524/Desktop/project/PREMO/data/datas/1\\2021-2022\\Arsenal\\20210926\\20210926_home_palyers_summary.csv\n",
      "[players stats summary 저장 완료] C:/Users/user080524/Desktop/project/PREMO/data/datas/1\\2021-2022\\Arsenal\\20210926\\20210926_home_gk.csv\n",
      "[players stats summary 저장 완료] C:/Users/user080524/Desktop/project/PREMO/data/datas/1\\2021-2022\\Arsenal\\20210926\\20210926_away_players_summary.csv\n",
      "[players stats summary 저장 완료] C:/Users/user080524/Desktop/project/PREMO/data/datas/1\\2021-2022\\Arsenal\\20210926\\20210926_away_gk.csv\n"
     ]
    },
    {
     "name": "stderr",
     "output_type": "stream",
     "text": [
      "\n",
      "\u001b[A"
     ]
    },
    {
     "name": "stdout",
     "output_type": "stream",
     "text": [
      "[team_stats 저장 완료] C:/Users/user080524/Desktop/project/PREMO/data/datas/1\\2021-2022\\Arsenal\\20210926\\20210926_team_stats.csv\n",
      "[players stats summary 저장 완료] C:/Users/user080524/Desktop/project/PREMO/data/datas/1\\2021-2022\\Arsenal\\20211018\\20211018_home_palyers_summary.csv\n",
      "[players stats summary 저장 완료] C:/Users/user080524/Desktop/project/PREMO/data/datas/1\\2021-2022\\Arsenal\\20211018\\20211018_home_gk.csv\n",
      "[players stats summary 저장 완료] C:/Users/user080524/Desktop/project/PREMO/data/datas/1\\2021-2022\\Arsenal\\20211018\\20211018_away_players_summary.csv\n",
      "[players stats summary 저장 완료] C:/Users/user080524/Desktop/project/PREMO/data/datas/1\\2021-2022\\Arsenal\\20211018\\20211018_away_gk.csv\n"
     ]
    },
    {
     "name": "stderr",
     "output_type": "stream",
     "text": [
      "\n",
      "\u001b[A"
     ]
    },
    {
     "name": "stdout",
     "output_type": "stream",
     "text": [
      "[team_stats 저장 완료] C:/Users/user080524/Desktop/project/PREMO/data/datas/1\\2021-2022\\Arsenal\\20211018\\20211018_team_stats.csv\n",
      "[players stats summary 저장 완료] C:/Users/user080524/Desktop/project/PREMO/data/datas/1\\2021-2022\\Arsenal\\20211022\\20211022_home_palyers_summary.csv\n",
      "[players stats summary 저장 완료] C:/Users/user080524/Desktop/project/PREMO/data/datas/1\\2021-2022\\Arsenal\\20211022\\20211022_home_gk.csv\n",
      "[players stats summary 저장 완료] C:/Users/user080524/Desktop/project/PREMO/data/datas/1\\2021-2022\\Arsenal\\20211022\\20211022_away_players_summary.csv\n",
      "[players stats summary 저장 완료] C:/Users/user080524/Desktop/project/PREMO/data/datas/1\\2021-2022\\Arsenal\\20211022\\20211022_away_gk.csv\n"
     ]
    },
    {
     "name": "stderr",
     "output_type": "stream",
     "text": [
      "\n",
      "\u001b[A"
     ]
    },
    {
     "name": "stdout",
     "output_type": "stream",
     "text": [
      "[team_stats 저장 완료] C:/Users/user080524/Desktop/project/PREMO/data/datas/1\\2021-2022\\Arsenal\\20211022\\20211022_team_stats.csv\n",
      "[players stats summary 저장 완료] C:/Users/user080524/Desktop/project/PREMO/data/datas/1\\2021-2022\\Arsenal\\20211107\\20211107_home_palyers_summary.csv\n",
      "[players stats summary 저장 완료] C:/Users/user080524/Desktop/project/PREMO/data/datas/1\\2021-2022\\Arsenal\\20211107\\20211107_home_gk.csv\n",
      "[players stats summary 저장 완료] C:/Users/user080524/Desktop/project/PREMO/data/datas/1\\2021-2022\\Arsenal\\20211107\\20211107_away_players_summary.csv\n",
      "[players stats summary 저장 완료] C:/Users/user080524/Desktop/project/PREMO/data/datas/1\\2021-2022\\Arsenal\\20211107\\20211107_away_gk.csv\n"
     ]
    },
    {
     "name": "stderr",
     "output_type": "stream",
     "text": [
      "\n",
      "\u001b[A"
     ]
    },
    {
     "name": "stdout",
     "output_type": "stream",
     "text": [
      "[team_stats 저장 완료] C:/Users/user080524/Desktop/project/PREMO/data/datas/1\\2021-2022\\Arsenal\\20211107\\20211107_team_stats.csv\n",
      "[players stats summary 저장 완료] C:/Users/user080524/Desktop/project/PREMO/data/datas/1\\2021-2022\\Arsenal\\20211127\\20211127_home_palyers_summary.csv\n",
      "[players stats summary 저장 완료] C:/Users/user080524/Desktop/project/PREMO/data/datas/1\\2021-2022\\Arsenal\\20211127\\20211127_home_gk.csv\n",
      "[players stats summary 저장 완료] C:/Users/user080524/Desktop/project/PREMO/data/datas/1\\2021-2022\\Arsenal\\20211127\\20211127_away_players_summary.csv\n",
      "[players stats summary 저장 완료] C:/Users/user080524/Desktop/project/PREMO/data/datas/1\\2021-2022\\Arsenal\\20211127\\20211127_away_gk.csv\n"
     ]
    },
    {
     "name": "stderr",
     "output_type": "stream",
     "text": [
      "\n",
      "\u001b[A"
     ]
    },
    {
     "name": "stdout",
     "output_type": "stream",
     "text": [
      "[team_stats 저장 완료] C:/Users/user080524/Desktop/project/PREMO/data/datas/1\\2021-2022\\Arsenal\\20211127\\20211127_team_stats.csv\n",
      "[players stats summary 저장 완료] C:/Users/user080524/Desktop/project/PREMO/data/datas/1\\2021-2022\\Arsenal\\20211211\\20211211_home_palyers_summary.csv\n",
      "[players stats summary 저장 완료] C:/Users/user080524/Desktop/project/PREMO/data/datas/1\\2021-2022\\Arsenal\\20211211\\20211211_home_gk.csv\n",
      "[players stats summary 저장 완료] C:/Users/user080524/Desktop/project/PREMO/data/datas/1\\2021-2022\\Arsenal\\20211211\\20211211_away_players_summary.csv\n",
      "[players stats summary 저장 완료] C:/Users/user080524/Desktop/project/PREMO/data/datas/1\\2021-2022\\Arsenal\\20211211\\20211211_away_gk.csv\n"
     ]
    },
    {
     "name": "stderr",
     "output_type": "stream",
     "text": [
      "\n",
      "\u001b[A"
     ]
    },
    {
     "name": "stdout",
     "output_type": "stream",
     "text": [
      "[team_stats 저장 완료] C:/Users/user080524/Desktop/project/PREMO/data/datas/1\\2021-2022\\Arsenal\\20211211\\20211211_team_stats.csv\n",
      "[players stats summary 저장 완료] C:/Users/user080524/Desktop/project/PREMO/data/datas/1\\2021-2022\\Arsenal\\20211215\\20211215_home_palyers_summary.csv\n",
      "[players stats summary 저장 완료] C:/Users/user080524/Desktop/project/PREMO/data/datas/1\\2021-2022\\Arsenal\\20211215\\20211215_home_gk.csv\n",
      "[players stats summary 저장 완료] C:/Users/user080524/Desktop/project/PREMO/data/datas/1\\2021-2022\\Arsenal\\20211215\\20211215_away_players_summary.csv\n",
      "[players stats summary 저장 완료] C:/Users/user080524/Desktop/project/PREMO/data/datas/1\\2021-2022\\Arsenal\\20211215\\20211215_away_gk.csv\n"
     ]
    },
    {
     "name": "stderr",
     "output_type": "stream",
     "text": [
      "\n",
      "\u001b[A"
     ]
    },
    {
     "name": "stdout",
     "output_type": "stream",
     "text": [
      "[team_stats 저장 완료] C:/Users/user080524/Desktop/project/PREMO/data/datas/1\\2021-2022\\Arsenal\\20211215\\20211215_team_stats.csv\n",
      "[players stats summary 저장 완료] C:/Users/user080524/Desktop/project/PREMO/data/datas/1\\2021-2022\\Arsenal\\20220101\\20220101_home_palyers_summary.csv\n",
      "[players stats summary 저장 완료] C:/Users/user080524/Desktop/project/PREMO/data/datas/1\\2021-2022\\Arsenal\\20220101\\20220101_home_gk.csv\n",
      "[players stats summary 저장 완료] C:/Users/user080524/Desktop/project/PREMO/data/datas/1\\2021-2022\\Arsenal\\20220101\\20220101_away_players_summary.csv\n",
      "[players stats summary 저장 완료] C:/Users/user080524/Desktop/project/PREMO/data/datas/1\\2021-2022\\Arsenal\\20220101\\20220101_away_gk.csv\n"
     ]
    },
    {
     "name": "stderr",
     "output_type": "stream",
     "text": [
      "\n",
      "\u001b[A"
     ]
    },
    {
     "name": "stdout",
     "output_type": "stream",
     "text": [
      "[team_stats 저장 완료] C:/Users/user080524/Desktop/project/PREMO/data/datas/1\\2021-2022\\Arsenal\\20220101\\20220101_team_stats.csv\n",
      "[players stats summary 저장 완료] C:/Users/user080524/Desktop/project/PREMO/data/datas/1\\2021-2022\\Arsenal\\20220123\\20220123_home_palyers_summary.csv\n",
      "[players stats summary 저장 완료] C:/Users/user080524/Desktop/project/PREMO/data/datas/1\\2021-2022\\Arsenal\\20220123\\20220123_home_gk.csv\n",
      "[players stats summary 저장 완료] C:/Users/user080524/Desktop/project/PREMO/data/datas/1\\2021-2022\\Arsenal\\20220123\\20220123_away_players_summary.csv\n",
      "[players stats summary 저장 완료] C:/Users/user080524/Desktop/project/PREMO/data/datas/1\\2021-2022\\Arsenal\\20220123\\20220123_away_gk.csv\n"
     ]
    },
    {
     "name": "stderr",
     "output_type": "stream",
     "text": [
      "\n",
      "\u001b[A"
     ]
    },
    {
     "name": "stdout",
     "output_type": "stream",
     "text": [
      "[team_stats 저장 완료] C:/Users/user080524/Desktop/project/PREMO/data/datas/1\\2021-2022\\Arsenal\\20220123\\20220123_team_stats.csv\n",
      "[players stats summary 저장 완료] C:/Users/user080524/Desktop/project/PREMO/data/datas/1\\2021-2022\\Arsenal\\20220219\\20220219_home_palyers_summary.csv\n",
      "[players stats summary 저장 완료] C:/Users/user080524/Desktop/project/PREMO/data/datas/1\\2021-2022\\Arsenal\\20220219\\20220219_home_gk.csv\n",
      "[players stats summary 저장 완료] C:/Users/user080524/Desktop/project/PREMO/data/datas/1\\2021-2022\\Arsenal\\20220219\\20220219_away_players_summary.csv\n",
      "[players stats summary 저장 완료] C:/Users/user080524/Desktop/project/PREMO/data/datas/1\\2021-2022\\Arsenal\\20220219\\20220219_away_gk.csv\n"
     ]
    },
    {
     "name": "stderr",
     "output_type": "stream",
     "text": [
      "\n",
      "\u001b[A"
     ]
    },
    {
     "name": "stdout",
     "output_type": "stream",
     "text": [
      "[team_stats 저장 완료] C:/Users/user080524/Desktop/project/PREMO/data/datas/1\\2021-2022\\Arsenal\\20220219\\20220219_team_stats.csv\n",
      "[players stats summary 저장 완료] C:/Users/user080524/Desktop/project/PREMO/data/datas/1\\2021-2022\\Arsenal\\20220224\\20220224_home_palyers_summary.csv\n",
      "[players stats summary 저장 완료] C:/Users/user080524/Desktop/project/PREMO/data/datas/1\\2021-2022\\Arsenal\\20220224\\20220224_home_gk.csv\n",
      "[players stats summary 저장 완료] C:/Users/user080524/Desktop/project/PREMO/data/datas/1\\2021-2022\\Arsenal\\20220224\\20220224_away_players_summary.csv\n",
      "[players stats summary 저장 완료] C:/Users/user080524/Desktop/project/PREMO/data/datas/1\\2021-2022\\Arsenal\\20220224\\20220224_away_gk.csv\n"
     ]
    },
    {
     "name": "stderr",
     "output_type": "stream",
     "text": [
      "\n",
      "\u001b[A"
     ]
    },
    {
     "name": "stdout",
     "output_type": "stream",
     "text": [
      "[team_stats 저장 완료] C:/Users/user080524/Desktop/project/PREMO/data/datas/1\\2021-2022\\Arsenal\\20220224\\20220224_team_stats.csv\n",
      "[players stats summary 저장 완료] C:/Users/user080524/Desktop/project/PREMO/data/datas/1\\2021-2022\\Arsenal\\20220313\\20220313_home_palyers_summary.csv\n",
      "[players stats summary 저장 완료] C:/Users/user080524/Desktop/project/PREMO/data/datas/1\\2021-2022\\Arsenal\\20220313\\20220313_home_gk.csv\n",
      "[players stats summary 저장 완료] C:/Users/user080524/Desktop/project/PREMO/data/datas/1\\2021-2022\\Arsenal\\20220313\\20220313_away_players_summary.csv\n",
      "[players stats summary 저장 완료] C:/Users/user080524/Desktop/project/PREMO/data/datas/1\\2021-2022\\Arsenal\\20220313\\20220313_away_gk.csv\n"
     ]
    },
    {
     "name": "stderr",
     "output_type": "stream",
     "text": [
      "\n",
      "\u001b[A"
     ]
    },
    {
     "name": "stdout",
     "output_type": "stream",
     "text": [
      "[team_stats 저장 완료] C:/Users/user080524/Desktop/project/PREMO/data/datas/1\\2021-2022\\Arsenal\\20220313\\20220313_team_stats.csv\n",
      "[players stats summary 저장 완료] C:/Users/user080524/Desktop/project/PREMO/data/datas/1\\2021-2022\\Arsenal\\20220316\\20220316_home_palyers_summary.csv\n",
      "[players stats summary 저장 완료] C:/Users/user080524/Desktop/project/PREMO/data/datas/1\\2021-2022\\Arsenal\\20220316\\20220316_home_gk.csv\n",
      "[players stats summary 저장 완료] C:/Users/user080524/Desktop/project/PREMO/data/datas/1\\2021-2022\\Arsenal\\20220316\\20220316_away_players_summary.csv\n",
      "[players stats summary 저장 완료] C:/Users/user080524/Desktop/project/PREMO/data/datas/1\\2021-2022\\Arsenal\\20220316\\20220316_away_gk.csv\n"
     ]
    },
    {
     "name": "stderr",
     "output_type": "stream",
     "text": [
      "\n",
      "\u001b[A"
     ]
    },
    {
     "name": "stdout",
     "output_type": "stream",
     "text": [
      "[team_stats 저장 완료] C:/Users/user080524/Desktop/project/PREMO/data/datas/1\\2021-2022\\Arsenal\\20220316\\20220316_team_stats.csv\n",
      "[players stats summary 저장 완료] C:/Users/user080524/Desktop/project/PREMO/data/datas/1\\2021-2022\\Arsenal\\20220409\\20220409_home_palyers_summary.csv\n",
      "[players stats summary 저장 완료] C:/Users/user080524/Desktop/project/PREMO/data/datas/1\\2021-2022\\Arsenal\\20220409\\20220409_home_gk.csv\n",
      "[players stats summary 저장 완료] C:/Users/user080524/Desktop/project/PREMO/data/datas/1\\2021-2022\\Arsenal\\20220409\\20220409_away_players_summary.csv\n",
      "[players stats summary 저장 완료] C:/Users/user080524/Desktop/project/PREMO/data/datas/1\\2021-2022\\Arsenal\\20220409\\20220409_away_gk.csv\n"
     ]
    },
    {
     "name": "stderr",
     "output_type": "stream",
     "text": [
      "\n",
      "\u001b[A"
     ]
    },
    {
     "name": "stdout",
     "output_type": "stream",
     "text": [
      "[team_stats 저장 완료] C:/Users/user080524/Desktop/project/PREMO/data/datas/1\\2021-2022\\Arsenal\\20220409\\20220409_team_stats.csv\n",
      "[players stats summary 저장 완료] C:/Users/user080524/Desktop/project/PREMO/data/datas/1\\2021-2022\\Arsenal\\20220423\\20220423_home_palyers_summary.csv\n",
      "[players stats summary 저장 완료] C:/Users/user080524/Desktop/project/PREMO/data/datas/1\\2021-2022\\Arsenal\\20220423\\20220423_home_gk.csv\n",
      "[players stats summary 저장 완료] C:/Users/user080524/Desktop/project/PREMO/data/datas/1\\2021-2022\\Arsenal\\20220423\\20220423_away_players_summary.csv\n",
      "[players stats summary 저장 완료] C:/Users/user080524/Desktop/project/PREMO/data/datas/1\\2021-2022\\Arsenal\\20220423\\20220423_away_gk.csv\n"
     ]
    },
    {
     "name": "stderr",
     "output_type": "stream",
     "text": [
      "\n",
      "\u001b[A"
     ]
    },
    {
     "name": "stdout",
     "output_type": "stream",
     "text": [
      "[team_stats 저장 완료] C:/Users/user080524/Desktop/project/PREMO/data/datas/1\\2021-2022\\Arsenal\\20220423\\20220423_team_stats.csv\n",
      "[players stats summary 저장 완료] C:/Users/user080524/Desktop/project/PREMO/data/datas/1\\2021-2022\\Arsenal\\20220508\\20220508_home_palyers_summary.csv\n",
      "[players stats summary 저장 완료] C:/Users/user080524/Desktop/project/PREMO/data/datas/1\\2021-2022\\Arsenal\\20220508\\20220508_home_gk.csv\n",
      "[players stats summary 저장 완료] C:/Users/user080524/Desktop/project/PREMO/data/datas/1\\2021-2022\\Arsenal\\20220508\\20220508_away_players_summary.csv\n",
      "[players stats summary 저장 완료] C:/Users/user080524/Desktop/project/PREMO/data/datas/1\\2021-2022\\Arsenal\\20220508\\20220508_away_gk.csv\n"
     ]
    },
    {
     "name": "stderr",
     "output_type": "stream",
     "text": [
      "\n",
      "\u001b[A"
     ]
    },
    {
     "name": "stdout",
     "output_type": "stream",
     "text": [
      "[team_stats 저장 완료] C:/Users/user080524/Desktop/project/PREMO/data/datas/1\\2021-2022\\Arsenal\\20220508\\20220508_team_stats.csv\n",
      "[players stats summary 저장 완료] C:/Users/user080524/Desktop/project/PREMO/data/datas/1\\2021-2022\\Arsenal\\20220522\\20220522_home_palyers_summary.csv\n",
      "[players stats summary 저장 완료] C:/Users/user080524/Desktop/project/PREMO/data/datas/1\\2021-2022\\Arsenal\\20220522\\20220522_home_gk.csv\n",
      "[players stats summary 저장 완료] C:/Users/user080524/Desktop/project/PREMO/data/datas/1\\2021-2022\\Arsenal\\20220522\\20220522_away_players_summary.csv\n",
      "[players stats summary 저장 완료] C:/Users/user080524/Desktop/project/PREMO/data/datas/1\\2021-2022\\Arsenal\\20220522\\20220522_away_gk.csv\n"
     ]
    },
    {
     "name": "stderr",
     "output_type": "stream",
     "text": [
      "\n",
      "\u001b[A\n",
      "\u001b[A"
     ]
    },
    {
     "name": "stdout",
     "output_type": "stream",
     "text": [
      "[team_stats 저장 완료] C:/Users/user080524/Desktop/project/PREMO/data/datas/1\\2021-2022\\Arsenal\\20220522\\20220522_team_stats.csv\n",
      "[시즌 페이지 로딩] URL: https://fbref.com/en/comps/9/2021-2022/2021-2022-Premier-League-Stats\n",
      "팀: Manchester Utd, 링크:https://fbref.com/en/squads/19538871/2021-2022/Manchester-United-Stats\n",
      "20210814\n",
      "https://fbref.com/en/matches/e62685d4/Manchester-United-Leeds-United-August-14-2021-Premier-League\n",
      "20210911\n",
      "https://fbref.com/en/matches/7794fd6c/Manchester-United-Newcastle-United-September-11-2021-Premier-League\n",
      "20210925\n",
      "https://fbref.com/en/matches/7c21232e/Manchester-United-Aston-Villa-September-25-2021-Premier-League\n",
      "20211002\n",
      "https://fbref.com/en/matches/2129c7e9/Manchester-United-Everton-October-2-2021-Premier-League\n",
      "match row 처리 중 오류: Message: no such element: Unable to locate element: {\"method\":\"css selector\",\"selector\":\"td[data-stat=\"comp\"]\"}\n",
      "  (Session info: chrome=136.0.7103.114); For documentation on this error, please visit: https://www.selenium.dev/documentation/webdriver/troubleshooting/errors#no-such-element-exception\n",
      "Stacktrace:\n",
      "\tGetHandleVerifier [0x00007FF7535BCF45+75717]\n",
      "\tGetHandleVerifier [0x00007FF7535BCFA0+75808]\n",
      "\t(No symbol) [0x00007FF753388F9A]\n",
      "\t(No symbol) [0x00007FF7533DF4C6]\n",
      "\t(No symbol) [0x00007FF7533DF77C]\n",
      "\t(No symbol) [0x00007FF7533D1D7C]\n",
      "\t(No symbol) [0x00007FF7534073BF]\n",
      "\t(No symbol) [0x00007FF7533D1C46]\n",
      "\t(No symbol) [0x00007FF753407590]\n",
      "\t(No symbol) [0x00007FF75342F39C]\n",
      "\t(No symbol) [0x00007FF753407153]\n",
      "\t(No symbol) [0x00007FF7533D0421]\n",
      "\t(No symbol) [0x00007FF7533D11B3]\n",
      "\tGetHandleVerifier [0x00007FF7538BD71D+3223453]\n",
      "\tGetHandleVerifier [0x00007FF7538B7CC2+3200322]\n",
      "\tGetHandleVerifier [0x00007FF7538D5AF3+3322739]\n",
      "\tGetHandleVerifier [0x00007FF7535D6A1A+180890]\n",
      "\tGetHandleVerifier [0x00007FF7535DE11F+211359]\n",
      "\tGetHandleVerifier [0x00007FF7535C5294+109332]\n",
      "\tGetHandleVerifier [0x00007FF7535C5442+109762]\n",
      "\tGetHandleVerifier [0x00007FF7535ABA59+4825]\n",
      "\tBaseThreadInitThunk [0x00007FFE15767374+20]\n",
      "\tRtlUserThreadStart [0x00007FFE16F5CC91+33]\n",
      "\n",
      "20211024\n",
      "https://fbref.com/en/matches/b886bec4/North-West-Derby-Manchester-United-Liverpool-October-24-2021-Premier-League\n",
      "20211106\n",
      "https://fbref.com/en/matches/5fa5be28/Manchester-Derby-Manchester-United-Manchester-City-November-6-2021-Premier-League\n",
      "20211202\n",
      "https://fbref.com/en/matches/4323a38f/Manchester-United-Arsenal-December-2-2021-Premier-League\n",
      "match row 처리 중 오류: Message: no such element: Unable to locate element: {\"method\":\"css selector\",\"selector\":\"td[data-stat=\"comp\"]\"}\n",
      "  (Session info: chrome=136.0.7103.114); For documentation on this error, please visit: https://www.selenium.dev/documentation/webdriver/troubleshooting/errors#no-such-element-exception\n",
      "Stacktrace:\n",
      "\tGetHandleVerifier [0x00007FF7535BCF45+75717]\n",
      "\tGetHandleVerifier [0x00007FF7535BCFA0+75808]\n",
      "\t(No symbol) [0x00007FF753388F9A]\n",
      "\t(No symbol) [0x00007FF7533DF4C6]\n",
      "\t(No symbol) [0x00007FF7533DF77C]\n",
      "\t(No symbol) [0x00007FF7533D1D7C]\n",
      "\t(No symbol) [0x00007FF7534073BF]\n",
      "\t(No symbol) [0x00007FF7533D1C46]\n",
      "\t(No symbol) [0x00007FF753407590]\n",
      "\t(No symbol) [0x00007FF75342F39C]\n",
      "\t(No symbol) [0x00007FF753407153]\n",
      "\t(No symbol) [0x00007FF7533D0421]\n",
      "\t(No symbol) [0x00007FF7533D11B3]\n",
      "\tGetHandleVerifier [0x00007FF7538BD71D+3223453]\n",
      "\tGetHandleVerifier [0x00007FF7538B7CC2+3200322]\n",
      "\tGetHandleVerifier [0x00007FF7538D5AF3+3322739]\n",
      "\tGetHandleVerifier [0x00007FF7535D6A1A+180890]\n",
      "\tGetHandleVerifier [0x00007FF7535DE11F+211359]\n",
      "\tGetHandleVerifier [0x00007FF7535C5294+109332]\n",
      "\tGetHandleVerifier [0x00007FF7535C5442+109762]\n",
      "\tGetHandleVerifier [0x00007FF7535ABA59+4825]\n",
      "\tBaseThreadInitThunk [0x00007FFE15767374+20]\n",
      "\tRtlUserThreadStart [0x00007FFE16F5CC91+33]\n",
      "\n",
      "20211205\n",
      "https://fbref.com/en/matches/8d10c8d4/Manchester-United-Crystal-Palace-December-5-2021-Premier-League\n",
      "20211230\n",
      "https://fbref.com/en/matches/bbfa96c9/Manchester-United-Burnley-December-30-2021-Premier-League\n",
      "20220103\n",
      "https://fbref.com/en/matches/8e966b52/Manchester-United-Wolverhampton-Wanderers-January-3-2022-Premier-League\n",
      "20220122\n",
      "https://fbref.com/en/matches/7c23f694/Manchester-United-West-Ham-United-January-22-2022-Premier-League\n",
      "match row 처리 중 오류: Message: no such element: Unable to locate element: {\"method\":\"css selector\",\"selector\":\"td[data-stat=\"comp\"]\"}\n",
      "  (Session info: chrome=136.0.7103.114); For documentation on this error, please visit: https://www.selenium.dev/documentation/webdriver/troubleshooting/errors#no-such-element-exception\n",
      "Stacktrace:\n",
      "\tGetHandleVerifier [0x00007FF7535BCF45+75717]\n",
      "\tGetHandleVerifier [0x00007FF7535BCFA0+75808]\n",
      "\t(No symbol) [0x00007FF753388F9A]\n",
      "\t(No symbol) [0x00007FF7533DF4C6]\n",
      "\t(No symbol) [0x00007FF7533DF77C]\n",
      "\t(No symbol) [0x00007FF7533D1D7C]\n",
      "\t(No symbol) [0x00007FF7534073BF]\n",
      "\t(No symbol) [0x00007FF7533D1C46]\n",
      "\t(No symbol) [0x00007FF753407590]\n",
      "\t(No symbol) [0x00007FF75342F39C]\n",
      "\t(No symbol) [0x00007FF753407153]\n",
      "\t(No symbol) [0x00007FF7533D0421]\n",
      "\t(No symbol) [0x00007FF7533D11B3]\n",
      "\tGetHandleVerifier [0x00007FF7538BD71D+3223453]\n",
      "\tGetHandleVerifier [0x00007FF7538B7CC2+3200322]\n",
      "\tGetHandleVerifier [0x00007FF7538D5AF3+3322739]\n",
      "\tGetHandleVerifier [0x00007FF7535D6A1A+180890]\n",
      "\tGetHandleVerifier [0x00007FF7535DE11F+211359]\n",
      "\tGetHandleVerifier [0x00007FF7535C5294+109332]\n",
      "\tGetHandleVerifier [0x00007FF7535C5442+109762]\n",
      "\tGetHandleVerifier [0x00007FF7535ABA59+4825]\n",
      "\tBaseThreadInitThunk [0x00007FFE15767374+20]\n",
      "\tRtlUserThreadStart [0x00007FFE16F5CC91+33]\n",
      "\n",
      "20220212\n",
      "https://fbref.com/en/matches/d15dca2c/Manchester-United-Southampton-February-12-2022-Premier-League\n",
      "20220215\n",
      "https://fbref.com/en/matches/a1fb5fa2/Manchester-United-Brighton-and-Hove-Albion-February-15-2022-Premier-League\n",
      "20220226\n",
      "https://fbref.com/en/matches/43737c9c/Manchester-United-Watford-February-26-2022-Premier-League\n",
      "20220312\n",
      "https://fbref.com/en/matches/e5e7becb/Manchester-United-Tottenham-Hotspur-March-12-2022-Premier-League\n",
      "match row 처리 중 오류: Message: no such element: Unable to locate element: {\"method\":\"css selector\",\"selector\":\"td[data-stat=\"comp\"]\"}\n",
      "  (Session info: chrome=136.0.7103.114); For documentation on this error, please visit: https://www.selenium.dev/documentation/webdriver/troubleshooting/errors#no-such-element-exception\n",
      "Stacktrace:\n",
      "\tGetHandleVerifier [0x00007FF7535BCF45+75717]\n",
      "\tGetHandleVerifier [0x00007FF7535BCFA0+75808]\n",
      "\t(No symbol) [0x00007FF753388F9A]\n",
      "\t(No symbol) [0x00007FF7533DF4C6]\n",
      "\t(No symbol) [0x00007FF7533DF77C]\n",
      "\t(No symbol) [0x00007FF7533D1D7C]\n",
      "\t(No symbol) [0x00007FF7534073BF]\n",
      "\t(No symbol) [0x00007FF7533D1C46]\n",
      "\t(No symbol) [0x00007FF753407590]\n",
      "\t(No symbol) [0x00007FF75342F39C]\n",
      "\t(No symbol) [0x00007FF753407153]\n",
      "\t(No symbol) [0x00007FF7533D0421]\n",
      "\t(No symbol) [0x00007FF7533D11B3]\n",
      "\tGetHandleVerifier [0x00007FF7538BD71D+3223453]\n",
      "\tGetHandleVerifier [0x00007FF7538B7CC2+3200322]\n",
      "\tGetHandleVerifier [0x00007FF7538D5AF3+3322739]\n",
      "\tGetHandleVerifier [0x00007FF7535D6A1A+180890]\n",
      "\tGetHandleVerifier [0x00007FF7535DE11F+211359]\n",
      "\tGetHandleVerifier [0x00007FF7535C5294+109332]\n",
      "\tGetHandleVerifier [0x00007FF7535C5442+109762]\n",
      "\tGetHandleVerifier [0x00007FF7535ABA59+4825]\n",
      "\tBaseThreadInitThunk [0x00007FFE15767374+20]\n",
      "\tRtlUserThreadStart [0x00007FFE16F5CC91+33]\n",
      "\n",
      "20220402\n",
      "https://fbref.com/en/matches/00863ee3/Manchester-United-Leicester-City-April-2-2022-Premier-League\n",
      "20220416\n",
      "https://fbref.com/en/matches/1c3ec7cf/Manchester-United-Norwich-City-April-16-2022-Premier-League\n",
      "20220428\n",
      "https://fbref.com/en/matches/39f0deaa/Manchester-United-Chelsea-April-28-2022-Premier-League\n",
      "20220502\n",
      "https://fbref.com/en/matches/c9b4c96a/Manchester-United-Brentford-May-2-2022-Premier-League\n",
      "19\n",
      "19\n"
     ]
    },
    {
     "name": "stderr",
     "output_type": "stream",
     "text": [
      "\n",
      "\u001b[A"
     ]
    },
    {
     "name": "stdout",
     "output_type": "stream",
     "text": [
      "[players stats summary 저장 완료] C:/Users/user080524/Desktop/project/PREMO/data/datas/1\\2021-2022\\Manchester Utd\\20210814\\20210814_home_palyers_summary.csv\n",
      "[players stats summary 저장 완료] C:/Users/user080524/Desktop/project/PREMO/data/datas/1\\2021-2022\\Manchester Utd\\20210814\\20210814_home_gk.csv\n",
      "[players stats summary 저장 완료] C:/Users/user080524/Desktop/project/PREMO/data/datas/1\\2021-2022\\Manchester Utd\\20210814\\20210814_away_players_summary.csv\n",
      "[players stats summary 저장 완료] C:/Users/user080524/Desktop/project/PREMO/data/datas/1\\2021-2022\\Manchester Utd\\20210814\\20210814_away_gk.csv\n"
     ]
    },
    {
     "name": "stderr",
     "output_type": "stream",
     "text": [
      "\n",
      "\u001b[A"
     ]
    },
    {
     "name": "stdout",
     "output_type": "stream",
     "text": [
      "[team_stats 저장 완료] C:/Users/user080524/Desktop/project/PREMO/data/datas/1\\2021-2022\\Manchester Utd\\20210814\\20210814_team_stats.csv\n",
      "[players stats summary 저장 완료] C:/Users/user080524/Desktop/project/PREMO/data/datas/1\\2021-2022\\Manchester Utd\\20210911\\20210911_home_palyers_summary.csv\n",
      "[players stats summary 저장 완료] C:/Users/user080524/Desktop/project/PREMO/data/datas/1\\2021-2022\\Manchester Utd\\20210911\\20210911_home_gk.csv\n",
      "[players stats summary 저장 완료] C:/Users/user080524/Desktop/project/PREMO/data/datas/1\\2021-2022\\Manchester Utd\\20210911\\20210911_away_players_summary.csv\n",
      "[players stats summary 저장 완료] C:/Users/user080524/Desktop/project/PREMO/data/datas/1\\2021-2022\\Manchester Utd\\20210911\\20210911_away_gk.csv\n"
     ]
    },
    {
     "name": "stderr",
     "output_type": "stream",
     "text": [
      "\n",
      "\u001b[A"
     ]
    },
    {
     "name": "stdout",
     "output_type": "stream",
     "text": [
      "[team_stats 저장 완료] C:/Users/user080524/Desktop/project/PREMO/data/datas/1\\2021-2022\\Manchester Utd\\20210911\\20210911_team_stats.csv\n",
      "[players stats summary 저장 완료] C:/Users/user080524/Desktop/project/PREMO/data/datas/1\\2021-2022\\Manchester Utd\\20210925\\20210925_home_palyers_summary.csv\n",
      "[players stats summary 저장 완료] C:/Users/user080524/Desktop/project/PREMO/data/datas/1\\2021-2022\\Manchester Utd\\20210925\\20210925_home_gk.csv\n",
      "[players stats summary 저장 완료] C:/Users/user080524/Desktop/project/PREMO/data/datas/1\\2021-2022\\Manchester Utd\\20210925\\20210925_away_players_summary.csv\n",
      "[players stats summary 저장 완료] C:/Users/user080524/Desktop/project/PREMO/data/datas/1\\2021-2022\\Manchester Utd\\20210925\\20210925_away_gk.csv\n"
     ]
    },
    {
     "name": "stderr",
     "output_type": "stream",
     "text": [
      "\n",
      "\u001b[A"
     ]
    },
    {
     "name": "stdout",
     "output_type": "stream",
     "text": [
      "[team_stats 저장 완료] C:/Users/user080524/Desktop/project/PREMO/data/datas/1\\2021-2022\\Manchester Utd\\20210925\\20210925_team_stats.csv\n",
      "[players stats summary 저장 완료] C:/Users/user080524/Desktop/project/PREMO/data/datas/1\\2021-2022\\Manchester Utd\\20211002\\20211002_home_palyers_summary.csv\n",
      "[players stats summary 저장 완료] C:/Users/user080524/Desktop/project/PREMO/data/datas/1\\2021-2022\\Manchester Utd\\20211002\\20211002_home_gk.csv\n",
      "[players stats summary 저장 완료] C:/Users/user080524/Desktop/project/PREMO/data/datas/1\\2021-2022\\Manchester Utd\\20211002\\20211002_away_players_summary.csv\n",
      "[players stats summary 저장 완료] C:/Users/user080524/Desktop/project/PREMO/data/datas/1\\2021-2022\\Manchester Utd\\20211002\\20211002_away_gk.csv\n"
     ]
    },
    {
     "name": "stderr",
     "output_type": "stream",
     "text": [
      "\n",
      "\u001b[A"
     ]
    },
    {
     "name": "stdout",
     "output_type": "stream",
     "text": [
      "[team_stats 저장 완료] C:/Users/user080524/Desktop/project/PREMO/data/datas/1\\2021-2022\\Manchester Utd\\20211002\\20211002_team_stats.csv\n",
      "[players stats summary 저장 완료] C:/Users/user080524/Desktop/project/PREMO/data/datas/1\\2021-2022\\Manchester Utd\\20211024\\20211024_home_palyers_summary.csv\n",
      "[players stats summary 저장 완료] C:/Users/user080524/Desktop/project/PREMO/data/datas/1\\2021-2022\\Manchester Utd\\20211024\\20211024_home_gk.csv\n",
      "[players stats summary 저장 완료] C:/Users/user080524/Desktop/project/PREMO/data/datas/1\\2021-2022\\Manchester Utd\\20211024\\20211024_away_players_summary.csv\n",
      "[players stats summary 저장 완료] C:/Users/user080524/Desktop/project/PREMO/data/datas/1\\2021-2022\\Manchester Utd\\20211024\\20211024_away_gk.csv\n"
     ]
    },
    {
     "name": "stderr",
     "output_type": "stream",
     "text": [
      "\n",
      "\u001b[A"
     ]
    },
    {
     "name": "stdout",
     "output_type": "stream",
     "text": [
      "[team_stats 저장 완료] C:/Users/user080524/Desktop/project/PREMO/data/datas/1\\2021-2022\\Manchester Utd\\20211024\\20211024_team_stats.csv\n",
      "[players stats summary 저장 완료] C:/Users/user080524/Desktop/project/PREMO/data/datas/1\\2021-2022\\Manchester Utd\\20211106\\20211106_home_palyers_summary.csv\n",
      "[players stats summary 저장 완료] C:/Users/user080524/Desktop/project/PREMO/data/datas/1\\2021-2022\\Manchester Utd\\20211106\\20211106_home_gk.csv\n",
      "[players stats summary 저장 완료] C:/Users/user080524/Desktop/project/PREMO/data/datas/1\\2021-2022\\Manchester Utd\\20211106\\20211106_away_players_summary.csv\n",
      "[players stats summary 저장 완료] C:/Users/user080524/Desktop/project/PREMO/data/datas/1\\2021-2022\\Manchester Utd\\20211106\\20211106_away_gk.csv\n"
     ]
    },
    {
     "name": "stderr",
     "output_type": "stream",
     "text": [
      "\n",
      "\u001b[A"
     ]
    },
    {
     "name": "stdout",
     "output_type": "stream",
     "text": [
      "[team_stats 저장 완료] C:/Users/user080524/Desktop/project/PREMO/data/datas/1\\2021-2022\\Manchester Utd\\20211106\\20211106_team_stats.csv\n",
      "[players stats summary 저장 완료] C:/Users/user080524/Desktop/project/PREMO/data/datas/1\\2021-2022\\Manchester Utd\\20211202\\20211202_home_palyers_summary.csv\n",
      "[players stats summary 저장 완료] C:/Users/user080524/Desktop/project/PREMO/data/datas/1\\2021-2022\\Manchester Utd\\20211202\\20211202_home_gk.csv\n",
      "[players stats summary 저장 완료] C:/Users/user080524/Desktop/project/PREMO/data/datas/1\\2021-2022\\Manchester Utd\\20211202\\20211202_away_players_summary.csv\n",
      "[players stats summary 저장 완료] C:/Users/user080524/Desktop/project/PREMO/data/datas/1\\2021-2022\\Manchester Utd\\20211202\\20211202_away_gk.csv\n"
     ]
    },
    {
     "name": "stderr",
     "output_type": "stream",
     "text": [
      "\n",
      "\u001b[A"
     ]
    },
    {
     "name": "stdout",
     "output_type": "stream",
     "text": [
      "[team_stats 저장 완료] C:/Users/user080524/Desktop/project/PREMO/data/datas/1\\2021-2022\\Manchester Utd\\20211202\\20211202_team_stats.csv\n",
      "[players stats summary 저장 완료] C:/Users/user080524/Desktop/project/PREMO/data/datas/1\\2021-2022\\Manchester Utd\\20211205\\20211205_home_palyers_summary.csv\n",
      "[players stats summary 저장 완료] C:/Users/user080524/Desktop/project/PREMO/data/datas/1\\2021-2022\\Manchester Utd\\20211205\\20211205_home_gk.csv\n",
      "[players stats summary 저장 완료] C:/Users/user080524/Desktop/project/PREMO/data/datas/1\\2021-2022\\Manchester Utd\\20211205\\20211205_away_players_summary.csv\n",
      "[players stats summary 저장 완료] C:/Users/user080524/Desktop/project/PREMO/data/datas/1\\2021-2022\\Manchester Utd\\20211205\\20211205_away_gk.csv\n"
     ]
    },
    {
     "name": "stderr",
     "output_type": "stream",
     "text": [
      "\n",
      "\u001b[A"
     ]
    },
    {
     "name": "stdout",
     "output_type": "stream",
     "text": [
      "[team_stats 저장 완료] C:/Users/user080524/Desktop/project/PREMO/data/datas/1\\2021-2022\\Manchester Utd\\20211205\\20211205_team_stats.csv\n",
      "[players stats summary 저장 완료] C:/Users/user080524/Desktop/project/PREMO/data/datas/1\\2021-2022\\Manchester Utd\\20211230\\20211230_home_palyers_summary.csv\n",
      "[players stats summary 저장 완료] C:/Users/user080524/Desktop/project/PREMO/data/datas/1\\2021-2022\\Manchester Utd\\20211230\\20211230_home_gk.csv\n",
      "[players stats summary 저장 완료] C:/Users/user080524/Desktop/project/PREMO/data/datas/1\\2021-2022\\Manchester Utd\\20211230\\20211230_away_players_summary.csv\n",
      "[players stats summary 저장 완료] C:/Users/user080524/Desktop/project/PREMO/data/datas/1\\2021-2022\\Manchester Utd\\20211230\\20211230_away_gk.csv\n"
     ]
    },
    {
     "name": "stderr",
     "output_type": "stream",
     "text": [
      "\n",
      "\u001b[A"
     ]
    },
    {
     "name": "stdout",
     "output_type": "stream",
     "text": [
      "[team_stats 저장 완료] C:/Users/user080524/Desktop/project/PREMO/data/datas/1\\2021-2022\\Manchester Utd\\20211230\\20211230_team_stats.csv\n",
      "[players stats summary 저장 완료] C:/Users/user080524/Desktop/project/PREMO/data/datas/1\\2021-2022\\Manchester Utd\\20220103\\20220103_home_palyers_summary.csv\n",
      "[players stats summary 저장 완료] C:/Users/user080524/Desktop/project/PREMO/data/datas/1\\2021-2022\\Manchester Utd\\20220103\\20220103_home_gk.csv\n",
      "[players stats summary 저장 완료] C:/Users/user080524/Desktop/project/PREMO/data/datas/1\\2021-2022\\Manchester Utd\\20220103\\20220103_away_players_summary.csv\n",
      "[players stats summary 저장 완료] C:/Users/user080524/Desktop/project/PREMO/data/datas/1\\2021-2022\\Manchester Utd\\20220103\\20220103_away_gk.csv\n"
     ]
    },
    {
     "name": "stderr",
     "output_type": "stream",
     "text": [
      "\n",
      "\u001b[A"
     ]
    },
    {
     "name": "stdout",
     "output_type": "stream",
     "text": [
      "[team_stats 저장 완료] C:/Users/user080524/Desktop/project/PREMO/data/datas/1\\2021-2022\\Manchester Utd\\20220103\\20220103_team_stats.csv\n",
      "[players stats summary 저장 완료] C:/Users/user080524/Desktop/project/PREMO/data/datas/1\\2021-2022\\Manchester Utd\\20220122\\20220122_home_palyers_summary.csv\n",
      "[players stats summary 저장 완료] C:/Users/user080524/Desktop/project/PREMO/data/datas/1\\2021-2022\\Manchester Utd\\20220122\\20220122_home_gk.csv\n",
      "[players stats summary 저장 완료] C:/Users/user080524/Desktop/project/PREMO/data/datas/1\\2021-2022\\Manchester Utd\\20220122\\20220122_away_players_summary.csv\n",
      "[players stats summary 저장 완료] C:/Users/user080524/Desktop/project/PREMO/data/datas/1\\2021-2022\\Manchester Utd\\20220122\\20220122_away_gk.csv\n"
     ]
    },
    {
     "name": "stderr",
     "output_type": "stream",
     "text": [
      "\n",
      "\u001b[A"
     ]
    },
    {
     "name": "stdout",
     "output_type": "stream",
     "text": [
      "[team_stats 저장 완료] C:/Users/user080524/Desktop/project/PREMO/data/datas/1\\2021-2022\\Manchester Utd\\20220122\\20220122_team_stats.csv\n",
      "[players stats summary 저장 완료] C:/Users/user080524/Desktop/project/PREMO/data/datas/1\\2021-2022\\Manchester Utd\\20220212\\20220212_home_palyers_summary.csv\n",
      "[players stats summary 저장 완료] C:/Users/user080524/Desktop/project/PREMO/data/datas/1\\2021-2022\\Manchester Utd\\20220212\\20220212_home_gk.csv\n",
      "[players stats summary 저장 완료] C:/Users/user080524/Desktop/project/PREMO/data/datas/1\\2021-2022\\Manchester Utd\\20220212\\20220212_away_players_summary.csv\n",
      "[players stats summary 저장 완료] C:/Users/user080524/Desktop/project/PREMO/data/datas/1\\2021-2022\\Manchester Utd\\20220212\\20220212_away_gk.csv\n"
     ]
    },
    {
     "name": "stderr",
     "output_type": "stream",
     "text": [
      "\n",
      "\u001b[A"
     ]
    },
    {
     "name": "stdout",
     "output_type": "stream",
     "text": [
      "[team_stats 저장 완료] C:/Users/user080524/Desktop/project/PREMO/data/datas/1\\2021-2022\\Manchester Utd\\20220212\\20220212_team_stats.csv\n",
      "[players stats summary 저장 완료] C:/Users/user080524/Desktop/project/PREMO/data/datas/1\\2021-2022\\Manchester Utd\\20220215\\20220215_home_palyers_summary.csv\n",
      "[players stats summary 저장 완료] C:/Users/user080524/Desktop/project/PREMO/data/datas/1\\2021-2022\\Manchester Utd\\20220215\\20220215_home_gk.csv\n",
      "[players stats summary 저장 완료] C:/Users/user080524/Desktop/project/PREMO/data/datas/1\\2021-2022\\Manchester Utd\\20220215\\20220215_away_players_summary.csv\n",
      "[players stats summary 저장 완료] C:/Users/user080524/Desktop/project/PREMO/data/datas/1\\2021-2022\\Manchester Utd\\20220215\\20220215_away_gk.csv\n"
     ]
    },
    {
     "name": "stderr",
     "output_type": "stream",
     "text": [
      "\n",
      "\u001b[A"
     ]
    },
    {
     "name": "stdout",
     "output_type": "stream",
     "text": [
      "[team_stats 저장 완료] C:/Users/user080524/Desktop/project/PREMO/data/datas/1\\2021-2022\\Manchester Utd\\20220215\\20220215_team_stats.csv\n",
      "[players stats summary 저장 완료] C:/Users/user080524/Desktop/project/PREMO/data/datas/1\\2021-2022\\Manchester Utd\\20220226\\20220226_home_palyers_summary.csv\n",
      "[players stats summary 저장 완료] C:/Users/user080524/Desktop/project/PREMO/data/datas/1\\2021-2022\\Manchester Utd\\20220226\\20220226_home_gk.csv\n",
      "[players stats summary 저장 완료] C:/Users/user080524/Desktop/project/PREMO/data/datas/1\\2021-2022\\Manchester Utd\\20220226\\20220226_away_players_summary.csv\n",
      "[players stats summary 저장 완료] C:/Users/user080524/Desktop/project/PREMO/data/datas/1\\2021-2022\\Manchester Utd\\20220226\\20220226_away_gk.csv\n"
     ]
    },
    {
     "name": "stderr",
     "output_type": "stream",
     "text": [
      "\n",
      "\u001b[A"
     ]
    },
    {
     "name": "stdout",
     "output_type": "stream",
     "text": [
      "[team_stats 저장 완료] C:/Users/user080524/Desktop/project/PREMO/data/datas/1\\2021-2022\\Manchester Utd\\20220226\\20220226_team_stats.csv\n",
      "[players stats summary 저장 완료] C:/Users/user080524/Desktop/project/PREMO/data/datas/1\\2021-2022\\Manchester Utd\\20220312\\20220312_home_palyers_summary.csv\n",
      "[players stats summary 저장 완료] C:/Users/user080524/Desktop/project/PREMO/data/datas/1\\2021-2022\\Manchester Utd\\20220312\\20220312_home_gk.csv\n",
      "[players stats summary 저장 완료] C:/Users/user080524/Desktop/project/PREMO/data/datas/1\\2021-2022\\Manchester Utd\\20220312\\20220312_away_players_summary.csv\n",
      "[players stats summary 저장 완료] C:/Users/user080524/Desktop/project/PREMO/data/datas/1\\2021-2022\\Manchester Utd\\20220312\\20220312_away_gk.csv\n"
     ]
    },
    {
     "name": "stderr",
     "output_type": "stream",
     "text": [
      "\n",
      "\u001b[A"
     ]
    },
    {
     "name": "stdout",
     "output_type": "stream",
     "text": [
      "[team_stats 저장 완료] C:/Users/user080524/Desktop/project/PREMO/data/datas/1\\2021-2022\\Manchester Utd\\20220312\\20220312_team_stats.csv\n",
      "[players stats summary 저장 완료] C:/Users/user080524/Desktop/project/PREMO/data/datas/1\\2021-2022\\Manchester Utd\\20220402\\20220402_home_palyers_summary.csv\n",
      "[players stats summary 저장 완료] C:/Users/user080524/Desktop/project/PREMO/data/datas/1\\2021-2022\\Manchester Utd\\20220402\\20220402_home_gk.csv\n",
      "[players stats summary 저장 완료] C:/Users/user080524/Desktop/project/PREMO/data/datas/1\\2021-2022\\Manchester Utd\\20220402\\20220402_away_players_summary.csv\n",
      "[players stats summary 저장 완료] C:/Users/user080524/Desktop/project/PREMO/data/datas/1\\2021-2022\\Manchester Utd\\20220402\\20220402_away_gk.csv\n"
     ]
    },
    {
     "name": "stderr",
     "output_type": "stream",
     "text": [
      "\n",
      "\u001b[A"
     ]
    },
    {
     "name": "stdout",
     "output_type": "stream",
     "text": [
      "[team_stats 저장 완료] C:/Users/user080524/Desktop/project/PREMO/data/datas/1\\2021-2022\\Manchester Utd\\20220402\\20220402_team_stats.csv\n",
      "[players stats summary 저장 완료] C:/Users/user080524/Desktop/project/PREMO/data/datas/1\\2021-2022\\Manchester Utd\\20220416\\20220416_home_palyers_summary.csv\n",
      "[players stats summary 저장 완료] C:/Users/user080524/Desktop/project/PREMO/data/datas/1\\2021-2022\\Manchester Utd\\20220416\\20220416_home_gk.csv\n",
      "[players stats summary 저장 완료] C:/Users/user080524/Desktop/project/PREMO/data/datas/1\\2021-2022\\Manchester Utd\\20220416\\20220416_away_players_summary.csv\n",
      "[players stats summary 저장 완료] C:/Users/user080524/Desktop/project/PREMO/data/datas/1\\2021-2022\\Manchester Utd\\20220416\\20220416_away_gk.csv\n"
     ]
    },
    {
     "name": "stderr",
     "output_type": "stream",
     "text": [
      "\n",
      "\u001b[A"
     ]
    },
    {
     "name": "stdout",
     "output_type": "stream",
     "text": [
      "[team_stats 저장 완료] C:/Users/user080524/Desktop/project/PREMO/data/datas/1\\2021-2022\\Manchester Utd\\20220416\\20220416_team_stats.csv\n",
      "[players stats summary 저장 완료] C:/Users/user080524/Desktop/project/PREMO/data/datas/1\\2021-2022\\Manchester Utd\\20220428\\20220428_home_palyers_summary.csv\n",
      "[players stats summary 저장 완료] C:/Users/user080524/Desktop/project/PREMO/data/datas/1\\2021-2022\\Manchester Utd\\20220428\\20220428_home_gk.csv\n",
      "[players stats summary 저장 완료] C:/Users/user080524/Desktop/project/PREMO/data/datas/1\\2021-2022\\Manchester Utd\\20220428\\20220428_away_players_summary.csv\n",
      "[players stats summary 저장 완료] C:/Users/user080524/Desktop/project/PREMO/data/datas/1\\2021-2022\\Manchester Utd\\20220428\\20220428_away_gk.csv\n"
     ]
    },
    {
     "name": "stderr",
     "output_type": "stream",
     "text": [
      "\n",
      "\u001b[A"
     ]
    },
    {
     "name": "stdout",
     "output_type": "stream",
     "text": [
      "[team_stats 저장 완료] C:/Users/user080524/Desktop/project/PREMO/data/datas/1\\2021-2022\\Manchester Utd\\20220428\\20220428_team_stats.csv\n",
      "[players stats summary 저장 완료] C:/Users/user080524/Desktop/project/PREMO/data/datas/1\\2021-2022\\Manchester Utd\\20220502\\20220502_home_palyers_summary.csv\n",
      "[players stats summary 저장 완료] C:/Users/user080524/Desktop/project/PREMO/data/datas/1\\2021-2022\\Manchester Utd\\20220502\\20220502_home_gk.csv\n",
      "[players stats summary 저장 완료] C:/Users/user080524/Desktop/project/PREMO/data/datas/1\\2021-2022\\Manchester Utd\\20220502\\20220502_away_players_summary.csv\n",
      "[players stats summary 저장 완료] C:/Users/user080524/Desktop/project/PREMO/data/datas/1\\2021-2022\\Manchester Utd\\20220502\\20220502_away_gk.csv\n"
     ]
    },
    {
     "name": "stderr",
     "output_type": "stream",
     "text": [
      "\n",
      "\u001b[A\n",
      "\u001b[A"
     ]
    },
    {
     "name": "stdout",
     "output_type": "stream",
     "text": [
      "[team_stats 저장 완료] C:/Users/user080524/Desktop/project/PREMO/data/datas/1\\2021-2022\\Manchester Utd\\20220502\\20220502_team_stats.csv\n",
      "[시즌 페이지 로딩] URL: https://fbref.com/en/comps/9/2021-2022/2021-2022-Premier-League-Stats\n",
      "팀: West Ham, 링크:https://fbref.com/en/squads/7c21e445/2021-2022/West-Ham-United-Stats\n",
      "20210823\n",
      "https://fbref.com/en/matches/1d07228e/West-Ham-United-Leicester-City-August-23-2021-Premier-League\n",
      "20210828\n",
      "https://fbref.com/en/matches/8e017435/West-Ham-United-Crystal-Palace-August-28-2021-Premier-League\n",
      "20210919\n",
      "https://fbref.com/en/matches/2daea068/West-Ham-United-Manchester-United-September-19-2021-Premier-League\n",
      "20211003\n",
      "https://fbref.com/en/matches/f1eead63/West-Ham-United-Brentford-October-3-2021-Premier-League\n",
      "match row 처리 중 오류: Message: no such element: Unable to locate element: {\"method\":\"css selector\",\"selector\":\"td[data-stat=\"comp\"]\"}\n",
      "  (Session info: chrome=136.0.7103.114); For documentation on this error, please visit: https://www.selenium.dev/documentation/webdriver/troubleshooting/errors#no-such-element-exception\n",
      "Stacktrace:\n",
      "\tGetHandleVerifier [0x00007FF7535BCF45+75717]\n",
      "\tGetHandleVerifier [0x00007FF7535BCFA0+75808]\n",
      "\t(No symbol) [0x00007FF753388F9A]\n",
      "\t(No symbol) [0x00007FF7533DF4C6]\n",
      "\t(No symbol) [0x00007FF7533DF77C]\n",
      "\t(No symbol) [0x00007FF7533D1D7C]\n",
      "\t(No symbol) [0x00007FF7534073BF]\n",
      "\t(No symbol) [0x00007FF7533D1C46]\n",
      "\t(No symbol) [0x00007FF753407590]\n",
      "\t(No symbol) [0x00007FF75342F39C]\n",
      "\t(No symbol) [0x00007FF753407153]\n",
      "\t(No symbol) [0x00007FF7533D0421]\n",
      "\t(No symbol) [0x00007FF7533D11B3]\n",
      "\tGetHandleVerifier [0x00007FF7538BD71D+3223453]\n",
      "\tGetHandleVerifier [0x00007FF7538B7CC2+3200322]\n",
      "\tGetHandleVerifier [0x00007FF7538D5AF3+3322739]\n",
      "\tGetHandleVerifier [0x00007FF7535D6A1A+180890]\n",
      "\tGetHandleVerifier [0x00007FF7535DE11F+211359]\n",
      "\tGetHandleVerifier [0x00007FF7535C5294+109332]\n",
      "\tGetHandleVerifier [0x00007FF7535C5442+109762]\n",
      "\tGetHandleVerifier [0x00007FF7535ABA59+4825]\n",
      "\tBaseThreadInitThunk [0x00007FFE15767374+20]\n",
      "\tRtlUserThreadStart [0x00007FFE16F5CC91+33]\n",
      "\n",
      "20211024\n",
      "https://fbref.com/en/matches/70c508ee/West-Ham-United-Tottenham-Hotspur-October-24-2021-Premier-League\n",
      "20211107\n",
      "https://fbref.com/en/matches/63538dc7/West-Ham-United-Liverpool-November-7-2021-Premier-League\n",
      "match row 처리 중 오류: Message: no such element: Unable to locate element: {\"method\":\"css selector\",\"selector\":\"td[data-stat=\"comp\"]\"}\n",
      "  (Session info: chrome=136.0.7103.114); For documentation on this error, please visit: https://www.selenium.dev/documentation/webdriver/troubleshooting/errors#no-such-element-exception\n",
      "Stacktrace:\n",
      "\tGetHandleVerifier [0x00007FF7535BCF45+75717]\n",
      "\tGetHandleVerifier [0x00007FF7535BCFA0+75808]\n",
      "\t(No symbol) [0x00007FF753388F9A]\n",
      "\t(No symbol) [0x00007FF7533DF4C6]\n",
      "\t(No symbol) [0x00007FF7533DF77C]\n",
      "\t(No symbol) [0x00007FF7533D1D7C]\n",
      "\t(No symbol) [0x00007FF7534073BF]\n",
      "\t(No symbol) [0x00007FF7533D1C46]\n",
      "\t(No symbol) [0x00007FF753407590]\n",
      "\t(No symbol) [0x00007FF75342F39C]\n",
      "\t(No symbol) [0x00007FF753407153]\n",
      "\t(No symbol) [0x00007FF7533D0421]\n",
      "\t(No symbol) [0x00007FF7533D11B3]\n",
      "\tGetHandleVerifier [0x00007FF7538BD71D+3223453]\n",
      "\tGetHandleVerifier [0x00007FF7538B7CC2+3200322]\n",
      "\tGetHandleVerifier [0x00007FF7538D5AF3+3322739]\n",
      "\tGetHandleVerifier [0x00007FF7535D6A1A+180890]\n",
      "\tGetHandleVerifier [0x00007FF7535DE11F+211359]\n",
      "\tGetHandleVerifier [0x00007FF7535C5294+109332]\n",
      "\tGetHandleVerifier [0x00007FF7535C5442+109762]\n",
      "\tGetHandleVerifier [0x00007FF7535ABA59+4825]\n",
      "\tBaseThreadInitThunk [0x00007FFE15767374+20]\n",
      "\tRtlUserThreadStart [0x00007FFE16F5CC91+33]\n",
      "\n",
      "20211201\n",
      "https://fbref.com/en/matches/2049300f/West-Ham-United-Brighton-and-Hove-Albion-December-1-2021-Premier-League\n",
      "20211204\n",
      "https://fbref.com/en/matches/776aa8ab/West-Ham-United-Chelsea-December-4-2021-Premier-League\n",
      "20211226\n",
      "https://fbref.com/en/matches/36a056cf/West-Ham-United-Southampton-December-26-2021-Premier-League\n",
      "match row 처리 중 오류: Message: no such element: Unable to locate element: {\"method\":\"css selector\",\"selector\":\"td[data-stat=\"comp\"]\"}\n",
      "  (Session info: chrome=136.0.7103.114); For documentation on this error, please visit: https://www.selenium.dev/documentation/webdriver/troubleshooting/errors#no-such-element-exception\n",
      "Stacktrace:\n",
      "\tGetHandleVerifier [0x00007FF7535BCF45+75717]\n",
      "\tGetHandleVerifier [0x00007FF7535BCFA0+75808]\n",
      "\t(No symbol) [0x00007FF753388F9A]\n",
      "\t(No symbol) [0x00007FF7533DF4C6]\n",
      "\t(No symbol) [0x00007FF7533DF77C]\n",
      "\t(No symbol) [0x00007FF7533D1D7C]\n",
      "\t(No symbol) [0x00007FF7534073BF]\n",
      "\t(No symbol) [0x00007FF7533D1C46]\n",
      "\t(No symbol) [0x00007FF753407590]\n",
      "\t(No symbol) [0x00007FF75342F39C]\n",
      "\t(No symbol) [0x00007FF753407153]\n",
      "\t(No symbol) [0x00007FF7533D0421]\n",
      "\t(No symbol) [0x00007FF7533D11B3]\n",
      "\tGetHandleVerifier [0x00007FF7538BD71D+3223453]\n",
      "\tGetHandleVerifier [0x00007FF7538B7CC2+3200322]\n",
      "\tGetHandleVerifier [0x00007FF7538D5AF3+3322739]\n",
      "\tGetHandleVerifier [0x00007FF7535D6A1A+180890]\n",
      "\tGetHandleVerifier [0x00007FF7535DE11F+211359]\n",
      "\tGetHandleVerifier [0x00007FF7535C5294+109332]\n",
      "\tGetHandleVerifier [0x00007FF7535C5442+109762]\n",
      "\tGetHandleVerifier [0x00007FF7535ABA59+4825]\n",
      "\tBaseThreadInitThunk [0x00007FFE15767374+20]\n",
      "\tRtlUserThreadStart [0x00007FFE16F5CC91+33]\n",
      "\n",
      "20220112\n",
      "https://fbref.com/en/matches/7d53d1ea/West-Ham-United-Norwich-City-January-12-2022-Premier-League\n",
      "20220116\n",
      "https://fbref.com/en/matches/62c16969/West-Ham-United-Leeds-United-January-16-2022-Premier-League\n",
      "20220208\n",
      "https://fbref.com/en/matches/3778ac3f/West-Ham-United-Watford-February-8-2022-Premier-League\n",
      "20220219\n",
      "https://fbref.com/en/matches/4e263347/West-Ham-United-Newcastle-United-February-19-2022-Premier-League\n",
      "20220227\n",
      "https://fbref.com/en/matches/b1dcaf8d/West-Ham-United-Wolverhampton-Wanderers-February-27-2022-Premier-League\n",
      "match row 처리 중 오류: Message: no such element: Unable to locate element: {\"method\":\"css selector\",\"selector\":\"td[data-stat=\"comp\"]\"}\n",
      "  (Session info: chrome=136.0.7103.114); For documentation on this error, please visit: https://www.selenium.dev/documentation/webdriver/troubleshooting/errors#no-such-element-exception\n",
      "Stacktrace:\n",
      "\tGetHandleVerifier [0x00007FF7535BCF45+75717]\n",
      "\tGetHandleVerifier [0x00007FF7535BCFA0+75808]\n",
      "\t(No symbol) [0x00007FF753388F9A]\n",
      "\t(No symbol) [0x00007FF7533DF4C6]\n",
      "\t(No symbol) [0x00007FF7533DF77C]\n",
      "\t(No symbol) [0x00007FF7533D1D7C]\n",
      "\t(No symbol) [0x00007FF7534073BF]\n",
      "\t(No symbol) [0x00007FF7533D1C46]\n",
      "\t(No symbol) [0x00007FF753407590]\n",
      "\t(No symbol) [0x00007FF75342F39C]\n",
      "\t(No symbol) [0x00007FF753407153]\n",
      "\t(No symbol) [0x00007FF7533D0421]\n",
      "\t(No symbol) [0x00007FF7533D11B3]\n",
      "\tGetHandleVerifier [0x00007FF7538BD71D+3223453]\n",
      "\tGetHandleVerifier [0x00007FF7538B7CC2+3200322]\n",
      "\tGetHandleVerifier [0x00007FF7538D5AF3+3322739]\n",
      "\tGetHandleVerifier [0x00007FF7535D6A1A+180890]\n",
      "\tGetHandleVerifier [0x00007FF7535DE11F+211359]\n",
      "\tGetHandleVerifier [0x00007FF7535C5294+109332]\n",
      "\tGetHandleVerifier [0x00007FF7535C5442+109762]\n",
      "\tGetHandleVerifier [0x00007FF7535ABA59+4825]\n",
      "\tBaseThreadInitThunk [0x00007FFE15767374+20]\n",
      "\tRtlUserThreadStart [0x00007FFE16F5CC91+33]\n",
      "\n",
      "20220313\n",
      "https://fbref.com/en/matches/81f2f022/West-Ham-United-Aston-Villa-March-13-2022-Premier-League\n",
      "20220403\n",
      "https://fbref.com/en/matches/b22e54c4/West-Ham-United-Everton-April-3-2022-Premier-League\n",
      "20220417\n",
      "https://fbref.com/en/matches/f3a245c8/West-Ham-United-Burnley-April-17-2022-Premier-League\n",
      "match row 처리 중 오류: Message: no such element: Unable to locate element: {\"method\":\"css selector\",\"selector\":\"td[data-stat=\"comp\"]\"}\n",
      "  (Session info: chrome=136.0.7103.114); For documentation on this error, please visit: https://www.selenium.dev/documentation/webdriver/troubleshooting/errors#no-such-element-exception\n",
      "Stacktrace:\n",
      "\tGetHandleVerifier [0x00007FF7535BCF45+75717]\n",
      "\tGetHandleVerifier [0x00007FF7535BCFA0+75808]\n",
      "\t(No symbol) [0x00007FF753388F9A]\n",
      "\t(No symbol) [0x00007FF7533DF4C6]\n",
      "\t(No symbol) [0x00007FF7533DF77C]\n",
      "\t(No symbol) [0x00007FF7533D1D7C]\n",
      "\t(No symbol) [0x00007FF7534073BF]\n",
      "\t(No symbol) [0x00007FF7533D1C46]\n",
      "\t(No symbol) [0x00007FF753407590]\n",
      "\t(No symbol) [0x00007FF75342F39C]\n",
      "\t(No symbol) [0x00007FF753407153]\n",
      "\t(No symbol) [0x00007FF7533D0421]\n",
      "\t(No symbol) [0x00007FF7533D11B3]\n",
      "\tGetHandleVerifier [0x00007FF7538BD71D+3223453]\n",
      "\tGetHandleVerifier [0x00007FF7538B7CC2+3200322]\n",
      "\tGetHandleVerifier [0x00007FF7538D5AF3+3322739]\n",
      "\tGetHandleVerifier [0x00007FF7535D6A1A+180890]\n",
      "\tGetHandleVerifier [0x00007FF7535DE11F+211359]\n",
      "\tGetHandleVerifier [0x00007FF7535C5294+109332]\n",
      "\tGetHandleVerifier [0x00007FF7535C5442+109762]\n",
      "\tGetHandleVerifier [0x00007FF7535ABA59+4825]\n",
      "\tBaseThreadInitThunk [0x00007FFE15767374+20]\n",
      "\tRtlUserThreadStart [0x00007FFE16F5CC91+33]\n",
      "\n",
      "20220501\n",
      "https://fbref.com/en/matches/5290c2da/West-Ham-United-Arsenal-May-1-2022-Premier-League\n",
      "20220515\n",
      "https://fbref.com/en/matches/f94c5f85/West-Ham-United-Manchester-City-May-15-2022-Premier-League\n",
      "19\n",
      "19\n"
     ]
    },
    {
     "name": "stderr",
     "output_type": "stream",
     "text": [
      "\n",
      "\u001b[A"
     ]
    },
    {
     "name": "stdout",
     "output_type": "stream",
     "text": [
      "[players stats summary 저장 완료] C:/Users/user080524/Desktop/project/PREMO/data/datas/1\\2021-2022\\West Ham\\20210823\\20210823_home_palyers_summary.csv\n",
      "[players stats summary 저장 완료] C:/Users/user080524/Desktop/project/PREMO/data/datas/1\\2021-2022\\West Ham\\20210823\\20210823_home_gk.csv\n",
      "[players stats summary 저장 완료] C:/Users/user080524/Desktop/project/PREMO/data/datas/1\\2021-2022\\West Ham\\20210823\\20210823_away_players_summary.csv\n",
      "[players stats summary 저장 완료] C:/Users/user080524/Desktop/project/PREMO/data/datas/1\\2021-2022\\West Ham\\20210823\\20210823_away_gk.csv\n"
     ]
    },
    {
     "name": "stderr",
     "output_type": "stream",
     "text": [
      "\n",
      "\u001b[A"
     ]
    },
    {
     "name": "stdout",
     "output_type": "stream",
     "text": [
      "[team_stats 저장 완료] C:/Users/user080524/Desktop/project/PREMO/data/datas/1\\2021-2022\\West Ham\\20210823\\20210823_team_stats.csv\n",
      "[players stats summary 저장 완료] C:/Users/user080524/Desktop/project/PREMO/data/datas/1\\2021-2022\\West Ham\\20210828\\20210828_home_palyers_summary.csv\n",
      "[players stats summary 저장 완료] C:/Users/user080524/Desktop/project/PREMO/data/datas/1\\2021-2022\\West Ham\\20210828\\20210828_home_gk.csv\n",
      "[players stats summary 저장 완료] C:/Users/user080524/Desktop/project/PREMO/data/datas/1\\2021-2022\\West Ham\\20210828\\20210828_away_players_summary.csv\n",
      "[players stats summary 저장 완료] C:/Users/user080524/Desktop/project/PREMO/data/datas/1\\2021-2022\\West Ham\\20210828\\20210828_away_gk.csv\n"
     ]
    },
    {
     "name": "stderr",
     "output_type": "stream",
     "text": [
      "\n",
      "\u001b[A"
     ]
    },
    {
     "name": "stdout",
     "output_type": "stream",
     "text": [
      "[team_stats 저장 완료] C:/Users/user080524/Desktop/project/PREMO/data/datas/1\\2021-2022\\West Ham\\20210828\\20210828_team_stats.csv\n",
      "[players stats summary 저장 완료] C:/Users/user080524/Desktop/project/PREMO/data/datas/1\\2021-2022\\West Ham\\20210919\\20210919_home_palyers_summary.csv\n",
      "[players stats summary 저장 완료] C:/Users/user080524/Desktop/project/PREMO/data/datas/1\\2021-2022\\West Ham\\20210919\\20210919_home_gk.csv\n",
      "[players stats summary 저장 완료] C:/Users/user080524/Desktop/project/PREMO/data/datas/1\\2021-2022\\West Ham\\20210919\\20210919_away_players_summary.csv\n",
      "[players stats summary 저장 완료] C:/Users/user080524/Desktop/project/PREMO/data/datas/1\\2021-2022\\West Ham\\20210919\\20210919_away_gk.csv\n"
     ]
    },
    {
     "name": "stderr",
     "output_type": "stream",
     "text": [
      "\n",
      "\u001b[A"
     ]
    },
    {
     "name": "stdout",
     "output_type": "stream",
     "text": [
      "[team_stats 저장 완료] C:/Users/user080524/Desktop/project/PREMO/data/datas/1\\2021-2022\\West Ham\\20210919\\20210919_team_stats.csv\n",
      "[players stats summary 저장 완료] C:/Users/user080524/Desktop/project/PREMO/data/datas/1\\2021-2022\\West Ham\\20211003\\20211003_home_palyers_summary.csv\n",
      "[players stats summary 저장 완료] C:/Users/user080524/Desktop/project/PREMO/data/datas/1\\2021-2022\\West Ham\\20211003\\20211003_home_gk.csv\n",
      "[players stats summary 저장 완료] C:/Users/user080524/Desktop/project/PREMO/data/datas/1\\2021-2022\\West Ham\\20211003\\20211003_away_players_summary.csv\n",
      "[players stats summary 저장 완료] C:/Users/user080524/Desktop/project/PREMO/data/datas/1\\2021-2022\\West Ham\\20211003\\20211003_away_gk.csv\n"
     ]
    },
    {
     "name": "stderr",
     "output_type": "stream",
     "text": [
      "\n",
      "\u001b[A"
     ]
    },
    {
     "name": "stdout",
     "output_type": "stream",
     "text": [
      "[team_stats 저장 완료] C:/Users/user080524/Desktop/project/PREMO/data/datas/1\\2021-2022\\West Ham\\20211003\\20211003_team_stats.csv\n",
      "[players stats summary 저장 완료] C:/Users/user080524/Desktop/project/PREMO/data/datas/1\\2021-2022\\West Ham\\20211024\\20211024_home_palyers_summary.csv\n",
      "[players stats summary 저장 완료] C:/Users/user080524/Desktop/project/PREMO/data/datas/1\\2021-2022\\West Ham\\20211024\\20211024_home_gk.csv\n",
      "[players stats summary 저장 완료] C:/Users/user080524/Desktop/project/PREMO/data/datas/1\\2021-2022\\West Ham\\20211024\\20211024_away_players_summary.csv\n",
      "[players stats summary 저장 완료] C:/Users/user080524/Desktop/project/PREMO/data/datas/1\\2021-2022\\West Ham\\20211024\\20211024_away_gk.csv\n"
     ]
    },
    {
     "name": "stderr",
     "output_type": "stream",
     "text": [
      "\n",
      "\u001b[A"
     ]
    },
    {
     "name": "stdout",
     "output_type": "stream",
     "text": [
      "[team_stats 저장 완료] C:/Users/user080524/Desktop/project/PREMO/data/datas/1\\2021-2022\\West Ham\\20211024\\20211024_team_stats.csv\n",
      "[players stats summary 저장 완료] C:/Users/user080524/Desktop/project/PREMO/data/datas/1\\2021-2022\\West Ham\\20211107\\20211107_home_palyers_summary.csv\n",
      "[players stats summary 저장 완료] C:/Users/user080524/Desktop/project/PREMO/data/datas/1\\2021-2022\\West Ham\\20211107\\20211107_home_gk.csv\n",
      "[players stats summary 저장 완료] C:/Users/user080524/Desktop/project/PREMO/data/datas/1\\2021-2022\\West Ham\\20211107\\20211107_away_players_summary.csv\n",
      "[players stats summary 저장 완료] C:/Users/user080524/Desktop/project/PREMO/data/datas/1\\2021-2022\\West Ham\\20211107\\20211107_away_gk.csv\n"
     ]
    },
    {
     "name": "stderr",
     "output_type": "stream",
     "text": [
      "\n",
      "\u001b[A"
     ]
    },
    {
     "name": "stdout",
     "output_type": "stream",
     "text": [
      "[team_stats 저장 완료] C:/Users/user080524/Desktop/project/PREMO/data/datas/1\\2021-2022\\West Ham\\20211107\\20211107_team_stats.csv\n",
      "[players stats summary 저장 완료] C:/Users/user080524/Desktop/project/PREMO/data/datas/1\\2021-2022\\West Ham\\20211201\\20211201_home_palyers_summary.csv\n",
      "[players stats summary 저장 완료] C:/Users/user080524/Desktop/project/PREMO/data/datas/1\\2021-2022\\West Ham\\20211201\\20211201_home_gk.csv\n",
      "[players stats summary 저장 완료] C:/Users/user080524/Desktop/project/PREMO/data/datas/1\\2021-2022\\West Ham\\20211201\\20211201_away_players_summary.csv\n",
      "[players stats summary 저장 완료] C:/Users/user080524/Desktop/project/PREMO/data/datas/1\\2021-2022\\West Ham\\20211201\\20211201_away_gk.csv\n"
     ]
    },
    {
     "name": "stderr",
     "output_type": "stream",
     "text": [
      "\n",
      "\u001b[A"
     ]
    },
    {
     "name": "stdout",
     "output_type": "stream",
     "text": [
      "[team_stats 저장 완료] C:/Users/user080524/Desktop/project/PREMO/data/datas/1\\2021-2022\\West Ham\\20211201\\20211201_team_stats.csv\n",
      "[players stats summary 저장 완료] C:/Users/user080524/Desktop/project/PREMO/data/datas/1\\2021-2022\\West Ham\\20211204\\20211204_home_palyers_summary.csv\n",
      "[players stats summary 저장 완료] C:/Users/user080524/Desktop/project/PREMO/data/datas/1\\2021-2022\\West Ham\\20211204\\20211204_home_gk.csv\n",
      "[players stats summary 저장 완료] C:/Users/user080524/Desktop/project/PREMO/data/datas/1\\2021-2022\\West Ham\\20211204\\20211204_away_players_summary.csv\n",
      "[players stats summary 저장 완료] C:/Users/user080524/Desktop/project/PREMO/data/datas/1\\2021-2022\\West Ham\\20211204\\20211204_away_gk.csv\n"
     ]
    },
    {
     "name": "stderr",
     "output_type": "stream",
     "text": [
      "\n",
      "\u001b[A"
     ]
    },
    {
     "name": "stdout",
     "output_type": "stream",
     "text": [
      "[team_stats 저장 완료] C:/Users/user080524/Desktop/project/PREMO/data/datas/1\\2021-2022\\West Ham\\20211204\\20211204_team_stats.csv\n",
      "[players stats summary 저장 완료] C:/Users/user080524/Desktop/project/PREMO/data/datas/1\\2021-2022\\West Ham\\20211226\\20211226_home_palyers_summary.csv\n",
      "[players stats summary 저장 완료] C:/Users/user080524/Desktop/project/PREMO/data/datas/1\\2021-2022\\West Ham\\20211226\\20211226_home_gk.csv\n",
      "[players stats summary 저장 완료] C:/Users/user080524/Desktop/project/PREMO/data/datas/1\\2021-2022\\West Ham\\20211226\\20211226_away_players_summary.csv\n",
      "[players stats summary 저장 완료] C:/Users/user080524/Desktop/project/PREMO/data/datas/1\\2021-2022\\West Ham\\20211226\\20211226_away_gk.csv\n"
     ]
    },
    {
     "name": "stderr",
     "output_type": "stream",
     "text": [
      "\n",
      "\u001b[A"
     ]
    },
    {
     "name": "stdout",
     "output_type": "stream",
     "text": [
      "[team_stats 저장 완료] C:/Users/user080524/Desktop/project/PREMO/data/datas/1\\2021-2022\\West Ham\\20211226\\20211226_team_stats.csv\n",
      "[players stats summary 저장 완료] C:/Users/user080524/Desktop/project/PREMO/data/datas/1\\2021-2022\\West Ham\\20220112\\20220112_home_palyers_summary.csv\n",
      "[players stats summary 저장 완료] C:/Users/user080524/Desktop/project/PREMO/data/datas/1\\2021-2022\\West Ham\\20220112\\20220112_home_gk.csv\n",
      "[players stats summary 저장 완료] C:/Users/user080524/Desktop/project/PREMO/data/datas/1\\2021-2022\\West Ham\\20220112\\20220112_away_players_summary.csv\n",
      "[players stats summary 저장 완료] C:/Users/user080524/Desktop/project/PREMO/data/datas/1\\2021-2022\\West Ham\\20220112\\20220112_away_gk.csv\n"
     ]
    },
    {
     "name": "stderr",
     "output_type": "stream",
     "text": [
      "\n",
      "\u001b[A"
     ]
    },
    {
     "name": "stdout",
     "output_type": "stream",
     "text": [
      "[team_stats 저장 완료] C:/Users/user080524/Desktop/project/PREMO/data/datas/1\\2021-2022\\West Ham\\20220112\\20220112_team_stats.csv\n",
      "[players stats summary 저장 완료] C:/Users/user080524/Desktop/project/PREMO/data/datas/1\\2021-2022\\West Ham\\20220116\\20220116_home_palyers_summary.csv\n",
      "[players stats summary 저장 완료] C:/Users/user080524/Desktop/project/PREMO/data/datas/1\\2021-2022\\West Ham\\20220116\\20220116_home_gk.csv\n",
      "[players stats summary 저장 완료] C:/Users/user080524/Desktop/project/PREMO/data/datas/1\\2021-2022\\West Ham\\20220116\\20220116_away_players_summary.csv\n",
      "[players stats summary 저장 완료] C:/Users/user080524/Desktop/project/PREMO/data/datas/1\\2021-2022\\West Ham\\20220116\\20220116_away_gk.csv\n"
     ]
    },
    {
     "name": "stderr",
     "output_type": "stream",
     "text": [
      "\n",
      "\u001b[A"
     ]
    },
    {
     "name": "stdout",
     "output_type": "stream",
     "text": [
      "[team_stats 저장 완료] C:/Users/user080524/Desktop/project/PREMO/data/datas/1\\2021-2022\\West Ham\\20220116\\20220116_team_stats.csv\n",
      "[players stats summary 저장 완료] C:/Users/user080524/Desktop/project/PREMO/data/datas/1\\2021-2022\\West Ham\\20220208\\20220208_home_palyers_summary.csv\n",
      "[players stats summary 저장 완료] C:/Users/user080524/Desktop/project/PREMO/data/datas/1\\2021-2022\\West Ham\\20220208\\20220208_home_gk.csv\n",
      "[players stats summary 저장 완료] C:/Users/user080524/Desktop/project/PREMO/data/datas/1\\2021-2022\\West Ham\\20220208\\20220208_away_players_summary.csv\n",
      "[players stats summary 저장 완료] C:/Users/user080524/Desktop/project/PREMO/data/datas/1\\2021-2022\\West Ham\\20220208\\20220208_away_gk.csv\n"
     ]
    },
    {
     "name": "stderr",
     "output_type": "stream",
     "text": [
      "\n",
      "\u001b[A"
     ]
    },
    {
     "name": "stdout",
     "output_type": "stream",
     "text": [
      "[team_stats 저장 완료] C:/Users/user080524/Desktop/project/PREMO/data/datas/1\\2021-2022\\West Ham\\20220208\\20220208_team_stats.csv\n",
      "[players stats summary 저장 완료] C:/Users/user080524/Desktop/project/PREMO/data/datas/1\\2021-2022\\West Ham\\20220219\\20220219_home_palyers_summary.csv\n",
      "[players stats summary 저장 완료] C:/Users/user080524/Desktop/project/PREMO/data/datas/1\\2021-2022\\West Ham\\20220219\\20220219_home_gk.csv\n",
      "[players stats summary 저장 완료] C:/Users/user080524/Desktop/project/PREMO/data/datas/1\\2021-2022\\West Ham\\20220219\\20220219_away_players_summary.csv\n",
      "[players stats summary 저장 완료] C:/Users/user080524/Desktop/project/PREMO/data/datas/1\\2021-2022\\West Ham\\20220219\\20220219_away_gk.csv\n"
     ]
    },
    {
     "name": "stderr",
     "output_type": "stream",
     "text": [
      "\n",
      "\u001b[A"
     ]
    },
    {
     "name": "stdout",
     "output_type": "stream",
     "text": [
      "[team_stats 저장 완료] C:/Users/user080524/Desktop/project/PREMO/data/datas/1\\2021-2022\\West Ham\\20220219\\20220219_team_stats.csv\n",
      "[players stats summary 저장 완료] C:/Users/user080524/Desktop/project/PREMO/data/datas/1\\2021-2022\\West Ham\\20220227\\20220227_home_palyers_summary.csv\n",
      "[players stats summary 저장 완료] C:/Users/user080524/Desktop/project/PREMO/data/datas/1\\2021-2022\\West Ham\\20220227\\20220227_home_gk.csv\n",
      "[players stats summary 저장 완료] C:/Users/user080524/Desktop/project/PREMO/data/datas/1\\2021-2022\\West Ham\\20220227\\20220227_away_players_summary.csv\n",
      "[players stats summary 저장 완료] C:/Users/user080524/Desktop/project/PREMO/data/datas/1\\2021-2022\\West Ham\\20220227\\20220227_away_gk.csv\n"
     ]
    },
    {
     "name": "stderr",
     "output_type": "stream",
     "text": [
      "\n",
      "\u001b[A"
     ]
    },
    {
     "name": "stdout",
     "output_type": "stream",
     "text": [
      "[team_stats 저장 완료] C:/Users/user080524/Desktop/project/PREMO/data/datas/1\\2021-2022\\West Ham\\20220227\\20220227_team_stats.csv\n",
      "[players stats summary 저장 완료] C:/Users/user080524/Desktop/project/PREMO/data/datas/1\\2021-2022\\West Ham\\20220313\\20220313_home_palyers_summary.csv\n",
      "[players stats summary 저장 완료] C:/Users/user080524/Desktop/project/PREMO/data/datas/1\\2021-2022\\West Ham\\20220313\\20220313_home_gk.csv\n",
      "[players stats summary 저장 완료] C:/Users/user080524/Desktop/project/PREMO/data/datas/1\\2021-2022\\West Ham\\20220313\\20220313_away_players_summary.csv\n",
      "[players stats summary 저장 완료] C:/Users/user080524/Desktop/project/PREMO/data/datas/1\\2021-2022\\West Ham\\20220313\\20220313_away_gk.csv\n"
     ]
    },
    {
     "name": "stderr",
     "output_type": "stream",
     "text": [
      "\n",
      "\u001b[A"
     ]
    },
    {
     "name": "stdout",
     "output_type": "stream",
     "text": [
      "[team_stats 저장 완료] C:/Users/user080524/Desktop/project/PREMO/data/datas/1\\2021-2022\\West Ham\\20220313\\20220313_team_stats.csv\n",
      "[players stats summary 저장 완료] C:/Users/user080524/Desktop/project/PREMO/data/datas/1\\2021-2022\\West Ham\\20220403\\20220403_home_palyers_summary.csv\n",
      "[players stats summary 저장 완료] C:/Users/user080524/Desktop/project/PREMO/data/datas/1\\2021-2022\\West Ham\\20220403\\20220403_home_gk.csv\n",
      "[players stats summary 저장 완료] C:/Users/user080524/Desktop/project/PREMO/data/datas/1\\2021-2022\\West Ham\\20220403\\20220403_away_players_summary.csv\n",
      "[players stats summary 저장 완료] C:/Users/user080524/Desktop/project/PREMO/data/datas/1\\2021-2022\\West Ham\\20220403\\20220403_away_gk.csv\n"
     ]
    },
    {
     "name": "stderr",
     "output_type": "stream",
     "text": [
      "\n",
      "\u001b[A"
     ]
    },
    {
     "name": "stdout",
     "output_type": "stream",
     "text": [
      "[team_stats 저장 완료] C:/Users/user080524/Desktop/project/PREMO/data/datas/1\\2021-2022\\West Ham\\20220403\\20220403_team_stats.csv\n",
      "[players stats summary 저장 완료] C:/Users/user080524/Desktop/project/PREMO/data/datas/1\\2021-2022\\West Ham\\20220417\\20220417_home_palyers_summary.csv\n",
      "[players stats summary 저장 완료] C:/Users/user080524/Desktop/project/PREMO/data/datas/1\\2021-2022\\West Ham\\20220417\\20220417_home_gk.csv\n",
      "[players stats summary 저장 완료] C:/Users/user080524/Desktop/project/PREMO/data/datas/1\\2021-2022\\West Ham\\20220417\\20220417_away_players_summary.csv\n",
      "[players stats summary 저장 완료] C:/Users/user080524/Desktop/project/PREMO/data/datas/1\\2021-2022\\West Ham\\20220417\\20220417_away_gk.csv\n"
     ]
    },
    {
     "name": "stderr",
     "output_type": "stream",
     "text": [
      "\n",
      "\u001b[A"
     ]
    },
    {
     "name": "stdout",
     "output_type": "stream",
     "text": [
      "[team_stats 저장 완료] C:/Users/user080524/Desktop/project/PREMO/data/datas/1\\2021-2022\\West Ham\\20220417\\20220417_team_stats.csv\n",
      "[players stats summary 저장 완료] C:/Users/user080524/Desktop/project/PREMO/data/datas/1\\2021-2022\\West Ham\\20220501\\20220501_home_palyers_summary.csv\n",
      "[players stats summary 저장 완료] C:/Users/user080524/Desktop/project/PREMO/data/datas/1\\2021-2022\\West Ham\\20220501\\20220501_home_gk.csv\n",
      "[players stats summary 저장 완료] C:/Users/user080524/Desktop/project/PREMO/data/datas/1\\2021-2022\\West Ham\\20220501\\20220501_away_players_summary.csv\n",
      "[players stats summary 저장 완료] C:/Users/user080524/Desktop/project/PREMO/data/datas/1\\2021-2022\\West Ham\\20220501\\20220501_away_gk.csv\n"
     ]
    },
    {
     "name": "stderr",
     "output_type": "stream",
     "text": [
      "\n",
      "\u001b[A"
     ]
    },
    {
     "name": "stdout",
     "output_type": "stream",
     "text": [
      "[team_stats 저장 완료] C:/Users/user080524/Desktop/project/PREMO/data/datas/1\\2021-2022\\West Ham\\20220501\\20220501_team_stats.csv\n",
      "[players stats summary 저장 완료] C:/Users/user080524/Desktop/project/PREMO/data/datas/1\\2021-2022\\West Ham\\20220515\\20220515_home_palyers_summary.csv\n",
      "[players stats summary 저장 완료] C:/Users/user080524/Desktop/project/PREMO/data/datas/1\\2021-2022\\West Ham\\20220515\\20220515_home_gk.csv\n",
      "[players stats summary 저장 완료] C:/Users/user080524/Desktop/project/PREMO/data/datas/1\\2021-2022\\West Ham\\20220515\\20220515_away_players_summary.csv\n",
      "[players stats summary 저장 완료] C:/Users/user080524/Desktop/project/PREMO/data/datas/1\\2021-2022\\West Ham\\20220515\\20220515_away_gk.csv\n"
     ]
    },
    {
     "name": "stderr",
     "output_type": "stream",
     "text": [
      "\n",
      "\u001b[A\n",
      "\u001b[A"
     ]
    },
    {
     "name": "stdout",
     "output_type": "stream",
     "text": [
      "[team_stats 저장 완료] C:/Users/user080524/Desktop/project/PREMO/data/datas/1\\2021-2022\\West Ham\\20220515\\20220515_team_stats.csv\n",
      "[시즌 페이지 로딩] URL: https://fbref.com/en/comps/9/2021-2022/2021-2022-Premier-League-Stats\n",
      "팀: Leicester City, 링크:https://fbref.com/en/squads/a2d435b3/2021-2022/Leicester-City-Stats\n",
      "20210814\n",
      "https://fbref.com/en/matches/0b346a62/Leicester-City-Wolverhampton-Wanderers-August-14-2021-Premier-League\n",
      "20210911\n",
      "https://fbref.com/en/matches/8dd69c8d/Leicester-City-Manchester-City-September-11-2021-Premier-League\n",
      "20210925\n",
      "https://fbref.com/en/matches/2d61f328/Leicester-City-Burnley-September-25-2021-Premier-League\n",
      "match row 처리 중 오류: Message: no such element: Unable to locate element: {\"method\":\"css selector\",\"selector\":\"td[data-stat=\"comp\"]\"}\n",
      "  (Session info: chrome=136.0.7103.114); For documentation on this error, please visit: https://www.selenium.dev/documentation/webdriver/troubleshooting/errors#no-such-element-exception\n",
      "Stacktrace:\n",
      "\tGetHandleVerifier [0x00007FF7535BCF45+75717]\n",
      "\tGetHandleVerifier [0x00007FF7535BCFA0+75808]\n",
      "\t(No symbol) [0x00007FF753388F9A]\n",
      "\t(No symbol) [0x00007FF7533DF4C6]\n",
      "\t(No symbol) [0x00007FF7533DF77C]\n",
      "\t(No symbol) [0x00007FF7533D1D7C]\n",
      "\t(No symbol) [0x00007FF7534073BF]\n",
      "\t(No symbol) [0x00007FF7533D1C46]\n",
      "\t(No symbol) [0x00007FF753407590]\n",
      "\t(No symbol) [0x00007FF75342F39C]\n",
      "\t(No symbol) [0x00007FF753407153]\n",
      "\t(No symbol) [0x00007FF7533D0421]\n",
      "\t(No symbol) [0x00007FF7533D11B3]\n",
      "\tGetHandleVerifier [0x00007FF7538BD71D+3223453]\n",
      "\tGetHandleVerifier [0x00007FF7538B7CC2+3200322]\n",
      "\tGetHandleVerifier [0x00007FF7538D5AF3+3322739]\n",
      "\tGetHandleVerifier [0x00007FF7535D6A1A+180890]\n",
      "\tGetHandleVerifier [0x00007FF7535DE11F+211359]\n",
      "\tGetHandleVerifier [0x00007FF7535C5294+109332]\n",
      "\tGetHandleVerifier [0x00007FF7535C5442+109762]\n",
      "\tGetHandleVerifier [0x00007FF7535ABA59+4825]\n",
      "\tBaseThreadInitThunk [0x00007FFE15767374+20]\n",
      "\tRtlUserThreadStart [0x00007FFE16F5CC91+33]\n",
      "\n",
      "20211016\n",
      "https://fbref.com/en/matches/45502ded/Leicester-City-Manchester-United-October-16-2021-Premier-League\n",
      "20211030\n",
      "https://fbref.com/en/matches/719b57c6/Leicester-City-Arsenal-October-30-2021-Premier-League\n",
      "20211120\n",
      "https://fbref.com/en/matches/2fd486d6/Leicester-City-Chelsea-November-20-2021-Premier-League\n",
      "match row 처리 중 오류: Message: no such element: Unable to locate element: {\"method\":\"css selector\",\"selector\":\"td[data-stat=\"comp\"]\"}\n",
      "  (Session info: chrome=136.0.7103.114); For documentation on this error, please visit: https://www.selenium.dev/documentation/webdriver/troubleshooting/errors#no-such-element-exception\n",
      "Stacktrace:\n",
      "\tGetHandleVerifier [0x00007FF7535BCF45+75717]\n",
      "\tGetHandleVerifier [0x00007FF7535BCFA0+75808]\n",
      "\t(No symbol) [0x00007FF753388F9A]\n",
      "\t(No symbol) [0x00007FF7533DF4C6]\n",
      "\t(No symbol) [0x00007FF7533DF77C]\n",
      "\t(No symbol) [0x00007FF7533D1D7C]\n",
      "\t(No symbol) [0x00007FF7534073BF]\n",
      "\t(No symbol) [0x00007FF7533D1C46]\n",
      "\t(No symbol) [0x00007FF753407590]\n",
      "\t(No symbol) [0x00007FF75342F39C]\n",
      "\t(No symbol) [0x00007FF753407153]\n",
      "\t(No symbol) [0x00007FF7533D0421]\n",
      "\t(No symbol) [0x00007FF7533D11B3]\n",
      "\tGetHandleVerifier [0x00007FF7538BD71D+3223453]\n",
      "\tGetHandleVerifier [0x00007FF7538B7CC2+3200322]\n",
      "\tGetHandleVerifier [0x00007FF7538D5AF3+3322739]\n",
      "\tGetHandleVerifier [0x00007FF7535D6A1A+180890]\n",
      "\tGetHandleVerifier [0x00007FF7535DE11F+211359]\n",
      "\tGetHandleVerifier [0x00007FF7535C5294+109332]\n",
      "\tGetHandleVerifier [0x00007FF7535C5442+109762]\n",
      "\tGetHandleVerifier [0x00007FF7535ABA59+4825]\n",
      "\tBaseThreadInitThunk [0x00007FFE15767374+20]\n",
      "\tRtlUserThreadStart [0x00007FFE16F5CC91+33]\n",
      "\n",
      "20211128\n",
      "https://fbref.com/en/matches/c2e426c8/Leicester-City-Watford-November-28-2021-Premier-League\n",
      "20211212\n",
      "https://fbref.com/en/matches/8805978d/Leicester-City-Newcastle-United-December-12-2021-Premier-League\n",
      "20211228\n",
      "https://fbref.com/en/matches/8ad7b26f/Leicester-City-Liverpool-December-28-2021-Premier-League\n",
      "20220119\n",
      "https://fbref.com/en/matches/77d28549/Leicester-City-Tottenham-Hotspur-January-19-2022-Premier-League\n",
      "match row 처리 중 오류: Message: no such element: Unable to locate element: {\"method\":\"css selector\",\"selector\":\"td[data-stat=\"comp\"]\"}\n",
      "  (Session info: chrome=136.0.7103.114); For documentation on this error, please visit: https://www.selenium.dev/documentation/webdriver/troubleshooting/errors#no-such-element-exception\n",
      "Stacktrace:\n",
      "\tGetHandleVerifier [0x00007FF7535BCF45+75717]\n",
      "\tGetHandleVerifier [0x00007FF7535BCFA0+75808]\n",
      "\t(No symbol) [0x00007FF753388F9A]\n",
      "\t(No symbol) [0x00007FF7533DF4C6]\n",
      "\t(No symbol) [0x00007FF7533DF77C]\n",
      "\t(No symbol) [0x00007FF7533D1D7C]\n",
      "\t(No symbol) [0x00007FF7534073BF]\n",
      "\t(No symbol) [0x00007FF7533D1C46]\n",
      "\t(No symbol) [0x00007FF753407590]\n",
      "\t(No symbol) [0x00007FF75342F39C]\n",
      "\t(No symbol) [0x00007FF753407153]\n",
      "\t(No symbol) [0x00007FF7533D0421]\n",
      "\t(No symbol) [0x00007FF7533D11B3]\n",
      "\tGetHandleVerifier [0x00007FF7538BD71D+3223453]\n",
      "\tGetHandleVerifier [0x00007FF7538B7CC2+3200322]\n",
      "\tGetHandleVerifier [0x00007FF7538D5AF3+3322739]\n",
      "\tGetHandleVerifier [0x00007FF7535D6A1A+180890]\n",
      "\tGetHandleVerifier [0x00007FF7535DE11F+211359]\n",
      "\tGetHandleVerifier [0x00007FF7535C5294+109332]\n",
      "\tGetHandleVerifier [0x00007FF7535C5442+109762]\n",
      "\tGetHandleVerifier [0x00007FF7535ABA59+4825]\n",
      "\tBaseThreadInitThunk [0x00007FFE15767374+20]\n",
      "\tRtlUserThreadStart [0x00007FFE16F5CC91+33]\n",
      "\n",
      "20220123\n",
      "https://fbref.com/en/matches/a28f6f69/Leicester-City-Brighton-and-Hove-Albion-January-23-2022-Premier-League\n",
      "20220213\n",
      "https://fbref.com/en/matches/c2c20295/Leicester-City-West-Ham-United-February-13-2022-Premier-League\n",
      "20220305\n",
      "https://fbref.com/en/matches/1d777dcd/Leicester-City-Leeds-United-March-5-2022-Premier-League\n",
      "match row 처리 중 오류: Message: no such element: Unable to locate element: {\"method\":\"css selector\",\"selector\":\"td[data-stat=\"comp\"]\"}\n",
      "  (Session info: chrome=136.0.7103.114); For documentation on this error, please visit: https://www.selenium.dev/documentation/webdriver/troubleshooting/errors#no-such-element-exception\n",
      "Stacktrace:\n",
      "\tGetHandleVerifier [0x00007FF7535BCF45+75717]\n",
      "\tGetHandleVerifier [0x00007FF7535BCFA0+75808]\n",
      "\t(No symbol) [0x00007FF753388F9A]\n",
      "\t(No symbol) [0x00007FF7533DF4C6]\n",
      "\t(No symbol) [0x00007FF7533DF77C]\n",
      "\t(No symbol) [0x00007FF7533D1D7C]\n",
      "\t(No symbol) [0x00007FF7534073BF]\n",
      "\t(No symbol) [0x00007FF7533D1C46]\n",
      "\t(No symbol) [0x00007FF753407590]\n",
      "\t(No symbol) [0x00007FF75342F39C]\n",
      "\t(No symbol) [0x00007FF753407153]\n",
      "\t(No symbol) [0x00007FF7533D0421]\n",
      "\t(No symbol) [0x00007FF7533D11B3]\n",
      "\tGetHandleVerifier [0x00007FF7538BD71D+3223453]\n",
      "\tGetHandleVerifier [0x00007FF7538B7CC2+3200322]\n",
      "\tGetHandleVerifier [0x00007FF7538D5AF3+3322739]\n",
      "\tGetHandleVerifier [0x00007FF7535D6A1A+180890]\n",
      "\tGetHandleVerifier [0x00007FF7535DE11F+211359]\n",
      "\tGetHandleVerifier [0x00007FF7535C5294+109332]\n",
      "\tGetHandleVerifier [0x00007FF7535C5442+109762]\n",
      "\tGetHandleVerifier [0x00007FF7535ABA59+4825]\n",
      "\tBaseThreadInitThunk [0x00007FFE15767374+20]\n",
      "\tRtlUserThreadStart [0x00007FFE16F5CC91+33]\n",
      "\n",
      "20220320\n",
      "https://fbref.com/en/matches/c8c7dd9b/Leicester-City-Brentford-March-20-2022-Premier-League\n",
      "20220410\n",
      "https://fbref.com/en/matches/816c435d/Leicester-City-Crystal-Palace-April-10-2022-Premier-League\n",
      "20220423\n",
      "https://fbref.com/en/matches/17e5cacf/Leicester-City-Aston-Villa-April-23-2022-Premier-League\n",
      "match row 처리 중 오류: Message: no such element: Unable to locate element: {\"method\":\"css selector\",\"selector\":\"td[data-stat=\"comp\"]\"}\n",
      "  (Session info: chrome=136.0.7103.114); For documentation on this error, please visit: https://www.selenium.dev/documentation/webdriver/troubleshooting/errors#no-such-element-exception\n",
      "Stacktrace:\n",
      "\tGetHandleVerifier [0x00007FF7535BCF45+75717]\n",
      "\tGetHandleVerifier [0x00007FF7535BCFA0+75808]\n",
      "\t(No symbol) [0x00007FF753388F9A]\n",
      "\t(No symbol) [0x00007FF7533DF4C6]\n",
      "\t(No symbol) [0x00007FF7533DF77C]\n",
      "\t(No symbol) [0x00007FF7533D1D7C]\n",
      "\t(No symbol) [0x00007FF7534073BF]\n",
      "\t(No symbol) [0x00007FF7533D1C46]\n",
      "\t(No symbol) [0x00007FF753407590]\n",
      "\t(No symbol) [0x00007FF75342F39C]\n",
      "\t(No symbol) [0x00007FF753407153]\n",
      "\t(No symbol) [0x00007FF7533D0421]\n",
      "\t(No symbol) [0x00007FF7533D11B3]\n",
      "\tGetHandleVerifier [0x00007FF7538BD71D+3223453]\n",
      "\tGetHandleVerifier [0x00007FF7538B7CC2+3200322]\n",
      "\tGetHandleVerifier [0x00007FF7538D5AF3+3322739]\n",
      "\tGetHandleVerifier [0x00007FF7535D6A1A+180890]\n",
      "\tGetHandleVerifier [0x00007FF7535DE11F+211359]\n",
      "\tGetHandleVerifier [0x00007FF7535C5294+109332]\n",
      "\tGetHandleVerifier [0x00007FF7535C5442+109762]\n",
      "\tGetHandleVerifier [0x00007FF7535ABA59+4825]\n",
      "\tBaseThreadInitThunk [0x00007FFE15767374+20]\n",
      "\tRtlUserThreadStart [0x00007FFE16F5CC91+33]\n",
      "\n",
      "20220508\n",
      "https://fbref.com/en/matches/4a972389/Leicester-City-Everton-May-8-2022-Premier-League\n",
      "20220511\n",
      "https://fbref.com/en/matches/2ae05ae6/Leicester-City-Norwich-City-May-11-2022-Premier-League\n",
      "20220522\n",
      "https://fbref.com/en/matches/16e2761e/Leicester-City-Southampton-May-22-2022-Premier-League\n",
      "19\n",
      "19\n"
     ]
    },
    {
     "name": "stderr",
     "output_type": "stream",
     "text": [
      "\n",
      "\u001b[A"
     ]
    },
    {
     "name": "stdout",
     "output_type": "stream",
     "text": [
      "[players stats summary 저장 완료] C:/Users/user080524/Desktop/project/PREMO/data/datas/1\\2021-2022\\Leicester City\\20210814\\20210814_home_palyers_summary.csv\n",
      "[players stats summary 저장 완료] C:/Users/user080524/Desktop/project/PREMO/data/datas/1\\2021-2022\\Leicester City\\20210814\\20210814_home_gk.csv\n",
      "[players stats summary 저장 완료] C:/Users/user080524/Desktop/project/PREMO/data/datas/1\\2021-2022\\Leicester City\\20210814\\20210814_away_players_summary.csv\n",
      "[players stats summary 저장 완료] C:/Users/user080524/Desktop/project/PREMO/data/datas/1\\2021-2022\\Leicester City\\20210814\\20210814_away_gk.csv\n"
     ]
    },
    {
     "name": "stderr",
     "output_type": "stream",
     "text": [
      "\n",
      "\u001b[A"
     ]
    },
    {
     "name": "stdout",
     "output_type": "stream",
     "text": [
      "[team_stats 저장 완료] C:/Users/user080524/Desktop/project/PREMO/data/datas/1\\2021-2022\\Leicester City\\20210814\\20210814_team_stats.csv\n",
      "[players stats summary 저장 완료] C:/Users/user080524/Desktop/project/PREMO/data/datas/1\\2021-2022\\Leicester City\\20210911\\20210911_home_palyers_summary.csv\n",
      "[players stats summary 저장 완료] C:/Users/user080524/Desktop/project/PREMO/data/datas/1\\2021-2022\\Leicester City\\20210911\\20210911_home_gk.csv\n",
      "[players stats summary 저장 완료] C:/Users/user080524/Desktop/project/PREMO/data/datas/1\\2021-2022\\Leicester City\\20210911\\20210911_away_players_summary.csv\n",
      "[players stats summary 저장 완료] C:/Users/user080524/Desktop/project/PREMO/data/datas/1\\2021-2022\\Leicester City\\20210911\\20210911_away_gk.csv\n"
     ]
    },
    {
     "name": "stderr",
     "output_type": "stream",
     "text": [
      "\n",
      "\u001b[A"
     ]
    },
    {
     "name": "stdout",
     "output_type": "stream",
     "text": [
      "[team_stats 저장 완료] C:/Users/user080524/Desktop/project/PREMO/data/datas/1\\2021-2022\\Leicester City\\20210911\\20210911_team_stats.csv\n",
      "[players stats summary 저장 완료] C:/Users/user080524/Desktop/project/PREMO/data/datas/1\\2021-2022\\Leicester City\\20210925\\20210925_home_palyers_summary.csv\n",
      "[players stats summary 저장 완료] C:/Users/user080524/Desktop/project/PREMO/data/datas/1\\2021-2022\\Leicester City\\20210925\\20210925_home_gk.csv\n",
      "[players stats summary 저장 완료] C:/Users/user080524/Desktop/project/PREMO/data/datas/1\\2021-2022\\Leicester City\\20210925\\20210925_away_players_summary.csv\n",
      "[players stats summary 저장 완료] C:/Users/user080524/Desktop/project/PREMO/data/datas/1\\2021-2022\\Leicester City\\20210925\\20210925_away_gk.csv\n"
     ]
    },
    {
     "name": "stderr",
     "output_type": "stream",
     "text": [
      "\n",
      "\u001b[A"
     ]
    },
    {
     "name": "stdout",
     "output_type": "stream",
     "text": [
      "[team_stats 저장 완료] C:/Users/user080524/Desktop/project/PREMO/data/datas/1\\2021-2022\\Leicester City\\20210925\\20210925_team_stats.csv\n",
      "[players stats summary 저장 완료] C:/Users/user080524/Desktop/project/PREMO/data/datas/1\\2021-2022\\Leicester City\\20211016\\20211016_home_palyers_summary.csv\n",
      "[players stats summary 저장 완료] C:/Users/user080524/Desktop/project/PREMO/data/datas/1\\2021-2022\\Leicester City\\20211016\\20211016_home_gk.csv\n",
      "[players stats summary 저장 완료] C:/Users/user080524/Desktop/project/PREMO/data/datas/1\\2021-2022\\Leicester City\\20211016\\20211016_away_players_summary.csv\n",
      "[players stats summary 저장 완료] C:/Users/user080524/Desktop/project/PREMO/data/datas/1\\2021-2022\\Leicester City\\20211016\\20211016_away_gk.csv\n"
     ]
    },
    {
     "name": "stderr",
     "output_type": "stream",
     "text": [
      "\n",
      "\u001b[A"
     ]
    },
    {
     "name": "stdout",
     "output_type": "stream",
     "text": [
      "[team_stats 저장 완료] C:/Users/user080524/Desktop/project/PREMO/data/datas/1\\2021-2022\\Leicester City\\20211016\\20211016_team_stats.csv\n",
      "[players stats summary 저장 완료] C:/Users/user080524/Desktop/project/PREMO/data/datas/1\\2021-2022\\Leicester City\\20211030\\20211030_home_palyers_summary.csv\n",
      "[players stats summary 저장 완료] C:/Users/user080524/Desktop/project/PREMO/data/datas/1\\2021-2022\\Leicester City\\20211030\\20211030_home_gk.csv\n",
      "[players stats summary 저장 완료] C:/Users/user080524/Desktop/project/PREMO/data/datas/1\\2021-2022\\Leicester City\\20211030\\20211030_away_players_summary.csv\n",
      "[players stats summary 저장 완료] C:/Users/user080524/Desktop/project/PREMO/data/datas/1\\2021-2022\\Leicester City\\20211030\\20211030_away_gk.csv\n"
     ]
    },
    {
     "name": "stderr",
     "output_type": "stream",
     "text": [
      "\n",
      "\u001b[A"
     ]
    },
    {
     "name": "stdout",
     "output_type": "stream",
     "text": [
      "[team_stats 저장 완료] C:/Users/user080524/Desktop/project/PREMO/data/datas/1\\2021-2022\\Leicester City\\20211030\\20211030_team_stats.csv\n",
      "[players stats summary 저장 완료] C:/Users/user080524/Desktop/project/PREMO/data/datas/1\\2021-2022\\Leicester City\\20211120\\20211120_home_palyers_summary.csv\n",
      "[players stats summary 저장 완료] C:/Users/user080524/Desktop/project/PREMO/data/datas/1\\2021-2022\\Leicester City\\20211120\\20211120_home_gk.csv\n",
      "[players stats summary 저장 완료] C:/Users/user080524/Desktop/project/PREMO/data/datas/1\\2021-2022\\Leicester City\\20211120\\20211120_away_players_summary.csv\n",
      "[players stats summary 저장 완료] C:/Users/user080524/Desktop/project/PREMO/data/datas/1\\2021-2022\\Leicester City\\20211120\\20211120_away_gk.csv\n"
     ]
    },
    {
     "name": "stderr",
     "output_type": "stream",
     "text": [
      "\n",
      "\u001b[A"
     ]
    },
    {
     "name": "stdout",
     "output_type": "stream",
     "text": [
      "[team_stats 저장 완료] C:/Users/user080524/Desktop/project/PREMO/data/datas/1\\2021-2022\\Leicester City\\20211120\\20211120_team_stats.csv\n",
      "[players stats summary 저장 완료] C:/Users/user080524/Desktop/project/PREMO/data/datas/1\\2021-2022\\Leicester City\\20211128\\20211128_home_palyers_summary.csv\n",
      "[players stats summary 저장 완료] C:/Users/user080524/Desktop/project/PREMO/data/datas/1\\2021-2022\\Leicester City\\20211128\\20211128_home_gk.csv\n",
      "[players stats summary 저장 완료] C:/Users/user080524/Desktop/project/PREMO/data/datas/1\\2021-2022\\Leicester City\\20211128\\20211128_away_players_summary.csv\n",
      "[players stats summary 저장 완료] C:/Users/user080524/Desktop/project/PREMO/data/datas/1\\2021-2022\\Leicester City\\20211128\\20211128_away_gk.csv\n"
     ]
    },
    {
     "name": "stderr",
     "output_type": "stream",
     "text": [
      "\n",
      "\u001b[A"
     ]
    },
    {
     "name": "stdout",
     "output_type": "stream",
     "text": [
      "[team_stats 저장 완료] C:/Users/user080524/Desktop/project/PREMO/data/datas/1\\2021-2022\\Leicester City\\20211128\\20211128_team_stats.csv\n",
      "[players stats summary 저장 완료] C:/Users/user080524/Desktop/project/PREMO/data/datas/1\\2021-2022\\Leicester City\\20211212\\20211212_home_palyers_summary.csv\n",
      "[players stats summary 저장 완료] C:/Users/user080524/Desktop/project/PREMO/data/datas/1\\2021-2022\\Leicester City\\20211212\\20211212_home_gk.csv\n",
      "[players stats summary 저장 완료] C:/Users/user080524/Desktop/project/PREMO/data/datas/1\\2021-2022\\Leicester City\\20211212\\20211212_away_players_summary.csv\n",
      "[players stats summary 저장 완료] C:/Users/user080524/Desktop/project/PREMO/data/datas/1\\2021-2022\\Leicester City\\20211212\\20211212_away_gk.csv\n"
     ]
    },
    {
     "name": "stderr",
     "output_type": "stream",
     "text": [
      "\n",
      "\u001b[A"
     ]
    },
    {
     "name": "stdout",
     "output_type": "stream",
     "text": [
      "[team_stats 저장 완료] C:/Users/user080524/Desktop/project/PREMO/data/datas/1\\2021-2022\\Leicester City\\20211212\\20211212_team_stats.csv\n",
      "[players stats summary 저장 완료] C:/Users/user080524/Desktop/project/PREMO/data/datas/1\\2021-2022\\Leicester City\\20211228\\20211228_home_palyers_summary.csv\n",
      "[players stats summary 저장 완료] C:/Users/user080524/Desktop/project/PREMO/data/datas/1\\2021-2022\\Leicester City\\20211228\\20211228_home_gk.csv\n",
      "[players stats summary 저장 완료] C:/Users/user080524/Desktop/project/PREMO/data/datas/1\\2021-2022\\Leicester City\\20211228\\20211228_away_players_summary.csv\n",
      "[players stats summary 저장 완료] C:/Users/user080524/Desktop/project/PREMO/data/datas/1\\2021-2022\\Leicester City\\20211228\\20211228_away_gk.csv\n"
     ]
    },
    {
     "name": "stderr",
     "output_type": "stream",
     "text": [
      "\n",
      "\u001b[A"
     ]
    },
    {
     "name": "stdout",
     "output_type": "stream",
     "text": [
      "[team_stats 저장 완료] C:/Users/user080524/Desktop/project/PREMO/data/datas/1\\2021-2022\\Leicester City\\20211228\\20211228_team_stats.csv\n",
      "[players stats summary 저장 완료] C:/Users/user080524/Desktop/project/PREMO/data/datas/1\\2021-2022\\Leicester City\\20220119\\20220119_home_palyers_summary.csv\n",
      "[players stats summary 저장 완료] C:/Users/user080524/Desktop/project/PREMO/data/datas/1\\2021-2022\\Leicester City\\20220119\\20220119_home_gk.csv\n",
      "[players stats summary 저장 완료] C:/Users/user080524/Desktop/project/PREMO/data/datas/1\\2021-2022\\Leicester City\\20220119\\20220119_away_players_summary.csv\n",
      "[players stats summary 저장 완료] C:/Users/user080524/Desktop/project/PREMO/data/datas/1\\2021-2022\\Leicester City\\20220119\\20220119_away_gk.csv\n"
     ]
    },
    {
     "name": "stderr",
     "output_type": "stream",
     "text": [
      "\n",
      "\u001b[A"
     ]
    },
    {
     "name": "stdout",
     "output_type": "stream",
     "text": [
      "[team_stats 저장 완료] C:/Users/user080524/Desktop/project/PREMO/data/datas/1\\2021-2022\\Leicester City\\20220119\\20220119_team_stats.csv\n",
      "[players stats summary 저장 완료] C:/Users/user080524/Desktop/project/PREMO/data/datas/1\\2021-2022\\Leicester City\\20220123\\20220123_home_palyers_summary.csv\n",
      "[players stats summary 저장 완료] C:/Users/user080524/Desktop/project/PREMO/data/datas/1\\2021-2022\\Leicester City\\20220123\\20220123_home_gk.csv\n",
      "[players stats summary 저장 완료] C:/Users/user080524/Desktop/project/PREMO/data/datas/1\\2021-2022\\Leicester City\\20220123\\20220123_away_players_summary.csv\n",
      "[players stats summary 저장 완료] C:/Users/user080524/Desktop/project/PREMO/data/datas/1\\2021-2022\\Leicester City\\20220123\\20220123_away_gk.csv\n"
     ]
    },
    {
     "name": "stderr",
     "output_type": "stream",
     "text": [
      "\n",
      "\u001b[A"
     ]
    },
    {
     "name": "stdout",
     "output_type": "stream",
     "text": [
      "[team_stats 저장 완료] C:/Users/user080524/Desktop/project/PREMO/data/datas/1\\2021-2022\\Leicester City\\20220123\\20220123_team_stats.csv\n",
      "[players stats summary 저장 완료] C:/Users/user080524/Desktop/project/PREMO/data/datas/1\\2021-2022\\Leicester City\\20220213\\20220213_home_palyers_summary.csv\n",
      "[players stats summary 저장 완료] C:/Users/user080524/Desktop/project/PREMO/data/datas/1\\2021-2022\\Leicester City\\20220213\\20220213_home_gk.csv\n",
      "[players stats summary 저장 완료] C:/Users/user080524/Desktop/project/PREMO/data/datas/1\\2021-2022\\Leicester City\\20220213\\20220213_away_players_summary.csv\n",
      "[players stats summary 저장 완료] C:/Users/user080524/Desktop/project/PREMO/data/datas/1\\2021-2022\\Leicester City\\20220213\\20220213_away_gk.csv\n"
     ]
    },
    {
     "name": "stderr",
     "output_type": "stream",
     "text": [
      "\n",
      "\u001b[A"
     ]
    },
    {
     "name": "stdout",
     "output_type": "stream",
     "text": [
      "[team_stats 저장 완료] C:/Users/user080524/Desktop/project/PREMO/data/datas/1\\2021-2022\\Leicester City\\20220213\\20220213_team_stats.csv\n",
      "[players stats summary 저장 완료] C:/Users/user080524/Desktop/project/PREMO/data/datas/1\\2021-2022\\Leicester City\\20220305\\20220305_home_palyers_summary.csv\n",
      "[players stats summary 저장 완료] C:/Users/user080524/Desktop/project/PREMO/data/datas/1\\2021-2022\\Leicester City\\20220305\\20220305_home_gk.csv\n",
      "[players stats summary 저장 완료] C:/Users/user080524/Desktop/project/PREMO/data/datas/1\\2021-2022\\Leicester City\\20220305\\20220305_away_players_summary.csv\n",
      "[players stats summary 저장 완료] C:/Users/user080524/Desktop/project/PREMO/data/datas/1\\2021-2022\\Leicester City\\20220305\\20220305_away_gk.csv\n"
     ]
    },
    {
     "name": "stderr",
     "output_type": "stream",
     "text": [
      "\n",
      "\u001b[A"
     ]
    },
    {
     "name": "stdout",
     "output_type": "stream",
     "text": [
      "[team_stats 저장 완료] C:/Users/user080524/Desktop/project/PREMO/data/datas/1\\2021-2022\\Leicester City\\20220305\\20220305_team_stats.csv\n",
      "[players stats summary 저장 완료] C:/Users/user080524/Desktop/project/PREMO/data/datas/1\\2021-2022\\Leicester City\\20220320\\20220320_home_palyers_summary.csv\n",
      "[players stats summary 저장 완료] C:/Users/user080524/Desktop/project/PREMO/data/datas/1\\2021-2022\\Leicester City\\20220320\\20220320_home_gk.csv\n",
      "[players stats summary 저장 완료] C:/Users/user080524/Desktop/project/PREMO/data/datas/1\\2021-2022\\Leicester City\\20220320\\20220320_away_players_summary.csv\n",
      "[players stats summary 저장 완료] C:/Users/user080524/Desktop/project/PREMO/data/datas/1\\2021-2022\\Leicester City\\20220320\\20220320_away_gk.csv\n"
     ]
    },
    {
     "name": "stderr",
     "output_type": "stream",
     "text": [
      "\n",
      "\u001b[A"
     ]
    },
    {
     "name": "stdout",
     "output_type": "stream",
     "text": [
      "[team_stats 저장 완료] C:/Users/user080524/Desktop/project/PREMO/data/datas/1\\2021-2022\\Leicester City\\20220320\\20220320_team_stats.csv\n",
      "[players stats summary 저장 완료] C:/Users/user080524/Desktop/project/PREMO/data/datas/1\\2021-2022\\Leicester City\\20220410\\20220410_home_palyers_summary.csv\n",
      "[players stats summary 저장 완료] C:/Users/user080524/Desktop/project/PREMO/data/datas/1\\2021-2022\\Leicester City\\20220410\\20220410_home_gk.csv\n",
      "[players stats summary 저장 완료] C:/Users/user080524/Desktop/project/PREMO/data/datas/1\\2021-2022\\Leicester City\\20220410\\20220410_away_players_summary.csv\n",
      "[players stats summary 저장 완료] C:/Users/user080524/Desktop/project/PREMO/data/datas/1\\2021-2022\\Leicester City\\20220410\\20220410_away_gk.csv\n"
     ]
    },
    {
     "name": "stderr",
     "output_type": "stream",
     "text": [
      "\n",
      "\u001b[A"
     ]
    },
    {
     "name": "stdout",
     "output_type": "stream",
     "text": [
      "[team_stats 저장 완료] C:/Users/user080524/Desktop/project/PREMO/data/datas/1\\2021-2022\\Leicester City\\20220410\\20220410_team_stats.csv\n",
      "[players stats summary 저장 완료] C:/Users/user080524/Desktop/project/PREMO/data/datas/1\\2021-2022\\Leicester City\\20220423\\20220423_home_palyers_summary.csv\n",
      "[players stats summary 저장 완료] C:/Users/user080524/Desktop/project/PREMO/data/datas/1\\2021-2022\\Leicester City\\20220423\\20220423_home_gk.csv\n",
      "[players stats summary 저장 완료] C:/Users/user080524/Desktop/project/PREMO/data/datas/1\\2021-2022\\Leicester City\\20220423\\20220423_away_players_summary.csv\n",
      "[players stats summary 저장 완료] C:/Users/user080524/Desktop/project/PREMO/data/datas/1\\2021-2022\\Leicester City\\20220423\\20220423_away_gk.csv\n"
     ]
    },
    {
     "name": "stderr",
     "output_type": "stream",
     "text": [
      "\n",
      "\u001b[A"
     ]
    },
    {
     "name": "stdout",
     "output_type": "stream",
     "text": [
      "[team_stats 저장 완료] C:/Users/user080524/Desktop/project/PREMO/data/datas/1\\2021-2022\\Leicester City\\20220423\\20220423_team_stats.csv\n",
      "[players stats summary 저장 완료] C:/Users/user080524/Desktop/project/PREMO/data/datas/1\\2021-2022\\Leicester City\\20220508\\20220508_home_palyers_summary.csv\n",
      "[players stats summary 저장 완료] C:/Users/user080524/Desktop/project/PREMO/data/datas/1\\2021-2022\\Leicester City\\20220508\\20220508_home_gk.csv\n",
      "[players stats summary 저장 완료] C:/Users/user080524/Desktop/project/PREMO/data/datas/1\\2021-2022\\Leicester City\\20220508\\20220508_away_players_summary.csv\n",
      "[players stats summary 저장 완료] C:/Users/user080524/Desktop/project/PREMO/data/datas/1\\2021-2022\\Leicester City\\20220508\\20220508_away_gk.csv\n"
     ]
    },
    {
     "name": "stderr",
     "output_type": "stream",
     "text": [
      "\n",
      "\u001b[A"
     ]
    },
    {
     "name": "stdout",
     "output_type": "stream",
     "text": [
      "[team_stats 저장 완료] C:/Users/user080524/Desktop/project/PREMO/data/datas/1\\2021-2022\\Leicester City\\20220508\\20220508_team_stats.csv\n",
      "[players stats summary 저장 완료] C:/Users/user080524/Desktop/project/PREMO/data/datas/1\\2021-2022\\Leicester City\\20220511\\20220511_home_palyers_summary.csv\n",
      "[players stats summary 저장 완료] C:/Users/user080524/Desktop/project/PREMO/data/datas/1\\2021-2022\\Leicester City\\20220511\\20220511_home_gk.csv\n",
      "[players stats summary 저장 완료] C:/Users/user080524/Desktop/project/PREMO/data/datas/1\\2021-2022\\Leicester City\\20220511\\20220511_away_players_summary.csv\n",
      "[players stats summary 저장 완료] C:/Users/user080524/Desktop/project/PREMO/data/datas/1\\2021-2022\\Leicester City\\20220511\\20220511_away_gk.csv\n"
     ]
    },
    {
     "name": "stderr",
     "output_type": "stream",
     "text": [
      "\n",
      "\u001b[A"
     ]
    },
    {
     "name": "stdout",
     "output_type": "stream",
     "text": [
      "[team_stats 저장 완료] C:/Users/user080524/Desktop/project/PREMO/data/datas/1\\2021-2022\\Leicester City\\20220511\\20220511_team_stats.csv\n",
      "[players stats summary 저장 완료] C:/Users/user080524/Desktop/project/PREMO/data/datas/1\\2021-2022\\Leicester City\\20220522\\20220522_home_palyers_summary.csv\n",
      "[players stats summary 저장 완료] C:/Users/user080524/Desktop/project/PREMO/data/datas/1\\2021-2022\\Leicester City\\20220522\\20220522_home_gk.csv\n",
      "[players stats summary 저장 완료] C:/Users/user080524/Desktop/project/PREMO/data/datas/1\\2021-2022\\Leicester City\\20220522\\20220522_away_players_summary.csv\n",
      "[players stats summary 저장 완료] C:/Users/user080524/Desktop/project/PREMO/data/datas/1\\2021-2022\\Leicester City\\20220522\\20220522_away_gk.csv\n"
     ]
    },
    {
     "name": "stderr",
     "output_type": "stream",
     "text": [
      "\n",
      "\u001b[A\n",
      "\u001b[A"
     ]
    },
    {
     "name": "stdout",
     "output_type": "stream",
     "text": [
      "[team_stats 저장 완료] C:/Users/user080524/Desktop/project/PREMO/data/datas/1\\2021-2022\\Leicester City\\20220522\\20220522_team_stats.csv\n",
      "[시즌 페이지 로딩] URL: https://fbref.com/en/comps/9/2021-2022/2021-2022-Premier-League-Stats\n",
      "팀: Brighton, 링크:https://fbref.com/en/squads/d07537b9/2021-2022/Brighton-and-Hove-Albion-Stats\n",
      "20210821\n",
      "https://fbref.com/en/matches/072af2f8/Brighton-and-Hove-Albion-Watford-August-21-2021-Premier-League\n",
      "20210828\n",
      "https://fbref.com/en/matches/ec8b667a/Brighton-and-Hove-Albion-Everton-August-28-2021-Premier-League\n",
      "20210919\n",
      "https://fbref.com/en/matches/723f5105/Brighton-and-Hove-Albion-Leicester-City-September-19-2021-Premier-League\n",
      "20211002\n",
      "https://fbref.com/en/matches/cdaded7b/Brighton-and-Hove-Albion-Arsenal-October-2-2021-Premier-League\n",
      "match row 처리 중 오류: Message: no such element: Unable to locate element: {\"method\":\"css selector\",\"selector\":\"td[data-stat=\"comp\"]\"}\n",
      "  (Session info: chrome=136.0.7103.114); For documentation on this error, please visit: https://www.selenium.dev/documentation/webdriver/troubleshooting/errors#no-such-element-exception\n",
      "Stacktrace:\n",
      "\tGetHandleVerifier [0x00007FF7535BCF45+75717]\n",
      "\tGetHandleVerifier [0x00007FF7535BCFA0+75808]\n",
      "\t(No symbol) [0x00007FF753388F9A]\n",
      "\t(No symbol) [0x00007FF7533DF4C6]\n",
      "\t(No symbol) [0x00007FF7533DF77C]\n",
      "\t(No symbol) [0x00007FF7533D1D7C]\n",
      "\t(No symbol) [0x00007FF7534073BF]\n",
      "\t(No symbol) [0x00007FF7533D1C46]\n",
      "\t(No symbol) [0x00007FF753407590]\n",
      "\t(No symbol) [0x00007FF75342F39C]\n",
      "\t(No symbol) [0x00007FF753407153]\n",
      "\t(No symbol) [0x00007FF7533D0421]\n",
      "\t(No symbol) [0x00007FF7533D11B3]\n",
      "\tGetHandleVerifier [0x00007FF7538BD71D+3223453]\n",
      "\tGetHandleVerifier [0x00007FF7538B7CC2+3200322]\n",
      "\tGetHandleVerifier [0x00007FF7538D5AF3+3322739]\n",
      "\tGetHandleVerifier [0x00007FF7535D6A1A+180890]\n",
      "\tGetHandleVerifier [0x00007FF7535DE11F+211359]\n",
      "\tGetHandleVerifier [0x00007FF7535C5294+109332]\n",
      "\tGetHandleVerifier [0x00007FF7535C5442+109762]\n",
      "\tGetHandleVerifier [0x00007FF7535ABA59+4825]\n",
      "\tBaseThreadInitThunk [0x00007FFE15767374+20]\n",
      "\tRtlUserThreadStart [0x00007FFE16F5CC91+33]\n",
      "\n",
      "20211023\n",
      "https://fbref.com/en/matches/dc93611c/Brighton-and-Hove-Albion-Manchester-City-October-23-2021-Premier-League\n",
      "20211106\n",
      "https://fbref.com/en/matches/10d11999/Brighton-and-Hove-Albion-Newcastle-United-November-6-2021-Premier-League\n",
      "20211127\n",
      "https://fbref.com/en/matches/5d651cd7/Brighton-and-Hove-Albion-Leeds-United-November-27-2021-Premier-League\n",
      "20211215\n",
      "https://fbref.com/en/matches/60178542/Brighton-and-Hove-Albion-Wolverhampton-Wanderers-December-15-2021-Premier-League\n",
      "20211226\n",
      "https://fbref.com/en/matches/1f64133b/Brighton-and-Hove-Albion-Brentford-December-26-2021-Premier-League\n",
      "match row 처리 중 오류: Message: no such element: Unable to locate element: {\"method\":\"css selector\",\"selector\":\"td[data-stat=\"comp\"]\"}\n",
      "  (Session info: chrome=136.0.7103.114); For documentation on this error, please visit: https://www.selenium.dev/documentation/webdriver/troubleshooting/errors#no-such-element-exception\n",
      "Stacktrace:\n",
      "\tGetHandleVerifier [0x00007FF7535BCF45+75717]\n",
      "\tGetHandleVerifier [0x00007FF7535BCFA0+75808]\n",
      "\t(No symbol) [0x00007FF753388F9A]\n",
      "\t(No symbol) [0x00007FF7533DF4C6]\n",
      "\t(No symbol) [0x00007FF7533DF77C]\n",
      "\t(No symbol) [0x00007FF7533D1D7C]\n",
      "\t(No symbol) [0x00007FF7534073BF]\n",
      "\t(No symbol) [0x00007FF7533D1C46]\n",
      "\t(No symbol) [0x00007FF753407590]\n",
      "\t(No symbol) [0x00007FF75342F39C]\n",
      "\t(No symbol) [0x00007FF753407153]\n",
      "\t(No symbol) [0x00007FF7533D0421]\n",
      "\t(No symbol) [0x00007FF7533D11B3]\n",
      "\tGetHandleVerifier [0x00007FF7538BD71D+3223453]\n",
      "\tGetHandleVerifier [0x00007FF7538B7CC2+3200322]\n",
      "\tGetHandleVerifier [0x00007FF7538D5AF3+3322739]\n",
      "\tGetHandleVerifier [0x00007FF7535D6A1A+180890]\n",
      "\tGetHandleVerifier [0x00007FF7535DE11F+211359]\n",
      "\tGetHandleVerifier [0x00007FF7535C5294+109332]\n",
      "\tGetHandleVerifier [0x00007FF7535C5442+109762]\n",
      "\tGetHandleVerifier [0x00007FF7535ABA59+4825]\n",
      "\tBaseThreadInitThunk [0x00007FFE15767374+20]\n",
      "\tRtlUserThreadStart [0x00007FFE16F5CC91+33]\n",
      "\n",
      "20220114\n",
      "https://fbref.com/en/matches/96630936/Brighton-and-Hove-Albion-Crystal-Palace-January-14-2022-Premier-League\n",
      "20220118\n",
      "https://fbref.com/en/matches/b4c9c369/Brighton-and-Hove-Albion-Chelsea-January-18-2022-Premier-League\n",
      "20220219\n",
      "https://fbref.com/en/matches/b1df8cfd/Brighton-and-Hove-Albion-Burnley-February-19-2022-Premier-League\n",
      "match row 처리 중 오류: Message: no such element: Unable to locate element: {\"method\":\"css selector\",\"selector\":\"td[data-stat=\"comp\"]\"}\n",
      "  (Session info: chrome=136.0.7103.114); For documentation on this error, please visit: https://www.selenium.dev/documentation/webdriver/troubleshooting/errors#no-such-element-exception\n",
      "Stacktrace:\n",
      "\tGetHandleVerifier [0x00007FF7535BCF45+75717]\n",
      "\tGetHandleVerifier [0x00007FF7535BCFA0+75808]\n",
      "\t(No symbol) [0x00007FF753388F9A]\n",
      "\t(No symbol) [0x00007FF7533DF4C6]\n",
      "\t(No symbol) [0x00007FF7533DF77C]\n",
      "\t(No symbol) [0x00007FF7533D1D7C]\n",
      "\t(No symbol) [0x00007FF7534073BF]\n",
      "\t(No symbol) [0x00007FF7533D1C46]\n",
      "\t(No symbol) [0x00007FF753407590]\n",
      "\t(No symbol) [0x00007FF75342F39C]\n",
      "\t(No symbol) [0x00007FF753407153]\n",
      "\t(No symbol) [0x00007FF7533D0421]\n",
      "\t(No symbol) [0x00007FF7533D11B3]\n",
      "\tGetHandleVerifier [0x00007FF7538BD71D+3223453]\n",
      "\tGetHandleVerifier [0x00007FF7538B7CC2+3200322]\n",
      "\tGetHandleVerifier [0x00007FF7538D5AF3+3322739]\n",
      "\tGetHandleVerifier [0x00007FF7535D6A1A+180890]\n",
      "\tGetHandleVerifier [0x00007FF7535DE11F+211359]\n",
      "\tGetHandleVerifier [0x00007FF7535C5294+109332]\n",
      "\tGetHandleVerifier [0x00007FF7535C5442+109762]\n",
      "\tGetHandleVerifier [0x00007FF7535ABA59+4825]\n",
      "\tBaseThreadInitThunk [0x00007FFE15767374+20]\n",
      "\tRtlUserThreadStart [0x00007FFE16F5CC91+33]\n",
      "\n",
      "20220226\n",
      "https://fbref.com/en/matches/8cabd787/Brighton-and-Hove-Albion-Aston-Villa-February-26-2022-Premier-League\n",
      "20220312\n",
      "https://fbref.com/en/matches/4d3331bb/Brighton-and-Hove-Albion-Liverpool-March-12-2022-Premier-League\n",
      "20220316\n",
      "https://fbref.com/en/matches/59b3ee40/Brighton-and-Hove-Albion-Tottenham-Hotspur-March-16-2022-Premier-League\n",
      "20220402\n",
      "https://fbref.com/en/matches/df69a1b2/Brighton-and-Hove-Albion-Norwich-City-April-2-2022-Premier-League\n",
      "20220424\n",
      "https://fbref.com/en/matches/32a11932/Brighton-and-Hove-Albion-Southampton-April-24-2022-Premier-League\n",
      "20220507\n",
      "https://fbref.com/en/matches/efa43305/Brighton-and-Hove-Albion-Manchester-United-May-7-2022-Premier-League\n",
      "20220522\n",
      "https://fbref.com/en/matches/70a81794/Brighton-and-Hove-Albion-West-Ham-United-May-22-2022-Premier-League\n",
      "19\n",
      "19\n"
     ]
    },
    {
     "name": "stderr",
     "output_type": "stream",
     "text": [
      "\n",
      "\u001b[A"
     ]
    },
    {
     "name": "stdout",
     "output_type": "stream",
     "text": [
      "[players stats summary 저장 완료] C:/Users/user080524/Desktop/project/PREMO/data/datas/1\\2021-2022\\Brighton\\20210821\\20210821_home_palyers_summary.csv\n",
      "[players stats summary 저장 완료] C:/Users/user080524/Desktop/project/PREMO/data/datas/1\\2021-2022\\Brighton\\20210821\\20210821_home_gk.csv\n",
      "[players stats summary 저장 완료] C:/Users/user080524/Desktop/project/PREMO/data/datas/1\\2021-2022\\Brighton\\20210821\\20210821_away_players_summary.csv\n",
      "[players stats summary 저장 완료] C:/Users/user080524/Desktop/project/PREMO/data/datas/1\\2021-2022\\Brighton\\20210821\\20210821_away_gk.csv\n"
     ]
    },
    {
     "name": "stderr",
     "output_type": "stream",
     "text": [
      "\n",
      "\u001b[A"
     ]
    },
    {
     "name": "stdout",
     "output_type": "stream",
     "text": [
      "[team_stats 저장 완료] C:/Users/user080524/Desktop/project/PREMO/data/datas/1\\2021-2022\\Brighton\\20210821\\20210821_team_stats.csv\n",
      "[players stats summary 저장 완료] C:/Users/user080524/Desktop/project/PREMO/data/datas/1\\2021-2022\\Brighton\\20210828\\20210828_home_palyers_summary.csv\n",
      "[players stats summary 저장 완료] C:/Users/user080524/Desktop/project/PREMO/data/datas/1\\2021-2022\\Brighton\\20210828\\20210828_home_gk.csv\n",
      "[players stats summary 저장 완료] C:/Users/user080524/Desktop/project/PREMO/data/datas/1\\2021-2022\\Brighton\\20210828\\20210828_away_players_summary.csv\n",
      "[players stats summary 저장 완료] C:/Users/user080524/Desktop/project/PREMO/data/datas/1\\2021-2022\\Brighton\\20210828\\20210828_away_gk.csv\n"
     ]
    },
    {
     "name": "stderr",
     "output_type": "stream",
     "text": [
      "\n",
      "\u001b[A"
     ]
    },
    {
     "name": "stdout",
     "output_type": "stream",
     "text": [
      "[team_stats 저장 완료] C:/Users/user080524/Desktop/project/PREMO/data/datas/1\\2021-2022\\Brighton\\20210828\\20210828_team_stats.csv\n",
      "[players stats summary 저장 완료] C:/Users/user080524/Desktop/project/PREMO/data/datas/1\\2021-2022\\Brighton\\20210919\\20210919_home_palyers_summary.csv\n",
      "[players stats summary 저장 완료] C:/Users/user080524/Desktop/project/PREMO/data/datas/1\\2021-2022\\Brighton\\20210919\\20210919_home_gk.csv\n",
      "[players stats summary 저장 완료] C:/Users/user080524/Desktop/project/PREMO/data/datas/1\\2021-2022\\Brighton\\20210919\\20210919_away_players_summary.csv\n",
      "[players stats summary 저장 완료] C:/Users/user080524/Desktop/project/PREMO/data/datas/1\\2021-2022\\Brighton\\20210919\\20210919_away_gk.csv\n"
     ]
    },
    {
     "name": "stderr",
     "output_type": "stream",
     "text": [
      "\n",
      "\u001b[A"
     ]
    },
    {
     "name": "stdout",
     "output_type": "stream",
     "text": [
      "[team_stats 저장 완료] C:/Users/user080524/Desktop/project/PREMO/data/datas/1\\2021-2022\\Brighton\\20210919\\20210919_team_stats.csv\n",
      "[players stats summary 저장 완료] C:/Users/user080524/Desktop/project/PREMO/data/datas/1\\2021-2022\\Brighton\\20211002\\20211002_home_palyers_summary.csv\n",
      "[players stats summary 저장 완료] C:/Users/user080524/Desktop/project/PREMO/data/datas/1\\2021-2022\\Brighton\\20211002\\20211002_home_gk.csv\n",
      "[players stats summary 저장 완료] C:/Users/user080524/Desktop/project/PREMO/data/datas/1\\2021-2022\\Brighton\\20211002\\20211002_away_players_summary.csv\n",
      "[players stats summary 저장 완료] C:/Users/user080524/Desktop/project/PREMO/data/datas/1\\2021-2022\\Brighton\\20211002\\20211002_away_gk.csv\n"
     ]
    },
    {
     "name": "stderr",
     "output_type": "stream",
     "text": [
      "\n",
      "\u001b[A"
     ]
    },
    {
     "name": "stdout",
     "output_type": "stream",
     "text": [
      "[team_stats 저장 완료] C:/Users/user080524/Desktop/project/PREMO/data/datas/1\\2021-2022\\Brighton\\20211002\\20211002_team_stats.csv\n",
      "[players stats summary 저장 완료] C:/Users/user080524/Desktop/project/PREMO/data/datas/1\\2021-2022\\Brighton\\20211023\\20211023_home_palyers_summary.csv\n",
      "[players stats summary 저장 완료] C:/Users/user080524/Desktop/project/PREMO/data/datas/1\\2021-2022\\Brighton\\20211023\\20211023_home_gk.csv\n",
      "[players stats summary 저장 완료] C:/Users/user080524/Desktop/project/PREMO/data/datas/1\\2021-2022\\Brighton\\20211023\\20211023_away_players_summary.csv\n",
      "[players stats summary 저장 완료] C:/Users/user080524/Desktop/project/PREMO/data/datas/1\\2021-2022\\Brighton\\20211023\\20211023_away_gk.csv\n"
     ]
    },
    {
     "name": "stderr",
     "output_type": "stream",
     "text": [
      "\n",
      "\u001b[A"
     ]
    },
    {
     "name": "stdout",
     "output_type": "stream",
     "text": [
      "[team_stats 저장 완료] C:/Users/user080524/Desktop/project/PREMO/data/datas/1\\2021-2022\\Brighton\\20211023\\20211023_team_stats.csv\n",
      "[players stats summary 저장 완료] C:/Users/user080524/Desktop/project/PREMO/data/datas/1\\2021-2022\\Brighton\\20211106\\20211106_home_palyers_summary.csv\n",
      "[players stats summary 저장 완료] C:/Users/user080524/Desktop/project/PREMO/data/datas/1\\2021-2022\\Brighton\\20211106\\20211106_home_gk.csv\n",
      "[players stats summary 저장 완료] C:/Users/user080524/Desktop/project/PREMO/data/datas/1\\2021-2022\\Brighton\\20211106\\20211106_away_players_summary.csv\n",
      "[players stats summary 저장 완료] C:/Users/user080524/Desktop/project/PREMO/data/datas/1\\2021-2022\\Brighton\\20211106\\20211106_away_gk.csv\n"
     ]
    },
    {
     "name": "stderr",
     "output_type": "stream",
     "text": [
      "\n",
      "\u001b[A"
     ]
    },
    {
     "name": "stdout",
     "output_type": "stream",
     "text": [
      "[team_stats 저장 완료] C:/Users/user080524/Desktop/project/PREMO/data/datas/1\\2021-2022\\Brighton\\20211106\\20211106_team_stats.csv\n",
      "[players stats summary 저장 완료] C:/Users/user080524/Desktop/project/PREMO/data/datas/1\\2021-2022\\Brighton\\20211127\\20211127_home_palyers_summary.csv\n",
      "[players stats summary 저장 완료] C:/Users/user080524/Desktop/project/PREMO/data/datas/1\\2021-2022\\Brighton\\20211127\\20211127_home_gk.csv\n",
      "[players stats summary 저장 완료] C:/Users/user080524/Desktop/project/PREMO/data/datas/1\\2021-2022\\Brighton\\20211127\\20211127_away_players_summary.csv\n",
      "[players stats summary 저장 완료] C:/Users/user080524/Desktop/project/PREMO/data/datas/1\\2021-2022\\Brighton\\20211127\\20211127_away_gk.csv\n"
     ]
    },
    {
     "name": "stderr",
     "output_type": "stream",
     "text": [
      "\n",
      "\u001b[A"
     ]
    },
    {
     "name": "stdout",
     "output_type": "stream",
     "text": [
      "[team_stats 저장 완료] C:/Users/user080524/Desktop/project/PREMO/data/datas/1\\2021-2022\\Brighton\\20211127\\20211127_team_stats.csv\n",
      "[players stats summary 저장 완료] C:/Users/user080524/Desktop/project/PREMO/data/datas/1\\2021-2022\\Brighton\\20211215\\20211215_home_palyers_summary.csv\n",
      "[players stats summary 저장 완료] C:/Users/user080524/Desktop/project/PREMO/data/datas/1\\2021-2022\\Brighton\\20211215\\20211215_home_gk.csv\n",
      "[players stats summary 저장 완료] C:/Users/user080524/Desktop/project/PREMO/data/datas/1\\2021-2022\\Brighton\\20211215\\20211215_away_players_summary.csv\n",
      "[players stats summary 저장 완료] C:/Users/user080524/Desktop/project/PREMO/data/datas/1\\2021-2022\\Brighton\\20211215\\20211215_away_gk.csv\n"
     ]
    },
    {
     "name": "stderr",
     "output_type": "stream",
     "text": [
      "\n",
      "\u001b[A"
     ]
    },
    {
     "name": "stdout",
     "output_type": "stream",
     "text": [
      "[team_stats 저장 완료] C:/Users/user080524/Desktop/project/PREMO/data/datas/1\\2021-2022\\Brighton\\20211215\\20211215_team_stats.csv\n",
      "[players stats summary 저장 완료] C:/Users/user080524/Desktop/project/PREMO/data/datas/1\\2021-2022\\Brighton\\20211226\\20211226_home_palyers_summary.csv\n",
      "[players stats summary 저장 완료] C:/Users/user080524/Desktop/project/PREMO/data/datas/1\\2021-2022\\Brighton\\20211226\\20211226_home_gk.csv\n",
      "[players stats summary 저장 완료] C:/Users/user080524/Desktop/project/PREMO/data/datas/1\\2021-2022\\Brighton\\20211226\\20211226_away_players_summary.csv\n",
      "[players stats summary 저장 완료] C:/Users/user080524/Desktop/project/PREMO/data/datas/1\\2021-2022\\Brighton\\20211226\\20211226_away_gk.csv\n"
     ]
    },
    {
     "name": "stderr",
     "output_type": "stream",
     "text": [
      "\n",
      "\u001b[A"
     ]
    },
    {
     "name": "stdout",
     "output_type": "stream",
     "text": [
      "[team_stats 저장 완료] C:/Users/user080524/Desktop/project/PREMO/data/datas/1\\2021-2022\\Brighton\\20211226\\20211226_team_stats.csv\n",
      "[players stats summary 저장 완료] C:/Users/user080524/Desktop/project/PREMO/data/datas/1\\2021-2022\\Brighton\\20220114\\20220114_home_palyers_summary.csv\n",
      "[players stats summary 저장 완료] C:/Users/user080524/Desktop/project/PREMO/data/datas/1\\2021-2022\\Brighton\\20220114\\20220114_home_gk.csv\n",
      "[players stats summary 저장 완료] C:/Users/user080524/Desktop/project/PREMO/data/datas/1\\2021-2022\\Brighton\\20220114\\20220114_away_players_summary.csv\n",
      "[players stats summary 저장 완료] C:/Users/user080524/Desktop/project/PREMO/data/datas/1\\2021-2022\\Brighton\\20220114\\20220114_away_gk.csv\n"
     ]
    },
    {
     "name": "stderr",
     "output_type": "stream",
     "text": [
      "\n",
      "\u001b[A"
     ]
    },
    {
     "name": "stdout",
     "output_type": "stream",
     "text": [
      "[team_stats 저장 완료] C:/Users/user080524/Desktop/project/PREMO/data/datas/1\\2021-2022\\Brighton\\20220114\\20220114_team_stats.csv\n",
      "[players stats summary 저장 완료] C:/Users/user080524/Desktop/project/PREMO/data/datas/1\\2021-2022\\Brighton\\20220118\\20220118_home_palyers_summary.csv\n",
      "[players stats summary 저장 완료] C:/Users/user080524/Desktop/project/PREMO/data/datas/1\\2021-2022\\Brighton\\20220118\\20220118_home_gk.csv\n",
      "[players stats summary 저장 완료] C:/Users/user080524/Desktop/project/PREMO/data/datas/1\\2021-2022\\Brighton\\20220118\\20220118_away_players_summary.csv\n",
      "[players stats summary 저장 완료] C:/Users/user080524/Desktop/project/PREMO/data/datas/1\\2021-2022\\Brighton\\20220118\\20220118_away_gk.csv\n"
     ]
    },
    {
     "name": "stderr",
     "output_type": "stream",
     "text": [
      "\n",
      "\u001b[A"
     ]
    },
    {
     "name": "stdout",
     "output_type": "stream",
     "text": [
      "[team_stats 저장 완료] C:/Users/user080524/Desktop/project/PREMO/data/datas/1\\2021-2022\\Brighton\\20220118\\20220118_team_stats.csv\n",
      "[players stats summary 저장 완료] C:/Users/user080524/Desktop/project/PREMO/data/datas/1\\2021-2022\\Brighton\\20220219\\20220219_home_palyers_summary.csv\n",
      "[players stats summary 저장 완료] C:/Users/user080524/Desktop/project/PREMO/data/datas/1\\2021-2022\\Brighton\\20220219\\20220219_home_gk.csv\n",
      "[players stats summary 저장 완료] C:/Users/user080524/Desktop/project/PREMO/data/datas/1\\2021-2022\\Brighton\\20220219\\20220219_away_players_summary.csv\n",
      "[players stats summary 저장 완료] C:/Users/user080524/Desktop/project/PREMO/data/datas/1\\2021-2022\\Brighton\\20220219\\20220219_away_gk.csv\n"
     ]
    },
    {
     "name": "stderr",
     "output_type": "stream",
     "text": [
      "\n",
      "\u001b[A"
     ]
    },
    {
     "name": "stdout",
     "output_type": "stream",
     "text": [
      "[team_stats 저장 완료] C:/Users/user080524/Desktop/project/PREMO/data/datas/1\\2021-2022\\Brighton\\20220219\\20220219_team_stats.csv\n",
      "[players stats summary 저장 완료] C:/Users/user080524/Desktop/project/PREMO/data/datas/1\\2021-2022\\Brighton\\20220226\\20220226_home_palyers_summary.csv\n",
      "[players stats summary 저장 완료] C:/Users/user080524/Desktop/project/PREMO/data/datas/1\\2021-2022\\Brighton\\20220226\\20220226_home_gk.csv\n",
      "[players stats summary 저장 완료] C:/Users/user080524/Desktop/project/PREMO/data/datas/1\\2021-2022\\Brighton\\20220226\\20220226_away_players_summary.csv\n",
      "[players stats summary 저장 완료] C:/Users/user080524/Desktop/project/PREMO/data/datas/1\\2021-2022\\Brighton\\20220226\\20220226_away_gk.csv\n"
     ]
    },
    {
     "name": "stderr",
     "output_type": "stream",
     "text": [
      "\n",
      "\u001b[A"
     ]
    },
    {
     "name": "stdout",
     "output_type": "stream",
     "text": [
      "[team_stats 저장 완료] C:/Users/user080524/Desktop/project/PREMO/data/datas/1\\2021-2022\\Brighton\\20220226\\20220226_team_stats.csv\n",
      "[players stats summary 저장 완료] C:/Users/user080524/Desktop/project/PREMO/data/datas/1\\2021-2022\\Brighton\\20220312\\20220312_home_palyers_summary.csv\n",
      "[players stats summary 저장 완료] C:/Users/user080524/Desktop/project/PREMO/data/datas/1\\2021-2022\\Brighton\\20220312\\20220312_home_gk.csv\n",
      "[players stats summary 저장 완료] C:/Users/user080524/Desktop/project/PREMO/data/datas/1\\2021-2022\\Brighton\\20220312\\20220312_away_players_summary.csv\n",
      "[players stats summary 저장 완료] C:/Users/user080524/Desktop/project/PREMO/data/datas/1\\2021-2022\\Brighton\\20220312\\20220312_away_gk.csv\n"
     ]
    },
    {
     "name": "stderr",
     "output_type": "stream",
     "text": [
      "\n",
      "\u001b[A"
     ]
    },
    {
     "name": "stdout",
     "output_type": "stream",
     "text": [
      "[team_stats 저장 완료] C:/Users/user080524/Desktop/project/PREMO/data/datas/1\\2021-2022\\Brighton\\20220312\\20220312_team_stats.csv\n",
      "[players stats summary 저장 완료] C:/Users/user080524/Desktop/project/PREMO/data/datas/1\\2021-2022\\Brighton\\20220316\\20220316_home_palyers_summary.csv\n",
      "[players stats summary 저장 완료] C:/Users/user080524/Desktop/project/PREMO/data/datas/1\\2021-2022\\Brighton\\20220316\\20220316_home_gk.csv\n",
      "[players stats summary 저장 완료] C:/Users/user080524/Desktop/project/PREMO/data/datas/1\\2021-2022\\Brighton\\20220316\\20220316_away_players_summary.csv\n",
      "[players stats summary 저장 완료] C:/Users/user080524/Desktop/project/PREMO/data/datas/1\\2021-2022\\Brighton\\20220316\\20220316_away_gk.csv\n"
     ]
    },
    {
     "name": "stderr",
     "output_type": "stream",
     "text": [
      "\n",
      "\u001b[A"
     ]
    },
    {
     "name": "stdout",
     "output_type": "stream",
     "text": [
      "team_stats 없음 could not convert string to float: ''\n",
      "[team_stats 저장 완료] C:/Users/user080524/Desktop/project/PREMO/data/datas/1\\2021-2022\\Brighton\\20220316\\20220316_team_stats.csv\n",
      "[players stats summary 저장 완료] C:/Users/user080524/Desktop/project/PREMO/data/datas/1\\2021-2022\\Brighton\\20220402\\20220402_home_palyers_summary.csv\n",
      "[players stats summary 저장 완료] C:/Users/user080524/Desktop/project/PREMO/data/datas/1\\2021-2022\\Brighton\\20220402\\20220402_home_gk.csv\n",
      "[players stats summary 저장 완료] C:/Users/user080524/Desktop/project/PREMO/data/datas/1\\2021-2022\\Brighton\\20220402\\20220402_away_players_summary.csv\n",
      "[players stats summary 저장 완료] C:/Users/user080524/Desktop/project/PREMO/data/datas/1\\2021-2022\\Brighton\\20220402\\20220402_away_gk.csv\n"
     ]
    },
    {
     "name": "stderr",
     "output_type": "stream",
     "text": [
      "\n",
      "\u001b[A"
     ]
    },
    {
     "name": "stdout",
     "output_type": "stream",
     "text": [
      "team_stats 없음 could not convert string to float: ''\n",
      "[team_stats 저장 완료] C:/Users/user080524/Desktop/project/PREMO/data/datas/1\\2021-2022\\Brighton\\20220402\\20220402_team_stats.csv\n",
      "[players stats summary 저장 완료] C:/Users/user080524/Desktop/project/PREMO/data/datas/1\\2021-2022\\Brighton\\20220424\\20220424_home_palyers_summary.csv\n",
      "[players stats summary 저장 완료] C:/Users/user080524/Desktop/project/PREMO/data/datas/1\\2021-2022\\Brighton\\20220424\\20220424_home_gk.csv\n",
      "[players stats summary 저장 완료] C:/Users/user080524/Desktop/project/PREMO/data/datas/1\\2021-2022\\Brighton\\20220424\\20220424_away_players_summary.csv\n",
      "[players stats summary 저장 완료] C:/Users/user080524/Desktop/project/PREMO/data/datas/1\\2021-2022\\Brighton\\20220424\\20220424_away_gk.csv\n"
     ]
    },
    {
     "name": "stderr",
     "output_type": "stream",
     "text": [
      "\n",
      "\u001b[A"
     ]
    },
    {
     "name": "stdout",
     "output_type": "stream",
     "text": [
      "[team_stats 저장 완료] C:/Users/user080524/Desktop/project/PREMO/data/datas/1\\2021-2022\\Brighton\\20220424\\20220424_team_stats.csv\n",
      "[players stats summary 저장 완료] C:/Users/user080524/Desktop/project/PREMO/data/datas/1\\2021-2022\\Brighton\\20220507\\20220507_home_palyers_summary.csv\n",
      "[players stats summary 저장 완료] C:/Users/user080524/Desktop/project/PREMO/data/datas/1\\2021-2022\\Brighton\\20220507\\20220507_home_gk.csv\n",
      "[players stats summary 저장 완료] C:/Users/user080524/Desktop/project/PREMO/data/datas/1\\2021-2022\\Brighton\\20220507\\20220507_away_players_summary.csv\n",
      "[players stats summary 저장 완료] C:/Users/user080524/Desktop/project/PREMO/data/datas/1\\2021-2022\\Brighton\\20220507\\20220507_away_gk.csv\n"
     ]
    },
    {
     "name": "stderr",
     "output_type": "stream",
     "text": [
      "\n",
      "\u001b[A"
     ]
    },
    {
     "name": "stdout",
     "output_type": "stream",
     "text": [
      "[team_stats 저장 완료] C:/Users/user080524/Desktop/project/PREMO/data/datas/1\\2021-2022\\Brighton\\20220507\\20220507_team_stats.csv\n",
      "[players stats summary 저장 완료] C:/Users/user080524/Desktop/project/PREMO/data/datas/1\\2021-2022\\Brighton\\20220522\\20220522_home_palyers_summary.csv\n",
      "[players stats summary 저장 완료] C:/Users/user080524/Desktop/project/PREMO/data/datas/1\\2021-2022\\Brighton\\20220522\\20220522_home_gk.csv\n",
      "[players stats summary 저장 완료] C:/Users/user080524/Desktop/project/PREMO/data/datas/1\\2021-2022\\Brighton\\20220522\\20220522_away_players_summary.csv\n",
      "[players stats summary 저장 완료] C:/Users/user080524/Desktop/project/PREMO/data/datas/1\\2021-2022\\Brighton\\20220522\\20220522_away_gk.csv\n"
     ]
    },
    {
     "name": "stderr",
     "output_type": "stream",
     "text": [
      "\n",
      "\u001b[A\n",
      "\u001b[A"
     ]
    },
    {
     "name": "stdout",
     "output_type": "stream",
     "text": [
      "[team_stats 저장 완료] C:/Users/user080524/Desktop/project/PREMO/data/datas/1\\2021-2022\\Brighton\\20220522\\20220522_team_stats.csv\n",
      "[시즌 페이지 로딩] URL: https://fbref.com/en/comps/9/2021-2022/2021-2022-Premier-League-Stats\n",
      "팀: Wolves, 링크:https://fbref.com/en/squads/8cec06e1/2021-2022/Wolverhampton-Wanderers-Stats\n",
      "20210822\n",
      "https://fbref.com/en/matches/26ceb3c9/Wolverhampton-Wanderers-Tottenham-Hotspur-August-22-2021-Premier-League\n",
      "20210829\n",
      "https://fbref.com/en/matches/871109e6/Wolverhampton-Wanderers-Manchester-United-August-29-2021-Premier-League\n",
      "20210918\n",
      "https://fbref.com/en/matches/fd1d60f4/Wolverhampton-Wanderers-Brentford-September-18-2021-Premier-League\n",
      "20211002\n",
      "https://fbref.com/en/matches/00dcbdaa/Wolverhampton-Wanderers-Newcastle-United-October-2-2021-Premier-League\n",
      "match row 처리 중 오류: Message: no such element: Unable to locate element: {\"method\":\"css selector\",\"selector\":\"td[data-stat=\"comp\"]\"}\n",
      "  (Session info: chrome=136.0.7103.114); For documentation on this error, please visit: https://www.selenium.dev/documentation/webdriver/troubleshooting/errors#no-such-element-exception\n",
      "Stacktrace:\n",
      "\tGetHandleVerifier [0x00007FF7535BCF45+75717]\n",
      "\tGetHandleVerifier [0x00007FF7535BCFA0+75808]\n",
      "\t(No symbol) [0x00007FF753388F9A]\n",
      "\t(No symbol) [0x00007FF7533DF4C6]\n",
      "\t(No symbol) [0x00007FF7533DF77C]\n",
      "\t(No symbol) [0x00007FF7533D1D7C]\n",
      "\t(No symbol) [0x00007FF7534073BF]\n",
      "\t(No symbol) [0x00007FF7533D1C46]\n",
      "\t(No symbol) [0x00007FF753407590]\n",
      "\t(No symbol) [0x00007FF75342F39C]\n",
      "\t(No symbol) [0x00007FF753407153]\n",
      "\t(No symbol) [0x00007FF7533D0421]\n",
      "\t(No symbol) [0x00007FF7533D11B3]\n",
      "\tGetHandleVerifier [0x00007FF7538BD71D+3223453]\n",
      "\tGetHandleVerifier [0x00007FF7538B7CC2+3200322]\n",
      "\tGetHandleVerifier [0x00007FF7538D5AF3+3322739]\n",
      "\tGetHandleVerifier [0x00007FF7535D6A1A+180890]\n",
      "\tGetHandleVerifier [0x00007FF7535DE11F+211359]\n",
      "\tGetHandleVerifier [0x00007FF7535C5294+109332]\n",
      "\tGetHandleVerifier [0x00007FF7535C5442+109762]\n",
      "\tGetHandleVerifier [0x00007FF7535ABA59+4825]\n",
      "\tBaseThreadInitThunk [0x00007FFE15767374+20]\n",
      "\tRtlUserThreadStart [0x00007FFE16F5CC91+33]\n",
      "\n",
      "20211101\n",
      "https://fbref.com/en/matches/c9ad66cc/Wolverhampton-Wanderers-Everton-November-1-2021-Premier-League\n",
      "20211120\n",
      "https://fbref.com/en/matches/013c4797/Wolverhampton-Wanderers-West-Ham-United-November-20-2021-Premier-League\n",
      "20211201\n",
      "https://fbref.com/en/matches/a3fc2ddc/Wolverhampton-Wanderers-Burnley-December-1-2021-Premier-League\n",
      "20211204\n",
      "https://fbref.com/en/matches/37d61ff3/Wolverhampton-Wanderers-Liverpool-December-4-2021-Premier-League\n",
      "20211219\n",
      "https://fbref.com/en/matches/73d478fb/Wolverhampton-Wanderers-Chelsea-December-19-2021-Premier-League\n",
      "match row 처리 중 오류: Message: no such element: Unable to locate element: {\"method\":\"css selector\",\"selector\":\"td[data-stat=\"comp\"]\"}\n",
      "  (Session info: chrome=136.0.7103.114); For documentation on this error, please visit: https://www.selenium.dev/documentation/webdriver/troubleshooting/errors#no-such-element-exception\n",
      "Stacktrace:\n",
      "\tGetHandleVerifier [0x00007FF7535BCF45+75717]\n",
      "\tGetHandleVerifier [0x00007FF7535BCFA0+75808]\n",
      "\t(No symbol) [0x00007FF753388F9A]\n",
      "\t(No symbol) [0x00007FF7533DF4C6]\n",
      "\t(No symbol) [0x00007FF7533DF77C]\n",
      "\t(No symbol) [0x00007FF7533D1D7C]\n",
      "\t(No symbol) [0x00007FF7534073BF]\n",
      "\t(No symbol) [0x00007FF7533D1C46]\n",
      "\t(No symbol) [0x00007FF753407590]\n",
      "\t(No symbol) [0x00007FF75342F39C]\n",
      "\t(No symbol) [0x00007FF753407153]\n",
      "\t(No symbol) [0x00007FF7533D0421]\n",
      "\t(No symbol) [0x00007FF7533D11B3]\n",
      "\tGetHandleVerifier [0x00007FF7538BD71D+3223453]\n",
      "\tGetHandleVerifier [0x00007FF7538B7CC2+3200322]\n",
      "\tGetHandleVerifier [0x00007FF7538D5AF3+3322739]\n",
      "\tGetHandleVerifier [0x00007FF7535D6A1A+180890]\n",
      "\tGetHandleVerifier [0x00007FF7535DE11F+211359]\n",
      "\tGetHandleVerifier [0x00007FF7535C5294+109332]\n",
      "\tGetHandleVerifier [0x00007FF7535C5442+109762]\n",
      "\tGetHandleVerifier [0x00007FF7535ABA59+4825]\n",
      "\tBaseThreadInitThunk [0x00007FFE15767374+20]\n",
      "\tRtlUserThreadStart [0x00007FFE16F5CC91+33]\n",
      "\n",
      "20220115\n",
      "https://fbref.com/en/matches/dd7b8b8b/Wolverhampton-Wanderers-Southampton-January-15-2022-Premier-League\n",
      "20220210\n",
      "https://fbref.com/en/matches/bf5f0f9e/Wolverhampton-Wanderers-Arsenal-February-10-2022-Premier-League\n",
      "20220220\n",
      "https://fbref.com/en/matches/63d95af6/Wolverhampton-Wanderers-Leicester-City-February-20-2022-Premier-League\n",
      "match row 처리 중 오류: Message: no such element: Unable to locate element: {\"method\":\"css selector\",\"selector\":\"td[data-stat=\"comp\"]\"}\n",
      "  (Session info: chrome=136.0.7103.114); For documentation on this error, please visit: https://www.selenium.dev/documentation/webdriver/troubleshooting/errors#no-such-element-exception\n",
      "Stacktrace:\n",
      "\tGetHandleVerifier [0x00007FF7535BCF45+75717]\n",
      "\tGetHandleVerifier [0x00007FF7535BCFA0+75808]\n",
      "\t(No symbol) [0x00007FF753388F9A]\n",
      "\t(No symbol) [0x00007FF7533DF4C6]\n",
      "\t(No symbol) [0x00007FF7533DF77C]\n",
      "\t(No symbol) [0x00007FF7533D1D7C]\n",
      "\t(No symbol) [0x00007FF7534073BF]\n",
      "\t(No symbol) [0x00007FF7533D1C46]\n",
      "\t(No symbol) [0x00007FF753407590]\n",
      "\t(No symbol) [0x00007FF75342F39C]\n",
      "\t(No symbol) [0x00007FF753407153]\n",
      "\t(No symbol) [0x00007FF7533D0421]\n",
      "\t(No symbol) [0x00007FF7533D11B3]\n",
      "\tGetHandleVerifier [0x00007FF7538BD71D+3223453]\n",
      "\tGetHandleVerifier [0x00007FF7538B7CC2+3200322]\n",
      "\tGetHandleVerifier [0x00007FF7538D5AF3+3322739]\n",
      "\tGetHandleVerifier [0x00007FF7535D6A1A+180890]\n",
      "\tGetHandleVerifier [0x00007FF7535DE11F+211359]\n",
      "\tGetHandleVerifier [0x00007FF7535C5294+109332]\n",
      "\tGetHandleVerifier [0x00007FF7535C5442+109762]\n",
      "\tGetHandleVerifier [0x00007FF7535ABA59+4825]\n",
      "\tBaseThreadInitThunk [0x00007FFE15767374+20]\n",
      "\tRtlUserThreadStart [0x00007FFE16F5CC91+33]\n",
      "\n",
      "20220305\n",
      "https://fbref.com/en/matches/9ccef73f/Wolverhampton-Wanderers-Crystal-Palace-March-5-2022-Premier-League\n",
      "20220310\n",
      "https://fbref.com/en/matches/d0ee0e9a/Wolverhampton-Wanderers-Watford-March-10-2022-Premier-League\n",
      "20220318\n",
      "https://fbref.com/en/matches/1c402923/Wolverhampton-Wanderers-Leeds-United-March-18-2022-Premier-League\n",
      "20220402\n",
      "https://fbref.com/en/matches/320d3dfe/Wolverhampton-Wanderers-Aston-Villa-April-2-2022-Premier-League\n",
      "20220430\n",
      "https://fbref.com/en/matches/b800c4ba/Wolverhampton-Wanderers-Brighton-and-Hove-Albion-April-30-2022-Premier-League\n",
      "20220511\n",
      "https://fbref.com/en/matches/a93c0c92/Wolverhampton-Wanderers-Manchester-City-May-11-2022-Premier-League\n",
      "20220515\n",
      "https://fbref.com/en/matches/7f0d5ca8/Wolverhampton-Wanderers-Norwich-City-May-15-2022-Premier-League\n",
      "19\n",
      "19\n"
     ]
    },
    {
     "name": "stderr",
     "output_type": "stream",
     "text": [
      "\n",
      "\u001b[A"
     ]
    },
    {
     "name": "stdout",
     "output_type": "stream",
     "text": [
      "[players stats summary 저장 완료] C:/Users/user080524/Desktop/project/PREMO/data/datas/1\\2021-2022\\Wolves\\20210822\\20210822_home_palyers_summary.csv\n",
      "[players stats summary 저장 완료] C:/Users/user080524/Desktop/project/PREMO/data/datas/1\\2021-2022\\Wolves\\20210822\\20210822_home_gk.csv\n",
      "[players stats summary 저장 완료] C:/Users/user080524/Desktop/project/PREMO/data/datas/1\\2021-2022\\Wolves\\20210822\\20210822_away_players_summary.csv\n",
      "[players stats summary 저장 완료] C:/Users/user080524/Desktop/project/PREMO/data/datas/1\\2021-2022\\Wolves\\20210822\\20210822_away_gk.csv\n"
     ]
    },
    {
     "name": "stderr",
     "output_type": "stream",
     "text": [
      "\n",
      "\u001b[A"
     ]
    },
    {
     "name": "stdout",
     "output_type": "stream",
     "text": [
      "[team_stats 저장 완료] C:/Users/user080524/Desktop/project/PREMO/data/datas/1\\2021-2022\\Wolves\\20210822\\20210822_team_stats.csv\n",
      "[players stats summary 저장 완료] C:/Users/user080524/Desktop/project/PREMO/data/datas/1\\2021-2022\\Wolves\\20210829\\20210829_home_palyers_summary.csv\n",
      "[players stats summary 저장 완료] C:/Users/user080524/Desktop/project/PREMO/data/datas/1\\2021-2022\\Wolves\\20210829\\20210829_home_gk.csv\n",
      "[players stats summary 저장 완료] C:/Users/user080524/Desktop/project/PREMO/data/datas/1\\2021-2022\\Wolves\\20210829\\20210829_away_players_summary.csv\n",
      "[players stats summary 저장 완료] C:/Users/user080524/Desktop/project/PREMO/data/datas/1\\2021-2022\\Wolves\\20210829\\20210829_away_gk.csv\n"
     ]
    },
    {
     "name": "stderr",
     "output_type": "stream",
     "text": [
      "\n",
      "\u001b[A"
     ]
    },
    {
     "name": "stdout",
     "output_type": "stream",
     "text": [
      "[team_stats 저장 완료] C:/Users/user080524/Desktop/project/PREMO/data/datas/1\\2021-2022\\Wolves\\20210829\\20210829_team_stats.csv\n",
      "[players stats summary 저장 완료] C:/Users/user080524/Desktop/project/PREMO/data/datas/1\\2021-2022\\Wolves\\20210918\\20210918_home_palyers_summary.csv\n",
      "[players stats summary 저장 완료] C:/Users/user080524/Desktop/project/PREMO/data/datas/1\\2021-2022\\Wolves\\20210918\\20210918_home_gk.csv\n",
      "[players stats summary 저장 완료] C:/Users/user080524/Desktop/project/PREMO/data/datas/1\\2021-2022\\Wolves\\20210918\\20210918_away_players_summary.csv\n",
      "[players stats summary 저장 완료] C:/Users/user080524/Desktop/project/PREMO/data/datas/1\\2021-2022\\Wolves\\20210918\\20210918_away_gk.csv\n"
     ]
    },
    {
     "name": "stderr",
     "output_type": "stream",
     "text": [
      "\n",
      "\u001b[A"
     ]
    },
    {
     "name": "stdout",
     "output_type": "stream",
     "text": [
      "team_stats 없음 could not convert string to float: ''\n",
      "[team_stats 저장 완료] C:/Users/user080524/Desktop/project/PREMO/data/datas/1\\2021-2022\\Wolves\\20210918\\20210918_team_stats.csv\n",
      "[players stats summary 저장 완료] C:/Users/user080524/Desktop/project/PREMO/data/datas/1\\2021-2022\\Wolves\\20211002\\20211002_home_palyers_summary.csv\n",
      "[players stats summary 저장 완료] C:/Users/user080524/Desktop/project/PREMO/data/datas/1\\2021-2022\\Wolves\\20211002\\20211002_home_gk.csv\n",
      "[players stats summary 저장 완료] C:/Users/user080524/Desktop/project/PREMO/data/datas/1\\2021-2022\\Wolves\\20211002\\20211002_away_players_summary.csv\n",
      "[players stats summary 저장 완료] C:/Users/user080524/Desktop/project/PREMO/data/datas/1\\2021-2022\\Wolves\\20211002\\20211002_away_gk.csv\n"
     ]
    },
    {
     "name": "stderr",
     "output_type": "stream",
     "text": [
      "\n",
      "\u001b[A"
     ]
    },
    {
     "name": "stdout",
     "output_type": "stream",
     "text": [
      "[team_stats 저장 완료] C:/Users/user080524/Desktop/project/PREMO/data/datas/1\\2021-2022\\Wolves\\20211002\\20211002_team_stats.csv\n",
      "[players stats summary 저장 완료] C:/Users/user080524/Desktop/project/PREMO/data/datas/1\\2021-2022\\Wolves\\20211101\\20211101_home_palyers_summary.csv\n",
      "[players stats summary 저장 완료] C:/Users/user080524/Desktop/project/PREMO/data/datas/1\\2021-2022\\Wolves\\20211101\\20211101_home_gk.csv\n",
      "[players stats summary 저장 완료] C:/Users/user080524/Desktop/project/PREMO/data/datas/1\\2021-2022\\Wolves\\20211101\\20211101_away_players_summary.csv\n",
      "[players stats summary 저장 완료] C:/Users/user080524/Desktop/project/PREMO/data/datas/1\\2021-2022\\Wolves\\20211101\\20211101_away_gk.csv\n"
     ]
    },
    {
     "name": "stderr",
     "output_type": "stream",
     "text": [
      "\n",
      "\u001b[A"
     ]
    },
    {
     "name": "stdout",
     "output_type": "stream",
     "text": [
      "[team_stats 저장 완료] C:/Users/user080524/Desktop/project/PREMO/data/datas/1\\2021-2022\\Wolves\\20211101\\20211101_team_stats.csv\n",
      "[players stats summary 저장 완료] C:/Users/user080524/Desktop/project/PREMO/data/datas/1\\2021-2022\\Wolves\\20211120\\20211120_home_palyers_summary.csv\n",
      "[players stats summary 저장 완료] C:/Users/user080524/Desktop/project/PREMO/data/datas/1\\2021-2022\\Wolves\\20211120\\20211120_home_gk.csv\n",
      "[players stats summary 저장 완료] C:/Users/user080524/Desktop/project/PREMO/data/datas/1\\2021-2022\\Wolves\\20211120\\20211120_away_players_summary.csv\n",
      "[players stats summary 저장 완료] C:/Users/user080524/Desktop/project/PREMO/data/datas/1\\2021-2022\\Wolves\\20211120\\20211120_away_gk.csv\n"
     ]
    },
    {
     "name": "stderr",
     "output_type": "stream",
     "text": [
      "\n",
      "\u001b[A"
     ]
    },
    {
     "name": "stdout",
     "output_type": "stream",
     "text": [
      "[team_stats 저장 완료] C:/Users/user080524/Desktop/project/PREMO/data/datas/1\\2021-2022\\Wolves\\20211120\\20211120_team_stats.csv\n",
      "[players stats summary 저장 완료] C:/Users/user080524/Desktop/project/PREMO/data/datas/1\\2021-2022\\Wolves\\20211201\\20211201_home_palyers_summary.csv\n",
      "[players stats summary 저장 완료] C:/Users/user080524/Desktop/project/PREMO/data/datas/1\\2021-2022\\Wolves\\20211201\\20211201_home_gk.csv\n",
      "[players stats summary 저장 완료] C:/Users/user080524/Desktop/project/PREMO/data/datas/1\\2021-2022\\Wolves\\20211201\\20211201_away_players_summary.csv\n",
      "[players stats summary 저장 완료] C:/Users/user080524/Desktop/project/PREMO/data/datas/1\\2021-2022\\Wolves\\20211201\\20211201_away_gk.csv\n"
     ]
    },
    {
     "name": "stderr",
     "output_type": "stream",
     "text": [
      "\n",
      "\u001b[A"
     ]
    },
    {
     "name": "stdout",
     "output_type": "stream",
     "text": [
      "[team_stats 저장 완료] C:/Users/user080524/Desktop/project/PREMO/data/datas/1\\2021-2022\\Wolves\\20211201\\20211201_team_stats.csv\n",
      "[players stats summary 저장 완료] C:/Users/user080524/Desktop/project/PREMO/data/datas/1\\2021-2022\\Wolves\\20211204\\20211204_home_palyers_summary.csv\n",
      "[players stats summary 저장 완료] C:/Users/user080524/Desktop/project/PREMO/data/datas/1\\2021-2022\\Wolves\\20211204\\20211204_home_gk.csv\n",
      "[players stats summary 저장 완료] C:/Users/user080524/Desktop/project/PREMO/data/datas/1\\2021-2022\\Wolves\\20211204\\20211204_away_players_summary.csv\n",
      "[players stats summary 저장 완료] C:/Users/user080524/Desktop/project/PREMO/data/datas/1\\2021-2022\\Wolves\\20211204\\20211204_away_gk.csv\n"
     ]
    },
    {
     "name": "stderr",
     "output_type": "stream",
     "text": [
      "\n",
      "\u001b[A"
     ]
    },
    {
     "name": "stdout",
     "output_type": "stream",
     "text": [
      "[team_stats 저장 완료] C:/Users/user080524/Desktop/project/PREMO/data/datas/1\\2021-2022\\Wolves\\20211204\\20211204_team_stats.csv\n",
      "[players stats summary 저장 완료] C:/Users/user080524/Desktop/project/PREMO/data/datas/1\\2021-2022\\Wolves\\20211219\\20211219_home_palyers_summary.csv\n",
      "[players stats summary 저장 완료] C:/Users/user080524/Desktop/project/PREMO/data/datas/1\\2021-2022\\Wolves\\20211219\\20211219_home_gk.csv\n",
      "[players stats summary 저장 완료] C:/Users/user080524/Desktop/project/PREMO/data/datas/1\\2021-2022\\Wolves\\20211219\\20211219_away_players_summary.csv\n",
      "[players stats summary 저장 완료] C:/Users/user080524/Desktop/project/PREMO/data/datas/1\\2021-2022\\Wolves\\20211219\\20211219_away_gk.csv\n"
     ]
    },
    {
     "name": "stderr",
     "output_type": "stream",
     "text": [
      "\n",
      "\u001b[A"
     ]
    },
    {
     "name": "stdout",
     "output_type": "stream",
     "text": [
      "[team_stats 저장 완료] C:/Users/user080524/Desktop/project/PREMO/data/datas/1\\2021-2022\\Wolves\\20211219\\20211219_team_stats.csv\n",
      "[players stats summary 저장 완료] C:/Users/user080524/Desktop/project/PREMO/data/datas/1\\2021-2022\\Wolves\\20220115\\20220115_home_palyers_summary.csv\n",
      "[players stats summary 저장 완료] C:/Users/user080524/Desktop/project/PREMO/data/datas/1\\2021-2022\\Wolves\\20220115\\20220115_home_gk.csv\n",
      "[players stats summary 저장 완료] C:/Users/user080524/Desktop/project/PREMO/data/datas/1\\2021-2022\\Wolves\\20220115\\20220115_away_players_summary.csv\n",
      "[players stats summary 저장 완료] C:/Users/user080524/Desktop/project/PREMO/data/datas/1\\2021-2022\\Wolves\\20220115\\20220115_away_gk.csv\n"
     ]
    },
    {
     "name": "stderr",
     "output_type": "stream",
     "text": [
      "\n",
      "\u001b[A"
     ]
    },
    {
     "name": "stdout",
     "output_type": "stream",
     "text": [
      "[team_stats 저장 완료] C:/Users/user080524/Desktop/project/PREMO/data/datas/1\\2021-2022\\Wolves\\20220115\\20220115_team_stats.csv\n",
      "[players stats summary 저장 완료] C:/Users/user080524/Desktop/project/PREMO/data/datas/1\\2021-2022\\Wolves\\20220210\\20220210_home_palyers_summary.csv\n",
      "[players stats summary 저장 완료] C:/Users/user080524/Desktop/project/PREMO/data/datas/1\\2021-2022\\Wolves\\20220210\\20220210_home_gk.csv\n",
      "[players stats summary 저장 완료] C:/Users/user080524/Desktop/project/PREMO/data/datas/1\\2021-2022\\Wolves\\20220210\\20220210_away_players_summary.csv\n",
      "[players stats summary 저장 완료] C:/Users/user080524/Desktop/project/PREMO/data/datas/1\\2021-2022\\Wolves\\20220210\\20220210_away_gk.csv\n"
     ]
    },
    {
     "name": "stderr",
     "output_type": "stream",
     "text": [
      "\n",
      "\u001b[A"
     ]
    },
    {
     "name": "stdout",
     "output_type": "stream",
     "text": [
      "[team_stats 저장 완료] C:/Users/user080524/Desktop/project/PREMO/data/datas/1\\2021-2022\\Wolves\\20220210\\20220210_team_stats.csv\n",
      "[players stats summary 저장 완료] C:/Users/user080524/Desktop/project/PREMO/data/datas/1\\2021-2022\\Wolves\\20220220\\20220220_home_palyers_summary.csv\n",
      "[players stats summary 저장 완료] C:/Users/user080524/Desktop/project/PREMO/data/datas/1\\2021-2022\\Wolves\\20220220\\20220220_home_gk.csv\n",
      "[players stats summary 저장 완료] C:/Users/user080524/Desktop/project/PREMO/data/datas/1\\2021-2022\\Wolves\\20220220\\20220220_away_players_summary.csv\n",
      "[players stats summary 저장 완료] C:/Users/user080524/Desktop/project/PREMO/data/datas/1\\2021-2022\\Wolves\\20220220\\20220220_away_gk.csv\n"
     ]
    },
    {
     "name": "stderr",
     "output_type": "stream",
     "text": [
      "\n",
      "\u001b[A"
     ]
    },
    {
     "name": "stdout",
     "output_type": "stream",
     "text": [
      "[team_stats 저장 완료] C:/Users/user080524/Desktop/project/PREMO/data/datas/1\\2021-2022\\Wolves\\20220220\\20220220_team_stats.csv\n",
      "[players stats summary 저장 완료] C:/Users/user080524/Desktop/project/PREMO/data/datas/1\\2021-2022\\Wolves\\20220305\\20220305_home_palyers_summary.csv\n",
      "[players stats summary 저장 완료] C:/Users/user080524/Desktop/project/PREMO/data/datas/1\\2021-2022\\Wolves\\20220305\\20220305_home_gk.csv\n",
      "[players stats summary 저장 완료] C:/Users/user080524/Desktop/project/PREMO/data/datas/1\\2021-2022\\Wolves\\20220305\\20220305_away_players_summary.csv\n",
      "[players stats summary 저장 완료] C:/Users/user080524/Desktop/project/PREMO/data/datas/1\\2021-2022\\Wolves\\20220305\\20220305_away_gk.csv\n"
     ]
    },
    {
     "name": "stderr",
     "output_type": "stream",
     "text": [
      "\n",
      "\u001b[A"
     ]
    },
    {
     "name": "stdout",
     "output_type": "stream",
     "text": [
      "[team_stats 저장 완료] C:/Users/user080524/Desktop/project/PREMO/data/datas/1\\2021-2022\\Wolves\\20220305\\20220305_team_stats.csv\n",
      "[players stats summary 저장 완료] C:/Users/user080524/Desktop/project/PREMO/data/datas/1\\2021-2022\\Wolves\\20220310\\20220310_home_palyers_summary.csv\n",
      "[players stats summary 저장 완료] C:/Users/user080524/Desktop/project/PREMO/data/datas/1\\2021-2022\\Wolves\\20220310\\20220310_home_gk.csv\n",
      "[players stats summary 저장 완료] C:/Users/user080524/Desktop/project/PREMO/data/datas/1\\2021-2022\\Wolves\\20220310\\20220310_away_players_summary.csv\n",
      "[players stats summary 저장 완료] C:/Users/user080524/Desktop/project/PREMO/data/datas/1\\2021-2022\\Wolves\\20220310\\20220310_away_gk.csv\n"
     ]
    },
    {
     "name": "stderr",
     "output_type": "stream",
     "text": [
      "\n",
      "\u001b[A"
     ]
    },
    {
     "name": "stdout",
     "output_type": "stream",
     "text": [
      "team_stats 없음 could not convert string to float: ''\n",
      "[team_stats 저장 완료] C:/Users/user080524/Desktop/project/PREMO/data/datas/1\\2021-2022\\Wolves\\20220310\\20220310_team_stats.csv\n",
      "[players stats summary 저장 완료] C:/Users/user080524/Desktop/project/PREMO/data/datas/1\\2021-2022\\Wolves\\20220318\\20220318_home_palyers_summary.csv\n",
      "[players stats summary 저장 완료] C:/Users/user080524/Desktop/project/PREMO/data/datas/1\\2021-2022\\Wolves\\20220318\\20220318_home_gk.csv\n",
      "[players stats summary 저장 완료] C:/Users/user080524/Desktop/project/PREMO/data/datas/1\\2021-2022\\Wolves\\20220318\\20220318_away_players_summary.csv\n",
      "[players stats summary 저장 완료] C:/Users/user080524/Desktop/project/PREMO/data/datas/1\\2021-2022\\Wolves\\20220318\\20220318_away_gk.csv\n"
     ]
    },
    {
     "name": "stderr",
     "output_type": "stream",
     "text": [
      "\n",
      "\u001b[A"
     ]
    },
    {
     "name": "stdout",
     "output_type": "stream",
     "text": [
      "[team_stats 저장 완료] C:/Users/user080524/Desktop/project/PREMO/data/datas/1\\2021-2022\\Wolves\\20220318\\20220318_team_stats.csv\n",
      "[players stats summary 저장 완료] C:/Users/user080524/Desktop/project/PREMO/data/datas/1\\2021-2022\\Wolves\\20220402\\20220402_home_palyers_summary.csv\n",
      "[players stats summary 저장 완료] C:/Users/user080524/Desktop/project/PREMO/data/datas/1\\2021-2022\\Wolves\\20220402\\20220402_home_gk.csv\n",
      "[players stats summary 저장 완료] C:/Users/user080524/Desktop/project/PREMO/data/datas/1\\2021-2022\\Wolves\\20220402\\20220402_away_players_summary.csv\n",
      "[players stats summary 저장 완료] C:/Users/user080524/Desktop/project/PREMO/data/datas/1\\2021-2022\\Wolves\\20220402\\20220402_away_gk.csv\n"
     ]
    },
    {
     "name": "stderr",
     "output_type": "stream",
     "text": [
      "\n",
      "\u001b[A"
     ]
    },
    {
     "name": "stdout",
     "output_type": "stream",
     "text": [
      "[team_stats 저장 완료] C:/Users/user080524/Desktop/project/PREMO/data/datas/1\\2021-2022\\Wolves\\20220402\\20220402_team_stats.csv\n",
      "[players stats summary 저장 완료] C:/Users/user080524/Desktop/project/PREMO/data/datas/1\\2021-2022\\Wolves\\20220430\\20220430_home_palyers_summary.csv\n",
      "[players stats summary 저장 완료] C:/Users/user080524/Desktop/project/PREMO/data/datas/1\\2021-2022\\Wolves\\20220430\\20220430_home_gk.csv\n",
      "[players stats summary 저장 완료] C:/Users/user080524/Desktop/project/PREMO/data/datas/1\\2021-2022\\Wolves\\20220430\\20220430_away_players_summary.csv\n",
      "[players stats summary 저장 완료] C:/Users/user080524/Desktop/project/PREMO/data/datas/1\\2021-2022\\Wolves\\20220430\\20220430_away_gk.csv\n"
     ]
    },
    {
     "name": "stderr",
     "output_type": "stream",
     "text": [
      "\n",
      "\u001b[A"
     ]
    },
    {
     "name": "stdout",
     "output_type": "stream",
     "text": [
      "[team_stats 저장 완료] C:/Users/user080524/Desktop/project/PREMO/data/datas/1\\2021-2022\\Wolves\\20220430\\20220430_team_stats.csv\n",
      "[players stats summary 저장 완료] C:/Users/user080524/Desktop/project/PREMO/data/datas/1\\2021-2022\\Wolves\\20220511\\20220511_home_palyers_summary.csv\n",
      "[players stats summary 저장 완료] C:/Users/user080524/Desktop/project/PREMO/data/datas/1\\2021-2022\\Wolves\\20220511\\20220511_home_gk.csv\n",
      "[players stats summary 저장 완료] C:/Users/user080524/Desktop/project/PREMO/data/datas/1\\2021-2022\\Wolves\\20220511\\20220511_away_players_summary.csv\n",
      "[players stats summary 저장 완료] C:/Users/user080524/Desktop/project/PREMO/data/datas/1\\2021-2022\\Wolves\\20220511\\20220511_away_gk.csv\n"
     ]
    },
    {
     "name": "stderr",
     "output_type": "stream",
     "text": [
      "\n",
      "\u001b[A"
     ]
    },
    {
     "name": "stdout",
     "output_type": "stream",
     "text": [
      "[team_stats 저장 완료] C:/Users/user080524/Desktop/project/PREMO/data/datas/1\\2021-2022\\Wolves\\20220511\\20220511_team_stats.csv\n",
      "[players stats summary 저장 완료] C:/Users/user080524/Desktop/project/PREMO/data/datas/1\\2021-2022\\Wolves\\20220515\\20220515_home_palyers_summary.csv\n",
      "[players stats summary 저장 완료] C:/Users/user080524/Desktop/project/PREMO/data/datas/1\\2021-2022\\Wolves\\20220515\\20220515_home_gk.csv\n",
      "[players stats summary 저장 완료] C:/Users/user080524/Desktop/project/PREMO/data/datas/1\\2021-2022\\Wolves\\20220515\\20220515_away_players_summary.csv\n",
      "[players stats summary 저장 완료] C:/Users/user080524/Desktop/project/PREMO/data/datas/1\\2021-2022\\Wolves\\20220515\\20220515_away_gk.csv\n"
     ]
    },
    {
     "name": "stderr",
     "output_type": "stream",
     "text": [
      "\n",
      "\u001b[A\n",
      "\u001b[A"
     ]
    },
    {
     "name": "stdout",
     "output_type": "stream",
     "text": [
      "[team_stats 저장 완료] C:/Users/user080524/Desktop/project/PREMO/data/datas/1\\2021-2022\\Wolves\\20220515\\20220515_team_stats.csv\n",
      "[시즌 페이지 로딩] URL: https://fbref.com/en/comps/9/2021-2022/2021-2022-Premier-League-Stats\n",
      "팀: Newcastle Utd, 링크:https://fbref.com/en/squads/b2b47a98/2021-2022/Newcastle-United-Stats\n",
      "20210815\n",
      "https://fbref.com/en/matches/41091264/Newcastle-United-West-Ham-United-August-15-2021-Premier-League\n",
      "20210828\n",
      "https://fbref.com/en/matches/d81af076/Newcastle-United-Southampton-August-28-2021-Premier-League\n",
      "20210917\n",
      "https://fbref.com/en/matches/aad7d38a/Newcastle-United-Leeds-United-September-17-2021-Premier-League\n",
      "20211017\n",
      "https://fbref.com/en/matches/4bd69343/Newcastle-United-Tottenham-Hotspur-October-17-2021-Premier-League\n",
      "match row 처리 중 오류: Message: no such element: Unable to locate element: {\"method\":\"css selector\",\"selector\":\"td[data-stat=\"comp\"]\"}\n",
      "  (Session info: chrome=136.0.7103.114); For documentation on this error, please visit: https://www.selenium.dev/documentation/webdriver/troubleshooting/errors#no-such-element-exception\n",
      "Stacktrace:\n",
      "\tGetHandleVerifier [0x00007FF7535BCF45+75717]\n",
      "\tGetHandleVerifier [0x00007FF7535BCFA0+75808]\n",
      "\t(No symbol) [0x00007FF753388F9A]\n",
      "\t(No symbol) [0x00007FF7533DF4C6]\n",
      "\t(No symbol) [0x00007FF7533DF77C]\n",
      "\t(No symbol) [0x00007FF7533D1D7C]\n",
      "\t(No symbol) [0x00007FF7534073BF]\n",
      "\t(No symbol) [0x00007FF7533D1C46]\n",
      "\t(No symbol) [0x00007FF753407590]\n",
      "\t(No symbol) [0x00007FF75342F39C]\n",
      "\t(No symbol) [0x00007FF753407153]\n",
      "\t(No symbol) [0x00007FF7533D0421]\n",
      "\t(No symbol) [0x00007FF7533D11B3]\n",
      "\tGetHandleVerifier [0x00007FF7538BD71D+3223453]\n",
      "\tGetHandleVerifier [0x00007FF7538B7CC2+3200322]\n",
      "\tGetHandleVerifier [0x00007FF7538D5AF3+3322739]\n",
      "\tGetHandleVerifier [0x00007FF7535D6A1A+180890]\n",
      "\tGetHandleVerifier [0x00007FF7535DE11F+211359]\n",
      "\tGetHandleVerifier [0x00007FF7535C5294+109332]\n",
      "\tGetHandleVerifier [0x00007FF7535C5442+109762]\n",
      "\tGetHandleVerifier [0x00007FF7535ABA59+4825]\n",
      "\tBaseThreadInitThunk [0x00007FFE15767374+20]\n",
      "\tRtlUserThreadStart [0x00007FFE16F5CC91+33]\n",
      "\n",
      "20211030\n",
      "https://fbref.com/en/matches/49478cd2/Newcastle-United-Chelsea-October-30-2021-Premier-League\n",
      "20211120\n",
      "https://fbref.com/en/matches/adbf56bc/Newcastle-United-Brentford-November-20-2021-Premier-League\n",
      "20211130\n",
      "https://fbref.com/en/matches/ce4d873f/Newcastle-United-Norwich-City-November-30-2021-Premier-League\n",
      "20211204\n",
      "https://fbref.com/en/matches/11ed382d/Newcastle-United-Burnley-December-4-2021-Premier-League\n",
      "20211219\n",
      "https://fbref.com/en/matches/4d9bcee9/Newcastle-United-Manchester-City-December-19-2021-Premier-League\n",
      "20211227\n",
      "https://fbref.com/en/matches/f91fee43/Newcastle-United-Manchester-United-December-27-2021-Premier-League\n",
      "match row 처리 중 오류: Message: no such element: Unable to locate element: {\"method\":\"css selector\",\"selector\":\"td[data-stat=\"comp\"]\"}\n",
      "  (Session info: chrome=136.0.7103.114); For documentation on this error, please visit: https://www.selenium.dev/documentation/webdriver/troubleshooting/errors#no-such-element-exception\n",
      "Stacktrace:\n",
      "\tGetHandleVerifier [0x00007FF7535BCF45+75717]\n",
      "\tGetHandleVerifier [0x00007FF7535BCFA0+75808]\n",
      "\t(No symbol) [0x00007FF753388F9A]\n",
      "\t(No symbol) [0x00007FF7533DF4C6]\n",
      "\t(No symbol) [0x00007FF7533DF77C]\n",
      "\t(No symbol) [0x00007FF7533D1D7C]\n",
      "\t(No symbol) [0x00007FF7534073BF]\n",
      "\t(No symbol) [0x00007FF7533D1C46]\n",
      "\t(No symbol) [0x00007FF753407590]\n",
      "\t(No symbol) [0x00007FF75342F39C]\n",
      "\t(No symbol) [0x00007FF753407153]\n",
      "\t(No symbol) [0x00007FF7533D0421]\n",
      "\t(No symbol) [0x00007FF7533D11B3]\n",
      "\tGetHandleVerifier [0x00007FF7538BD71D+3223453]\n",
      "\tGetHandleVerifier [0x00007FF7538B7CC2+3200322]\n",
      "\tGetHandleVerifier [0x00007FF7538D5AF3+3322739]\n",
      "\tGetHandleVerifier [0x00007FF7535D6A1A+180890]\n",
      "\tGetHandleVerifier [0x00007FF7535DE11F+211359]\n",
      "\tGetHandleVerifier [0x00007FF7535C5294+109332]\n",
      "\tGetHandleVerifier [0x00007FF7535C5442+109762]\n",
      "\tGetHandleVerifier [0x00007FF7535ABA59+4825]\n",
      "\tBaseThreadInitThunk [0x00007FFE15767374+20]\n",
      "\tRtlUserThreadStart [0x00007FFE16F5CC91+33]\n",
      "\n",
      "20220115\n",
      "https://fbref.com/en/matches/64dd3e3f/Newcastle-United-Watford-January-15-2022-Premier-League\n",
      "20220208\n",
      "https://fbref.com/en/matches/fde8d97d/Newcastle-United-Everton-February-8-2022-Premier-League\n",
      "20220213\n",
      "https://fbref.com/en/matches/59b88877/Newcastle-United-Aston-Villa-February-13-2022-Premier-League\n",
      "20220305\n",
      "https://fbref.com/en/matches/02337bda/Newcastle-United-Brighton-and-Hove-Albion-March-5-2022-Premier-League\n",
      "match row 처리 중 오류: Message: no such element: Unable to locate element: {\"method\":\"css selector\",\"selector\":\"td[data-stat=\"comp\"]\"}\n",
      "  (Session info: chrome=136.0.7103.114); For documentation on this error, please visit: https://www.selenium.dev/documentation/webdriver/troubleshooting/errors#no-such-element-exception\n",
      "Stacktrace:\n",
      "\tGetHandleVerifier [0x00007FF7535BCF45+75717]\n",
      "\tGetHandleVerifier [0x00007FF7535BCFA0+75808]\n",
      "\t(No symbol) [0x00007FF753388F9A]\n",
      "\t(No symbol) [0x00007FF7533DF4C6]\n",
      "\t(No symbol) [0x00007FF7533DF77C]\n",
      "\t(No symbol) [0x00007FF7533D1D7C]\n",
      "\t(No symbol) [0x00007FF7534073BF]\n",
      "\t(No symbol) [0x00007FF7533D1C46]\n",
      "\t(No symbol) [0x00007FF753407590]\n",
      "\t(No symbol) [0x00007FF75342F39C]\n",
      "\t(No symbol) [0x00007FF753407153]\n",
      "\t(No symbol) [0x00007FF7533D0421]\n",
      "\t(No symbol) [0x00007FF7533D11B3]\n",
      "\tGetHandleVerifier [0x00007FF7538BD71D+3223453]\n",
      "\tGetHandleVerifier [0x00007FF7538B7CC2+3200322]\n",
      "\tGetHandleVerifier [0x00007FF7538D5AF3+3322739]\n",
      "\tGetHandleVerifier [0x00007FF7535D6A1A+180890]\n",
      "\tGetHandleVerifier [0x00007FF7535DE11F+211359]\n",
      "\tGetHandleVerifier [0x00007FF7535C5294+109332]\n",
      "\tGetHandleVerifier [0x00007FF7535C5442+109762]\n",
      "\tGetHandleVerifier [0x00007FF7535ABA59+4825]\n",
      "\tBaseThreadInitThunk [0x00007FFE15767374+20]\n",
      "\tRtlUserThreadStart [0x00007FFE16F5CC91+33]\n",
      "\n",
      "20220408\n",
      "https://fbref.com/en/matches/739d8264/Newcastle-United-Wolverhampton-Wanderers-April-8-2022-Premier-League\n",
      "20220417\n",
      "https://fbref.com/en/matches/89803b3a/Newcastle-United-Leicester-City-April-17-2022-Premier-League\n",
      "20220420\n",
      "https://fbref.com/en/matches/7a668764/Newcastle-United-Crystal-Palace-April-20-2022-Premier-League\n",
      "20220430\n",
      "https://fbref.com/en/matches/d736eab8/Newcastle-United-Liverpool-April-30-2022-Premier-League\n",
      "20220516\n",
      "https://fbref.com/en/matches/a3b3a0d5/Newcastle-United-Arsenal-May-16-2022-Premier-League\n",
      "19\n",
      "19\n"
     ]
    },
    {
     "name": "stderr",
     "output_type": "stream",
     "text": [
      "\n",
      "\u001b[A"
     ]
    },
    {
     "name": "stdout",
     "output_type": "stream",
     "text": [
      "[players stats summary 저장 완료] C:/Users/user080524/Desktop/project/PREMO/data/datas/1\\2021-2022\\Newcastle Utd\\20210815\\20210815_home_palyers_summary.csv\n",
      "[players stats summary 저장 완료] C:/Users/user080524/Desktop/project/PREMO/data/datas/1\\2021-2022\\Newcastle Utd\\20210815\\20210815_home_gk.csv\n",
      "[players stats summary 저장 완료] C:/Users/user080524/Desktop/project/PREMO/data/datas/1\\2021-2022\\Newcastle Utd\\20210815\\20210815_away_players_summary.csv\n",
      "[players stats summary 저장 완료] C:/Users/user080524/Desktop/project/PREMO/data/datas/1\\2021-2022\\Newcastle Utd\\20210815\\20210815_away_gk.csv\n"
     ]
    },
    {
     "name": "stderr",
     "output_type": "stream",
     "text": [
      "\n",
      "\u001b[A"
     ]
    },
    {
     "name": "stdout",
     "output_type": "stream",
     "text": [
      "[team_stats 저장 완료] C:/Users/user080524/Desktop/project/PREMO/data/datas/1\\2021-2022\\Newcastle Utd\\20210815\\20210815_team_stats.csv\n",
      "[players stats summary 저장 완료] C:/Users/user080524/Desktop/project/PREMO/data/datas/1\\2021-2022\\Newcastle Utd\\20210828\\20210828_home_palyers_summary.csv\n",
      "[players stats summary 저장 완료] C:/Users/user080524/Desktop/project/PREMO/data/datas/1\\2021-2022\\Newcastle Utd\\20210828\\20210828_home_gk.csv\n",
      "[players stats summary 저장 완료] C:/Users/user080524/Desktop/project/PREMO/data/datas/1\\2021-2022\\Newcastle Utd\\20210828\\20210828_away_players_summary.csv\n",
      "[players stats summary 저장 완료] C:/Users/user080524/Desktop/project/PREMO/data/datas/1\\2021-2022\\Newcastle Utd\\20210828\\20210828_away_gk.csv\n"
     ]
    },
    {
     "name": "stderr",
     "output_type": "stream",
     "text": [
      "\n",
      "\u001b[A"
     ]
    },
    {
     "name": "stdout",
     "output_type": "stream",
     "text": [
      "[team_stats 저장 완료] C:/Users/user080524/Desktop/project/PREMO/data/datas/1\\2021-2022\\Newcastle Utd\\20210828\\20210828_team_stats.csv\n",
      "[players stats summary 저장 완료] C:/Users/user080524/Desktop/project/PREMO/data/datas/1\\2021-2022\\Newcastle Utd\\20210917\\20210917_home_palyers_summary.csv\n",
      "[players stats summary 저장 완료] C:/Users/user080524/Desktop/project/PREMO/data/datas/1\\2021-2022\\Newcastle Utd\\20210917\\20210917_home_gk.csv\n",
      "[players stats summary 저장 완료] C:/Users/user080524/Desktop/project/PREMO/data/datas/1\\2021-2022\\Newcastle Utd\\20210917\\20210917_away_players_summary.csv\n",
      "[players stats summary 저장 완료] C:/Users/user080524/Desktop/project/PREMO/data/datas/1\\2021-2022\\Newcastle Utd\\20210917\\20210917_away_gk.csv\n"
     ]
    },
    {
     "name": "stderr",
     "output_type": "stream",
     "text": [
      "\n",
      "\u001b[A"
     ]
    },
    {
     "name": "stdout",
     "output_type": "stream",
     "text": [
      "[team_stats 저장 완료] C:/Users/user080524/Desktop/project/PREMO/data/datas/1\\2021-2022\\Newcastle Utd\\20210917\\20210917_team_stats.csv\n",
      "[players stats summary 저장 완료] C:/Users/user080524/Desktop/project/PREMO/data/datas/1\\2021-2022\\Newcastle Utd\\20211017\\20211017_home_palyers_summary.csv\n",
      "[players stats summary 저장 완료] C:/Users/user080524/Desktop/project/PREMO/data/datas/1\\2021-2022\\Newcastle Utd\\20211017\\20211017_home_gk.csv\n",
      "[players stats summary 저장 완료] C:/Users/user080524/Desktop/project/PREMO/data/datas/1\\2021-2022\\Newcastle Utd\\20211017\\20211017_away_players_summary.csv\n",
      "[players stats summary 저장 완료] C:/Users/user080524/Desktop/project/PREMO/data/datas/1\\2021-2022\\Newcastle Utd\\20211017\\20211017_away_gk.csv\n"
     ]
    },
    {
     "name": "stderr",
     "output_type": "stream",
     "text": [
      "\n",
      "\u001b[A"
     ]
    },
    {
     "name": "stdout",
     "output_type": "stream",
     "text": [
      "[team_stats 저장 완료] C:/Users/user080524/Desktop/project/PREMO/data/datas/1\\2021-2022\\Newcastle Utd\\20211017\\20211017_team_stats.csv\n",
      "[players stats summary 저장 완료] C:/Users/user080524/Desktop/project/PREMO/data/datas/1\\2021-2022\\Newcastle Utd\\20211030\\20211030_home_palyers_summary.csv\n",
      "[players stats summary 저장 완료] C:/Users/user080524/Desktop/project/PREMO/data/datas/1\\2021-2022\\Newcastle Utd\\20211030\\20211030_home_gk.csv\n",
      "[players stats summary 저장 완료] C:/Users/user080524/Desktop/project/PREMO/data/datas/1\\2021-2022\\Newcastle Utd\\20211030\\20211030_away_players_summary.csv\n",
      "[players stats summary 저장 완료] C:/Users/user080524/Desktop/project/PREMO/data/datas/1\\2021-2022\\Newcastle Utd\\20211030\\20211030_away_gk.csv\n"
     ]
    },
    {
     "name": "stderr",
     "output_type": "stream",
     "text": [
      "\n",
      "\u001b[A"
     ]
    },
    {
     "name": "stdout",
     "output_type": "stream",
     "text": [
      "[team_stats 저장 완료] C:/Users/user080524/Desktop/project/PREMO/data/datas/1\\2021-2022\\Newcastle Utd\\20211030\\20211030_team_stats.csv\n",
      "[players stats summary 저장 완료] C:/Users/user080524/Desktop/project/PREMO/data/datas/1\\2021-2022\\Newcastle Utd\\20211120\\20211120_home_palyers_summary.csv\n",
      "[players stats summary 저장 완료] C:/Users/user080524/Desktop/project/PREMO/data/datas/1\\2021-2022\\Newcastle Utd\\20211120\\20211120_home_gk.csv\n",
      "[players stats summary 저장 완료] C:/Users/user080524/Desktop/project/PREMO/data/datas/1\\2021-2022\\Newcastle Utd\\20211120\\20211120_away_players_summary.csv\n",
      "[players stats summary 저장 완료] C:/Users/user080524/Desktop/project/PREMO/data/datas/1\\2021-2022\\Newcastle Utd\\20211120\\20211120_away_gk.csv\n"
     ]
    },
    {
     "name": "stderr",
     "output_type": "stream",
     "text": [
      "\n",
      "\u001b[A"
     ]
    },
    {
     "name": "stdout",
     "output_type": "stream",
     "text": [
      "[team_stats 저장 완료] C:/Users/user080524/Desktop/project/PREMO/data/datas/1\\2021-2022\\Newcastle Utd\\20211120\\20211120_team_stats.csv\n",
      "[players stats summary 저장 완료] C:/Users/user080524/Desktop/project/PREMO/data/datas/1\\2021-2022\\Newcastle Utd\\20211130\\20211130_home_palyers_summary.csv\n",
      "[players stats summary 저장 완료] C:/Users/user080524/Desktop/project/PREMO/data/datas/1\\2021-2022\\Newcastle Utd\\20211130\\20211130_home_gk.csv\n",
      "[players stats summary 저장 완료] C:/Users/user080524/Desktop/project/PREMO/data/datas/1\\2021-2022\\Newcastle Utd\\20211130\\20211130_away_players_summary.csv\n",
      "[players stats summary 저장 완료] C:/Users/user080524/Desktop/project/PREMO/data/datas/1\\2021-2022\\Newcastle Utd\\20211130\\20211130_away_gk.csv\n"
     ]
    },
    {
     "name": "stderr",
     "output_type": "stream",
     "text": [
      "\n",
      "\u001b[A"
     ]
    },
    {
     "name": "stdout",
     "output_type": "stream",
     "text": [
      "team_stats 없음 could not convert string to float: ''\n",
      "[team_stats 저장 완료] C:/Users/user080524/Desktop/project/PREMO/data/datas/1\\2021-2022\\Newcastle Utd\\20211130\\20211130_team_stats.csv\n",
      "[players stats summary 저장 완료] C:/Users/user080524/Desktop/project/PREMO/data/datas/1\\2021-2022\\Newcastle Utd\\20211204\\20211204_home_palyers_summary.csv\n",
      "[players stats summary 저장 완료] C:/Users/user080524/Desktop/project/PREMO/data/datas/1\\2021-2022\\Newcastle Utd\\20211204\\20211204_home_gk.csv\n",
      "[players stats summary 저장 완료] C:/Users/user080524/Desktop/project/PREMO/data/datas/1\\2021-2022\\Newcastle Utd\\20211204\\20211204_away_players_summary.csv\n",
      "[players stats summary 저장 완료] C:/Users/user080524/Desktop/project/PREMO/data/datas/1\\2021-2022\\Newcastle Utd\\20211204\\20211204_away_gk.csv\n"
     ]
    },
    {
     "name": "stderr",
     "output_type": "stream",
     "text": [
      "\n",
      "\u001b[A"
     ]
    },
    {
     "name": "stdout",
     "output_type": "stream",
     "text": [
      "[team_stats 저장 완료] C:/Users/user080524/Desktop/project/PREMO/data/datas/1\\2021-2022\\Newcastle Utd\\20211204\\20211204_team_stats.csv\n",
      "[players stats summary 저장 완료] C:/Users/user080524/Desktop/project/PREMO/data/datas/1\\2021-2022\\Newcastle Utd\\20211219\\20211219_home_palyers_summary.csv\n",
      "[players stats summary 저장 완료] C:/Users/user080524/Desktop/project/PREMO/data/datas/1\\2021-2022\\Newcastle Utd\\20211219\\20211219_home_gk.csv\n",
      "[players stats summary 저장 완료] C:/Users/user080524/Desktop/project/PREMO/data/datas/1\\2021-2022\\Newcastle Utd\\20211219\\20211219_away_players_summary.csv\n",
      "[players stats summary 저장 완료] C:/Users/user080524/Desktop/project/PREMO/data/datas/1\\2021-2022\\Newcastle Utd\\20211219\\20211219_away_gk.csv\n"
     ]
    },
    {
     "name": "stderr",
     "output_type": "stream",
     "text": [
      "\n",
      "\u001b[A"
     ]
    },
    {
     "name": "stdout",
     "output_type": "stream",
     "text": [
      "[team_stats 저장 완료] C:/Users/user080524/Desktop/project/PREMO/data/datas/1\\2021-2022\\Newcastle Utd\\20211219\\20211219_team_stats.csv\n",
      "[players stats summary 저장 완료] C:/Users/user080524/Desktop/project/PREMO/data/datas/1\\2021-2022\\Newcastle Utd\\20211227\\20211227_home_palyers_summary.csv\n",
      "[players stats summary 저장 완료] C:/Users/user080524/Desktop/project/PREMO/data/datas/1\\2021-2022\\Newcastle Utd\\20211227\\20211227_home_gk.csv\n",
      "[players stats summary 저장 완료] C:/Users/user080524/Desktop/project/PREMO/data/datas/1\\2021-2022\\Newcastle Utd\\20211227\\20211227_away_players_summary.csv\n",
      "[players stats summary 저장 완료] C:/Users/user080524/Desktop/project/PREMO/data/datas/1\\2021-2022\\Newcastle Utd\\20211227\\20211227_away_gk.csv\n"
     ]
    },
    {
     "name": "stderr",
     "output_type": "stream",
     "text": [
      "\n",
      "\u001b[A"
     ]
    },
    {
     "name": "stdout",
     "output_type": "stream",
     "text": [
      "[team_stats 저장 완료] C:/Users/user080524/Desktop/project/PREMO/data/datas/1\\2021-2022\\Newcastle Utd\\20211227\\20211227_team_stats.csv\n",
      "[players stats summary 저장 완료] C:/Users/user080524/Desktop/project/PREMO/data/datas/1\\2021-2022\\Newcastle Utd\\20220115\\20220115_home_palyers_summary.csv\n",
      "[players stats summary 저장 완료] C:/Users/user080524/Desktop/project/PREMO/data/datas/1\\2021-2022\\Newcastle Utd\\20220115\\20220115_home_gk.csv\n",
      "[players stats summary 저장 완료] C:/Users/user080524/Desktop/project/PREMO/data/datas/1\\2021-2022\\Newcastle Utd\\20220115\\20220115_away_players_summary.csv\n",
      "[players stats summary 저장 완료] C:/Users/user080524/Desktop/project/PREMO/data/datas/1\\2021-2022\\Newcastle Utd\\20220115\\20220115_away_gk.csv\n"
     ]
    },
    {
     "name": "stderr",
     "output_type": "stream",
     "text": [
      "\n",
      "\u001b[A"
     ]
    },
    {
     "name": "stdout",
     "output_type": "stream",
     "text": [
      "[team_stats 저장 완료] C:/Users/user080524/Desktop/project/PREMO/data/datas/1\\2021-2022\\Newcastle Utd\\20220115\\20220115_team_stats.csv\n",
      "[players stats summary 저장 완료] C:/Users/user080524/Desktop/project/PREMO/data/datas/1\\2021-2022\\Newcastle Utd\\20220208\\20220208_home_palyers_summary.csv\n",
      "[players stats summary 저장 완료] C:/Users/user080524/Desktop/project/PREMO/data/datas/1\\2021-2022\\Newcastle Utd\\20220208\\20220208_home_gk.csv\n",
      "[players stats summary 저장 완료] C:/Users/user080524/Desktop/project/PREMO/data/datas/1\\2021-2022\\Newcastle Utd\\20220208\\20220208_away_players_summary.csv\n",
      "[players stats summary 저장 완료] C:/Users/user080524/Desktop/project/PREMO/data/datas/1\\2021-2022\\Newcastle Utd\\20220208\\20220208_away_gk.csv\n"
     ]
    },
    {
     "name": "stderr",
     "output_type": "stream",
     "text": [
      "\n",
      "\u001b[A"
     ]
    },
    {
     "name": "stdout",
     "output_type": "stream",
     "text": [
      "[team_stats 저장 완료] C:/Users/user080524/Desktop/project/PREMO/data/datas/1\\2021-2022\\Newcastle Utd\\20220208\\20220208_team_stats.csv\n",
      "[players stats summary 저장 완료] C:/Users/user080524/Desktop/project/PREMO/data/datas/1\\2021-2022\\Newcastle Utd\\20220213\\20220213_home_palyers_summary.csv\n",
      "[players stats summary 저장 완료] C:/Users/user080524/Desktop/project/PREMO/data/datas/1\\2021-2022\\Newcastle Utd\\20220213\\20220213_home_gk.csv\n",
      "[players stats summary 저장 완료] C:/Users/user080524/Desktop/project/PREMO/data/datas/1\\2021-2022\\Newcastle Utd\\20220213\\20220213_away_players_summary.csv\n",
      "[players stats summary 저장 완료] C:/Users/user080524/Desktop/project/PREMO/data/datas/1\\2021-2022\\Newcastle Utd\\20220213\\20220213_away_gk.csv\n"
     ]
    },
    {
     "name": "stderr",
     "output_type": "stream",
     "text": [
      "\n",
      "\u001b[A"
     ]
    },
    {
     "name": "stdout",
     "output_type": "stream",
     "text": [
      "[team_stats 저장 완료] C:/Users/user080524/Desktop/project/PREMO/data/datas/1\\2021-2022\\Newcastle Utd\\20220213\\20220213_team_stats.csv\n",
      "[players stats summary 저장 완료] C:/Users/user080524/Desktop/project/PREMO/data/datas/1\\2021-2022\\Newcastle Utd\\20220305\\20220305_home_palyers_summary.csv\n",
      "[players stats summary 저장 완료] C:/Users/user080524/Desktop/project/PREMO/data/datas/1\\2021-2022\\Newcastle Utd\\20220305\\20220305_home_gk.csv\n",
      "[players stats summary 저장 완료] C:/Users/user080524/Desktop/project/PREMO/data/datas/1\\2021-2022\\Newcastle Utd\\20220305\\20220305_away_players_summary.csv\n",
      "[players stats summary 저장 완료] C:/Users/user080524/Desktop/project/PREMO/data/datas/1\\2021-2022\\Newcastle Utd\\20220305\\20220305_away_gk.csv\n"
     ]
    },
    {
     "name": "stderr",
     "output_type": "stream",
     "text": [
      "\n",
      "\u001b[A"
     ]
    },
    {
     "name": "stdout",
     "output_type": "stream",
     "text": [
      "[team_stats 저장 완료] C:/Users/user080524/Desktop/project/PREMO/data/datas/1\\2021-2022\\Newcastle Utd\\20220305\\20220305_team_stats.csv\n",
      "[players stats summary 저장 완료] C:/Users/user080524/Desktop/project/PREMO/data/datas/1\\2021-2022\\Newcastle Utd\\20220408\\20220408_home_palyers_summary.csv\n",
      "[players stats summary 저장 완료] C:/Users/user080524/Desktop/project/PREMO/data/datas/1\\2021-2022\\Newcastle Utd\\20220408\\20220408_home_gk.csv\n",
      "[players stats summary 저장 완료] C:/Users/user080524/Desktop/project/PREMO/data/datas/1\\2021-2022\\Newcastle Utd\\20220408\\20220408_away_players_summary.csv\n",
      "[players stats summary 저장 완료] C:/Users/user080524/Desktop/project/PREMO/data/datas/1\\2021-2022\\Newcastle Utd\\20220408\\20220408_away_gk.csv\n"
     ]
    },
    {
     "name": "stderr",
     "output_type": "stream",
     "text": [
      "\n",
      "\u001b[A"
     ]
    },
    {
     "name": "stdout",
     "output_type": "stream",
     "text": [
      "[team_stats 저장 완료] C:/Users/user080524/Desktop/project/PREMO/data/datas/1\\2021-2022\\Newcastle Utd\\20220408\\20220408_team_stats.csv\n",
      "[players stats summary 저장 완료] C:/Users/user080524/Desktop/project/PREMO/data/datas/1\\2021-2022\\Newcastle Utd\\20220417\\20220417_home_palyers_summary.csv\n",
      "[players stats summary 저장 완료] C:/Users/user080524/Desktop/project/PREMO/data/datas/1\\2021-2022\\Newcastle Utd\\20220417\\20220417_home_gk.csv\n",
      "[players stats summary 저장 완료] C:/Users/user080524/Desktop/project/PREMO/data/datas/1\\2021-2022\\Newcastle Utd\\20220417\\20220417_away_players_summary.csv\n",
      "[players stats summary 저장 완료] C:/Users/user080524/Desktop/project/PREMO/data/datas/1\\2021-2022\\Newcastle Utd\\20220417\\20220417_away_gk.csv\n"
     ]
    },
    {
     "name": "stderr",
     "output_type": "stream",
     "text": [
      "\n",
      "\u001b[A"
     ]
    },
    {
     "name": "stdout",
     "output_type": "stream",
     "text": [
      "[team_stats 저장 완료] C:/Users/user080524/Desktop/project/PREMO/data/datas/1\\2021-2022\\Newcastle Utd\\20220417\\20220417_team_stats.csv\n",
      "[players stats summary 저장 완료] C:/Users/user080524/Desktop/project/PREMO/data/datas/1\\2021-2022\\Newcastle Utd\\20220420\\20220420_home_palyers_summary.csv\n",
      "[players stats summary 저장 완료] C:/Users/user080524/Desktop/project/PREMO/data/datas/1\\2021-2022\\Newcastle Utd\\20220420\\20220420_home_gk.csv\n",
      "[players stats summary 저장 완료] C:/Users/user080524/Desktop/project/PREMO/data/datas/1\\2021-2022\\Newcastle Utd\\20220420\\20220420_away_players_summary.csv\n",
      "[players stats summary 저장 완료] C:/Users/user080524/Desktop/project/PREMO/data/datas/1\\2021-2022\\Newcastle Utd\\20220420\\20220420_away_gk.csv\n"
     ]
    },
    {
     "name": "stderr",
     "output_type": "stream",
     "text": [
      "\n",
      "\u001b[A"
     ]
    },
    {
     "name": "stdout",
     "output_type": "stream",
     "text": [
      "[team_stats 저장 완료] C:/Users/user080524/Desktop/project/PREMO/data/datas/1\\2021-2022\\Newcastle Utd\\20220420\\20220420_team_stats.csv\n",
      "[players stats summary 저장 완료] C:/Users/user080524/Desktop/project/PREMO/data/datas/1\\2021-2022\\Newcastle Utd\\20220430\\20220430_home_palyers_summary.csv\n",
      "[players stats summary 저장 완료] C:/Users/user080524/Desktop/project/PREMO/data/datas/1\\2021-2022\\Newcastle Utd\\20220430\\20220430_home_gk.csv\n",
      "[players stats summary 저장 완료] C:/Users/user080524/Desktop/project/PREMO/data/datas/1\\2021-2022\\Newcastle Utd\\20220430\\20220430_away_players_summary.csv\n",
      "[players stats summary 저장 완료] C:/Users/user080524/Desktop/project/PREMO/data/datas/1\\2021-2022\\Newcastle Utd\\20220430\\20220430_away_gk.csv\n"
     ]
    },
    {
     "name": "stderr",
     "output_type": "stream",
     "text": [
      "\n",
      "\u001b[A"
     ]
    },
    {
     "name": "stdout",
     "output_type": "stream",
     "text": [
      "[team_stats 저장 완료] C:/Users/user080524/Desktop/project/PREMO/data/datas/1\\2021-2022\\Newcastle Utd\\20220430\\20220430_team_stats.csv\n",
      "[players stats summary 저장 완료] C:/Users/user080524/Desktop/project/PREMO/data/datas/1\\2021-2022\\Newcastle Utd\\20220516\\20220516_home_palyers_summary.csv\n",
      "[players stats summary 저장 완료] C:/Users/user080524/Desktop/project/PREMO/data/datas/1\\2021-2022\\Newcastle Utd\\20220516\\20220516_home_gk.csv\n",
      "[players stats summary 저장 완료] C:/Users/user080524/Desktop/project/PREMO/data/datas/1\\2021-2022\\Newcastle Utd\\20220516\\20220516_away_players_summary.csv\n",
      "[players stats summary 저장 완료] C:/Users/user080524/Desktop/project/PREMO/data/datas/1\\2021-2022\\Newcastle Utd\\20220516\\20220516_away_gk.csv\n"
     ]
    },
    {
     "name": "stderr",
     "output_type": "stream",
     "text": [
      "\n",
      "\u001b[A\n",
      "\u001b[A"
     ]
    },
    {
     "name": "stdout",
     "output_type": "stream",
     "text": [
      "[team_stats 저장 완료] C:/Users/user080524/Desktop/project/PREMO/data/datas/1\\2021-2022\\Newcastle Utd\\20220516\\20220516_team_stats.csv\n",
      "[시즌 페이지 로딩] URL: https://fbref.com/en/comps/9/2021-2022/2021-2022-Premier-League-Stats\n",
      "팀: Crystal Palace, 링크:https://fbref.com/en/squads/47c64c55/2021-2022/Crystal-Palace-Stats\n",
      "20210821\n",
      "https://fbref.com/en/matches/c8945d11/Crystal-Palace-Brentford-August-21-2021-Premier-League\n",
      "20210911\n",
      "https://fbref.com/en/matches/17e86f90/Crystal-Palace-Tottenham-Hotspur-September-11-2021-Premier-League\n",
      "20210927\n",
      "https://fbref.com/en/matches/3d7659fc/Crystal-Palace-Brighton-and-Hove-Albion-September-27-2021-Premier-League\n",
      "20211003\n",
      "https://fbref.com/en/matches/b06fd537/Crystal-Palace-Leicester-City-October-3-2021-Premier-League\n",
      "20211023\n",
      "https://fbref.com/en/matches/4d1b6f6f/Crystal-Palace-Newcastle-United-October-23-2021-Premier-League\n",
      "match row 처리 중 오류: Message: no such element: Unable to locate element: {\"method\":\"css selector\",\"selector\":\"td[data-stat=\"comp\"]\"}\n",
      "  (Session info: chrome=136.0.7103.114); For documentation on this error, please visit: https://www.selenium.dev/documentation/webdriver/troubleshooting/errors#no-such-element-exception\n",
      "Stacktrace:\n",
      "\tGetHandleVerifier [0x00007FF7535BCF45+75717]\n",
      "\tGetHandleVerifier [0x00007FF7535BCFA0+75808]\n",
      "\t(No symbol) [0x00007FF753388F9A]\n",
      "\t(No symbol) [0x00007FF7533DF4C6]\n",
      "\t(No symbol) [0x00007FF7533DF77C]\n",
      "\t(No symbol) [0x00007FF7533D1D7C]\n",
      "\t(No symbol) [0x00007FF7534073BF]\n",
      "\t(No symbol) [0x00007FF7533D1C46]\n",
      "\t(No symbol) [0x00007FF753407590]\n",
      "\t(No symbol) [0x00007FF75342F39C]\n",
      "\t(No symbol) [0x00007FF753407153]\n",
      "\t(No symbol) [0x00007FF7533D0421]\n",
      "\t(No symbol) [0x00007FF7533D11B3]\n",
      "\tGetHandleVerifier [0x00007FF7538BD71D+3223453]\n",
      "\tGetHandleVerifier [0x00007FF7538B7CC2+3200322]\n",
      "\tGetHandleVerifier [0x00007FF7538D5AF3+3322739]\n",
      "\tGetHandleVerifier [0x00007FF7535D6A1A+180890]\n",
      "\tGetHandleVerifier [0x00007FF7535DE11F+211359]\n",
      "\tGetHandleVerifier [0x00007FF7535C5294+109332]\n",
      "\tGetHandleVerifier [0x00007FF7535C5442+109762]\n",
      "\tGetHandleVerifier [0x00007FF7535ABA59+4825]\n",
      "\tBaseThreadInitThunk [0x00007FFE15767374+20]\n",
      "\tRtlUserThreadStart [0x00007FFE16F5CC91+33]\n",
      "\n",
      "20211106\n",
      "https://fbref.com/en/matches/3a2fff4d/Crystal-Palace-Wolverhampton-Wanderers-November-6-2021-Premier-League\n",
      "20211127\n",
      "https://fbref.com/en/matches/4a7a9e3b/Crystal-Palace-Aston-Villa-November-27-2021-Premier-League\n",
      "20211212\n",
      "https://fbref.com/en/matches/02abf29a/Crystal-Palace-Everton-December-12-2021-Premier-League\n",
      "20211215\n",
      "https://fbref.com/en/matches/9ebb60f0/Crystal-Palace-Southampton-December-15-2021-Premier-League\n",
      "20211228\n",
      "https://fbref.com/en/matches/59ef01ea/Crystal-Palace-Norwich-City-December-28-2021-Premier-League\n",
      "match row 처리 중 오류: Message: no such element: Unable to locate element: {\"method\":\"css selector\",\"selector\":\"td[data-stat=\"comp\"]\"}\n",
      "  (Session info: chrome=136.0.7103.114); For documentation on this error, please visit: https://www.selenium.dev/documentation/webdriver/troubleshooting/errors#no-such-element-exception\n",
      "Stacktrace:\n",
      "\tGetHandleVerifier [0x00007FF7535BCF45+75717]\n",
      "\tGetHandleVerifier [0x00007FF7535BCFA0+75808]\n",
      "\t(No symbol) [0x00007FF753388F9A]\n",
      "\t(No symbol) [0x00007FF7533DF4C6]\n",
      "\t(No symbol) [0x00007FF7533DF77C]\n",
      "\t(No symbol) [0x00007FF7533D1D7C]\n",
      "\t(No symbol) [0x00007FF7534073BF]\n",
      "\t(No symbol) [0x00007FF7533D1C46]\n",
      "\t(No symbol) [0x00007FF753407590]\n",
      "\t(No symbol) [0x00007FF75342F39C]\n",
      "\t(No symbol) [0x00007FF753407153]\n",
      "\t(No symbol) [0x00007FF7533D0421]\n",
      "\t(No symbol) [0x00007FF7533D11B3]\n",
      "\tGetHandleVerifier [0x00007FF7538BD71D+3223453]\n",
      "\tGetHandleVerifier [0x00007FF7538B7CC2+3200322]\n",
      "\tGetHandleVerifier [0x00007FF7538D5AF3+3322739]\n",
      "\tGetHandleVerifier [0x00007FF7535D6A1A+180890]\n",
      "\tGetHandleVerifier [0x00007FF7535DE11F+211359]\n",
      "\tGetHandleVerifier [0x00007FF7535C5294+109332]\n",
      "\tGetHandleVerifier [0x00007FF7535C5442+109762]\n",
      "\tGetHandleVerifier [0x00007FF7535ABA59+4825]\n",
      "\tBaseThreadInitThunk [0x00007FFE15767374+20]\n",
      "\tRtlUserThreadStart [0x00007FFE16F5CC91+33]\n",
      "\n",
      "20220101\n",
      "https://fbref.com/en/matches/b0b5cba6/Crystal-Palace-West-Ham-United-January-1-2022-Premier-League\n",
      "20220123\n",
      "https://fbref.com/en/matches/60ad7e25/Crystal-Palace-Liverpool-January-23-2022-Premier-League\n",
      "20220219\n",
      "https://fbref.com/en/matches/ddd2eed6/Crystal-Palace-Chelsea-February-19-2022-Premier-League\n",
      "20220226\n",
      "https://fbref.com/en/matches/086dcb8d/Crystal-Palace-Burnley-February-26-2022-Premier-League\n",
      "match row 처리 중 오류: Message: no such element: Unable to locate element: {\"method\":\"css selector\",\"selector\":\"td[data-stat=\"comp\"]\"}\n",
      "  (Session info: chrome=136.0.7103.114); For documentation on this error, please visit: https://www.selenium.dev/documentation/webdriver/troubleshooting/errors#no-such-element-exception\n",
      "Stacktrace:\n",
      "\tGetHandleVerifier [0x00007FF7535BCF45+75717]\n",
      "\tGetHandleVerifier [0x00007FF7535BCFA0+75808]\n",
      "\t(No symbol) [0x00007FF753388F9A]\n",
      "\t(No symbol) [0x00007FF7533DF4C6]\n",
      "\t(No symbol) [0x00007FF7533DF77C]\n",
      "\t(No symbol) [0x00007FF7533D1D7C]\n",
      "\t(No symbol) [0x00007FF7534073BF]\n",
      "\t(No symbol) [0x00007FF7533D1C46]\n",
      "\t(No symbol) [0x00007FF753407590]\n",
      "\t(No symbol) [0x00007FF75342F39C]\n",
      "\t(No symbol) [0x00007FF753407153]\n",
      "\t(No symbol) [0x00007FF7533D0421]\n",
      "\t(No symbol) [0x00007FF7533D11B3]\n",
      "\tGetHandleVerifier [0x00007FF7538BD71D+3223453]\n",
      "\tGetHandleVerifier [0x00007FF7538B7CC2+3200322]\n",
      "\tGetHandleVerifier [0x00007FF7538D5AF3+3322739]\n",
      "\tGetHandleVerifier [0x00007FF7535D6A1A+180890]\n",
      "\tGetHandleVerifier [0x00007FF7535DE11F+211359]\n",
      "\tGetHandleVerifier [0x00007FF7535C5294+109332]\n",
      "\tGetHandleVerifier [0x00007FF7535C5442+109762]\n",
      "\tGetHandleVerifier [0x00007FF7535ABA59+4825]\n",
      "\tBaseThreadInitThunk [0x00007FFE15767374+20]\n",
      "\tRtlUserThreadStart [0x00007FFE16F5CC91+33]\n",
      "\n",
      "20220314\n",
      "https://fbref.com/en/matches/f5b6f5c5/Crystal-Palace-Manchester-City-March-14-2022-Premier-League\n",
      "20220404\n",
      "https://fbref.com/en/matches/d96b144a/Crystal-Palace-Arsenal-April-4-2022-Premier-League\n",
      "20220425\n",
      "https://fbref.com/en/matches/1a9f4c1e/Crystal-Palace-Leeds-United-April-25-2022-Premier-League\n",
      "20220507\n",
      "https://fbref.com/en/matches/1206a1df/Crystal-Palace-Watford-May-7-2022-Premier-League\n",
      "20220522\n",
      "https://fbref.com/en/matches/19173099/Crystal-Palace-Manchester-United-May-22-2022-Premier-League\n",
      "19\n",
      "19\n"
     ]
    },
    {
     "name": "stderr",
     "output_type": "stream",
     "text": [
      "\n",
      "\u001b[A"
     ]
    },
    {
     "name": "stdout",
     "output_type": "stream",
     "text": [
      "[players stats summary 저장 완료] C:/Users/user080524/Desktop/project/PREMO/data/datas/1\\2021-2022\\Crystal Palace\\20210821\\20210821_home_palyers_summary.csv\n",
      "[players stats summary 저장 완료] C:/Users/user080524/Desktop/project/PREMO/data/datas/1\\2021-2022\\Crystal Palace\\20210821\\20210821_home_gk.csv\n",
      "[players stats summary 저장 완료] C:/Users/user080524/Desktop/project/PREMO/data/datas/1\\2021-2022\\Crystal Palace\\20210821\\20210821_away_players_summary.csv\n",
      "[players stats summary 저장 완료] C:/Users/user080524/Desktop/project/PREMO/data/datas/1\\2021-2022\\Crystal Palace\\20210821\\20210821_away_gk.csv\n"
     ]
    },
    {
     "name": "stderr",
     "output_type": "stream",
     "text": [
      "\n",
      "\u001b[A"
     ]
    },
    {
     "name": "stdout",
     "output_type": "stream",
     "text": [
      "[team_stats 저장 완료] C:/Users/user080524/Desktop/project/PREMO/data/datas/1\\2021-2022\\Crystal Palace\\20210821\\20210821_team_stats.csv\n",
      "[players stats summary 저장 완료] C:/Users/user080524/Desktop/project/PREMO/data/datas/1\\2021-2022\\Crystal Palace\\20210911\\20210911_home_palyers_summary.csv\n",
      "[players stats summary 저장 완료] C:/Users/user080524/Desktop/project/PREMO/data/datas/1\\2021-2022\\Crystal Palace\\20210911\\20210911_home_gk.csv\n",
      "[players stats summary 저장 완료] C:/Users/user080524/Desktop/project/PREMO/data/datas/1\\2021-2022\\Crystal Palace\\20210911\\20210911_away_players_summary.csv\n",
      "[players stats summary 저장 완료] C:/Users/user080524/Desktop/project/PREMO/data/datas/1\\2021-2022\\Crystal Palace\\20210911\\20210911_away_gk.csv\n"
     ]
    },
    {
     "name": "stderr",
     "output_type": "stream",
     "text": [
      "\n",
      "\u001b[A"
     ]
    },
    {
     "name": "stdout",
     "output_type": "stream",
     "text": [
      "[team_stats 저장 완료] C:/Users/user080524/Desktop/project/PREMO/data/datas/1\\2021-2022\\Crystal Palace\\20210911\\20210911_team_stats.csv\n",
      "[players stats summary 저장 완료] C:/Users/user080524/Desktop/project/PREMO/data/datas/1\\2021-2022\\Crystal Palace\\20210927\\20210927_home_palyers_summary.csv\n",
      "[players stats summary 저장 완료] C:/Users/user080524/Desktop/project/PREMO/data/datas/1\\2021-2022\\Crystal Palace\\20210927\\20210927_home_gk.csv\n",
      "[players stats summary 저장 완료] C:/Users/user080524/Desktop/project/PREMO/data/datas/1\\2021-2022\\Crystal Palace\\20210927\\20210927_away_players_summary.csv\n",
      "[players stats summary 저장 완료] C:/Users/user080524/Desktop/project/PREMO/data/datas/1\\2021-2022\\Crystal Palace\\20210927\\20210927_away_gk.csv\n"
     ]
    },
    {
     "name": "stderr",
     "output_type": "stream",
     "text": [
      "\n",
      "\u001b[A"
     ]
    },
    {
     "name": "stdout",
     "output_type": "stream",
     "text": [
      "[team_stats 저장 완료] C:/Users/user080524/Desktop/project/PREMO/data/datas/1\\2021-2022\\Crystal Palace\\20210927\\20210927_team_stats.csv\n",
      "[players stats summary 저장 완료] C:/Users/user080524/Desktop/project/PREMO/data/datas/1\\2021-2022\\Crystal Palace\\20211003\\20211003_home_palyers_summary.csv\n",
      "[players stats summary 저장 완료] C:/Users/user080524/Desktop/project/PREMO/data/datas/1\\2021-2022\\Crystal Palace\\20211003\\20211003_home_gk.csv\n",
      "[players stats summary 저장 완료] C:/Users/user080524/Desktop/project/PREMO/data/datas/1\\2021-2022\\Crystal Palace\\20211003\\20211003_away_players_summary.csv\n",
      "[players stats summary 저장 완료] C:/Users/user080524/Desktop/project/PREMO/data/datas/1\\2021-2022\\Crystal Palace\\20211003\\20211003_away_gk.csv\n"
     ]
    },
    {
     "name": "stderr",
     "output_type": "stream",
     "text": [
      "\n",
      "\u001b[A"
     ]
    },
    {
     "name": "stdout",
     "output_type": "stream",
     "text": [
      "[team_stats 저장 완료] C:/Users/user080524/Desktop/project/PREMO/data/datas/1\\2021-2022\\Crystal Palace\\20211003\\20211003_team_stats.csv\n",
      "[players stats summary 저장 완료] C:/Users/user080524/Desktop/project/PREMO/data/datas/1\\2021-2022\\Crystal Palace\\20211023\\20211023_home_palyers_summary.csv\n",
      "[players stats summary 저장 완료] C:/Users/user080524/Desktop/project/PREMO/data/datas/1\\2021-2022\\Crystal Palace\\20211023\\20211023_home_gk.csv\n",
      "[players stats summary 저장 완료] C:/Users/user080524/Desktop/project/PREMO/data/datas/1\\2021-2022\\Crystal Palace\\20211023\\20211023_away_players_summary.csv\n",
      "[players stats summary 저장 완료] C:/Users/user080524/Desktop/project/PREMO/data/datas/1\\2021-2022\\Crystal Palace\\20211023\\20211023_away_gk.csv\n"
     ]
    },
    {
     "name": "stderr",
     "output_type": "stream",
     "text": [
      "\n",
      "\u001b[A"
     ]
    },
    {
     "name": "stdout",
     "output_type": "stream",
     "text": [
      "[team_stats 저장 완료] C:/Users/user080524/Desktop/project/PREMO/data/datas/1\\2021-2022\\Crystal Palace\\20211023\\20211023_team_stats.csv\n",
      "[players stats summary 저장 완료] C:/Users/user080524/Desktop/project/PREMO/data/datas/1\\2021-2022\\Crystal Palace\\20211106\\20211106_home_palyers_summary.csv\n",
      "[players stats summary 저장 완료] C:/Users/user080524/Desktop/project/PREMO/data/datas/1\\2021-2022\\Crystal Palace\\20211106\\20211106_home_gk.csv\n",
      "[players stats summary 저장 완료] C:/Users/user080524/Desktop/project/PREMO/data/datas/1\\2021-2022\\Crystal Palace\\20211106\\20211106_away_players_summary.csv\n",
      "[players stats summary 저장 완료] C:/Users/user080524/Desktop/project/PREMO/data/datas/1\\2021-2022\\Crystal Palace\\20211106\\20211106_away_gk.csv\n"
     ]
    },
    {
     "name": "stderr",
     "output_type": "stream",
     "text": [
      "\n",
      "\u001b[A"
     ]
    },
    {
     "name": "stdout",
     "output_type": "stream",
     "text": [
      "[team_stats 저장 완료] C:/Users/user080524/Desktop/project/PREMO/data/datas/1\\2021-2022\\Crystal Palace\\20211106\\20211106_team_stats.csv\n",
      "[players stats summary 저장 완료] C:/Users/user080524/Desktop/project/PREMO/data/datas/1\\2021-2022\\Crystal Palace\\20211127\\20211127_home_palyers_summary.csv\n",
      "[players stats summary 저장 완료] C:/Users/user080524/Desktop/project/PREMO/data/datas/1\\2021-2022\\Crystal Palace\\20211127\\20211127_home_gk.csv\n",
      "[players stats summary 저장 완료] C:/Users/user080524/Desktop/project/PREMO/data/datas/1\\2021-2022\\Crystal Palace\\20211127\\20211127_away_players_summary.csv\n",
      "[players stats summary 저장 완료] C:/Users/user080524/Desktop/project/PREMO/data/datas/1\\2021-2022\\Crystal Palace\\20211127\\20211127_away_gk.csv\n"
     ]
    },
    {
     "name": "stderr",
     "output_type": "stream",
     "text": [
      "\n",
      "\u001b[A"
     ]
    },
    {
     "name": "stdout",
     "output_type": "stream",
     "text": [
      "[team_stats 저장 완료] C:/Users/user080524/Desktop/project/PREMO/data/datas/1\\2021-2022\\Crystal Palace\\20211127\\20211127_team_stats.csv\n",
      "[players stats summary 저장 완료] C:/Users/user080524/Desktop/project/PREMO/data/datas/1\\2021-2022\\Crystal Palace\\20211212\\20211212_home_palyers_summary.csv\n",
      "[players stats summary 저장 완료] C:/Users/user080524/Desktop/project/PREMO/data/datas/1\\2021-2022\\Crystal Palace\\20211212\\20211212_home_gk.csv\n",
      "[players stats summary 저장 완료] C:/Users/user080524/Desktop/project/PREMO/data/datas/1\\2021-2022\\Crystal Palace\\20211212\\20211212_away_players_summary.csv\n",
      "[players stats summary 저장 완료] C:/Users/user080524/Desktop/project/PREMO/data/datas/1\\2021-2022\\Crystal Palace\\20211212\\20211212_away_gk.csv\n"
     ]
    },
    {
     "name": "stderr",
     "output_type": "stream",
     "text": [
      "\n",
      "\u001b[A"
     ]
    },
    {
     "name": "stdout",
     "output_type": "stream",
     "text": [
      "[team_stats 저장 완료] C:/Users/user080524/Desktop/project/PREMO/data/datas/1\\2021-2022\\Crystal Palace\\20211212\\20211212_team_stats.csv\n",
      "[players stats summary 저장 완료] C:/Users/user080524/Desktop/project/PREMO/data/datas/1\\2021-2022\\Crystal Palace\\20211215\\20211215_home_palyers_summary.csv\n",
      "[players stats summary 저장 완료] C:/Users/user080524/Desktop/project/PREMO/data/datas/1\\2021-2022\\Crystal Palace\\20211215\\20211215_home_gk.csv\n",
      "[players stats summary 저장 완료] C:/Users/user080524/Desktop/project/PREMO/data/datas/1\\2021-2022\\Crystal Palace\\20211215\\20211215_away_players_summary.csv\n",
      "[players stats summary 저장 완료] C:/Users/user080524/Desktop/project/PREMO/data/datas/1\\2021-2022\\Crystal Palace\\20211215\\20211215_away_gk.csv\n"
     ]
    },
    {
     "name": "stderr",
     "output_type": "stream",
     "text": [
      "\n",
      "\u001b[A"
     ]
    },
    {
     "name": "stdout",
     "output_type": "stream",
     "text": [
      "[team_stats 저장 완료] C:/Users/user080524/Desktop/project/PREMO/data/datas/1\\2021-2022\\Crystal Palace\\20211215\\20211215_team_stats.csv\n",
      "[players stats summary 저장 완료] C:/Users/user080524/Desktop/project/PREMO/data/datas/1\\2021-2022\\Crystal Palace\\20211228\\20211228_home_palyers_summary.csv\n",
      "[players stats summary 저장 완료] C:/Users/user080524/Desktop/project/PREMO/data/datas/1\\2021-2022\\Crystal Palace\\20211228\\20211228_home_gk.csv\n",
      "[players stats summary 저장 완료] C:/Users/user080524/Desktop/project/PREMO/data/datas/1\\2021-2022\\Crystal Palace\\20211228\\20211228_away_players_summary.csv\n",
      "[players stats summary 저장 완료] C:/Users/user080524/Desktop/project/PREMO/data/datas/1\\2021-2022\\Crystal Palace\\20211228\\20211228_away_gk.csv\n"
     ]
    },
    {
     "name": "stderr",
     "output_type": "stream",
     "text": [
      "\n",
      "\u001b[A"
     ]
    },
    {
     "name": "stdout",
     "output_type": "stream",
     "text": [
      "[team_stats 저장 완료] C:/Users/user080524/Desktop/project/PREMO/data/datas/1\\2021-2022\\Crystal Palace\\20211228\\20211228_team_stats.csv\n",
      "[players stats summary 저장 완료] C:/Users/user080524/Desktop/project/PREMO/data/datas/1\\2021-2022\\Crystal Palace\\20220101\\20220101_home_palyers_summary.csv\n",
      "[players stats summary 저장 완료] C:/Users/user080524/Desktop/project/PREMO/data/datas/1\\2021-2022\\Crystal Palace\\20220101\\20220101_home_gk.csv\n",
      "[players stats summary 저장 완료] C:/Users/user080524/Desktop/project/PREMO/data/datas/1\\2021-2022\\Crystal Palace\\20220101\\20220101_away_players_summary.csv\n",
      "[players stats summary 저장 완료] C:/Users/user080524/Desktop/project/PREMO/data/datas/1\\2021-2022\\Crystal Palace\\20220101\\20220101_away_gk.csv\n"
     ]
    },
    {
     "name": "stderr",
     "output_type": "stream",
     "text": [
      "\n",
      "\u001b[A"
     ]
    },
    {
     "name": "stdout",
     "output_type": "stream",
     "text": [
      "[team_stats 저장 완료] C:/Users/user080524/Desktop/project/PREMO/data/datas/1\\2021-2022\\Crystal Palace\\20220101\\20220101_team_stats.csv\n",
      "[players stats summary 저장 완료] C:/Users/user080524/Desktop/project/PREMO/data/datas/1\\2021-2022\\Crystal Palace\\20220123\\20220123_home_palyers_summary.csv\n",
      "[players stats summary 저장 완료] C:/Users/user080524/Desktop/project/PREMO/data/datas/1\\2021-2022\\Crystal Palace\\20220123\\20220123_home_gk.csv\n",
      "[players stats summary 저장 완료] C:/Users/user080524/Desktop/project/PREMO/data/datas/1\\2021-2022\\Crystal Palace\\20220123\\20220123_away_players_summary.csv\n",
      "[players stats summary 저장 완료] C:/Users/user080524/Desktop/project/PREMO/data/datas/1\\2021-2022\\Crystal Palace\\20220123\\20220123_away_gk.csv\n"
     ]
    },
    {
     "name": "stderr",
     "output_type": "stream",
     "text": [
      "\n",
      "\u001b[A"
     ]
    },
    {
     "name": "stdout",
     "output_type": "stream",
     "text": [
      "[team_stats 저장 완료] C:/Users/user080524/Desktop/project/PREMO/data/datas/1\\2021-2022\\Crystal Palace\\20220123\\20220123_team_stats.csv\n",
      "[players stats summary 저장 완료] C:/Users/user080524/Desktop/project/PREMO/data/datas/1\\2021-2022\\Crystal Palace\\20220219\\20220219_home_palyers_summary.csv\n",
      "[players stats summary 저장 완료] C:/Users/user080524/Desktop/project/PREMO/data/datas/1\\2021-2022\\Crystal Palace\\20220219\\20220219_home_gk.csv\n",
      "[players stats summary 저장 완료] C:/Users/user080524/Desktop/project/PREMO/data/datas/1\\2021-2022\\Crystal Palace\\20220219\\20220219_away_players_summary.csv\n",
      "[players stats summary 저장 완료] C:/Users/user080524/Desktop/project/PREMO/data/datas/1\\2021-2022\\Crystal Palace\\20220219\\20220219_away_gk.csv\n"
     ]
    },
    {
     "name": "stderr",
     "output_type": "stream",
     "text": [
      "\n",
      "\u001b[A"
     ]
    },
    {
     "name": "stdout",
     "output_type": "stream",
     "text": [
      "team_stats 없음 could not convert string to float: ''\n",
      "[team_stats 저장 완료] C:/Users/user080524/Desktop/project/PREMO/data/datas/1\\2021-2022\\Crystal Palace\\20220219\\20220219_team_stats.csv\n",
      "[players stats summary 저장 완료] C:/Users/user080524/Desktop/project/PREMO/data/datas/1\\2021-2022\\Crystal Palace\\20220226\\20220226_home_palyers_summary.csv\n",
      "[players stats summary 저장 완료] C:/Users/user080524/Desktop/project/PREMO/data/datas/1\\2021-2022\\Crystal Palace\\20220226\\20220226_home_gk.csv\n",
      "[players stats summary 저장 완료] C:/Users/user080524/Desktop/project/PREMO/data/datas/1\\2021-2022\\Crystal Palace\\20220226\\20220226_away_players_summary.csv\n",
      "[players stats summary 저장 완료] C:/Users/user080524/Desktop/project/PREMO/data/datas/1\\2021-2022\\Crystal Palace\\20220226\\20220226_away_gk.csv\n"
     ]
    },
    {
     "name": "stderr",
     "output_type": "stream",
     "text": [
      "\n",
      "\u001b[A"
     ]
    },
    {
     "name": "stdout",
     "output_type": "stream",
     "text": [
      "[team_stats 저장 완료] C:/Users/user080524/Desktop/project/PREMO/data/datas/1\\2021-2022\\Crystal Palace\\20220226\\20220226_team_stats.csv\n",
      "[players stats summary 저장 완료] C:/Users/user080524/Desktop/project/PREMO/data/datas/1\\2021-2022\\Crystal Palace\\20220314\\20220314_home_palyers_summary.csv\n",
      "[players stats summary 저장 완료] C:/Users/user080524/Desktop/project/PREMO/data/datas/1\\2021-2022\\Crystal Palace\\20220314\\20220314_home_gk.csv\n",
      "[players stats summary 저장 완료] C:/Users/user080524/Desktop/project/PREMO/data/datas/1\\2021-2022\\Crystal Palace\\20220314\\20220314_away_players_summary.csv\n",
      "[players stats summary 저장 완료] C:/Users/user080524/Desktop/project/PREMO/data/datas/1\\2021-2022\\Crystal Palace\\20220314\\20220314_away_gk.csv\n"
     ]
    },
    {
     "name": "stderr",
     "output_type": "stream",
     "text": [
      "\n",
      "\u001b[A"
     ]
    },
    {
     "name": "stdout",
     "output_type": "stream",
     "text": [
      "[team_stats 저장 완료] C:/Users/user080524/Desktop/project/PREMO/data/datas/1\\2021-2022\\Crystal Palace\\20220314\\20220314_team_stats.csv\n",
      "[players stats summary 저장 완료] C:/Users/user080524/Desktop/project/PREMO/data/datas/1\\2021-2022\\Crystal Palace\\20220404\\20220404_home_palyers_summary.csv\n",
      "[players stats summary 저장 완료] C:/Users/user080524/Desktop/project/PREMO/data/datas/1\\2021-2022\\Crystal Palace\\20220404\\20220404_home_gk.csv\n",
      "[players stats summary 저장 완료] C:/Users/user080524/Desktop/project/PREMO/data/datas/1\\2021-2022\\Crystal Palace\\20220404\\20220404_away_players_summary.csv\n",
      "[players stats summary 저장 완료] C:/Users/user080524/Desktop/project/PREMO/data/datas/1\\2021-2022\\Crystal Palace\\20220404\\20220404_away_gk.csv\n"
     ]
    },
    {
     "name": "stderr",
     "output_type": "stream",
     "text": [
      "\n",
      "\u001b[A"
     ]
    },
    {
     "name": "stdout",
     "output_type": "stream",
     "text": [
      "[team_stats 저장 완료] C:/Users/user080524/Desktop/project/PREMO/data/datas/1\\2021-2022\\Crystal Palace\\20220404\\20220404_team_stats.csv\n",
      "[players stats summary 저장 완료] C:/Users/user080524/Desktop/project/PREMO/data/datas/1\\2021-2022\\Crystal Palace\\20220425\\20220425_home_palyers_summary.csv\n",
      "[players stats summary 저장 완료] C:/Users/user080524/Desktop/project/PREMO/data/datas/1\\2021-2022\\Crystal Palace\\20220425\\20220425_home_gk.csv\n",
      "[players stats summary 저장 완료] C:/Users/user080524/Desktop/project/PREMO/data/datas/1\\2021-2022\\Crystal Palace\\20220425\\20220425_away_players_summary.csv\n",
      "[players stats summary 저장 완료] C:/Users/user080524/Desktop/project/PREMO/data/datas/1\\2021-2022\\Crystal Palace\\20220425\\20220425_away_gk.csv\n"
     ]
    },
    {
     "name": "stderr",
     "output_type": "stream",
     "text": [
      "\n",
      "\u001b[A"
     ]
    },
    {
     "name": "stdout",
     "output_type": "stream",
     "text": [
      "[team_stats 저장 완료] C:/Users/user080524/Desktop/project/PREMO/data/datas/1\\2021-2022\\Crystal Palace\\20220425\\20220425_team_stats.csv\n",
      "[players stats summary 저장 완료] C:/Users/user080524/Desktop/project/PREMO/data/datas/1\\2021-2022\\Crystal Palace\\20220507\\20220507_home_palyers_summary.csv\n",
      "[players stats summary 저장 완료] C:/Users/user080524/Desktop/project/PREMO/data/datas/1\\2021-2022\\Crystal Palace\\20220507\\20220507_home_gk.csv\n",
      "[players stats summary 저장 완료] C:/Users/user080524/Desktop/project/PREMO/data/datas/1\\2021-2022\\Crystal Palace\\20220507\\20220507_away_players_summary.csv\n",
      "[players stats summary 저장 완료] C:/Users/user080524/Desktop/project/PREMO/data/datas/1\\2021-2022\\Crystal Palace\\20220507\\20220507_away_gk.csv\n"
     ]
    },
    {
     "name": "stderr",
     "output_type": "stream",
     "text": [
      "\n",
      "\u001b[A"
     ]
    },
    {
     "name": "stdout",
     "output_type": "stream",
     "text": [
      "[team_stats 저장 완료] C:/Users/user080524/Desktop/project/PREMO/data/datas/1\\2021-2022\\Crystal Palace\\20220507\\20220507_team_stats.csv\n",
      "[players stats summary 저장 완료] C:/Users/user080524/Desktop/project/PREMO/data/datas/1\\2021-2022\\Crystal Palace\\20220522\\20220522_home_palyers_summary.csv\n",
      "[players stats summary 저장 완료] C:/Users/user080524/Desktop/project/PREMO/data/datas/1\\2021-2022\\Crystal Palace\\20220522\\20220522_home_gk.csv\n",
      "[players stats summary 저장 완료] C:/Users/user080524/Desktop/project/PREMO/data/datas/1\\2021-2022\\Crystal Palace\\20220522\\20220522_away_players_summary.csv\n",
      "[players stats summary 저장 완료] C:/Users/user080524/Desktop/project/PREMO/data/datas/1\\2021-2022\\Crystal Palace\\20220522\\20220522_away_gk.csv\n"
     ]
    },
    {
     "name": "stderr",
     "output_type": "stream",
     "text": [
      "\n",
      "\u001b[A\n",
      "\u001b[A"
     ]
    },
    {
     "name": "stdout",
     "output_type": "stream",
     "text": [
      "[team_stats 저장 완료] C:/Users/user080524/Desktop/project/PREMO/data/datas/1\\2021-2022\\Crystal Palace\\20220522\\20220522_team_stats.csv\n",
      "[시즌 페이지 로딩] URL: https://fbref.com/en/comps/9/2021-2022/2021-2022-Premier-League-Stats\n",
      "팀: Brentford, 링크:https://fbref.com/en/squads/cd051869/2021-2022/Brentford-Stats\n",
      "20210813\n",
      "https://fbref.com/en/matches/3adf2aa7/Brentford-Arsenal-August-13-2021-Premier-League\n",
      "20210911\n",
      "https://fbref.com/en/matches/19a03697/Brentford-Brighton-and-Hove-Albion-September-11-2021-Premier-League\n",
      "20210925\n",
      "https://fbref.com/en/matches/87140543/Brentford-Liverpool-September-25-2021-Premier-League\n",
      "20211016\n",
      "https://fbref.com/en/matches/866cfb1f/Brentford-Chelsea-October-16-2021-Premier-League\n",
      "20211024\n",
      "https://fbref.com/en/matches/b5c25937/Brentford-Leicester-City-October-24-2021-Premier-League\n",
      "20211106\n",
      "https://fbref.com/en/matches/0f029791/Brentford-Norwich-City-November-6-2021-Premier-League\n",
      "match row 처리 중 오류: Message: no such element: Unable to locate element: {\"method\":\"css selector\",\"selector\":\"td[data-stat=\"comp\"]\"}\n",
      "  (Session info: chrome=136.0.7103.114); For documentation on this error, please visit: https://www.selenium.dev/documentation/webdriver/troubleshooting/errors#no-such-element-exception\n",
      "Stacktrace:\n",
      "\tGetHandleVerifier [0x00007FF7535BCF45+75717]\n",
      "\tGetHandleVerifier [0x00007FF7535BCFA0+75808]\n",
      "\t(No symbol) [0x00007FF753388F9A]\n",
      "\t(No symbol) [0x00007FF7533DF4C6]\n",
      "\t(No symbol) [0x00007FF7533DF77C]\n",
      "\t(No symbol) [0x00007FF7533D1D7C]\n",
      "\t(No symbol) [0x00007FF7534073BF]\n",
      "\t(No symbol) [0x00007FF7533D1C46]\n",
      "\t(No symbol) [0x00007FF753407590]\n",
      "\t(No symbol) [0x00007FF75342F39C]\n",
      "\t(No symbol) [0x00007FF753407153]\n",
      "\t(No symbol) [0x00007FF7533D0421]\n",
      "\t(No symbol) [0x00007FF7533D11B3]\n",
      "\tGetHandleVerifier [0x00007FF7538BD71D+3223453]\n",
      "\tGetHandleVerifier [0x00007FF7538B7CC2+3200322]\n",
      "\tGetHandleVerifier [0x00007FF7538D5AF3+3322739]\n",
      "\tGetHandleVerifier [0x00007FF7535D6A1A+180890]\n",
      "\tGetHandleVerifier [0x00007FF7535DE11F+211359]\n",
      "\tGetHandleVerifier [0x00007FF7535C5294+109332]\n",
      "\tGetHandleVerifier [0x00007FF7535C5442+109762]\n",
      "\tGetHandleVerifier [0x00007FF7535ABA59+4825]\n",
      "\tBaseThreadInitThunk [0x00007FFE15767374+20]\n",
      "\tRtlUserThreadStart [0x00007FFE16F5CC91+33]\n",
      "\n",
      "20211128\n",
      "https://fbref.com/en/matches/286c4c1c/Brentford-Everton-November-28-2021-Premier-League\n",
      "20211210\n",
      "https://fbref.com/en/matches/49a36a4e/Brentford-Watford-December-10-2021-Premier-League\n",
      "20211229\n",
      "https://fbref.com/en/matches/1a0df937/Brentford-Manchester-City-December-29-2021-Premier-League\n",
      "20220102\n",
      "https://fbref.com/en/matches/dfaa1817/Brentford-Aston-Villa-January-2-2022-Premier-League\n",
      "20220119\n",
      "https://fbref.com/en/matches/f7c0bd68/Brentford-Manchester-United-January-19-2022-Premier-League\n",
      "20220122\n",
      "https://fbref.com/en/matches/9f91ec9b/Brentford-Wolverhampton-Wanderers-January-22-2022-Premier-League\n",
      "match row 처리 중 오류: Message: no such element: Unable to locate element: {\"method\":\"css selector\",\"selector\":\"td[data-stat=\"comp\"]\"}\n",
      "  (Session info: chrome=136.0.7103.114); For documentation on this error, please visit: https://www.selenium.dev/documentation/webdriver/troubleshooting/errors#no-such-element-exception\n",
      "Stacktrace:\n",
      "\tGetHandleVerifier [0x00007FF7535BCF45+75717]\n",
      "\tGetHandleVerifier [0x00007FF7535BCFA0+75808]\n",
      "\t(No symbol) [0x00007FF753388F9A]\n",
      "\t(No symbol) [0x00007FF7533DF4C6]\n",
      "\t(No symbol) [0x00007FF7533DF77C]\n",
      "\t(No symbol) [0x00007FF7533D1D7C]\n",
      "\t(No symbol) [0x00007FF7534073BF]\n",
      "\t(No symbol) [0x00007FF7533D1C46]\n",
      "\t(No symbol) [0x00007FF753407590]\n",
      "\t(No symbol) [0x00007FF75342F39C]\n",
      "\t(No symbol) [0x00007FF753407153]\n",
      "\t(No symbol) [0x00007FF7533D0421]\n",
      "\t(No symbol) [0x00007FF7533D11B3]\n",
      "\tGetHandleVerifier [0x00007FF7538BD71D+3223453]\n",
      "\tGetHandleVerifier [0x00007FF7538B7CC2+3200322]\n",
      "\tGetHandleVerifier [0x00007FF7538D5AF3+3322739]\n",
      "\tGetHandleVerifier [0x00007FF7535D6A1A+180890]\n",
      "\tGetHandleVerifier [0x00007FF7535DE11F+211359]\n",
      "\tGetHandleVerifier [0x00007FF7535C5294+109332]\n",
      "\tGetHandleVerifier [0x00007FF7535C5442+109762]\n",
      "\tGetHandleVerifier [0x00007FF7535ABA59+4825]\n",
      "\tBaseThreadInitThunk [0x00007FFE15767374+20]\n",
      "\tRtlUserThreadStart [0x00007FFE16F5CC91+33]\n",
      "\n",
      "20220212\n",
      "https://fbref.com/en/matches/427597d4/Brentford-Crystal-Palace-February-12-2022-Premier-League\n",
      "20220226\n",
      "https://fbref.com/en/matches/fd61d442/Brentford-Newcastle-United-February-26-2022-Premier-League\n",
      "20220312\n",
      "https://fbref.com/en/matches/9718a901/Brentford-Burnley-March-12-2022-Premier-League\n",
      "20220410\n",
      "https://fbref.com/en/matches/6bb36736/Brentford-West-Ham-United-April-10-2022-Premier-League\n",
      "20220423\n",
      "https://fbref.com/en/matches/9c939b7f/Brentford-Tottenham-Hotspur-April-23-2022-Premier-League\n",
      "20220507\n",
      "https://fbref.com/en/matches/74a74729/Brentford-Southampton-May-7-2022-Premier-League\n",
      "20220522\n",
      "https://fbref.com/en/matches/076ca089/Brentford-Leeds-United-May-22-2022-Premier-League\n",
      "19\n",
      "19\n"
     ]
    },
    {
     "name": "stderr",
     "output_type": "stream",
     "text": [
      "\n",
      "\u001b[A"
     ]
    },
    {
     "name": "stdout",
     "output_type": "stream",
     "text": [
      "[players stats summary 저장 완료] C:/Users/user080524/Desktop/project/PREMO/data/datas/1\\2021-2022\\Brentford\\20210813\\20210813_home_palyers_summary.csv\n",
      "[players stats summary 저장 완료] C:/Users/user080524/Desktop/project/PREMO/data/datas/1\\2021-2022\\Brentford\\20210813\\20210813_home_gk.csv\n",
      "[players stats summary 저장 완료] C:/Users/user080524/Desktop/project/PREMO/data/datas/1\\2021-2022\\Brentford\\20210813\\20210813_away_players_summary.csv\n",
      "[players stats summary 저장 완료] C:/Users/user080524/Desktop/project/PREMO/data/datas/1\\2021-2022\\Brentford\\20210813\\20210813_away_gk.csv\n"
     ]
    },
    {
     "name": "stderr",
     "output_type": "stream",
     "text": [
      "\n",
      "\u001b[A"
     ]
    },
    {
     "name": "stdout",
     "output_type": "stream",
     "text": [
      "[team_stats 저장 완료] C:/Users/user080524/Desktop/project/PREMO/data/datas/1\\2021-2022\\Brentford\\20210813\\20210813_team_stats.csv\n",
      "[players stats summary 저장 완료] C:/Users/user080524/Desktop/project/PREMO/data/datas/1\\2021-2022\\Brentford\\20210911\\20210911_home_palyers_summary.csv\n",
      "[players stats summary 저장 완료] C:/Users/user080524/Desktop/project/PREMO/data/datas/1\\2021-2022\\Brentford\\20210911\\20210911_home_gk.csv\n",
      "[players stats summary 저장 완료] C:/Users/user080524/Desktop/project/PREMO/data/datas/1\\2021-2022\\Brentford\\20210911\\20210911_away_players_summary.csv\n",
      "[players stats summary 저장 완료] C:/Users/user080524/Desktop/project/PREMO/data/datas/1\\2021-2022\\Brentford\\20210911\\20210911_away_gk.csv\n"
     ]
    },
    {
     "name": "stderr",
     "output_type": "stream",
     "text": [
      "\n",
      "\u001b[A"
     ]
    },
    {
     "name": "stdout",
     "output_type": "stream",
     "text": [
      "[team_stats 저장 완료] C:/Users/user080524/Desktop/project/PREMO/data/datas/1\\2021-2022\\Brentford\\20210911\\20210911_team_stats.csv\n",
      "[players stats summary 저장 완료] C:/Users/user080524/Desktop/project/PREMO/data/datas/1\\2021-2022\\Brentford\\20210925\\20210925_home_palyers_summary.csv\n",
      "[players stats summary 저장 완료] C:/Users/user080524/Desktop/project/PREMO/data/datas/1\\2021-2022\\Brentford\\20210925\\20210925_home_gk.csv\n",
      "[players stats summary 저장 완료] C:/Users/user080524/Desktop/project/PREMO/data/datas/1\\2021-2022\\Brentford\\20210925\\20210925_away_players_summary.csv\n",
      "[players stats summary 저장 완료] C:/Users/user080524/Desktop/project/PREMO/data/datas/1\\2021-2022\\Brentford\\20210925\\20210925_away_gk.csv\n"
     ]
    },
    {
     "name": "stderr",
     "output_type": "stream",
     "text": [
      "\n",
      "\u001b[A"
     ]
    },
    {
     "name": "stdout",
     "output_type": "stream",
     "text": [
      "[team_stats 저장 완료] C:/Users/user080524/Desktop/project/PREMO/data/datas/1\\2021-2022\\Brentford\\20210925\\20210925_team_stats.csv\n",
      "[players stats summary 저장 완료] C:/Users/user080524/Desktop/project/PREMO/data/datas/1\\2021-2022\\Brentford\\20211016\\20211016_home_palyers_summary.csv\n",
      "[players stats summary 저장 완료] C:/Users/user080524/Desktop/project/PREMO/data/datas/1\\2021-2022\\Brentford\\20211016\\20211016_home_gk.csv\n",
      "[players stats summary 저장 완료] C:/Users/user080524/Desktop/project/PREMO/data/datas/1\\2021-2022\\Brentford\\20211016\\20211016_away_players_summary.csv\n",
      "[players stats summary 저장 완료] C:/Users/user080524/Desktop/project/PREMO/data/datas/1\\2021-2022\\Brentford\\20211016\\20211016_away_gk.csv\n"
     ]
    },
    {
     "name": "stderr",
     "output_type": "stream",
     "text": [
      "\n",
      "\u001b[A"
     ]
    },
    {
     "name": "stdout",
     "output_type": "stream",
     "text": [
      "[team_stats 저장 완료] C:/Users/user080524/Desktop/project/PREMO/data/datas/1\\2021-2022\\Brentford\\20211016\\20211016_team_stats.csv\n",
      "[players stats summary 저장 완료] C:/Users/user080524/Desktop/project/PREMO/data/datas/1\\2021-2022\\Brentford\\20211024\\20211024_home_palyers_summary.csv\n",
      "[players stats summary 저장 완료] C:/Users/user080524/Desktop/project/PREMO/data/datas/1\\2021-2022\\Brentford\\20211024\\20211024_home_gk.csv\n",
      "[players stats summary 저장 완료] C:/Users/user080524/Desktop/project/PREMO/data/datas/1\\2021-2022\\Brentford\\20211024\\20211024_away_players_summary.csv\n",
      "[players stats summary 저장 완료] C:/Users/user080524/Desktop/project/PREMO/data/datas/1\\2021-2022\\Brentford\\20211024\\20211024_away_gk.csv\n"
     ]
    },
    {
     "name": "stderr",
     "output_type": "stream",
     "text": [
      "\n",
      "\u001b[A"
     ]
    },
    {
     "name": "stdout",
     "output_type": "stream",
     "text": [
      "[team_stats 저장 완료] C:/Users/user080524/Desktop/project/PREMO/data/datas/1\\2021-2022\\Brentford\\20211024\\20211024_team_stats.csv\n",
      "[players stats summary 저장 완료] C:/Users/user080524/Desktop/project/PREMO/data/datas/1\\2021-2022\\Brentford\\20211106\\20211106_home_palyers_summary.csv\n",
      "[players stats summary 저장 완료] C:/Users/user080524/Desktop/project/PREMO/data/datas/1\\2021-2022\\Brentford\\20211106\\20211106_home_gk.csv\n",
      "[players stats summary 저장 완료] C:/Users/user080524/Desktop/project/PREMO/data/datas/1\\2021-2022\\Brentford\\20211106\\20211106_away_players_summary.csv\n",
      "[players stats summary 저장 완료] C:/Users/user080524/Desktop/project/PREMO/data/datas/1\\2021-2022\\Brentford\\20211106\\20211106_away_gk.csv\n"
     ]
    },
    {
     "name": "stderr",
     "output_type": "stream",
     "text": [
      "\n",
      "\u001b[A"
     ]
    },
    {
     "name": "stdout",
     "output_type": "stream",
     "text": [
      "[team_stats 저장 완료] C:/Users/user080524/Desktop/project/PREMO/data/datas/1\\2021-2022\\Brentford\\20211106\\20211106_team_stats.csv\n",
      "[players stats summary 저장 완료] C:/Users/user080524/Desktop/project/PREMO/data/datas/1\\2021-2022\\Brentford\\20211128\\20211128_home_palyers_summary.csv\n",
      "[players stats summary 저장 완료] C:/Users/user080524/Desktop/project/PREMO/data/datas/1\\2021-2022\\Brentford\\20211128\\20211128_home_gk.csv\n",
      "[players stats summary 저장 완료] C:/Users/user080524/Desktop/project/PREMO/data/datas/1\\2021-2022\\Brentford\\20211128\\20211128_away_players_summary.csv\n",
      "[players stats summary 저장 완료] C:/Users/user080524/Desktop/project/PREMO/data/datas/1\\2021-2022\\Brentford\\20211128\\20211128_away_gk.csv\n"
     ]
    },
    {
     "name": "stderr",
     "output_type": "stream",
     "text": [
      "\n",
      "\u001b[A"
     ]
    },
    {
     "name": "stdout",
     "output_type": "stream",
     "text": [
      "[team_stats 저장 완료] C:/Users/user080524/Desktop/project/PREMO/data/datas/1\\2021-2022\\Brentford\\20211128\\20211128_team_stats.csv\n",
      "[players stats summary 저장 완료] C:/Users/user080524/Desktop/project/PREMO/data/datas/1\\2021-2022\\Brentford\\20211210\\20211210_home_palyers_summary.csv\n",
      "[players stats summary 저장 완료] C:/Users/user080524/Desktop/project/PREMO/data/datas/1\\2021-2022\\Brentford\\20211210\\20211210_home_gk.csv\n",
      "[players stats summary 저장 완료] C:/Users/user080524/Desktop/project/PREMO/data/datas/1\\2021-2022\\Brentford\\20211210\\20211210_away_players_summary.csv\n",
      "[players stats summary 저장 완료] C:/Users/user080524/Desktop/project/PREMO/data/datas/1\\2021-2022\\Brentford\\20211210\\20211210_away_gk.csv\n"
     ]
    },
    {
     "name": "stderr",
     "output_type": "stream",
     "text": [
      "\n",
      "\u001b[A"
     ]
    },
    {
     "name": "stdout",
     "output_type": "stream",
     "text": [
      "[team_stats 저장 완료] C:/Users/user080524/Desktop/project/PREMO/data/datas/1\\2021-2022\\Brentford\\20211210\\20211210_team_stats.csv\n",
      "[players stats summary 저장 완료] C:/Users/user080524/Desktop/project/PREMO/data/datas/1\\2021-2022\\Brentford\\20211229\\20211229_home_palyers_summary.csv\n",
      "[players stats summary 저장 완료] C:/Users/user080524/Desktop/project/PREMO/data/datas/1\\2021-2022\\Brentford\\20211229\\20211229_home_gk.csv\n",
      "[players stats summary 저장 완료] C:/Users/user080524/Desktop/project/PREMO/data/datas/1\\2021-2022\\Brentford\\20211229\\20211229_away_players_summary.csv\n",
      "[players stats summary 저장 완료] C:/Users/user080524/Desktop/project/PREMO/data/datas/1\\2021-2022\\Brentford\\20211229\\20211229_away_gk.csv\n"
     ]
    },
    {
     "name": "stderr",
     "output_type": "stream",
     "text": [
      "\n",
      "\u001b[A"
     ]
    },
    {
     "name": "stdout",
     "output_type": "stream",
     "text": [
      "[team_stats 저장 완료] C:/Users/user080524/Desktop/project/PREMO/data/datas/1\\2021-2022\\Brentford\\20211229\\20211229_team_stats.csv\n",
      "[players stats summary 저장 완료] C:/Users/user080524/Desktop/project/PREMO/data/datas/1\\2021-2022\\Brentford\\20220102\\20220102_home_palyers_summary.csv\n",
      "[players stats summary 저장 완료] C:/Users/user080524/Desktop/project/PREMO/data/datas/1\\2021-2022\\Brentford\\20220102\\20220102_home_gk.csv\n",
      "[players stats summary 저장 완료] C:/Users/user080524/Desktop/project/PREMO/data/datas/1\\2021-2022\\Brentford\\20220102\\20220102_away_players_summary.csv\n",
      "[players stats summary 저장 완료] C:/Users/user080524/Desktop/project/PREMO/data/datas/1\\2021-2022\\Brentford\\20220102\\20220102_away_gk.csv\n"
     ]
    },
    {
     "name": "stderr",
     "output_type": "stream",
     "text": [
      "\n",
      "\u001b[A"
     ]
    },
    {
     "name": "stdout",
     "output_type": "stream",
     "text": [
      "[team_stats 저장 완료] C:/Users/user080524/Desktop/project/PREMO/data/datas/1\\2021-2022\\Brentford\\20220102\\20220102_team_stats.csv\n",
      "[players stats summary 저장 완료] C:/Users/user080524/Desktop/project/PREMO/data/datas/1\\2021-2022\\Brentford\\20220119\\20220119_home_palyers_summary.csv\n",
      "[players stats summary 저장 완료] C:/Users/user080524/Desktop/project/PREMO/data/datas/1\\2021-2022\\Brentford\\20220119\\20220119_home_gk.csv\n",
      "[players stats summary 저장 완료] C:/Users/user080524/Desktop/project/PREMO/data/datas/1\\2021-2022\\Brentford\\20220119\\20220119_away_players_summary.csv\n",
      "[players stats summary 저장 완료] C:/Users/user080524/Desktop/project/PREMO/data/datas/1\\2021-2022\\Brentford\\20220119\\20220119_away_gk.csv\n"
     ]
    },
    {
     "name": "stderr",
     "output_type": "stream",
     "text": [
      "\n",
      "\u001b[A"
     ]
    },
    {
     "name": "stdout",
     "output_type": "stream",
     "text": [
      "[team_stats 저장 완료] C:/Users/user080524/Desktop/project/PREMO/data/datas/1\\2021-2022\\Brentford\\20220119\\20220119_team_stats.csv\n",
      "[players stats summary 저장 완료] C:/Users/user080524/Desktop/project/PREMO/data/datas/1\\2021-2022\\Brentford\\20220122\\20220122_home_palyers_summary.csv\n",
      "[players stats summary 저장 완료] C:/Users/user080524/Desktop/project/PREMO/data/datas/1\\2021-2022\\Brentford\\20220122\\20220122_home_gk.csv\n",
      "[players stats summary 저장 완료] C:/Users/user080524/Desktop/project/PREMO/data/datas/1\\2021-2022\\Brentford\\20220122\\20220122_away_players_summary.csv\n",
      "[players stats summary 저장 완료] C:/Users/user080524/Desktop/project/PREMO/data/datas/1\\2021-2022\\Brentford\\20220122\\20220122_away_gk.csv\n"
     ]
    },
    {
     "name": "stderr",
     "output_type": "stream",
     "text": [
      "\n",
      "\u001b[A"
     ]
    },
    {
     "name": "stdout",
     "output_type": "stream",
     "text": [
      "[team_stats 저장 완료] C:/Users/user080524/Desktop/project/PREMO/data/datas/1\\2021-2022\\Brentford\\20220122\\20220122_team_stats.csv\n",
      "[players stats summary 저장 완료] C:/Users/user080524/Desktop/project/PREMO/data/datas/1\\2021-2022\\Brentford\\20220212\\20220212_home_palyers_summary.csv\n",
      "[players stats summary 저장 완료] C:/Users/user080524/Desktop/project/PREMO/data/datas/1\\2021-2022\\Brentford\\20220212\\20220212_home_gk.csv\n",
      "[players stats summary 저장 완료] C:/Users/user080524/Desktop/project/PREMO/data/datas/1\\2021-2022\\Brentford\\20220212\\20220212_away_players_summary.csv\n",
      "[players stats summary 저장 완료] C:/Users/user080524/Desktop/project/PREMO/data/datas/1\\2021-2022\\Brentford\\20220212\\20220212_away_gk.csv\n"
     ]
    },
    {
     "name": "stderr",
     "output_type": "stream",
     "text": [
      "\n",
      "\u001b[A"
     ]
    },
    {
     "name": "stdout",
     "output_type": "stream",
     "text": [
      "[team_stats 저장 완료] C:/Users/user080524/Desktop/project/PREMO/data/datas/1\\2021-2022\\Brentford\\20220212\\20220212_team_stats.csv\n",
      "[players stats summary 저장 완료] C:/Users/user080524/Desktop/project/PREMO/data/datas/1\\2021-2022\\Brentford\\20220226\\20220226_home_palyers_summary.csv\n",
      "[players stats summary 저장 완료] C:/Users/user080524/Desktop/project/PREMO/data/datas/1\\2021-2022\\Brentford\\20220226\\20220226_home_gk.csv\n",
      "[players stats summary 저장 완료] C:/Users/user080524/Desktop/project/PREMO/data/datas/1\\2021-2022\\Brentford\\20220226\\20220226_away_players_summary.csv\n",
      "[players stats summary 저장 완료] C:/Users/user080524/Desktop/project/PREMO/data/datas/1\\2021-2022\\Brentford\\20220226\\20220226_away_gk.csv\n"
     ]
    },
    {
     "name": "stderr",
     "output_type": "stream",
     "text": [
      "\n",
      "\u001b[A"
     ]
    },
    {
     "name": "stdout",
     "output_type": "stream",
     "text": [
      "[team_stats 저장 완료] C:/Users/user080524/Desktop/project/PREMO/data/datas/1\\2021-2022\\Brentford\\20220226\\20220226_team_stats.csv\n",
      "[players stats summary 저장 완료] C:/Users/user080524/Desktop/project/PREMO/data/datas/1\\2021-2022\\Brentford\\20220312\\20220312_home_palyers_summary.csv\n",
      "[players stats summary 저장 완료] C:/Users/user080524/Desktop/project/PREMO/data/datas/1\\2021-2022\\Brentford\\20220312\\20220312_home_gk.csv\n",
      "[players stats summary 저장 완료] C:/Users/user080524/Desktop/project/PREMO/data/datas/1\\2021-2022\\Brentford\\20220312\\20220312_away_players_summary.csv\n",
      "[players stats summary 저장 완료] C:/Users/user080524/Desktop/project/PREMO/data/datas/1\\2021-2022\\Brentford\\20220312\\20220312_away_gk.csv\n"
     ]
    },
    {
     "name": "stderr",
     "output_type": "stream",
     "text": [
      "\n",
      "\u001b[A"
     ]
    },
    {
     "name": "stdout",
     "output_type": "stream",
     "text": [
      "[team_stats 저장 완료] C:/Users/user080524/Desktop/project/PREMO/data/datas/1\\2021-2022\\Brentford\\20220312\\20220312_team_stats.csv\n",
      "[players stats summary 저장 완료] C:/Users/user080524/Desktop/project/PREMO/data/datas/1\\2021-2022\\Brentford\\20220410\\20220410_home_palyers_summary.csv\n",
      "[players stats summary 저장 완료] C:/Users/user080524/Desktop/project/PREMO/data/datas/1\\2021-2022\\Brentford\\20220410\\20220410_home_gk.csv\n",
      "[players stats summary 저장 완료] C:/Users/user080524/Desktop/project/PREMO/data/datas/1\\2021-2022\\Brentford\\20220410\\20220410_away_players_summary.csv\n",
      "[players stats summary 저장 완료] C:/Users/user080524/Desktop/project/PREMO/data/datas/1\\2021-2022\\Brentford\\20220410\\20220410_away_gk.csv\n"
     ]
    },
    {
     "name": "stderr",
     "output_type": "stream",
     "text": [
      "\n",
      "\u001b[A"
     ]
    },
    {
     "name": "stdout",
     "output_type": "stream",
     "text": [
      "[team_stats 저장 완료] C:/Users/user080524/Desktop/project/PREMO/data/datas/1\\2021-2022\\Brentford\\20220410\\20220410_team_stats.csv\n",
      "[players stats summary 저장 완료] C:/Users/user080524/Desktop/project/PREMO/data/datas/1\\2021-2022\\Brentford\\20220423\\20220423_home_palyers_summary.csv\n",
      "[players stats summary 저장 완료] C:/Users/user080524/Desktop/project/PREMO/data/datas/1\\2021-2022\\Brentford\\20220423\\20220423_home_gk.csv\n",
      "[players stats summary 저장 완료] C:/Users/user080524/Desktop/project/PREMO/data/datas/1\\2021-2022\\Brentford\\20220423\\20220423_away_players_summary.csv\n",
      "[players stats summary 저장 완료] C:/Users/user080524/Desktop/project/PREMO/data/datas/1\\2021-2022\\Brentford\\20220423\\20220423_away_gk.csv\n"
     ]
    },
    {
     "name": "stderr",
     "output_type": "stream",
     "text": [
      "\n",
      "\u001b[A"
     ]
    },
    {
     "name": "stdout",
     "output_type": "stream",
     "text": [
      "team_stats 없음 could not convert string to float: ''\n",
      "[team_stats 저장 완료] C:/Users/user080524/Desktop/project/PREMO/data/datas/1\\2021-2022\\Brentford\\20220423\\20220423_team_stats.csv\n",
      "[players stats summary 저장 완료] C:/Users/user080524/Desktop/project/PREMO/data/datas/1\\2021-2022\\Brentford\\20220507\\20220507_home_palyers_summary.csv\n",
      "[players stats summary 저장 완료] C:/Users/user080524/Desktop/project/PREMO/data/datas/1\\2021-2022\\Brentford\\20220507\\20220507_home_gk.csv\n",
      "[players stats summary 저장 완료] C:/Users/user080524/Desktop/project/PREMO/data/datas/1\\2021-2022\\Brentford\\20220507\\20220507_away_players_summary.csv\n",
      "[players stats summary 저장 완료] C:/Users/user080524/Desktop/project/PREMO/data/datas/1\\2021-2022\\Brentford\\20220507\\20220507_away_gk.csv\n"
     ]
    },
    {
     "name": "stderr",
     "output_type": "stream",
     "text": [
      "\n",
      "\u001b[A"
     ]
    },
    {
     "name": "stdout",
     "output_type": "stream",
     "text": [
      "[team_stats 저장 완료] C:/Users/user080524/Desktop/project/PREMO/data/datas/1\\2021-2022\\Brentford\\20220507\\20220507_team_stats.csv\n",
      "[players stats summary 저장 완료] C:/Users/user080524/Desktop/project/PREMO/data/datas/1\\2021-2022\\Brentford\\20220522\\20220522_home_palyers_summary.csv\n",
      "[players stats summary 저장 완료] C:/Users/user080524/Desktop/project/PREMO/data/datas/1\\2021-2022\\Brentford\\20220522\\20220522_home_gk.csv\n",
      "[players stats summary 저장 완료] C:/Users/user080524/Desktop/project/PREMO/data/datas/1\\2021-2022\\Brentford\\20220522\\20220522_away_players_summary.csv\n",
      "[players stats summary 저장 완료] C:/Users/user080524/Desktop/project/PREMO/data/datas/1\\2021-2022\\Brentford\\20220522\\20220522_away_gk.csv\n"
     ]
    },
    {
     "name": "stderr",
     "output_type": "stream",
     "text": [
      "\n",
      "\u001b[A\n",
      "\u001b[A"
     ]
    },
    {
     "name": "stdout",
     "output_type": "stream",
     "text": [
      "[team_stats 저장 완료] C:/Users/user080524/Desktop/project/PREMO/data/datas/1\\2021-2022\\Brentford\\20220522\\20220522_team_stats.csv\n",
      "[시즌 페이지 로딩] URL: https://fbref.com/en/comps/9/2021-2022/2021-2022-Premier-League-Stats\n",
      "팀: Aston Villa, 링크:https://fbref.com/en/squads/8602292d/2021-2022/Aston-Villa-Stats\n",
      "20210821\n",
      "https://fbref.com/en/matches/662d4074/Aston-Villa-Newcastle-United-August-21-2021-Premier-League\n",
      "20210828\n",
      "https://fbref.com/en/matches/a08ef96c/Aston-Villa-Brentford-August-28-2021-Premier-League\n",
      "20210918\n",
      "https://fbref.com/en/matches/57323feb/Aston-Villa-Everton-September-18-2021-Premier-League\n",
      "20211016\n",
      "https://fbref.com/en/matches/a1668499/Aston-Villa-Wolverhampton-Wanderers-October-16-2021-Premier-League\n",
      "match row 처리 중 오류: Message: no such element: Unable to locate element: {\"method\":\"css selector\",\"selector\":\"td[data-stat=\"comp\"]\"}\n",
      "  (Session info: chrome=136.0.7103.114); For documentation on this error, please visit: https://www.selenium.dev/documentation/webdriver/troubleshooting/errors#no-such-element-exception\n",
      "Stacktrace:\n",
      "\tGetHandleVerifier [0x00007FF7535BCF45+75717]\n",
      "\tGetHandleVerifier [0x00007FF7535BCFA0+75808]\n",
      "\t(No symbol) [0x00007FF753388F9A]\n",
      "\t(No symbol) [0x00007FF7533DF4C6]\n",
      "\t(No symbol) [0x00007FF7533DF77C]\n",
      "\t(No symbol) [0x00007FF7533D1D7C]\n",
      "\t(No symbol) [0x00007FF7534073BF]\n",
      "\t(No symbol) [0x00007FF7533D1C46]\n",
      "\t(No symbol) [0x00007FF753407590]\n",
      "\t(No symbol) [0x00007FF75342F39C]\n",
      "\t(No symbol) [0x00007FF753407153]\n",
      "\t(No symbol) [0x00007FF7533D0421]\n",
      "\t(No symbol) [0x00007FF7533D11B3]\n",
      "\tGetHandleVerifier [0x00007FF7538BD71D+3223453]\n",
      "\tGetHandleVerifier [0x00007FF7538B7CC2+3200322]\n",
      "\tGetHandleVerifier [0x00007FF7538D5AF3+3322739]\n",
      "\tGetHandleVerifier [0x00007FF7535D6A1A+180890]\n",
      "\tGetHandleVerifier [0x00007FF7535DE11F+211359]\n",
      "\tGetHandleVerifier [0x00007FF7535C5294+109332]\n",
      "\tGetHandleVerifier [0x00007FF7535C5442+109762]\n",
      "\tGetHandleVerifier [0x00007FF7535ABA59+4825]\n",
      "\tBaseThreadInitThunk [0x00007FFE15767374+20]\n",
      "\tRtlUserThreadStart [0x00007FFE16F5CC91+33]\n",
      "\n",
      "20211031\n",
      "https://fbref.com/en/matches/a62478a2/Aston-Villa-West-Ham-United-October-31-2021-Premier-League\n",
      "20211120\n",
      "https://fbref.com/en/matches/88f081ac/Aston-Villa-Brighton-and-Hove-Albion-November-20-2021-Premier-League\n",
      "20211201\n",
      "https://fbref.com/en/matches/1993b7ec/Aston-Villa-Manchester-City-December-1-2021-Premier-League\n",
      "20211205\n",
      "https://fbref.com/en/matches/49cc65ac/Aston-Villa-Leicester-City-December-5-2021-Premier-League\n",
      "20211226\n",
      "https://fbref.com/en/matches/61396bd8/Aston-Villa-Chelsea-December-26-2021-Premier-League\n",
      "match row 처리 중 오류: Message: no such element: Unable to locate element: {\"method\":\"css selector\",\"selector\":\"td[data-stat=\"comp\"]\"}\n",
      "  (Session info: chrome=136.0.7103.114); For documentation on this error, please visit: https://www.selenium.dev/documentation/webdriver/troubleshooting/errors#no-such-element-exception\n",
      "Stacktrace:\n",
      "\tGetHandleVerifier [0x00007FF7535BCF45+75717]\n",
      "\tGetHandleVerifier [0x00007FF7535BCFA0+75808]\n",
      "\t(No symbol) [0x00007FF753388F9A]\n",
      "\t(No symbol) [0x00007FF7533DF4C6]\n",
      "\t(No symbol) [0x00007FF7533DF77C]\n",
      "\t(No symbol) [0x00007FF7533D1D7C]\n",
      "\t(No symbol) [0x00007FF7534073BF]\n",
      "\t(No symbol) [0x00007FF7533D1C46]\n",
      "\t(No symbol) [0x00007FF753407590]\n",
      "\t(No symbol) [0x00007FF75342F39C]\n",
      "\t(No symbol) [0x00007FF753407153]\n",
      "\t(No symbol) [0x00007FF7533D0421]\n",
      "\t(No symbol) [0x00007FF7533D11B3]\n",
      "\tGetHandleVerifier [0x00007FF7538BD71D+3223453]\n",
      "\tGetHandleVerifier [0x00007FF7538B7CC2+3200322]\n",
      "\tGetHandleVerifier [0x00007FF7538D5AF3+3322739]\n",
      "\tGetHandleVerifier [0x00007FF7535D6A1A+180890]\n",
      "\tGetHandleVerifier [0x00007FF7535DE11F+211359]\n",
      "\tGetHandleVerifier [0x00007FF7535C5294+109332]\n",
      "\tGetHandleVerifier [0x00007FF7535C5442+109762]\n",
      "\tGetHandleVerifier [0x00007FF7535ABA59+4825]\n",
      "\tBaseThreadInitThunk [0x00007FFE15767374+20]\n",
      "\tRtlUserThreadStart [0x00007FFE16F5CC91+33]\n",
      "\n",
      "20220115\n",
      "https://fbref.com/en/matches/745dc664/Aston-Villa-Manchester-United-January-15-2022-Premier-League\n",
      "20220209\n",
      "https://fbref.com/en/matches/f1e84229/Aston-Villa-Leeds-United-February-9-2022-Premier-League\n",
      "20220219\n",
      "https://fbref.com/en/matches/28c4ee0a/Aston-Villa-Watford-February-19-2022-Premier-League\n",
      "20220305\n",
      "https://fbref.com/en/matches/1aa40463/Aston-Villa-Southampton-March-5-2022-Premier-League\n",
      "match row 처리 중 오류: Message: no such element: Unable to locate element: {\"method\":\"css selector\",\"selector\":\"td[data-stat=\"comp\"]\"}\n",
      "  (Session info: chrome=136.0.7103.114); For documentation on this error, please visit: https://www.selenium.dev/documentation/webdriver/troubleshooting/errors#no-such-element-exception\n",
      "Stacktrace:\n",
      "\tGetHandleVerifier [0x00007FF7535BCF45+75717]\n",
      "\tGetHandleVerifier [0x00007FF7535BCFA0+75808]\n",
      "\t(No symbol) [0x00007FF753388F9A]\n",
      "\t(No symbol) [0x00007FF7533DF4C6]\n",
      "\t(No symbol) [0x00007FF7533DF77C]\n",
      "\t(No symbol) [0x00007FF7533D1D7C]\n",
      "\t(No symbol) [0x00007FF7534073BF]\n",
      "\t(No symbol) [0x00007FF7533D1C46]\n",
      "\t(No symbol) [0x00007FF753407590]\n",
      "\t(No symbol) [0x00007FF75342F39C]\n",
      "\t(No symbol) [0x00007FF753407153]\n",
      "\t(No symbol) [0x00007FF7533D0421]\n",
      "\t(No symbol) [0x00007FF7533D11B3]\n",
      "\tGetHandleVerifier [0x00007FF7538BD71D+3223453]\n",
      "\tGetHandleVerifier [0x00007FF7538B7CC2+3200322]\n",
      "\tGetHandleVerifier [0x00007FF7538D5AF3+3322739]\n",
      "\tGetHandleVerifier [0x00007FF7535D6A1A+180890]\n",
      "\tGetHandleVerifier [0x00007FF7535DE11F+211359]\n",
      "\tGetHandleVerifier [0x00007FF7535C5294+109332]\n",
      "\tGetHandleVerifier [0x00007FF7535C5442+109762]\n",
      "\tGetHandleVerifier [0x00007FF7535ABA59+4825]\n",
      "\tBaseThreadInitThunk [0x00007FFE15767374+20]\n",
      "\tRtlUserThreadStart [0x00007FFE16F5CC91+33]\n",
      "\n",
      "20220319\n",
      "https://fbref.com/en/matches/0cb74761/Aston-Villa-Arsenal-March-19-2022-Premier-League\n",
      "20220409\n",
      "https://fbref.com/en/matches/811d471f/Aston-Villa-Tottenham-Hotspur-April-9-2022-Premier-League\n",
      "20220430\n",
      "https://fbref.com/en/matches/bf7873f2/Aston-Villa-Norwich-City-April-30-2022-Premier-League\n",
      "20220510\n",
      "https://fbref.com/en/matches/1016efad/Aston-Villa-Liverpool-May-10-2022-Premier-League\n",
      "20220515\n",
      "https://fbref.com/en/matches/d2e9e9e3/Aston-Villa-Crystal-Palace-May-15-2022-Premier-League\n",
      "20220519\n",
      "https://fbref.com/en/matches/bc4f902e/Aston-Villa-Burnley-May-19-2022-Premier-League\n",
      "19\n",
      "19\n"
     ]
    },
    {
     "name": "stderr",
     "output_type": "stream",
     "text": [
      "\n",
      "\u001b[A"
     ]
    },
    {
     "name": "stdout",
     "output_type": "stream",
     "text": [
      "[players stats summary 저장 완료] C:/Users/user080524/Desktop/project/PREMO/data/datas/1\\2021-2022\\Aston Villa\\20210821\\20210821_home_palyers_summary.csv\n",
      "[players stats summary 저장 완료] C:/Users/user080524/Desktop/project/PREMO/data/datas/1\\2021-2022\\Aston Villa\\20210821\\20210821_home_gk.csv\n",
      "[players stats summary 저장 완료] C:/Users/user080524/Desktop/project/PREMO/data/datas/1\\2021-2022\\Aston Villa\\20210821\\20210821_away_players_summary.csv\n",
      "[players stats summary 저장 완료] C:/Users/user080524/Desktop/project/PREMO/data/datas/1\\2021-2022\\Aston Villa\\20210821\\20210821_away_gk.csv\n"
     ]
    },
    {
     "name": "stderr",
     "output_type": "stream",
     "text": [
      "\n",
      "\u001b[A"
     ]
    },
    {
     "name": "stdout",
     "output_type": "stream",
     "text": [
      "[team_stats 저장 완료] C:/Users/user080524/Desktop/project/PREMO/data/datas/1\\2021-2022\\Aston Villa\\20210821\\20210821_team_stats.csv\n",
      "[players stats summary 저장 완료] C:/Users/user080524/Desktop/project/PREMO/data/datas/1\\2021-2022\\Aston Villa\\20210828\\20210828_home_palyers_summary.csv\n",
      "[players stats summary 저장 완료] C:/Users/user080524/Desktop/project/PREMO/data/datas/1\\2021-2022\\Aston Villa\\20210828\\20210828_home_gk.csv\n",
      "[players stats summary 저장 완료] C:/Users/user080524/Desktop/project/PREMO/data/datas/1\\2021-2022\\Aston Villa\\20210828\\20210828_away_players_summary.csv\n",
      "[players stats summary 저장 완료] C:/Users/user080524/Desktop/project/PREMO/data/datas/1\\2021-2022\\Aston Villa\\20210828\\20210828_away_gk.csv\n"
     ]
    },
    {
     "name": "stderr",
     "output_type": "stream",
     "text": [
      "\n",
      "\u001b[A"
     ]
    },
    {
     "name": "stdout",
     "output_type": "stream",
     "text": [
      "[team_stats 저장 완료] C:/Users/user080524/Desktop/project/PREMO/data/datas/1\\2021-2022\\Aston Villa\\20210828\\20210828_team_stats.csv\n",
      "[players stats summary 저장 완료] C:/Users/user080524/Desktop/project/PREMO/data/datas/1\\2021-2022\\Aston Villa\\20210918\\20210918_home_palyers_summary.csv\n",
      "[players stats summary 저장 완료] C:/Users/user080524/Desktop/project/PREMO/data/datas/1\\2021-2022\\Aston Villa\\20210918\\20210918_home_gk.csv\n",
      "[players stats summary 저장 완료] C:/Users/user080524/Desktop/project/PREMO/data/datas/1\\2021-2022\\Aston Villa\\20210918\\20210918_away_players_summary.csv\n",
      "[players stats summary 저장 완료] C:/Users/user080524/Desktop/project/PREMO/data/datas/1\\2021-2022\\Aston Villa\\20210918\\20210918_away_gk.csv\n"
     ]
    },
    {
     "name": "stderr",
     "output_type": "stream",
     "text": [
      "\n",
      "\u001b[A"
     ]
    },
    {
     "name": "stdout",
     "output_type": "stream",
     "text": [
      "[team_stats 저장 완료] C:/Users/user080524/Desktop/project/PREMO/data/datas/1\\2021-2022\\Aston Villa\\20210918\\20210918_team_stats.csv\n",
      "[players stats summary 저장 완료] C:/Users/user080524/Desktop/project/PREMO/data/datas/1\\2021-2022\\Aston Villa\\20211016\\20211016_home_palyers_summary.csv\n",
      "[players stats summary 저장 완료] C:/Users/user080524/Desktop/project/PREMO/data/datas/1\\2021-2022\\Aston Villa\\20211016\\20211016_home_gk.csv\n",
      "[players stats summary 저장 완료] C:/Users/user080524/Desktop/project/PREMO/data/datas/1\\2021-2022\\Aston Villa\\20211016\\20211016_away_players_summary.csv\n",
      "[players stats summary 저장 완료] C:/Users/user080524/Desktop/project/PREMO/data/datas/1\\2021-2022\\Aston Villa\\20211016\\20211016_away_gk.csv\n"
     ]
    },
    {
     "name": "stderr",
     "output_type": "stream",
     "text": [
      "\n",
      "\u001b[A"
     ]
    },
    {
     "name": "stdout",
     "output_type": "stream",
     "text": [
      "[team_stats 저장 완료] C:/Users/user080524/Desktop/project/PREMO/data/datas/1\\2021-2022\\Aston Villa\\20211016\\20211016_team_stats.csv\n",
      "[players stats summary 저장 완료] C:/Users/user080524/Desktop/project/PREMO/data/datas/1\\2021-2022\\Aston Villa\\20211031\\20211031_home_palyers_summary.csv\n",
      "[players stats summary 저장 완료] C:/Users/user080524/Desktop/project/PREMO/data/datas/1\\2021-2022\\Aston Villa\\20211031\\20211031_home_gk.csv\n",
      "[players stats summary 저장 완료] C:/Users/user080524/Desktop/project/PREMO/data/datas/1\\2021-2022\\Aston Villa\\20211031\\20211031_away_players_summary.csv\n",
      "[players stats summary 저장 완료] C:/Users/user080524/Desktop/project/PREMO/data/datas/1\\2021-2022\\Aston Villa\\20211031\\20211031_away_gk.csv\n"
     ]
    },
    {
     "name": "stderr",
     "output_type": "stream",
     "text": [
      "\n",
      "\u001b[A"
     ]
    },
    {
     "name": "stdout",
     "output_type": "stream",
     "text": [
      "[team_stats 저장 완료] C:/Users/user080524/Desktop/project/PREMO/data/datas/1\\2021-2022\\Aston Villa\\20211031\\20211031_team_stats.csv\n",
      "[players stats summary 저장 완료] C:/Users/user080524/Desktop/project/PREMO/data/datas/1\\2021-2022\\Aston Villa\\20211120\\20211120_home_palyers_summary.csv\n",
      "[players stats summary 저장 완료] C:/Users/user080524/Desktop/project/PREMO/data/datas/1\\2021-2022\\Aston Villa\\20211120\\20211120_home_gk.csv\n",
      "[players stats summary 저장 완료] C:/Users/user080524/Desktop/project/PREMO/data/datas/1\\2021-2022\\Aston Villa\\20211120\\20211120_away_players_summary.csv\n",
      "[players stats summary 저장 완료] C:/Users/user080524/Desktop/project/PREMO/data/datas/1\\2021-2022\\Aston Villa\\20211120\\20211120_away_gk.csv\n"
     ]
    },
    {
     "name": "stderr",
     "output_type": "stream",
     "text": [
      "\n",
      "\u001b[A"
     ]
    },
    {
     "name": "stdout",
     "output_type": "stream",
     "text": [
      "[team_stats 저장 완료] C:/Users/user080524/Desktop/project/PREMO/data/datas/1\\2021-2022\\Aston Villa\\20211120\\20211120_team_stats.csv\n",
      "[players stats summary 저장 완료] C:/Users/user080524/Desktop/project/PREMO/data/datas/1\\2021-2022\\Aston Villa\\20211201\\20211201_home_palyers_summary.csv\n",
      "[players stats summary 저장 완료] C:/Users/user080524/Desktop/project/PREMO/data/datas/1\\2021-2022\\Aston Villa\\20211201\\20211201_home_gk.csv\n",
      "[players stats summary 저장 완료] C:/Users/user080524/Desktop/project/PREMO/data/datas/1\\2021-2022\\Aston Villa\\20211201\\20211201_away_players_summary.csv\n",
      "[players stats summary 저장 완료] C:/Users/user080524/Desktop/project/PREMO/data/datas/1\\2021-2022\\Aston Villa\\20211201\\20211201_away_gk.csv\n"
     ]
    },
    {
     "name": "stderr",
     "output_type": "stream",
     "text": [
      "\n",
      "\u001b[A"
     ]
    },
    {
     "name": "stdout",
     "output_type": "stream",
     "text": [
      "[team_stats 저장 완료] C:/Users/user080524/Desktop/project/PREMO/data/datas/1\\2021-2022\\Aston Villa\\20211201\\20211201_team_stats.csv\n",
      "[players stats summary 저장 완료] C:/Users/user080524/Desktop/project/PREMO/data/datas/1\\2021-2022\\Aston Villa\\20211205\\20211205_home_palyers_summary.csv\n",
      "[players stats summary 저장 완료] C:/Users/user080524/Desktop/project/PREMO/data/datas/1\\2021-2022\\Aston Villa\\20211205\\20211205_home_gk.csv\n",
      "[players stats summary 저장 완료] C:/Users/user080524/Desktop/project/PREMO/data/datas/1\\2021-2022\\Aston Villa\\20211205\\20211205_away_players_summary.csv\n",
      "[players stats summary 저장 완료] C:/Users/user080524/Desktop/project/PREMO/data/datas/1\\2021-2022\\Aston Villa\\20211205\\20211205_away_gk.csv\n"
     ]
    },
    {
     "name": "stderr",
     "output_type": "stream",
     "text": [
      "\n",
      "\u001b[A"
     ]
    },
    {
     "name": "stdout",
     "output_type": "stream",
     "text": [
      "[team_stats 저장 완료] C:/Users/user080524/Desktop/project/PREMO/data/datas/1\\2021-2022\\Aston Villa\\20211205\\20211205_team_stats.csv\n",
      "[players stats summary 저장 완료] C:/Users/user080524/Desktop/project/PREMO/data/datas/1\\2021-2022\\Aston Villa\\20211226\\20211226_home_palyers_summary.csv\n",
      "[players stats summary 저장 완료] C:/Users/user080524/Desktop/project/PREMO/data/datas/1\\2021-2022\\Aston Villa\\20211226\\20211226_home_gk.csv\n",
      "[players stats summary 저장 완료] C:/Users/user080524/Desktop/project/PREMO/data/datas/1\\2021-2022\\Aston Villa\\20211226\\20211226_away_players_summary.csv\n",
      "[players stats summary 저장 완료] C:/Users/user080524/Desktop/project/PREMO/data/datas/1\\2021-2022\\Aston Villa\\20211226\\20211226_away_gk.csv\n"
     ]
    },
    {
     "name": "stderr",
     "output_type": "stream",
     "text": [
      "\n",
      "\u001b[A"
     ]
    },
    {
     "name": "stdout",
     "output_type": "stream",
     "text": [
      "[team_stats 저장 완료] C:/Users/user080524/Desktop/project/PREMO/data/datas/1\\2021-2022\\Aston Villa\\20211226\\20211226_team_stats.csv\n",
      "[players stats summary 저장 완료] C:/Users/user080524/Desktop/project/PREMO/data/datas/1\\2021-2022\\Aston Villa\\20220115\\20220115_home_palyers_summary.csv\n",
      "[players stats summary 저장 완료] C:/Users/user080524/Desktop/project/PREMO/data/datas/1\\2021-2022\\Aston Villa\\20220115\\20220115_home_gk.csv\n",
      "[players stats summary 저장 완료] C:/Users/user080524/Desktop/project/PREMO/data/datas/1\\2021-2022\\Aston Villa\\20220115\\20220115_away_players_summary.csv\n",
      "[players stats summary 저장 완료] C:/Users/user080524/Desktop/project/PREMO/data/datas/1\\2021-2022\\Aston Villa\\20220115\\20220115_away_gk.csv\n"
     ]
    },
    {
     "name": "stderr",
     "output_type": "stream",
     "text": [
      "\n",
      "\u001b[A"
     ]
    },
    {
     "name": "stdout",
     "output_type": "stream",
     "text": [
      "[team_stats 저장 완료] C:/Users/user080524/Desktop/project/PREMO/data/datas/1\\2021-2022\\Aston Villa\\20220115\\20220115_team_stats.csv\n",
      "[players stats summary 저장 완료] C:/Users/user080524/Desktop/project/PREMO/data/datas/1\\2021-2022\\Aston Villa\\20220209\\20220209_home_palyers_summary.csv\n",
      "[players stats summary 저장 완료] C:/Users/user080524/Desktop/project/PREMO/data/datas/1\\2021-2022\\Aston Villa\\20220209\\20220209_home_gk.csv\n",
      "[players stats summary 저장 완료] C:/Users/user080524/Desktop/project/PREMO/data/datas/1\\2021-2022\\Aston Villa\\20220209\\20220209_away_players_summary.csv\n",
      "[players stats summary 저장 완료] C:/Users/user080524/Desktop/project/PREMO/data/datas/1\\2021-2022\\Aston Villa\\20220209\\20220209_away_gk.csv\n"
     ]
    },
    {
     "name": "stderr",
     "output_type": "stream",
     "text": [
      "\n",
      "\u001b[A"
     ]
    },
    {
     "name": "stdout",
     "output_type": "stream",
     "text": [
      "[team_stats 저장 완료] C:/Users/user080524/Desktop/project/PREMO/data/datas/1\\2021-2022\\Aston Villa\\20220209\\20220209_team_stats.csv\n",
      "[players stats summary 저장 완료] C:/Users/user080524/Desktop/project/PREMO/data/datas/1\\2021-2022\\Aston Villa\\20220219\\20220219_home_palyers_summary.csv\n",
      "[players stats summary 저장 완료] C:/Users/user080524/Desktop/project/PREMO/data/datas/1\\2021-2022\\Aston Villa\\20220219\\20220219_home_gk.csv\n",
      "[players stats summary 저장 완료] C:/Users/user080524/Desktop/project/PREMO/data/datas/1\\2021-2022\\Aston Villa\\20220219\\20220219_away_players_summary.csv\n",
      "[players stats summary 저장 완료] C:/Users/user080524/Desktop/project/PREMO/data/datas/1\\2021-2022\\Aston Villa\\20220219\\20220219_away_gk.csv\n"
     ]
    },
    {
     "name": "stderr",
     "output_type": "stream",
     "text": [
      "\n",
      "\u001b[A"
     ]
    },
    {
     "name": "stdout",
     "output_type": "stream",
     "text": [
      "[team_stats 저장 완료] C:/Users/user080524/Desktop/project/PREMO/data/datas/1\\2021-2022\\Aston Villa\\20220219\\20220219_team_stats.csv\n",
      "[players stats summary 저장 완료] C:/Users/user080524/Desktop/project/PREMO/data/datas/1\\2021-2022\\Aston Villa\\20220305\\20220305_home_palyers_summary.csv\n",
      "[players stats summary 저장 완료] C:/Users/user080524/Desktop/project/PREMO/data/datas/1\\2021-2022\\Aston Villa\\20220305\\20220305_home_gk.csv\n",
      "[players stats summary 저장 완료] C:/Users/user080524/Desktop/project/PREMO/data/datas/1\\2021-2022\\Aston Villa\\20220305\\20220305_away_players_summary.csv\n",
      "[players stats summary 저장 완료] C:/Users/user080524/Desktop/project/PREMO/data/datas/1\\2021-2022\\Aston Villa\\20220305\\20220305_away_gk.csv\n"
     ]
    },
    {
     "name": "stderr",
     "output_type": "stream",
     "text": [
      "\n",
      "\u001b[A"
     ]
    },
    {
     "name": "stdout",
     "output_type": "stream",
     "text": [
      "[team_stats 저장 완료] C:/Users/user080524/Desktop/project/PREMO/data/datas/1\\2021-2022\\Aston Villa\\20220305\\20220305_team_stats.csv\n",
      "[players stats summary 저장 완료] C:/Users/user080524/Desktop/project/PREMO/data/datas/1\\2021-2022\\Aston Villa\\20220319\\20220319_home_palyers_summary.csv\n",
      "[players stats summary 저장 완료] C:/Users/user080524/Desktop/project/PREMO/data/datas/1\\2021-2022\\Aston Villa\\20220319\\20220319_home_gk.csv\n",
      "[players stats summary 저장 완료] C:/Users/user080524/Desktop/project/PREMO/data/datas/1\\2021-2022\\Aston Villa\\20220319\\20220319_away_players_summary.csv\n",
      "[players stats summary 저장 완료] C:/Users/user080524/Desktop/project/PREMO/data/datas/1\\2021-2022\\Aston Villa\\20220319\\20220319_away_gk.csv\n"
     ]
    },
    {
     "name": "stderr",
     "output_type": "stream",
     "text": [
      "\n",
      "\u001b[A"
     ]
    },
    {
     "name": "stdout",
     "output_type": "stream",
     "text": [
      "[team_stats 저장 완료] C:/Users/user080524/Desktop/project/PREMO/data/datas/1\\2021-2022\\Aston Villa\\20220319\\20220319_team_stats.csv\n",
      "[players stats summary 저장 완료] C:/Users/user080524/Desktop/project/PREMO/data/datas/1\\2021-2022\\Aston Villa\\20220409\\20220409_home_palyers_summary.csv\n",
      "[players stats summary 저장 완료] C:/Users/user080524/Desktop/project/PREMO/data/datas/1\\2021-2022\\Aston Villa\\20220409\\20220409_home_gk.csv\n",
      "[players stats summary 저장 완료] C:/Users/user080524/Desktop/project/PREMO/data/datas/1\\2021-2022\\Aston Villa\\20220409\\20220409_away_players_summary.csv\n",
      "[players stats summary 저장 완료] C:/Users/user080524/Desktop/project/PREMO/data/datas/1\\2021-2022\\Aston Villa\\20220409\\20220409_away_gk.csv\n"
     ]
    },
    {
     "name": "stderr",
     "output_type": "stream",
     "text": [
      "\n",
      "\u001b[A"
     ]
    },
    {
     "name": "stdout",
     "output_type": "stream",
     "text": [
      "[team_stats 저장 완료] C:/Users/user080524/Desktop/project/PREMO/data/datas/1\\2021-2022\\Aston Villa\\20220409\\20220409_team_stats.csv\n",
      "[players stats summary 저장 완료] C:/Users/user080524/Desktop/project/PREMO/data/datas/1\\2021-2022\\Aston Villa\\20220430\\20220430_home_palyers_summary.csv\n",
      "[players stats summary 저장 완료] C:/Users/user080524/Desktop/project/PREMO/data/datas/1\\2021-2022\\Aston Villa\\20220430\\20220430_home_gk.csv\n",
      "[players stats summary 저장 완료] C:/Users/user080524/Desktop/project/PREMO/data/datas/1\\2021-2022\\Aston Villa\\20220430\\20220430_away_players_summary.csv\n",
      "[players stats summary 저장 완료] C:/Users/user080524/Desktop/project/PREMO/data/datas/1\\2021-2022\\Aston Villa\\20220430\\20220430_away_gk.csv\n"
     ]
    },
    {
     "name": "stderr",
     "output_type": "stream",
     "text": [
      "\n",
      "\u001b[A"
     ]
    },
    {
     "name": "stdout",
     "output_type": "stream",
     "text": [
      "[team_stats 저장 완료] C:/Users/user080524/Desktop/project/PREMO/data/datas/1\\2021-2022\\Aston Villa\\20220430\\20220430_team_stats.csv\n",
      "[players stats summary 저장 완료] C:/Users/user080524/Desktop/project/PREMO/data/datas/1\\2021-2022\\Aston Villa\\20220510\\20220510_home_palyers_summary.csv\n",
      "[players stats summary 저장 완료] C:/Users/user080524/Desktop/project/PREMO/data/datas/1\\2021-2022\\Aston Villa\\20220510\\20220510_home_gk.csv\n",
      "[players stats summary 저장 완료] C:/Users/user080524/Desktop/project/PREMO/data/datas/1\\2021-2022\\Aston Villa\\20220510\\20220510_away_players_summary.csv\n",
      "[players stats summary 저장 완료] C:/Users/user080524/Desktop/project/PREMO/data/datas/1\\2021-2022\\Aston Villa\\20220510\\20220510_away_gk.csv\n"
     ]
    },
    {
     "name": "stderr",
     "output_type": "stream",
     "text": [
      "\n",
      "\u001b[A"
     ]
    },
    {
     "name": "stdout",
     "output_type": "stream",
     "text": [
      "[team_stats 저장 완료] C:/Users/user080524/Desktop/project/PREMO/data/datas/1\\2021-2022\\Aston Villa\\20220510\\20220510_team_stats.csv\n",
      "[players stats summary 저장 완료] C:/Users/user080524/Desktop/project/PREMO/data/datas/1\\2021-2022\\Aston Villa\\20220515\\20220515_home_palyers_summary.csv\n",
      "[players stats summary 저장 완료] C:/Users/user080524/Desktop/project/PREMO/data/datas/1\\2021-2022\\Aston Villa\\20220515\\20220515_home_gk.csv\n",
      "[players stats summary 저장 완료] C:/Users/user080524/Desktop/project/PREMO/data/datas/1\\2021-2022\\Aston Villa\\20220515\\20220515_away_players_summary.csv\n",
      "[players stats summary 저장 완료] C:/Users/user080524/Desktop/project/PREMO/data/datas/1\\2021-2022\\Aston Villa\\20220515\\20220515_away_gk.csv\n"
     ]
    },
    {
     "name": "stderr",
     "output_type": "stream",
     "text": [
      "\n",
      "\u001b[A"
     ]
    },
    {
     "name": "stdout",
     "output_type": "stream",
     "text": [
      "[team_stats 저장 완료] C:/Users/user080524/Desktop/project/PREMO/data/datas/1\\2021-2022\\Aston Villa\\20220515\\20220515_team_stats.csv\n",
      "[players stats summary 저장 완료] C:/Users/user080524/Desktop/project/PREMO/data/datas/1\\2021-2022\\Aston Villa\\20220519\\20220519_home_palyers_summary.csv\n",
      "[players stats summary 저장 완료] C:/Users/user080524/Desktop/project/PREMO/data/datas/1\\2021-2022\\Aston Villa\\20220519\\20220519_home_gk.csv\n",
      "[players stats summary 저장 완료] C:/Users/user080524/Desktop/project/PREMO/data/datas/1\\2021-2022\\Aston Villa\\20220519\\20220519_away_players_summary.csv\n",
      "[players stats summary 저장 완료] C:/Users/user080524/Desktop/project/PREMO/data/datas/1\\2021-2022\\Aston Villa\\20220519\\20220519_away_gk.csv\n"
     ]
    },
    {
     "name": "stderr",
     "output_type": "stream",
     "text": [
      "\n",
      "\u001b[A\n",
      "\u001b[A"
     ]
    },
    {
     "name": "stdout",
     "output_type": "stream",
     "text": [
      "[team_stats 저장 완료] C:/Users/user080524/Desktop/project/PREMO/data/datas/1\\2021-2022\\Aston Villa\\20220519\\20220519_team_stats.csv\n",
      "[시즌 페이지 로딩] URL: https://fbref.com/en/comps/9/2021-2022/2021-2022-Premier-League-Stats\n",
      "팀: Southampton, 링크:https://fbref.com/en/squads/33c895d4/2021-2022/Southampton-Stats\n",
      "20210822\n",
      "https://fbref.com/en/matches/345b3989/Southampton-Manchester-United-August-22-2021-Premier-League\n",
      "20210911\n",
      "https://fbref.com/en/matches/ddff1858/Southampton-West-Ham-United-September-11-2021-Premier-League\n",
      "20210926\n",
      "https://fbref.com/en/matches/d99f984c/Southampton-Wolverhampton-Wanderers-September-26-2021-Premier-League\n",
      "20211016\n",
      "https://fbref.com/en/matches/8bde822c/Southampton-Leeds-United-October-16-2021-Premier-League\n",
      "match row 처리 중 오류: Message: no such element: Unable to locate element: {\"method\":\"css selector\",\"selector\":\"td[data-stat=\"comp\"]\"}\n",
      "  (Session info: chrome=136.0.7103.114); For documentation on this error, please visit: https://www.selenium.dev/documentation/webdriver/troubleshooting/errors#no-such-element-exception\n",
      "Stacktrace:\n",
      "\tGetHandleVerifier [0x00007FF7535BCF45+75717]\n",
      "\tGetHandleVerifier [0x00007FF7535BCFA0+75808]\n",
      "\t(No symbol) [0x00007FF753388F9A]\n",
      "\t(No symbol) [0x00007FF7533DF4C6]\n",
      "\t(No symbol) [0x00007FF7533DF77C]\n",
      "\t(No symbol) [0x00007FF7533D1D7C]\n",
      "\t(No symbol) [0x00007FF7534073BF]\n",
      "\t(No symbol) [0x00007FF7533D1C46]\n",
      "\t(No symbol) [0x00007FF753407590]\n",
      "\t(No symbol) [0x00007FF75342F39C]\n",
      "\t(No symbol) [0x00007FF753407153]\n",
      "\t(No symbol) [0x00007FF7533D0421]\n",
      "\t(No symbol) [0x00007FF7533D11B3]\n",
      "\tGetHandleVerifier [0x00007FF7538BD71D+3223453]\n",
      "\tGetHandleVerifier [0x00007FF7538B7CC2+3200322]\n",
      "\tGetHandleVerifier [0x00007FF7538D5AF3+3322739]\n",
      "\tGetHandleVerifier [0x00007FF7535D6A1A+180890]\n",
      "\tGetHandleVerifier [0x00007FF7535DE11F+211359]\n",
      "\tGetHandleVerifier [0x00007FF7535C5294+109332]\n",
      "\tGetHandleVerifier [0x00007FF7535C5442+109762]\n",
      "\tGetHandleVerifier [0x00007FF7535ABA59+4825]\n",
      "\tBaseThreadInitThunk [0x00007FFE15767374+20]\n",
      "\tRtlUserThreadStart [0x00007FFE16F5CC91+33]\n",
      "\n",
      "20211023\n",
      "https://fbref.com/en/matches/d5164fbe/Southampton-Burnley-October-23-2021-Premier-League\n",
      "20211105\n",
      "https://fbref.com/en/matches/868bd31f/Southampton-Aston-Villa-November-5-2021-Premier-League\n",
      "20211201\n",
      "https://fbref.com/en/matches/135f5959/Southampton-Leicester-City-December-1-2021-Premier-League\n",
      "20211204\n",
      "https://fbref.com/en/matches/27fd5d70/Southampton-Brighton-and-Hove-Albion-December-4-2021-Premier-League\n",
      "match row 처리 중 오류: Message: no such element: Unable to locate element: {\"method\":\"css selector\",\"selector\":\"td[data-stat=\"comp\"]\"}\n",
      "  (Session info: chrome=136.0.7103.114); For documentation on this error, please visit: https://www.selenium.dev/documentation/webdriver/troubleshooting/errors#no-such-element-exception\n",
      "Stacktrace:\n",
      "\tGetHandleVerifier [0x00007FF7535BCF45+75717]\n",
      "\tGetHandleVerifier [0x00007FF7535BCFA0+75808]\n",
      "\t(No symbol) [0x00007FF753388F9A]\n",
      "\t(No symbol) [0x00007FF7533DF4C6]\n",
      "\t(No symbol) [0x00007FF7533DF77C]\n",
      "\t(No symbol) [0x00007FF7533D1D7C]\n",
      "\t(No symbol) [0x00007FF7534073BF]\n",
      "\t(No symbol) [0x00007FF7533D1C46]\n",
      "\t(No symbol) [0x00007FF753407590]\n",
      "\t(No symbol) [0x00007FF75342F39C]\n",
      "\t(No symbol) [0x00007FF753407153]\n",
      "\t(No symbol) [0x00007FF7533D0421]\n",
      "\t(No symbol) [0x00007FF7533D11B3]\n",
      "\tGetHandleVerifier [0x00007FF7538BD71D+3223453]\n",
      "\tGetHandleVerifier [0x00007FF7538B7CC2+3200322]\n",
      "\tGetHandleVerifier [0x00007FF7538D5AF3+3322739]\n",
      "\tGetHandleVerifier [0x00007FF7535D6A1A+180890]\n",
      "\tGetHandleVerifier [0x00007FF7535DE11F+211359]\n",
      "\tGetHandleVerifier [0x00007FF7535C5294+109332]\n",
      "\tGetHandleVerifier [0x00007FF7535C5442+109762]\n",
      "\tGetHandleVerifier [0x00007FF7535ABA59+4825]\n",
      "\tBaseThreadInitThunk [0x00007FFE15767374+20]\n",
      "\tRtlUserThreadStart [0x00007FFE16F5CC91+33]\n",
      "\n",
      "20211228\n",
      "https://fbref.com/en/matches/08d5ef01/Southampton-Tottenham-Hotspur-December-28-2021-Premier-League\n",
      "20220111\n",
      "https://fbref.com/en/matches/0859817d/Southampton-Brentford-January-11-2022-Premier-League\n",
      "20220122\n",
      "https://fbref.com/en/matches/9bfa5945/Southampton-Manchester-City-January-22-2022-Premier-League\n",
      "20220219\n",
      "https://fbref.com/en/matches/53cc3dbd/Southampton-Everton-February-19-2022-Premier-League\n",
      "match row 처리 중 오류: Message: no such element: Unable to locate element: {\"method\":\"css selector\",\"selector\":\"td[data-stat=\"comp\"]\"}\n",
      "  (Session info: chrome=136.0.7103.114); For documentation on this error, please visit: https://www.selenium.dev/documentation/webdriver/troubleshooting/errors#no-such-element-exception\n",
      "Stacktrace:\n",
      "\tGetHandleVerifier [0x00007FF7535BCF45+75717]\n",
      "\tGetHandleVerifier [0x00007FF7535BCFA0+75808]\n",
      "\t(No symbol) [0x00007FF753388F9A]\n",
      "\t(No symbol) [0x00007FF7533DF4C6]\n",
      "\t(No symbol) [0x00007FF7533DF77C]\n",
      "\t(No symbol) [0x00007FF7533D1D7C]\n",
      "\t(No symbol) [0x00007FF7534073BF]\n",
      "\t(No symbol) [0x00007FF7533D1C46]\n",
      "\t(No symbol) [0x00007FF753407590]\n",
      "\t(No symbol) [0x00007FF75342F39C]\n",
      "\t(No symbol) [0x00007FF753407153]\n",
      "\t(No symbol) [0x00007FF7533D0421]\n",
      "\t(No symbol) [0x00007FF7533D11B3]\n",
      "\tGetHandleVerifier [0x00007FF7538BD71D+3223453]\n",
      "\tGetHandleVerifier [0x00007FF7538B7CC2+3200322]\n",
      "\tGetHandleVerifier [0x00007FF7538D5AF3+3322739]\n",
      "\tGetHandleVerifier [0x00007FF7535D6A1A+180890]\n",
      "\tGetHandleVerifier [0x00007FF7535DE11F+211359]\n",
      "\tGetHandleVerifier [0x00007FF7535C5294+109332]\n",
      "\tGetHandleVerifier [0x00007FF7535C5442+109762]\n",
      "\tGetHandleVerifier [0x00007FF7535ABA59+4825]\n",
      "\tBaseThreadInitThunk [0x00007FFE15767374+20]\n",
      "\tRtlUserThreadStart [0x00007FFE16F5CC91+33]\n",
      "\n",
      "20220225\n",
      "https://fbref.com/en/matches/17c79d36/Southampton-Norwich-City-February-25-2022-Premier-League\n",
      "20220310\n",
      "https://fbref.com/en/matches/2d6fb488/Southampton-Newcastle-United-March-10-2022-Premier-League\n",
      "20220313\n",
      "https://fbref.com/en/matches/2c627dd8/Southampton-Watford-March-13-2022-Premier-League\n",
      "20220409\n",
      "https://fbref.com/en/matches/70d15cf0/Southampton-Chelsea-April-9-2022-Premier-League\n",
      "20220416\n",
      "https://fbref.com/en/matches/5ea2687c/Southampton-Arsenal-April-16-2022-Premier-League\n",
      "20220430\n",
      "https://fbref.com/en/matches/d260be24/Southampton-Crystal-Palace-April-30-2022-Premier-League\n",
      "20220517\n",
      "https://fbref.com/en/matches/733409b2/Southampton-Liverpool-May-17-2022-Premier-League\n",
      "19\n",
      "19\n"
     ]
    },
    {
     "name": "stderr",
     "output_type": "stream",
     "text": [
      "\n",
      "\u001b[A"
     ]
    },
    {
     "name": "stdout",
     "output_type": "stream",
     "text": [
      "[players stats summary 저장 완료] C:/Users/user080524/Desktop/project/PREMO/data/datas/1\\2021-2022\\Southampton\\20210822\\20210822_home_palyers_summary.csv\n",
      "[players stats summary 저장 완료] C:/Users/user080524/Desktop/project/PREMO/data/datas/1\\2021-2022\\Southampton\\20210822\\20210822_home_gk.csv\n",
      "[players stats summary 저장 완료] C:/Users/user080524/Desktop/project/PREMO/data/datas/1\\2021-2022\\Southampton\\20210822\\20210822_away_players_summary.csv\n",
      "[players stats summary 저장 완료] C:/Users/user080524/Desktop/project/PREMO/data/datas/1\\2021-2022\\Southampton\\20210822\\20210822_away_gk.csv\n"
     ]
    },
    {
     "name": "stderr",
     "output_type": "stream",
     "text": [
      "\n",
      "\u001b[A"
     ]
    },
    {
     "name": "stdout",
     "output_type": "stream",
     "text": [
      "[team_stats 저장 완료] C:/Users/user080524/Desktop/project/PREMO/data/datas/1\\2021-2022\\Southampton\\20210822\\20210822_team_stats.csv\n",
      "[players stats summary 저장 완료] C:/Users/user080524/Desktop/project/PREMO/data/datas/1\\2021-2022\\Southampton\\20210911\\20210911_home_palyers_summary.csv\n",
      "[players stats summary 저장 완료] C:/Users/user080524/Desktop/project/PREMO/data/datas/1\\2021-2022\\Southampton\\20210911\\20210911_home_gk.csv\n",
      "[players stats summary 저장 완료] C:/Users/user080524/Desktop/project/PREMO/data/datas/1\\2021-2022\\Southampton\\20210911\\20210911_away_players_summary.csv\n",
      "[players stats summary 저장 완료] C:/Users/user080524/Desktop/project/PREMO/data/datas/1\\2021-2022\\Southampton\\20210911\\20210911_away_gk.csv\n"
     ]
    },
    {
     "name": "stderr",
     "output_type": "stream",
     "text": [
      "\n",
      "\u001b[A"
     ]
    },
    {
     "name": "stdout",
     "output_type": "stream",
     "text": [
      "[team_stats 저장 완료] C:/Users/user080524/Desktop/project/PREMO/data/datas/1\\2021-2022\\Southampton\\20210911\\20210911_team_stats.csv\n",
      "[players stats summary 저장 완료] C:/Users/user080524/Desktop/project/PREMO/data/datas/1\\2021-2022\\Southampton\\20210926\\20210926_home_palyers_summary.csv\n",
      "[players stats summary 저장 완료] C:/Users/user080524/Desktop/project/PREMO/data/datas/1\\2021-2022\\Southampton\\20210926\\20210926_home_gk.csv\n",
      "[players stats summary 저장 완료] C:/Users/user080524/Desktop/project/PREMO/data/datas/1\\2021-2022\\Southampton\\20210926\\20210926_away_players_summary.csv\n",
      "[players stats summary 저장 완료] C:/Users/user080524/Desktop/project/PREMO/data/datas/1\\2021-2022\\Southampton\\20210926\\20210926_away_gk.csv\n"
     ]
    },
    {
     "name": "stderr",
     "output_type": "stream",
     "text": [
      "\n",
      "\u001b[A"
     ]
    },
    {
     "name": "stdout",
     "output_type": "stream",
     "text": [
      "[team_stats 저장 완료] C:/Users/user080524/Desktop/project/PREMO/data/datas/1\\2021-2022\\Southampton\\20210926\\20210926_team_stats.csv\n",
      "[players stats summary 저장 완료] C:/Users/user080524/Desktop/project/PREMO/data/datas/1\\2021-2022\\Southampton\\20211016\\20211016_home_palyers_summary.csv\n",
      "[players stats summary 저장 완료] C:/Users/user080524/Desktop/project/PREMO/data/datas/1\\2021-2022\\Southampton\\20211016\\20211016_home_gk.csv\n",
      "[players stats summary 저장 완료] C:/Users/user080524/Desktop/project/PREMO/data/datas/1\\2021-2022\\Southampton\\20211016\\20211016_away_players_summary.csv\n",
      "[players stats summary 저장 완료] C:/Users/user080524/Desktop/project/PREMO/data/datas/1\\2021-2022\\Southampton\\20211016\\20211016_away_gk.csv\n"
     ]
    },
    {
     "name": "stderr",
     "output_type": "stream",
     "text": [
      "\n",
      "\u001b[A"
     ]
    },
    {
     "name": "stdout",
     "output_type": "stream",
     "text": [
      "team_stats 없음 could not convert string to float: ''\n",
      "[team_stats 저장 완료] C:/Users/user080524/Desktop/project/PREMO/data/datas/1\\2021-2022\\Southampton\\20211016\\20211016_team_stats.csv\n",
      "[players stats summary 저장 완료] C:/Users/user080524/Desktop/project/PREMO/data/datas/1\\2021-2022\\Southampton\\20211023\\20211023_home_palyers_summary.csv\n",
      "[players stats summary 저장 완료] C:/Users/user080524/Desktop/project/PREMO/data/datas/1\\2021-2022\\Southampton\\20211023\\20211023_home_gk.csv\n",
      "[players stats summary 저장 완료] C:/Users/user080524/Desktop/project/PREMO/data/datas/1\\2021-2022\\Southampton\\20211023\\20211023_away_players_summary.csv\n",
      "[players stats summary 저장 완료] C:/Users/user080524/Desktop/project/PREMO/data/datas/1\\2021-2022\\Southampton\\20211023\\20211023_away_gk.csv\n"
     ]
    },
    {
     "name": "stderr",
     "output_type": "stream",
     "text": [
      "\n",
      "\u001b[A"
     ]
    },
    {
     "name": "stdout",
     "output_type": "stream",
     "text": [
      "[team_stats 저장 완료] C:/Users/user080524/Desktop/project/PREMO/data/datas/1\\2021-2022\\Southampton\\20211023\\20211023_team_stats.csv\n",
      "[players stats summary 저장 완료] C:/Users/user080524/Desktop/project/PREMO/data/datas/1\\2021-2022\\Southampton\\20211105\\20211105_home_palyers_summary.csv\n",
      "[players stats summary 저장 완료] C:/Users/user080524/Desktop/project/PREMO/data/datas/1\\2021-2022\\Southampton\\20211105\\20211105_home_gk.csv\n",
      "[players stats summary 저장 완료] C:/Users/user080524/Desktop/project/PREMO/data/datas/1\\2021-2022\\Southampton\\20211105\\20211105_away_players_summary.csv\n",
      "[players stats summary 저장 완료] C:/Users/user080524/Desktop/project/PREMO/data/datas/1\\2021-2022\\Southampton\\20211105\\20211105_away_gk.csv\n"
     ]
    },
    {
     "name": "stderr",
     "output_type": "stream",
     "text": [
      "\n",
      "\u001b[A"
     ]
    },
    {
     "name": "stdout",
     "output_type": "stream",
     "text": [
      "[team_stats 저장 완료] C:/Users/user080524/Desktop/project/PREMO/data/datas/1\\2021-2022\\Southampton\\20211105\\20211105_team_stats.csv\n",
      "[players stats summary 저장 완료] C:/Users/user080524/Desktop/project/PREMO/data/datas/1\\2021-2022\\Southampton\\20211201\\20211201_home_palyers_summary.csv\n",
      "[players stats summary 저장 완료] C:/Users/user080524/Desktop/project/PREMO/data/datas/1\\2021-2022\\Southampton\\20211201\\20211201_home_gk.csv\n",
      "[players stats summary 저장 완료] C:/Users/user080524/Desktop/project/PREMO/data/datas/1\\2021-2022\\Southampton\\20211201\\20211201_away_players_summary.csv\n",
      "[players stats summary 저장 완료] C:/Users/user080524/Desktop/project/PREMO/data/datas/1\\2021-2022\\Southampton\\20211201\\20211201_away_gk.csv\n"
     ]
    },
    {
     "name": "stderr",
     "output_type": "stream",
     "text": [
      "\n",
      "\u001b[A"
     ]
    },
    {
     "name": "stdout",
     "output_type": "stream",
     "text": [
      "[team_stats 저장 완료] C:/Users/user080524/Desktop/project/PREMO/data/datas/1\\2021-2022\\Southampton\\20211201\\20211201_team_stats.csv\n",
      "[players stats summary 저장 완료] C:/Users/user080524/Desktop/project/PREMO/data/datas/1\\2021-2022\\Southampton\\20211204\\20211204_home_palyers_summary.csv\n",
      "[players stats summary 저장 완료] C:/Users/user080524/Desktop/project/PREMO/data/datas/1\\2021-2022\\Southampton\\20211204\\20211204_home_gk.csv\n",
      "[players stats summary 저장 완료] C:/Users/user080524/Desktop/project/PREMO/data/datas/1\\2021-2022\\Southampton\\20211204\\20211204_away_players_summary.csv\n",
      "[players stats summary 저장 완료] C:/Users/user080524/Desktop/project/PREMO/data/datas/1\\2021-2022\\Southampton\\20211204\\20211204_away_gk.csv\n"
     ]
    },
    {
     "name": "stderr",
     "output_type": "stream",
     "text": [
      "\n",
      "\u001b[A"
     ]
    },
    {
     "name": "stdout",
     "output_type": "stream",
     "text": [
      "[team_stats 저장 완료] C:/Users/user080524/Desktop/project/PREMO/data/datas/1\\2021-2022\\Southampton\\20211204\\20211204_team_stats.csv\n",
      "[players stats summary 저장 완료] C:/Users/user080524/Desktop/project/PREMO/data/datas/1\\2021-2022\\Southampton\\20211228\\20211228_home_palyers_summary.csv\n",
      "[players stats summary 저장 완료] C:/Users/user080524/Desktop/project/PREMO/data/datas/1\\2021-2022\\Southampton\\20211228\\20211228_home_gk.csv\n",
      "[players stats summary 저장 완료] C:/Users/user080524/Desktop/project/PREMO/data/datas/1\\2021-2022\\Southampton\\20211228\\20211228_away_players_summary.csv\n",
      "[players stats summary 저장 완료] C:/Users/user080524/Desktop/project/PREMO/data/datas/1\\2021-2022\\Southampton\\20211228\\20211228_away_gk.csv\n"
     ]
    },
    {
     "name": "stderr",
     "output_type": "stream",
     "text": [
      "\n",
      "\u001b[A"
     ]
    },
    {
     "name": "stdout",
     "output_type": "stream",
     "text": [
      "[team_stats 저장 완료] C:/Users/user080524/Desktop/project/PREMO/data/datas/1\\2021-2022\\Southampton\\20211228\\20211228_team_stats.csv\n",
      "[players stats summary 저장 완료] C:/Users/user080524/Desktop/project/PREMO/data/datas/1\\2021-2022\\Southampton\\20220111\\20220111_home_palyers_summary.csv\n",
      "[players stats summary 저장 완료] C:/Users/user080524/Desktop/project/PREMO/data/datas/1\\2021-2022\\Southampton\\20220111\\20220111_home_gk.csv\n",
      "[players stats summary 저장 완료] C:/Users/user080524/Desktop/project/PREMO/data/datas/1\\2021-2022\\Southampton\\20220111\\20220111_away_players_summary.csv\n",
      "[players stats summary 저장 완료] C:/Users/user080524/Desktop/project/PREMO/data/datas/1\\2021-2022\\Southampton\\20220111\\20220111_away_gk.csv\n"
     ]
    },
    {
     "name": "stderr",
     "output_type": "stream",
     "text": [
      "\n",
      "\u001b[A"
     ]
    },
    {
     "name": "stdout",
     "output_type": "stream",
     "text": [
      "[team_stats 저장 완료] C:/Users/user080524/Desktop/project/PREMO/data/datas/1\\2021-2022\\Southampton\\20220111\\20220111_team_stats.csv\n",
      "[players stats summary 저장 완료] C:/Users/user080524/Desktop/project/PREMO/data/datas/1\\2021-2022\\Southampton\\20220122\\20220122_home_palyers_summary.csv\n",
      "[players stats summary 저장 완료] C:/Users/user080524/Desktop/project/PREMO/data/datas/1\\2021-2022\\Southampton\\20220122\\20220122_home_gk.csv\n",
      "[players stats summary 저장 완료] C:/Users/user080524/Desktop/project/PREMO/data/datas/1\\2021-2022\\Southampton\\20220122\\20220122_away_players_summary.csv\n",
      "[players stats summary 저장 완료] C:/Users/user080524/Desktop/project/PREMO/data/datas/1\\2021-2022\\Southampton\\20220122\\20220122_away_gk.csv\n"
     ]
    },
    {
     "name": "stderr",
     "output_type": "stream",
     "text": [
      "\n",
      "\u001b[A"
     ]
    },
    {
     "name": "stdout",
     "output_type": "stream",
     "text": [
      "[team_stats 저장 완료] C:/Users/user080524/Desktop/project/PREMO/data/datas/1\\2021-2022\\Southampton\\20220122\\20220122_team_stats.csv\n",
      "[players stats summary 저장 완료] C:/Users/user080524/Desktop/project/PREMO/data/datas/1\\2021-2022\\Southampton\\20220219\\20220219_home_palyers_summary.csv\n",
      "[players stats summary 저장 완료] C:/Users/user080524/Desktop/project/PREMO/data/datas/1\\2021-2022\\Southampton\\20220219\\20220219_home_gk.csv\n",
      "[players stats summary 저장 완료] C:/Users/user080524/Desktop/project/PREMO/data/datas/1\\2021-2022\\Southampton\\20220219\\20220219_away_players_summary.csv\n",
      "[players stats summary 저장 완료] C:/Users/user080524/Desktop/project/PREMO/data/datas/1\\2021-2022\\Southampton\\20220219\\20220219_away_gk.csv\n"
     ]
    },
    {
     "name": "stderr",
     "output_type": "stream",
     "text": [
      "\n",
      "\n"
     ]
    },
    {
     "name": "stdout",
     "output_type": "stream",
     "text": [
      "team_stats 없음 could not convert string to float: ''\n",
      "[team_stats 저장 완료] C:/Users/user080524/Desktop/project/PREMO/data/datas/1\\2021-2022\\Southampton\\20220219\\20220219_team_stats.csv\n"
     ]
    },
    {
     "name": "stderr",
     "output_type": "stream",
     "text": [
      "Matches for Team14:  63%|██████▎   | 12/19 [01:56<01:08,  9.75s/it]\u001b[A\u001b[A"
     ]
    },
    {
     "name": "stdout",
     "output_type": "stream",
     "text": [
      "[players stats summary 저장 완료] C:/Users/user080524/Desktop/project/PREMO/data/datas/1\\2021-2022\\Southampton\\20220225\\20220225_home_palyers_summary.csv\n",
      "[players stats summary 저장 완료] C:/Users/user080524/Desktop/project/PREMO/data/datas/1\\2021-2022\\Southampton\\20220225\\20220225_home_gk.csv\n",
      "[players stats summary 저장 완료] C:/Users/user080524/Desktop/project/PREMO/data/datas/1\\2021-2022\\Southampton\\20220225\\20220225_away_players_summary.csv\n",
      "[players stats summary 저장 완료] C:/Users/user080524/Desktop/project/PREMO/data/datas/1\\2021-2022\\Southampton\\20220225\\20220225_away_gk.csv\n"
     ]
    },
    {
     "name": "stderr",
     "output_type": "stream",
     "text": [
      "\n",
      "\u001b[A"
     ]
    },
    {
     "name": "stdout",
     "output_type": "stream",
     "text": [
      "[team_stats 저장 완료] C:/Users/user080524/Desktop/project/PREMO/data/datas/1\\2021-2022\\Southampton\\20220225\\20220225_team_stats.csv\n",
      "[players stats summary 저장 완료] C:/Users/user080524/Desktop/project/PREMO/data/datas/1\\2021-2022\\Southampton\\20220310\\20220310_home_palyers_summary.csv\n",
      "[players stats summary 저장 완료] C:/Users/user080524/Desktop/project/PREMO/data/datas/1\\2021-2022\\Southampton\\20220310\\20220310_home_gk.csv\n",
      "[players stats summary 저장 완료] C:/Users/user080524/Desktop/project/PREMO/data/datas/1\\2021-2022\\Southampton\\20220310\\20220310_away_players_summary.csv\n",
      "[players stats summary 저장 완료] C:/Users/user080524/Desktop/project/PREMO/data/datas/1\\2021-2022\\Southampton\\20220310\\20220310_away_gk.csv\n"
     ]
    },
    {
     "name": "stderr",
     "output_type": "stream",
     "text": [
      "\n",
      "\u001b[A"
     ]
    },
    {
     "name": "stdout",
     "output_type": "stream",
     "text": [
      "[team_stats 저장 완료] C:/Users/user080524/Desktop/project/PREMO/data/datas/1\\2021-2022\\Southampton\\20220310\\20220310_team_stats.csv\n",
      "[players stats summary 저장 완료] C:/Users/user080524/Desktop/project/PREMO/data/datas/1\\2021-2022\\Southampton\\20220313\\20220313_home_palyers_summary.csv\n",
      "[players stats summary 저장 완료] C:/Users/user080524/Desktop/project/PREMO/data/datas/1\\2021-2022\\Southampton\\20220313\\20220313_home_gk.csv\n",
      "[players stats summary 저장 완료] C:/Users/user080524/Desktop/project/PREMO/data/datas/1\\2021-2022\\Southampton\\20220313\\20220313_away_players_summary.csv\n",
      "[players stats summary 저장 완료] C:/Users/user080524/Desktop/project/PREMO/data/datas/1\\2021-2022\\Southampton\\20220313\\20220313_away_gk.csv\n"
     ]
    },
    {
     "name": "stderr",
     "output_type": "stream",
     "text": [
      "\n",
      "\u001b[A"
     ]
    },
    {
     "name": "stdout",
     "output_type": "stream",
     "text": [
      "[team_stats 저장 완료] C:/Users/user080524/Desktop/project/PREMO/data/datas/1\\2021-2022\\Southampton\\20220313\\20220313_team_stats.csv\n",
      "[players stats summary 저장 완료] C:/Users/user080524/Desktop/project/PREMO/data/datas/1\\2021-2022\\Southampton\\20220409\\20220409_home_palyers_summary.csv\n",
      "[players stats summary 저장 완료] C:/Users/user080524/Desktop/project/PREMO/data/datas/1\\2021-2022\\Southampton\\20220409\\20220409_home_gk.csv\n",
      "[players stats summary 저장 완료] C:/Users/user080524/Desktop/project/PREMO/data/datas/1\\2021-2022\\Southampton\\20220409\\20220409_away_players_summary.csv\n",
      "[players stats summary 저장 완료] C:/Users/user080524/Desktop/project/PREMO/data/datas/1\\2021-2022\\Southampton\\20220409\\20220409_away_gk.csv\n"
     ]
    },
    {
     "name": "stderr",
     "output_type": "stream",
     "text": [
      "\n",
      "\u001b[A"
     ]
    },
    {
     "name": "stdout",
     "output_type": "stream",
     "text": [
      "[team_stats 저장 완료] C:/Users/user080524/Desktop/project/PREMO/data/datas/1\\2021-2022\\Southampton\\20220409\\20220409_team_stats.csv\n",
      "[players stats summary 저장 완료] C:/Users/user080524/Desktop/project/PREMO/data/datas/1\\2021-2022\\Southampton\\20220416\\20220416_home_palyers_summary.csv\n",
      "[players stats summary 저장 완료] C:/Users/user080524/Desktop/project/PREMO/data/datas/1\\2021-2022\\Southampton\\20220416\\20220416_home_gk.csv\n",
      "[players stats summary 저장 완료] C:/Users/user080524/Desktop/project/PREMO/data/datas/1\\2021-2022\\Southampton\\20220416\\20220416_away_players_summary.csv\n",
      "[players stats summary 저장 완료] C:/Users/user080524/Desktop/project/PREMO/data/datas/1\\2021-2022\\Southampton\\20220416\\20220416_away_gk.csv\n"
     ]
    },
    {
     "name": "stderr",
     "output_type": "stream",
     "text": [
      "\n",
      "\u001b[A"
     ]
    },
    {
     "name": "stdout",
     "output_type": "stream",
     "text": [
      "[team_stats 저장 완료] C:/Users/user080524/Desktop/project/PREMO/data/datas/1\\2021-2022\\Southampton\\20220416\\20220416_team_stats.csv\n",
      "[players stats summary 저장 완료] C:/Users/user080524/Desktop/project/PREMO/data/datas/1\\2021-2022\\Southampton\\20220430\\20220430_home_palyers_summary.csv\n",
      "[players stats summary 저장 완료] C:/Users/user080524/Desktop/project/PREMO/data/datas/1\\2021-2022\\Southampton\\20220430\\20220430_home_gk.csv\n",
      "[players stats summary 저장 완료] C:/Users/user080524/Desktop/project/PREMO/data/datas/1\\2021-2022\\Southampton\\20220430\\20220430_away_players_summary.csv\n",
      "[players stats summary 저장 완료] C:/Users/user080524/Desktop/project/PREMO/data/datas/1\\2021-2022\\Southampton\\20220430\\20220430_away_gk.csv\n"
     ]
    },
    {
     "name": "stderr",
     "output_type": "stream",
     "text": [
      "\n",
      "\u001b[A"
     ]
    },
    {
     "name": "stdout",
     "output_type": "stream",
     "text": [
      "[team_stats 저장 완료] C:/Users/user080524/Desktop/project/PREMO/data/datas/1\\2021-2022\\Southampton\\20220430\\20220430_team_stats.csv\n",
      "[players stats summary 저장 완료] C:/Users/user080524/Desktop/project/PREMO/data/datas/1\\2021-2022\\Southampton\\20220517\\20220517_home_palyers_summary.csv\n",
      "[players stats summary 저장 완료] C:/Users/user080524/Desktop/project/PREMO/data/datas/1\\2021-2022\\Southampton\\20220517\\20220517_home_gk.csv\n",
      "[players stats summary 저장 완료] C:/Users/user080524/Desktop/project/PREMO/data/datas/1\\2021-2022\\Southampton\\20220517\\20220517_away_players_summary.csv\n",
      "[players stats summary 저장 완료] C:/Users/user080524/Desktop/project/PREMO/data/datas/1\\2021-2022\\Southampton\\20220517\\20220517_away_gk.csv\n"
     ]
    },
    {
     "name": "stderr",
     "output_type": "stream",
     "text": [
      "\n",
      "\u001b[A\n",
      "\u001b[A"
     ]
    },
    {
     "name": "stdout",
     "output_type": "stream",
     "text": [
      "[team_stats 저장 완료] C:/Users/user080524/Desktop/project/PREMO/data/datas/1\\2021-2022\\Southampton\\20220517\\20220517_team_stats.csv\n",
      "[시즌 페이지 로딩] URL: https://fbref.com/en/comps/9/2021-2022/2021-2022-Premier-League-Stats\n",
      "팀: Everton, 링크:https://fbref.com/en/squads/d3fd31cc/2021-2022/Everton-Stats\n",
      "20210814\n",
      "https://fbref.com/en/matches/c99ebbf5/Everton-Southampton-August-14-2021-Premier-League\n",
      "20210913\n",
      "https://fbref.com/en/matches/668b2f97/Everton-Burnley-September-13-2021-Premier-League\n",
      "20210925\n",
      "https://fbref.com/en/matches/d516ccbf/Everton-Norwich-City-September-25-2021-Premier-League\n",
      "20211017\n",
      "https://fbref.com/en/matches/15871600/Everton-West-Ham-United-October-17-2021-Premier-League\n",
      "match row 처리 중 오류: Message: no such element: Unable to locate element: {\"method\":\"css selector\",\"selector\":\"td[data-stat=\"comp\"]\"}\n",
      "  (Session info: chrome=136.0.7103.114); For documentation on this error, please visit: https://www.selenium.dev/documentation/webdriver/troubleshooting/errors#no-such-element-exception\n",
      "Stacktrace:\n",
      "\tGetHandleVerifier [0x00007FF7535BCF45+75717]\n",
      "\tGetHandleVerifier [0x00007FF7535BCFA0+75808]\n",
      "\t(No symbol) [0x00007FF753388F9A]\n",
      "\t(No symbol) [0x00007FF7533DF4C6]\n",
      "\t(No symbol) [0x00007FF7533DF77C]\n",
      "\t(No symbol) [0x00007FF7533D1D7C]\n",
      "\t(No symbol) [0x00007FF7534073BF]\n",
      "\t(No symbol) [0x00007FF7533D1C46]\n",
      "\t(No symbol) [0x00007FF753407590]\n",
      "\t(No symbol) [0x00007FF75342F39C]\n",
      "\t(No symbol) [0x00007FF753407153]\n",
      "\t(No symbol) [0x00007FF7533D0421]\n",
      "\t(No symbol) [0x00007FF7533D11B3]\n",
      "\tGetHandleVerifier [0x00007FF7538BD71D+3223453]\n",
      "\tGetHandleVerifier [0x00007FF7538B7CC2+3200322]\n",
      "\tGetHandleVerifier [0x00007FF7538D5AF3+3322739]\n",
      "\tGetHandleVerifier [0x00007FF7535D6A1A+180890]\n",
      "\tGetHandleVerifier [0x00007FF7535DE11F+211359]\n",
      "\tGetHandleVerifier [0x00007FF7535C5294+109332]\n",
      "\tGetHandleVerifier [0x00007FF7535C5442+109762]\n",
      "\tGetHandleVerifier [0x00007FF7535ABA59+4825]\n",
      "\tBaseThreadInitThunk [0x00007FFE15767374+20]\n",
      "\tRtlUserThreadStart [0x00007FFE16F5CC91+33]\n",
      "\n",
      "20211023\n",
      "https://fbref.com/en/matches/6985d123/Everton-Watford-October-23-2021-Premier-League\n",
      "20211107\n",
      "https://fbref.com/en/matches/224d1c99/Everton-Tottenham-Hotspur-November-7-2021-Premier-League\n",
      "20211201\n",
      "https://fbref.com/en/matches/b46554fb/Merseyside-Derby-Everton-Liverpool-December-1-2021-Premier-League\n",
      "20211206\n",
      "https://fbref.com/en/matches/5fdb6c19/Everton-Arsenal-December-6-2021-Premier-League\n",
      "20220102\n",
      "https://fbref.com/en/matches/e22bb565/Everton-Brighton-and-Hove-Albion-January-2-2022-Premier-League\n",
      "match row 처리 중 오류: Message: no such element: Unable to locate element: {\"method\":\"css selector\",\"selector\":\"td[data-stat=\"comp\"]\"}\n",
      "  (Session info: chrome=136.0.7103.114); For documentation on this error, please visit: https://www.selenium.dev/documentation/webdriver/troubleshooting/errors#no-such-element-exception\n",
      "Stacktrace:\n",
      "\tGetHandleVerifier [0x00007FF7535BCF45+75717]\n",
      "\tGetHandleVerifier [0x00007FF7535BCFA0+75808]\n",
      "\t(No symbol) [0x00007FF753388F9A]\n",
      "\t(No symbol) [0x00007FF7533DF4C6]\n",
      "\t(No symbol) [0x00007FF7533DF77C]\n",
      "\t(No symbol) [0x00007FF7533D1D7C]\n",
      "\t(No symbol) [0x00007FF7534073BF]\n",
      "\t(No symbol) [0x00007FF7533D1C46]\n",
      "\t(No symbol) [0x00007FF753407590]\n",
      "\t(No symbol) [0x00007FF75342F39C]\n",
      "\t(No symbol) [0x00007FF753407153]\n",
      "\t(No symbol) [0x00007FF7533D0421]\n",
      "\t(No symbol) [0x00007FF7533D11B3]\n",
      "\tGetHandleVerifier [0x00007FF7538BD71D+3223453]\n",
      "\tGetHandleVerifier [0x00007FF7538B7CC2+3200322]\n",
      "\tGetHandleVerifier [0x00007FF7538D5AF3+3322739]\n",
      "\tGetHandleVerifier [0x00007FF7535D6A1A+180890]\n",
      "\tGetHandleVerifier [0x00007FF7535DE11F+211359]\n",
      "\tGetHandleVerifier [0x00007FF7535C5294+109332]\n",
      "\tGetHandleVerifier [0x00007FF7535C5442+109762]\n",
      "\tGetHandleVerifier [0x00007FF7535ABA59+4825]\n",
      "\tBaseThreadInitThunk [0x00007FFE15767374+20]\n",
      "\tRtlUserThreadStart [0x00007FFE16F5CC91+33]\n",
      "\n",
      "20220122\n",
      "https://fbref.com/en/matches/83bac3da/Everton-Aston-Villa-January-22-2022-Premier-League\n",
      "20220212\n",
      "https://fbref.com/en/matches/0a51943e/Everton-Leeds-United-February-12-2022-Premier-League\n",
      "20220226\n",
      "https://fbref.com/en/matches/ab729bd6/Everton-Manchester-City-February-26-2022-Premier-League\n",
      "match row 처리 중 오류: Message: no such element: Unable to locate element: {\"method\":\"css selector\",\"selector\":\"td[data-stat=\"comp\"]\"}\n",
      "  (Session info: chrome=136.0.7103.114); For documentation on this error, please visit: https://www.selenium.dev/documentation/webdriver/troubleshooting/errors#no-such-element-exception\n",
      "Stacktrace:\n",
      "\tGetHandleVerifier [0x00007FF7535BCF45+75717]\n",
      "\tGetHandleVerifier [0x00007FF7535BCFA0+75808]\n",
      "\t(No symbol) [0x00007FF753388F9A]\n",
      "\t(No symbol) [0x00007FF7533DF4C6]\n",
      "\t(No symbol) [0x00007FF7533DF77C]\n",
      "\t(No symbol) [0x00007FF7533D1D7C]\n",
      "\t(No symbol) [0x00007FF7534073BF]\n",
      "\t(No symbol) [0x00007FF7533D1C46]\n",
      "\t(No symbol) [0x00007FF753407590]\n",
      "\t(No symbol) [0x00007FF75342F39C]\n",
      "\t(No symbol) [0x00007FF753407153]\n",
      "\t(No symbol) [0x00007FF7533D0421]\n",
      "\t(No symbol) [0x00007FF7533D11B3]\n",
      "\tGetHandleVerifier [0x00007FF7538BD71D+3223453]\n",
      "\tGetHandleVerifier [0x00007FF7538B7CC2+3200322]\n",
      "\tGetHandleVerifier [0x00007FF7538D5AF3+3322739]\n",
      "\tGetHandleVerifier [0x00007FF7535D6A1A+180890]\n",
      "\tGetHandleVerifier [0x00007FF7535DE11F+211359]\n",
      "\tGetHandleVerifier [0x00007FF7535C5294+109332]\n",
      "\tGetHandleVerifier [0x00007FF7535C5442+109762]\n",
      "\tGetHandleVerifier [0x00007FF7535ABA59+4825]\n",
      "\tBaseThreadInitThunk [0x00007FFE15767374+20]\n",
      "\tRtlUserThreadStart [0x00007FFE16F5CC91+33]\n",
      "\n",
      "20220313\n",
      "https://fbref.com/en/matches/9e5d1f93/Everton-Wolverhampton-Wanderers-March-13-2022-Premier-League\n",
      "20220317\n",
      "https://fbref.com/en/matches/029e5f94/Everton-Newcastle-United-March-17-2022-Premier-League\n",
      "20220409\n",
      "https://fbref.com/en/matches/f976e20a/Everton-Manchester-United-April-9-2022-Premier-League\n",
      "20220420\n",
      "https://fbref.com/en/matches/46471203/Everton-Leicester-City-April-20-2022-Premier-League\n",
      "20220501\n",
      "https://fbref.com/en/matches/4ed4a295/Everton-Chelsea-May-1-2022-Premier-League\n",
      "20220515\n",
      "https://fbref.com/en/matches/1b07c16e/Everton-Brentford-May-15-2022-Premier-League\n",
      "20220519\n",
      "https://fbref.com/en/matches/82aa061a/Everton-Crystal-Palace-May-19-2022-Premier-League\n",
      "19\n",
      "19\n"
     ]
    },
    {
     "name": "stderr",
     "output_type": "stream",
     "text": [
      "\n",
      "\u001b[A"
     ]
    },
    {
     "name": "stdout",
     "output_type": "stream",
     "text": [
      "[players stats summary 저장 완료] C:/Users/user080524/Desktop/project/PREMO/data/datas/1\\2021-2022\\Everton\\20210814\\20210814_home_palyers_summary.csv\n",
      "[players stats summary 저장 완료] C:/Users/user080524/Desktop/project/PREMO/data/datas/1\\2021-2022\\Everton\\20210814\\20210814_home_gk.csv\n",
      "[players stats summary 저장 완료] C:/Users/user080524/Desktop/project/PREMO/data/datas/1\\2021-2022\\Everton\\20210814\\20210814_away_players_summary.csv\n",
      "[players stats summary 저장 완료] C:/Users/user080524/Desktop/project/PREMO/data/datas/1\\2021-2022\\Everton\\20210814\\20210814_away_gk.csv\n"
     ]
    },
    {
     "name": "stderr",
     "output_type": "stream",
     "text": [
      "\n",
      "\u001b[A"
     ]
    },
    {
     "name": "stdout",
     "output_type": "stream",
     "text": [
      "[team_stats 저장 완료] C:/Users/user080524/Desktop/project/PREMO/data/datas/1\\2021-2022\\Everton\\20210814\\20210814_team_stats.csv\n",
      "[players stats summary 저장 완료] C:/Users/user080524/Desktop/project/PREMO/data/datas/1\\2021-2022\\Everton\\20210913\\20210913_home_palyers_summary.csv\n",
      "[players stats summary 저장 완료] C:/Users/user080524/Desktop/project/PREMO/data/datas/1\\2021-2022\\Everton\\20210913\\20210913_home_gk.csv\n",
      "[players stats summary 저장 완료] C:/Users/user080524/Desktop/project/PREMO/data/datas/1\\2021-2022\\Everton\\20210913\\20210913_away_players_summary.csv\n",
      "[players stats summary 저장 완료] C:/Users/user080524/Desktop/project/PREMO/data/datas/1\\2021-2022\\Everton\\20210913\\20210913_away_gk.csv\n"
     ]
    },
    {
     "name": "stderr",
     "output_type": "stream",
     "text": [
      "\n",
      "\u001b[A"
     ]
    },
    {
     "name": "stdout",
     "output_type": "stream",
     "text": [
      "[team_stats 저장 완료] C:/Users/user080524/Desktop/project/PREMO/data/datas/1\\2021-2022\\Everton\\20210913\\20210913_team_stats.csv\n",
      "[players stats summary 저장 완료] C:/Users/user080524/Desktop/project/PREMO/data/datas/1\\2021-2022\\Everton\\20210925\\20210925_home_palyers_summary.csv\n",
      "[players stats summary 저장 완료] C:/Users/user080524/Desktop/project/PREMO/data/datas/1\\2021-2022\\Everton\\20210925\\20210925_home_gk.csv\n",
      "[players stats summary 저장 완료] C:/Users/user080524/Desktop/project/PREMO/data/datas/1\\2021-2022\\Everton\\20210925\\20210925_away_players_summary.csv\n",
      "[players stats summary 저장 완료] C:/Users/user080524/Desktop/project/PREMO/data/datas/1\\2021-2022\\Everton\\20210925\\20210925_away_gk.csv\n"
     ]
    },
    {
     "name": "stderr",
     "output_type": "stream",
     "text": [
      "\n",
      "\u001b[A"
     ]
    },
    {
     "name": "stdout",
     "output_type": "stream",
     "text": [
      "[team_stats 저장 완료] C:/Users/user080524/Desktop/project/PREMO/data/datas/1\\2021-2022\\Everton\\20210925\\20210925_team_stats.csv\n",
      "[players stats summary 저장 완료] C:/Users/user080524/Desktop/project/PREMO/data/datas/1\\2021-2022\\Everton\\20211017\\20211017_home_palyers_summary.csv\n",
      "[players stats summary 저장 완료] C:/Users/user080524/Desktop/project/PREMO/data/datas/1\\2021-2022\\Everton\\20211017\\20211017_home_gk.csv\n",
      "[players stats summary 저장 완료] C:/Users/user080524/Desktop/project/PREMO/data/datas/1\\2021-2022\\Everton\\20211017\\20211017_away_players_summary.csv\n",
      "[players stats summary 저장 완료] C:/Users/user080524/Desktop/project/PREMO/data/datas/1\\2021-2022\\Everton\\20211017\\20211017_away_gk.csv\n"
     ]
    },
    {
     "name": "stderr",
     "output_type": "stream",
     "text": [
      "\n",
      "\u001b[A"
     ]
    },
    {
     "name": "stdout",
     "output_type": "stream",
     "text": [
      "[team_stats 저장 완료] C:/Users/user080524/Desktop/project/PREMO/data/datas/1\\2021-2022\\Everton\\20211017\\20211017_team_stats.csv\n",
      "[players stats summary 저장 완료] C:/Users/user080524/Desktop/project/PREMO/data/datas/1\\2021-2022\\Everton\\20211023\\20211023_home_palyers_summary.csv\n",
      "[players stats summary 저장 완료] C:/Users/user080524/Desktop/project/PREMO/data/datas/1\\2021-2022\\Everton\\20211023\\20211023_home_gk.csv\n",
      "[players stats summary 저장 완료] C:/Users/user080524/Desktop/project/PREMO/data/datas/1\\2021-2022\\Everton\\20211023\\20211023_away_players_summary.csv\n",
      "[players stats summary 저장 완료] C:/Users/user080524/Desktop/project/PREMO/data/datas/1\\2021-2022\\Everton\\20211023\\20211023_away_gk.csv\n"
     ]
    },
    {
     "name": "stderr",
     "output_type": "stream",
     "text": [
      "\n",
      "\u001b[A"
     ]
    },
    {
     "name": "stdout",
     "output_type": "stream",
     "text": [
      "[team_stats 저장 완료] C:/Users/user080524/Desktop/project/PREMO/data/datas/1\\2021-2022\\Everton\\20211023\\20211023_team_stats.csv\n",
      "[players stats summary 저장 완료] C:/Users/user080524/Desktop/project/PREMO/data/datas/1\\2021-2022\\Everton\\20211107\\20211107_home_palyers_summary.csv\n",
      "[players stats summary 저장 완료] C:/Users/user080524/Desktop/project/PREMO/data/datas/1\\2021-2022\\Everton\\20211107\\20211107_home_gk.csv\n",
      "[players stats summary 저장 완료] C:/Users/user080524/Desktop/project/PREMO/data/datas/1\\2021-2022\\Everton\\20211107\\20211107_away_players_summary.csv\n",
      "[players stats summary 저장 완료] C:/Users/user080524/Desktop/project/PREMO/data/datas/1\\2021-2022\\Everton\\20211107\\20211107_away_gk.csv\n"
     ]
    },
    {
     "name": "stderr",
     "output_type": "stream",
     "text": [
      "\n",
      "\u001b[A"
     ]
    },
    {
     "name": "stdout",
     "output_type": "stream",
     "text": [
      "team_stats 없음 could not convert string to float: ''\n",
      "[team_stats 저장 완료] C:/Users/user080524/Desktop/project/PREMO/data/datas/1\\2021-2022\\Everton\\20211107\\20211107_team_stats.csv\n",
      "[players stats summary 저장 완료] C:/Users/user080524/Desktop/project/PREMO/data/datas/1\\2021-2022\\Everton\\20211201\\20211201_home_palyers_summary.csv\n",
      "[players stats summary 저장 완료] C:/Users/user080524/Desktop/project/PREMO/data/datas/1\\2021-2022\\Everton\\20211201\\20211201_home_gk.csv\n",
      "[players stats summary 저장 완료] C:/Users/user080524/Desktop/project/PREMO/data/datas/1\\2021-2022\\Everton\\20211201\\20211201_away_players_summary.csv\n",
      "[players stats summary 저장 완료] C:/Users/user080524/Desktop/project/PREMO/data/datas/1\\2021-2022\\Everton\\20211201\\20211201_away_gk.csv\n"
     ]
    },
    {
     "name": "stderr",
     "output_type": "stream",
     "text": [
      "\n",
      "\u001b[A"
     ]
    },
    {
     "name": "stdout",
     "output_type": "stream",
     "text": [
      "[team_stats 저장 완료] C:/Users/user080524/Desktop/project/PREMO/data/datas/1\\2021-2022\\Everton\\20211201\\20211201_team_stats.csv\n",
      "[players stats summary 저장 완료] C:/Users/user080524/Desktop/project/PREMO/data/datas/1\\2021-2022\\Everton\\20211206\\20211206_home_palyers_summary.csv\n",
      "[players stats summary 저장 완료] C:/Users/user080524/Desktop/project/PREMO/data/datas/1\\2021-2022\\Everton\\20211206\\20211206_home_gk.csv\n",
      "[players stats summary 저장 완료] C:/Users/user080524/Desktop/project/PREMO/data/datas/1\\2021-2022\\Everton\\20211206\\20211206_away_players_summary.csv\n",
      "[players stats summary 저장 완료] C:/Users/user080524/Desktop/project/PREMO/data/datas/1\\2021-2022\\Everton\\20211206\\20211206_away_gk.csv\n"
     ]
    },
    {
     "name": "stderr",
     "output_type": "stream",
     "text": [
      "\n",
      "\u001b[A"
     ]
    },
    {
     "name": "stdout",
     "output_type": "stream",
     "text": [
      "[team_stats 저장 완료] C:/Users/user080524/Desktop/project/PREMO/data/datas/1\\2021-2022\\Everton\\20211206\\20211206_team_stats.csv\n",
      "[players stats summary 저장 완료] C:/Users/user080524/Desktop/project/PREMO/data/datas/1\\2021-2022\\Everton\\20220102\\20220102_home_palyers_summary.csv\n",
      "[players stats summary 저장 완료] C:/Users/user080524/Desktop/project/PREMO/data/datas/1\\2021-2022\\Everton\\20220102\\20220102_home_gk.csv\n",
      "[players stats summary 저장 완료] C:/Users/user080524/Desktop/project/PREMO/data/datas/1\\2021-2022\\Everton\\20220102\\20220102_away_players_summary.csv\n",
      "[players stats summary 저장 완료] C:/Users/user080524/Desktop/project/PREMO/data/datas/1\\2021-2022\\Everton\\20220102\\20220102_away_gk.csv\n"
     ]
    },
    {
     "name": "stderr",
     "output_type": "stream",
     "text": [
      "\n",
      "\u001b[A"
     ]
    },
    {
     "name": "stdout",
     "output_type": "stream",
     "text": [
      "[team_stats 저장 완료] C:/Users/user080524/Desktop/project/PREMO/data/datas/1\\2021-2022\\Everton\\20220102\\20220102_team_stats.csv\n",
      "[players stats summary 저장 완료] C:/Users/user080524/Desktop/project/PREMO/data/datas/1\\2021-2022\\Everton\\20220122\\20220122_home_palyers_summary.csv\n",
      "[players stats summary 저장 완료] C:/Users/user080524/Desktop/project/PREMO/data/datas/1\\2021-2022\\Everton\\20220122\\20220122_home_gk.csv\n",
      "[players stats summary 저장 완료] C:/Users/user080524/Desktop/project/PREMO/data/datas/1\\2021-2022\\Everton\\20220122\\20220122_away_players_summary.csv\n",
      "[players stats summary 저장 완료] C:/Users/user080524/Desktop/project/PREMO/data/datas/1\\2021-2022\\Everton\\20220122\\20220122_away_gk.csv\n"
     ]
    },
    {
     "name": "stderr",
     "output_type": "stream",
     "text": [
      "\n",
      "\u001b[A"
     ]
    },
    {
     "name": "stdout",
     "output_type": "stream",
     "text": [
      "team_stats 없음 could not convert string to float: ''\n",
      "[team_stats 저장 완료] C:/Users/user080524/Desktop/project/PREMO/data/datas/1\\2021-2022\\Everton\\20220122\\20220122_team_stats.csv\n",
      "[players stats summary 저장 완료] C:/Users/user080524/Desktop/project/PREMO/data/datas/1\\2021-2022\\Everton\\20220212\\20220212_home_palyers_summary.csv\n",
      "[players stats summary 저장 완료] C:/Users/user080524/Desktop/project/PREMO/data/datas/1\\2021-2022\\Everton\\20220212\\20220212_home_gk.csv\n",
      "[players stats summary 저장 완료] C:/Users/user080524/Desktop/project/PREMO/data/datas/1\\2021-2022\\Everton\\20220212\\20220212_away_players_summary.csv\n",
      "[players stats summary 저장 완료] C:/Users/user080524/Desktop/project/PREMO/data/datas/1\\2021-2022\\Everton\\20220212\\20220212_away_gk.csv\n"
     ]
    },
    {
     "name": "stderr",
     "output_type": "stream",
     "text": [
      "\n",
      "\u001b[A"
     ]
    },
    {
     "name": "stdout",
     "output_type": "stream",
     "text": [
      "team_stats 없음 could not convert string to float: ''\n",
      "[team_stats 저장 완료] C:/Users/user080524/Desktop/project/PREMO/data/datas/1\\2021-2022\\Everton\\20220212\\20220212_team_stats.csv\n",
      "[players stats summary 저장 완료] C:/Users/user080524/Desktop/project/PREMO/data/datas/1\\2021-2022\\Everton\\20220226\\20220226_home_palyers_summary.csv\n",
      "[players stats summary 저장 완료] C:/Users/user080524/Desktop/project/PREMO/data/datas/1\\2021-2022\\Everton\\20220226\\20220226_home_gk.csv\n",
      "[players stats summary 저장 완료] C:/Users/user080524/Desktop/project/PREMO/data/datas/1\\2021-2022\\Everton\\20220226\\20220226_away_players_summary.csv\n",
      "[players stats summary 저장 완료] C:/Users/user080524/Desktop/project/PREMO/data/datas/1\\2021-2022\\Everton\\20220226\\20220226_away_gk.csv\n"
     ]
    },
    {
     "name": "stderr",
     "output_type": "stream",
     "text": [
      "\n",
      "\u001b[A"
     ]
    },
    {
     "name": "stdout",
     "output_type": "stream",
     "text": [
      "[team_stats 저장 완료] C:/Users/user080524/Desktop/project/PREMO/data/datas/1\\2021-2022\\Everton\\20220226\\20220226_team_stats.csv\n",
      "[players stats summary 저장 완료] C:/Users/user080524/Desktop/project/PREMO/data/datas/1\\2021-2022\\Everton\\20220313\\20220313_home_palyers_summary.csv\n",
      "[players stats summary 저장 완료] C:/Users/user080524/Desktop/project/PREMO/data/datas/1\\2021-2022\\Everton\\20220313\\20220313_home_gk.csv\n",
      "[players stats summary 저장 완료] C:/Users/user080524/Desktop/project/PREMO/data/datas/1\\2021-2022\\Everton\\20220313\\20220313_away_players_summary.csv\n",
      "[players stats summary 저장 완료] C:/Users/user080524/Desktop/project/PREMO/data/datas/1\\2021-2022\\Everton\\20220313\\20220313_away_gk.csv\n"
     ]
    },
    {
     "name": "stderr",
     "output_type": "stream",
     "text": [
      "\n",
      "\u001b[A"
     ]
    },
    {
     "name": "stdout",
     "output_type": "stream",
     "text": [
      "[team_stats 저장 완료] C:/Users/user080524/Desktop/project/PREMO/data/datas/1\\2021-2022\\Everton\\20220313\\20220313_team_stats.csv\n",
      "[players stats summary 저장 완료] C:/Users/user080524/Desktop/project/PREMO/data/datas/1\\2021-2022\\Everton\\20220317\\20220317_home_palyers_summary.csv\n",
      "[players stats summary 저장 완료] C:/Users/user080524/Desktop/project/PREMO/data/datas/1\\2021-2022\\Everton\\20220317\\20220317_home_gk.csv\n",
      "[players stats summary 저장 완료] C:/Users/user080524/Desktop/project/PREMO/data/datas/1\\2021-2022\\Everton\\20220317\\20220317_away_players_summary.csv\n",
      "[players stats summary 저장 완료] C:/Users/user080524/Desktop/project/PREMO/data/datas/1\\2021-2022\\Everton\\20220317\\20220317_away_gk.csv\n"
     ]
    },
    {
     "name": "stderr",
     "output_type": "stream",
     "text": [
      "\n",
      "\u001b[A"
     ]
    },
    {
     "name": "stdout",
     "output_type": "stream",
     "text": [
      "[team_stats 저장 완료] C:/Users/user080524/Desktop/project/PREMO/data/datas/1\\2021-2022\\Everton\\20220317\\20220317_team_stats.csv\n",
      "[players stats summary 저장 완료] C:/Users/user080524/Desktop/project/PREMO/data/datas/1\\2021-2022\\Everton\\20220409\\20220409_home_palyers_summary.csv\n",
      "[players stats summary 저장 완료] C:/Users/user080524/Desktop/project/PREMO/data/datas/1\\2021-2022\\Everton\\20220409\\20220409_home_gk.csv\n",
      "[players stats summary 저장 완료] C:/Users/user080524/Desktop/project/PREMO/data/datas/1\\2021-2022\\Everton\\20220409\\20220409_away_players_summary.csv\n",
      "[players stats summary 저장 완료] C:/Users/user080524/Desktop/project/PREMO/data/datas/1\\2021-2022\\Everton\\20220409\\20220409_away_gk.csv\n"
     ]
    },
    {
     "name": "stderr",
     "output_type": "stream",
     "text": [
      "\n",
      "\u001b[A"
     ]
    },
    {
     "name": "stdout",
     "output_type": "stream",
     "text": [
      "[team_stats 저장 완료] C:/Users/user080524/Desktop/project/PREMO/data/datas/1\\2021-2022\\Everton\\20220409\\20220409_team_stats.csv\n",
      "[players stats summary 저장 완료] C:/Users/user080524/Desktop/project/PREMO/data/datas/1\\2021-2022\\Everton\\20220420\\20220420_home_palyers_summary.csv\n",
      "[players stats summary 저장 완료] C:/Users/user080524/Desktop/project/PREMO/data/datas/1\\2021-2022\\Everton\\20220420\\20220420_home_gk.csv\n",
      "[players stats summary 저장 완료] C:/Users/user080524/Desktop/project/PREMO/data/datas/1\\2021-2022\\Everton\\20220420\\20220420_away_players_summary.csv\n",
      "[players stats summary 저장 완료] C:/Users/user080524/Desktop/project/PREMO/data/datas/1\\2021-2022\\Everton\\20220420\\20220420_away_gk.csv\n"
     ]
    },
    {
     "name": "stderr",
     "output_type": "stream",
     "text": [
      "\n",
      "\u001b[A"
     ]
    },
    {
     "name": "stdout",
     "output_type": "stream",
     "text": [
      "[team_stats 저장 완료] C:/Users/user080524/Desktop/project/PREMO/data/datas/1\\2021-2022\\Everton\\20220420\\20220420_team_stats.csv\n",
      "[players stats summary 저장 완료] C:/Users/user080524/Desktop/project/PREMO/data/datas/1\\2021-2022\\Everton\\20220501\\20220501_home_palyers_summary.csv\n",
      "[players stats summary 저장 완료] C:/Users/user080524/Desktop/project/PREMO/data/datas/1\\2021-2022\\Everton\\20220501\\20220501_home_gk.csv\n",
      "[players stats summary 저장 완료] C:/Users/user080524/Desktop/project/PREMO/data/datas/1\\2021-2022\\Everton\\20220501\\20220501_away_players_summary.csv\n",
      "[players stats summary 저장 완료] C:/Users/user080524/Desktop/project/PREMO/data/datas/1\\2021-2022\\Everton\\20220501\\20220501_away_gk.csv\n"
     ]
    },
    {
     "name": "stderr",
     "output_type": "stream",
     "text": [
      "\n",
      "\u001b[A"
     ]
    },
    {
     "name": "stdout",
     "output_type": "stream",
     "text": [
      "[team_stats 저장 완료] C:/Users/user080524/Desktop/project/PREMO/data/datas/1\\2021-2022\\Everton\\20220501\\20220501_team_stats.csv\n",
      "[players stats summary 저장 완료] C:/Users/user080524/Desktop/project/PREMO/data/datas/1\\2021-2022\\Everton\\20220515\\20220515_home_palyers_summary.csv\n",
      "[players stats summary 저장 완료] C:/Users/user080524/Desktop/project/PREMO/data/datas/1\\2021-2022\\Everton\\20220515\\20220515_home_gk.csv\n",
      "[players stats summary 저장 완료] C:/Users/user080524/Desktop/project/PREMO/data/datas/1\\2021-2022\\Everton\\20220515\\20220515_away_players_summary.csv\n",
      "[players stats summary 저장 완료] C:/Users/user080524/Desktop/project/PREMO/data/datas/1\\2021-2022\\Everton\\20220515\\20220515_away_gk.csv\n"
     ]
    },
    {
     "name": "stderr",
     "output_type": "stream",
     "text": [
      "\n",
      "\u001b[A"
     ]
    },
    {
     "name": "stdout",
     "output_type": "stream",
     "text": [
      "[team_stats 저장 완료] C:/Users/user080524/Desktop/project/PREMO/data/datas/1\\2021-2022\\Everton\\20220515\\20220515_team_stats.csv\n",
      "[players stats summary 저장 완료] C:/Users/user080524/Desktop/project/PREMO/data/datas/1\\2021-2022\\Everton\\20220519\\20220519_home_palyers_summary.csv\n",
      "[players stats summary 저장 완료] C:/Users/user080524/Desktop/project/PREMO/data/datas/1\\2021-2022\\Everton\\20220519\\20220519_home_gk.csv\n",
      "[players stats summary 저장 완료] C:/Users/user080524/Desktop/project/PREMO/data/datas/1\\2021-2022\\Everton\\20220519\\20220519_away_players_summary.csv\n",
      "[players stats summary 저장 완료] C:/Users/user080524/Desktop/project/PREMO/data/datas/1\\2021-2022\\Everton\\20220519\\20220519_away_gk.csv\n"
     ]
    },
    {
     "name": "stderr",
     "output_type": "stream",
     "text": [
      "\n",
      "\u001b[A\n",
      "\u001b[A"
     ]
    },
    {
     "name": "stdout",
     "output_type": "stream",
     "text": [
      "[team_stats 저장 완료] C:/Users/user080524/Desktop/project/PREMO/data/datas/1\\2021-2022\\Everton\\20220519\\20220519_team_stats.csv\n",
      "[시즌 페이지 로딩] URL: https://fbref.com/en/comps/9/2021-2022/2021-2022-Premier-League-Stats\n",
      "팀: Leeds United, 링크:https://fbref.com/en/squads/5bfb9659/2021-2022/Leeds-United-Stats\n",
      "20210821\n",
      "https://fbref.com/en/matches/b9064680/Leeds-United-Everton-August-21-2021-Premier-League\n",
      "20210912\n",
      "https://fbref.com/en/matches/e6a245be/Leeds-United-Liverpool-September-12-2021-Premier-League\n",
      "20210925\n",
      "https://fbref.com/en/matches/6e228b2c/Leeds-United-West-Ham-United-September-25-2021-Premier-League\n",
      "20211002\n",
      "https://fbref.com/en/matches/be9d8a45/Leeds-United-Watford-October-2-2021-Premier-League\n",
      "match row 처리 중 오류: Message: no such element: Unable to locate element: {\"method\":\"css selector\",\"selector\":\"td[data-stat=\"comp\"]\"}\n",
      "  (Session info: chrome=136.0.7103.114); For documentation on this error, please visit: https://www.selenium.dev/documentation/webdriver/troubleshooting/errors#no-such-element-exception\n",
      "Stacktrace:\n",
      "\tGetHandleVerifier [0x00007FF7535BCF45+75717]\n",
      "\tGetHandleVerifier [0x00007FF7535BCFA0+75808]\n",
      "\t(No symbol) [0x00007FF753388F9A]\n",
      "\t(No symbol) [0x00007FF7533DF4C6]\n",
      "\t(No symbol) [0x00007FF7533DF77C]\n",
      "\t(No symbol) [0x00007FF7533D1D7C]\n",
      "\t(No symbol) [0x00007FF7534073BF]\n",
      "\t(No symbol) [0x00007FF7533D1C46]\n",
      "\t(No symbol) [0x00007FF753407590]\n",
      "\t(No symbol) [0x00007FF75342F39C]\n",
      "\t(No symbol) [0x00007FF753407153]\n",
      "\t(No symbol) [0x00007FF7533D0421]\n",
      "\t(No symbol) [0x00007FF7533D11B3]\n",
      "\tGetHandleVerifier [0x00007FF7538BD71D+3223453]\n",
      "\tGetHandleVerifier [0x00007FF7538B7CC2+3200322]\n",
      "\tGetHandleVerifier [0x00007FF7538D5AF3+3322739]\n",
      "\tGetHandleVerifier [0x00007FF7535D6A1A+180890]\n",
      "\tGetHandleVerifier [0x00007FF7535DE11F+211359]\n",
      "\tGetHandleVerifier [0x00007FF7535C5294+109332]\n",
      "\tGetHandleVerifier [0x00007FF7535C5442+109762]\n",
      "\tGetHandleVerifier [0x00007FF7535ABA59+4825]\n",
      "\tBaseThreadInitThunk [0x00007FFE15767374+20]\n",
      "\tRtlUserThreadStart [0x00007FFE16F5CC91+33]\n",
      "\n",
      "20211023\n",
      "https://fbref.com/en/matches/49b3afe3/Leeds-United-Wolverhampton-Wanderers-October-23-2021-Premier-League\n",
      "20211107\n",
      "https://fbref.com/en/matches/8fd004c6/Leeds-United-Leicester-City-November-7-2021-Premier-League\n",
      "20211130\n",
      "https://fbref.com/en/matches/b0ab4044/Leeds-United-Crystal-Palace-November-30-2021-Premier-League\n",
      "20211205\n",
      "https://fbref.com/en/matches/175160b7/Leeds-United-Brentford-December-5-2021-Premier-League\n",
      "match row 처리 중 오류: Message: no such element: Unable to locate element: {\"method\":\"css selector\",\"selector\":\"td[data-stat=\"comp\"]\"}\n",
      "  (Session info: chrome=136.0.7103.114); For documentation on this error, please visit: https://www.selenium.dev/documentation/webdriver/troubleshooting/errors#no-such-element-exception\n",
      "Stacktrace:\n",
      "\tGetHandleVerifier [0x00007FF7535BCF45+75717]\n",
      "\tGetHandleVerifier [0x00007FF7535BCFA0+75808]\n",
      "\t(No symbol) [0x00007FF753388F9A]\n",
      "\t(No symbol) [0x00007FF7533DF4C6]\n",
      "\t(No symbol) [0x00007FF7533DF77C]\n",
      "\t(No symbol) [0x00007FF7533D1D7C]\n",
      "\t(No symbol) [0x00007FF7534073BF]\n",
      "\t(No symbol) [0x00007FF7533D1C46]\n",
      "\t(No symbol) [0x00007FF753407590]\n",
      "\t(No symbol) [0x00007FF75342F39C]\n",
      "\t(No symbol) [0x00007FF753407153]\n",
      "\t(No symbol) [0x00007FF7533D0421]\n",
      "\t(No symbol) [0x00007FF7533D11B3]\n",
      "\tGetHandleVerifier [0x00007FF7538BD71D+3223453]\n",
      "\tGetHandleVerifier [0x00007FF7538B7CC2+3200322]\n",
      "\tGetHandleVerifier [0x00007FF7538D5AF3+3322739]\n",
      "\tGetHandleVerifier [0x00007FF7535D6A1A+180890]\n",
      "\tGetHandleVerifier [0x00007FF7535DE11F+211359]\n",
      "\tGetHandleVerifier [0x00007FF7535C5294+109332]\n",
      "\tGetHandleVerifier [0x00007FF7535C5442+109762]\n",
      "\tGetHandleVerifier [0x00007FF7535ABA59+4825]\n",
      "\tBaseThreadInitThunk [0x00007FFE15767374+20]\n",
      "\tRtlUserThreadStart [0x00007FFE16F5CC91+33]\n",
      "\n",
      "20211218\n",
      "https://fbref.com/en/matches/53b542d8/Leeds-United-Arsenal-December-18-2021-Premier-League\n",
      "20220102\n",
      "https://fbref.com/en/matches/cff8022b/Leeds-United-Burnley-January-2-2022-Premier-League\n",
      "20220122\n",
      "https://fbref.com/en/matches/07df6328/Leeds-United-Newcastle-United-January-22-2022-Premier-League\n",
      "20220220\n",
      "https://fbref.com/en/matches/002f0ff0/Leeds-United-Manchester-United-February-20-2022-Premier-League\n",
      "20220226\n",
      "https://fbref.com/en/matches/05d37de9/Leeds-United-Tottenham-Hotspur-February-26-2022-Premier-League\n",
      "match row 처리 중 오류: Message: no such element: Unable to locate element: {\"method\":\"css selector\",\"selector\":\"td[data-stat=\"comp\"]\"}\n",
      "  (Session info: chrome=136.0.7103.114); For documentation on this error, please visit: https://www.selenium.dev/documentation/webdriver/troubleshooting/errors#no-such-element-exception\n",
      "Stacktrace:\n",
      "\tGetHandleVerifier [0x00007FF7535BCF45+75717]\n",
      "\tGetHandleVerifier [0x00007FF7535BCFA0+75808]\n",
      "\t(No symbol) [0x00007FF753388F9A]\n",
      "\t(No symbol) [0x00007FF7533DF4C6]\n",
      "\t(No symbol) [0x00007FF7533DF77C]\n",
      "\t(No symbol) [0x00007FF7533D1D7C]\n",
      "\t(No symbol) [0x00007FF7534073BF]\n",
      "\t(No symbol) [0x00007FF7533D1C46]\n",
      "\t(No symbol) [0x00007FF753407590]\n",
      "\t(No symbol) [0x00007FF75342F39C]\n",
      "\t(No symbol) [0x00007FF753407153]\n",
      "\t(No symbol) [0x00007FF7533D0421]\n",
      "\t(No symbol) [0x00007FF7533D11B3]\n",
      "\tGetHandleVerifier [0x00007FF7538BD71D+3223453]\n",
      "\tGetHandleVerifier [0x00007FF7538B7CC2+3200322]\n",
      "\tGetHandleVerifier [0x00007FF7538D5AF3+3322739]\n",
      "\tGetHandleVerifier [0x00007FF7535D6A1A+180890]\n",
      "\tGetHandleVerifier [0x00007FF7535DE11F+211359]\n",
      "\tGetHandleVerifier [0x00007FF7535C5294+109332]\n",
      "\tGetHandleVerifier [0x00007FF7535C5442+109762]\n",
      "\tGetHandleVerifier [0x00007FF7535ABA59+4825]\n",
      "\tBaseThreadInitThunk [0x00007FFE15767374+20]\n",
      "\tRtlUserThreadStart [0x00007FFE16F5CC91+33]\n",
      "\n",
      "20220310\n",
      "https://fbref.com/en/matches/79b8fb6e/Leeds-United-Aston-Villa-March-10-2022-Premier-League\n",
      "20220313\n",
      "https://fbref.com/en/matches/b13fb9b9/Leeds-United-Norwich-City-March-13-2022-Premier-League\n",
      "20220402\n",
      "https://fbref.com/en/matches/abc88be4/Leeds-United-Southampton-April-2-2022-Premier-League\n",
      "20220430\n",
      "https://fbref.com/en/matches/5ce80a04/Leeds-United-Manchester-City-April-30-2022-Premier-League\n",
      "20220511\n",
      "https://fbref.com/en/matches/6f225dc6/Leeds-United-Chelsea-May-11-2022-Premier-League\n",
      "20220515\n",
      "https://fbref.com/en/matches/1ca898da/Leeds-United-Brighton-and-Hove-Albion-May-15-2022-Premier-League\n",
      "19\n",
      "19\n"
     ]
    },
    {
     "name": "stderr",
     "output_type": "stream",
     "text": [
      "\n",
      "\u001b[A"
     ]
    },
    {
     "name": "stdout",
     "output_type": "stream",
     "text": [
      "[players stats summary 저장 완료] C:/Users/user080524/Desktop/project/PREMO/data/datas/1\\2021-2022\\Leeds United\\20210821\\20210821_home_palyers_summary.csv\n",
      "[players stats summary 저장 완료] C:/Users/user080524/Desktop/project/PREMO/data/datas/1\\2021-2022\\Leeds United\\20210821\\20210821_home_gk.csv\n",
      "[players stats summary 저장 완료] C:/Users/user080524/Desktop/project/PREMO/data/datas/1\\2021-2022\\Leeds United\\20210821\\20210821_away_players_summary.csv\n",
      "[players stats summary 저장 완료] C:/Users/user080524/Desktop/project/PREMO/data/datas/1\\2021-2022\\Leeds United\\20210821\\20210821_away_gk.csv\n"
     ]
    },
    {
     "name": "stderr",
     "output_type": "stream",
     "text": [
      "\n",
      "\u001b[A"
     ]
    },
    {
     "name": "stdout",
     "output_type": "stream",
     "text": [
      "[team_stats 저장 완료] C:/Users/user080524/Desktop/project/PREMO/data/datas/1\\2021-2022\\Leeds United\\20210821\\20210821_team_stats.csv\n",
      "[players stats summary 저장 완료] C:/Users/user080524/Desktop/project/PREMO/data/datas/1\\2021-2022\\Leeds United\\20210912\\20210912_home_palyers_summary.csv\n",
      "[players stats summary 저장 완료] C:/Users/user080524/Desktop/project/PREMO/data/datas/1\\2021-2022\\Leeds United\\20210912\\20210912_home_gk.csv\n",
      "[players stats summary 저장 완료] C:/Users/user080524/Desktop/project/PREMO/data/datas/1\\2021-2022\\Leeds United\\20210912\\20210912_away_players_summary.csv\n",
      "[players stats summary 저장 완료] C:/Users/user080524/Desktop/project/PREMO/data/datas/1\\2021-2022\\Leeds United\\20210912\\20210912_away_gk.csv\n"
     ]
    },
    {
     "name": "stderr",
     "output_type": "stream",
     "text": [
      "\n",
      "\u001b[A"
     ]
    },
    {
     "name": "stdout",
     "output_type": "stream",
     "text": [
      "[team_stats 저장 완료] C:/Users/user080524/Desktop/project/PREMO/data/datas/1\\2021-2022\\Leeds United\\20210912\\20210912_team_stats.csv\n",
      "[players stats summary 저장 완료] C:/Users/user080524/Desktop/project/PREMO/data/datas/1\\2021-2022\\Leeds United\\20210925\\20210925_home_palyers_summary.csv\n",
      "[players stats summary 저장 완료] C:/Users/user080524/Desktop/project/PREMO/data/datas/1\\2021-2022\\Leeds United\\20210925\\20210925_home_gk.csv\n",
      "[players stats summary 저장 완료] C:/Users/user080524/Desktop/project/PREMO/data/datas/1\\2021-2022\\Leeds United\\20210925\\20210925_away_players_summary.csv\n",
      "[players stats summary 저장 완료] C:/Users/user080524/Desktop/project/PREMO/data/datas/1\\2021-2022\\Leeds United\\20210925\\20210925_away_gk.csv\n"
     ]
    },
    {
     "name": "stderr",
     "output_type": "stream",
     "text": [
      "\n",
      "\u001b[A"
     ]
    },
    {
     "name": "stdout",
     "output_type": "stream",
     "text": [
      "[team_stats 저장 완료] C:/Users/user080524/Desktop/project/PREMO/data/datas/1\\2021-2022\\Leeds United\\20210925\\20210925_team_stats.csv\n",
      "[players stats summary 저장 완료] C:/Users/user080524/Desktop/project/PREMO/data/datas/1\\2021-2022\\Leeds United\\20211002\\20211002_home_palyers_summary.csv\n",
      "[players stats summary 저장 완료] C:/Users/user080524/Desktop/project/PREMO/data/datas/1\\2021-2022\\Leeds United\\20211002\\20211002_home_gk.csv\n",
      "[players stats summary 저장 완료] C:/Users/user080524/Desktop/project/PREMO/data/datas/1\\2021-2022\\Leeds United\\20211002\\20211002_away_players_summary.csv\n",
      "[players stats summary 저장 완료] C:/Users/user080524/Desktop/project/PREMO/data/datas/1\\2021-2022\\Leeds United\\20211002\\20211002_away_gk.csv\n"
     ]
    },
    {
     "name": "stderr",
     "output_type": "stream",
     "text": [
      "\n",
      "\u001b[A"
     ]
    },
    {
     "name": "stdout",
     "output_type": "stream",
     "text": [
      "[team_stats 저장 완료] C:/Users/user080524/Desktop/project/PREMO/data/datas/1\\2021-2022\\Leeds United\\20211002\\20211002_team_stats.csv\n",
      "[players stats summary 저장 완료] C:/Users/user080524/Desktop/project/PREMO/data/datas/1\\2021-2022\\Leeds United\\20211023\\20211023_home_palyers_summary.csv\n",
      "[players stats summary 저장 완료] C:/Users/user080524/Desktop/project/PREMO/data/datas/1\\2021-2022\\Leeds United\\20211023\\20211023_home_gk.csv\n",
      "[players stats summary 저장 완료] C:/Users/user080524/Desktop/project/PREMO/data/datas/1\\2021-2022\\Leeds United\\20211023\\20211023_away_players_summary.csv\n",
      "[players stats summary 저장 완료] C:/Users/user080524/Desktop/project/PREMO/data/datas/1\\2021-2022\\Leeds United\\20211023\\20211023_away_gk.csv\n"
     ]
    },
    {
     "name": "stderr",
     "output_type": "stream",
     "text": [
      "\n",
      "\u001b[A"
     ]
    },
    {
     "name": "stdout",
     "output_type": "stream",
     "text": [
      "[team_stats 저장 완료] C:/Users/user080524/Desktop/project/PREMO/data/datas/1\\2021-2022\\Leeds United\\20211023\\20211023_team_stats.csv\n",
      "[players stats summary 저장 완료] C:/Users/user080524/Desktop/project/PREMO/data/datas/1\\2021-2022\\Leeds United\\20211107\\20211107_home_palyers_summary.csv\n",
      "[players stats summary 저장 완료] C:/Users/user080524/Desktop/project/PREMO/data/datas/1\\2021-2022\\Leeds United\\20211107\\20211107_home_gk.csv\n",
      "[players stats summary 저장 완료] C:/Users/user080524/Desktop/project/PREMO/data/datas/1\\2021-2022\\Leeds United\\20211107\\20211107_away_players_summary.csv\n",
      "[players stats summary 저장 완료] C:/Users/user080524/Desktop/project/PREMO/data/datas/1\\2021-2022\\Leeds United\\20211107\\20211107_away_gk.csv\n"
     ]
    },
    {
     "name": "stderr",
     "output_type": "stream",
     "text": [
      "\n",
      "\u001b[A"
     ]
    },
    {
     "name": "stdout",
     "output_type": "stream",
     "text": [
      "[team_stats 저장 완료] C:/Users/user080524/Desktop/project/PREMO/data/datas/1\\2021-2022\\Leeds United\\20211107\\20211107_team_stats.csv\n",
      "[players stats summary 저장 완료] C:/Users/user080524/Desktop/project/PREMO/data/datas/1\\2021-2022\\Leeds United\\20211130\\20211130_home_palyers_summary.csv\n",
      "[players stats summary 저장 완료] C:/Users/user080524/Desktop/project/PREMO/data/datas/1\\2021-2022\\Leeds United\\20211130\\20211130_home_gk.csv\n",
      "[players stats summary 저장 완료] C:/Users/user080524/Desktop/project/PREMO/data/datas/1\\2021-2022\\Leeds United\\20211130\\20211130_away_players_summary.csv\n",
      "[players stats summary 저장 완료] C:/Users/user080524/Desktop/project/PREMO/data/datas/1\\2021-2022\\Leeds United\\20211130\\20211130_away_gk.csv\n"
     ]
    },
    {
     "name": "stderr",
     "output_type": "stream",
     "text": [
      "\n",
      "\u001b[A"
     ]
    },
    {
     "name": "stdout",
     "output_type": "stream",
     "text": [
      "[team_stats 저장 완료] C:/Users/user080524/Desktop/project/PREMO/data/datas/1\\2021-2022\\Leeds United\\20211130\\20211130_team_stats.csv\n",
      "[players stats summary 저장 완료] C:/Users/user080524/Desktop/project/PREMO/data/datas/1\\2021-2022\\Leeds United\\20211205\\20211205_home_palyers_summary.csv\n",
      "[players stats summary 저장 완료] C:/Users/user080524/Desktop/project/PREMO/data/datas/1\\2021-2022\\Leeds United\\20211205\\20211205_home_gk.csv\n",
      "[players stats summary 저장 완료] C:/Users/user080524/Desktop/project/PREMO/data/datas/1\\2021-2022\\Leeds United\\20211205\\20211205_away_players_summary.csv\n",
      "[players stats summary 저장 완료] C:/Users/user080524/Desktop/project/PREMO/data/datas/1\\2021-2022\\Leeds United\\20211205\\20211205_away_gk.csv\n"
     ]
    },
    {
     "name": "stderr",
     "output_type": "stream",
     "text": [
      "\n",
      "\u001b[A"
     ]
    },
    {
     "name": "stdout",
     "output_type": "stream",
     "text": [
      "[team_stats 저장 완료] C:/Users/user080524/Desktop/project/PREMO/data/datas/1\\2021-2022\\Leeds United\\20211205\\20211205_team_stats.csv\n",
      "[players stats summary 저장 완료] C:/Users/user080524/Desktop/project/PREMO/data/datas/1\\2021-2022\\Leeds United\\20211218\\20211218_home_palyers_summary.csv\n",
      "[players stats summary 저장 완료] C:/Users/user080524/Desktop/project/PREMO/data/datas/1\\2021-2022\\Leeds United\\20211218\\20211218_home_gk.csv\n",
      "[players stats summary 저장 완료] C:/Users/user080524/Desktop/project/PREMO/data/datas/1\\2021-2022\\Leeds United\\20211218\\20211218_away_players_summary.csv\n",
      "[players stats summary 저장 완료] C:/Users/user080524/Desktop/project/PREMO/data/datas/1\\2021-2022\\Leeds United\\20211218\\20211218_away_gk.csv\n"
     ]
    },
    {
     "name": "stderr",
     "output_type": "stream",
     "text": [
      "\n",
      "\u001b[A"
     ]
    },
    {
     "name": "stdout",
     "output_type": "stream",
     "text": [
      "[team_stats 저장 완료] C:/Users/user080524/Desktop/project/PREMO/data/datas/1\\2021-2022\\Leeds United\\20211218\\20211218_team_stats.csv\n",
      "[players stats summary 저장 완료] C:/Users/user080524/Desktop/project/PREMO/data/datas/1\\2021-2022\\Leeds United\\20220102\\20220102_home_palyers_summary.csv\n",
      "[players stats summary 저장 완료] C:/Users/user080524/Desktop/project/PREMO/data/datas/1\\2021-2022\\Leeds United\\20220102\\20220102_home_gk.csv\n",
      "[players stats summary 저장 완료] C:/Users/user080524/Desktop/project/PREMO/data/datas/1\\2021-2022\\Leeds United\\20220102\\20220102_away_players_summary.csv\n",
      "[players stats summary 저장 완료] C:/Users/user080524/Desktop/project/PREMO/data/datas/1\\2021-2022\\Leeds United\\20220102\\20220102_away_gk.csv\n"
     ]
    },
    {
     "name": "stderr",
     "output_type": "stream",
     "text": [
      "\n",
      "\u001b[A"
     ]
    },
    {
     "name": "stdout",
     "output_type": "stream",
     "text": [
      "[team_stats 저장 완료] C:/Users/user080524/Desktop/project/PREMO/data/datas/1\\2021-2022\\Leeds United\\20220102\\20220102_team_stats.csv\n",
      "[players stats summary 저장 완료] C:/Users/user080524/Desktop/project/PREMO/data/datas/1\\2021-2022\\Leeds United\\20220122\\20220122_home_palyers_summary.csv\n",
      "[players stats summary 저장 완료] C:/Users/user080524/Desktop/project/PREMO/data/datas/1\\2021-2022\\Leeds United\\20220122\\20220122_home_gk.csv\n",
      "[players stats summary 저장 완료] C:/Users/user080524/Desktop/project/PREMO/data/datas/1\\2021-2022\\Leeds United\\20220122\\20220122_away_players_summary.csv\n",
      "[players stats summary 저장 완료] C:/Users/user080524/Desktop/project/PREMO/data/datas/1\\2021-2022\\Leeds United\\20220122\\20220122_away_gk.csv\n"
     ]
    },
    {
     "name": "stderr",
     "output_type": "stream",
     "text": [
      "\n",
      "\u001b[A"
     ]
    },
    {
     "name": "stdout",
     "output_type": "stream",
     "text": [
      "[team_stats 저장 완료] C:/Users/user080524/Desktop/project/PREMO/data/datas/1\\2021-2022\\Leeds United\\20220122\\20220122_team_stats.csv\n",
      "[players stats summary 저장 완료] C:/Users/user080524/Desktop/project/PREMO/data/datas/1\\2021-2022\\Leeds United\\20220220\\20220220_home_palyers_summary.csv\n",
      "[players stats summary 저장 완료] C:/Users/user080524/Desktop/project/PREMO/data/datas/1\\2021-2022\\Leeds United\\20220220\\20220220_home_gk.csv\n",
      "[players stats summary 저장 완료] C:/Users/user080524/Desktop/project/PREMO/data/datas/1\\2021-2022\\Leeds United\\20220220\\20220220_away_players_summary.csv\n",
      "[players stats summary 저장 완료] C:/Users/user080524/Desktop/project/PREMO/data/datas/1\\2021-2022\\Leeds United\\20220220\\20220220_away_gk.csv\n"
     ]
    },
    {
     "name": "stderr",
     "output_type": "stream",
     "text": [
      "\n",
      "\u001b[A"
     ]
    },
    {
     "name": "stdout",
     "output_type": "stream",
     "text": [
      "[team_stats 저장 완료] C:/Users/user080524/Desktop/project/PREMO/data/datas/1\\2021-2022\\Leeds United\\20220220\\20220220_team_stats.csv\n",
      "[players stats summary 저장 완료] C:/Users/user080524/Desktop/project/PREMO/data/datas/1\\2021-2022\\Leeds United\\20220226\\20220226_home_palyers_summary.csv\n",
      "[players stats summary 저장 완료] C:/Users/user080524/Desktop/project/PREMO/data/datas/1\\2021-2022\\Leeds United\\20220226\\20220226_home_gk.csv\n",
      "[players stats summary 저장 완료] C:/Users/user080524/Desktop/project/PREMO/data/datas/1\\2021-2022\\Leeds United\\20220226\\20220226_away_players_summary.csv\n",
      "[players stats summary 저장 완료] C:/Users/user080524/Desktop/project/PREMO/data/datas/1\\2021-2022\\Leeds United\\20220226\\20220226_away_gk.csv\n"
     ]
    },
    {
     "name": "stderr",
     "output_type": "stream",
     "text": [
      "\n",
      "\u001b[A"
     ]
    },
    {
     "name": "stdout",
     "output_type": "stream",
     "text": [
      "[team_stats 저장 완료] C:/Users/user080524/Desktop/project/PREMO/data/datas/1\\2021-2022\\Leeds United\\20220226\\20220226_team_stats.csv\n",
      "[players stats summary 저장 완료] C:/Users/user080524/Desktop/project/PREMO/data/datas/1\\2021-2022\\Leeds United\\20220310\\20220310_home_palyers_summary.csv\n",
      "[players stats summary 저장 완료] C:/Users/user080524/Desktop/project/PREMO/data/datas/1\\2021-2022\\Leeds United\\20220310\\20220310_home_gk.csv\n",
      "[players stats summary 저장 완료] C:/Users/user080524/Desktop/project/PREMO/data/datas/1\\2021-2022\\Leeds United\\20220310\\20220310_away_players_summary.csv\n",
      "[players stats summary 저장 완료] C:/Users/user080524/Desktop/project/PREMO/data/datas/1\\2021-2022\\Leeds United\\20220310\\20220310_away_gk.csv\n"
     ]
    },
    {
     "name": "stderr",
     "output_type": "stream",
     "text": [
      "\n",
      "\u001b[A"
     ]
    },
    {
     "name": "stdout",
     "output_type": "stream",
     "text": [
      "[team_stats 저장 완료] C:/Users/user080524/Desktop/project/PREMO/data/datas/1\\2021-2022\\Leeds United\\20220310\\20220310_team_stats.csv\n",
      "[players stats summary 저장 완료] C:/Users/user080524/Desktop/project/PREMO/data/datas/1\\2021-2022\\Leeds United\\20220313\\20220313_home_palyers_summary.csv\n",
      "[players stats summary 저장 완료] C:/Users/user080524/Desktop/project/PREMO/data/datas/1\\2021-2022\\Leeds United\\20220313\\20220313_home_gk.csv\n",
      "[players stats summary 저장 완료] C:/Users/user080524/Desktop/project/PREMO/data/datas/1\\2021-2022\\Leeds United\\20220313\\20220313_away_players_summary.csv\n",
      "[players stats summary 저장 완료] C:/Users/user080524/Desktop/project/PREMO/data/datas/1\\2021-2022\\Leeds United\\20220313\\20220313_away_gk.csv\n"
     ]
    },
    {
     "name": "stderr",
     "output_type": "stream",
     "text": [
      "\n",
      "\u001b[A"
     ]
    },
    {
     "name": "stdout",
     "output_type": "stream",
     "text": [
      "[team_stats 저장 완료] C:/Users/user080524/Desktop/project/PREMO/data/datas/1\\2021-2022\\Leeds United\\20220313\\20220313_team_stats.csv\n",
      "[players stats summary 저장 완료] C:/Users/user080524/Desktop/project/PREMO/data/datas/1\\2021-2022\\Leeds United\\20220402\\20220402_home_palyers_summary.csv\n",
      "[players stats summary 저장 완료] C:/Users/user080524/Desktop/project/PREMO/data/datas/1\\2021-2022\\Leeds United\\20220402\\20220402_home_gk.csv\n",
      "[players stats summary 저장 완료] C:/Users/user080524/Desktop/project/PREMO/data/datas/1\\2021-2022\\Leeds United\\20220402\\20220402_away_players_summary.csv\n",
      "[players stats summary 저장 완료] C:/Users/user080524/Desktop/project/PREMO/data/datas/1\\2021-2022\\Leeds United\\20220402\\20220402_away_gk.csv\n"
     ]
    },
    {
     "name": "stderr",
     "output_type": "stream",
     "text": [
      "\n",
      "\u001b[A"
     ]
    },
    {
     "name": "stdout",
     "output_type": "stream",
     "text": [
      "[team_stats 저장 완료] C:/Users/user080524/Desktop/project/PREMO/data/datas/1\\2021-2022\\Leeds United\\20220402\\20220402_team_stats.csv\n",
      "[players stats summary 저장 완료] C:/Users/user080524/Desktop/project/PREMO/data/datas/1\\2021-2022\\Leeds United\\20220430\\20220430_home_palyers_summary.csv\n",
      "[players stats summary 저장 완료] C:/Users/user080524/Desktop/project/PREMO/data/datas/1\\2021-2022\\Leeds United\\20220430\\20220430_home_gk.csv\n",
      "[players stats summary 저장 완료] C:/Users/user080524/Desktop/project/PREMO/data/datas/1\\2021-2022\\Leeds United\\20220430\\20220430_away_players_summary.csv\n",
      "[players stats summary 저장 완료] C:/Users/user080524/Desktop/project/PREMO/data/datas/1\\2021-2022\\Leeds United\\20220430\\20220430_away_gk.csv\n"
     ]
    },
    {
     "name": "stderr",
     "output_type": "stream",
     "text": [
      "\n",
      "\u001b[A"
     ]
    },
    {
     "name": "stdout",
     "output_type": "stream",
     "text": [
      "[team_stats 저장 완료] C:/Users/user080524/Desktop/project/PREMO/data/datas/1\\2021-2022\\Leeds United\\20220430\\20220430_team_stats.csv\n",
      "[players stats summary 저장 완료] C:/Users/user080524/Desktop/project/PREMO/data/datas/1\\2021-2022\\Leeds United\\20220511\\20220511_home_palyers_summary.csv\n",
      "[players stats summary 저장 완료] C:/Users/user080524/Desktop/project/PREMO/data/datas/1\\2021-2022\\Leeds United\\20220511\\20220511_home_gk.csv\n",
      "[players stats summary 저장 완료] C:/Users/user080524/Desktop/project/PREMO/data/datas/1\\2021-2022\\Leeds United\\20220511\\20220511_away_players_summary.csv\n",
      "[players stats summary 저장 완료] C:/Users/user080524/Desktop/project/PREMO/data/datas/1\\2021-2022\\Leeds United\\20220511\\20220511_away_gk.csv\n"
     ]
    },
    {
     "name": "stderr",
     "output_type": "stream",
     "text": [
      "\n",
      "\u001b[A"
     ]
    },
    {
     "name": "stdout",
     "output_type": "stream",
     "text": [
      "team_stats 없음 could not convert string to float: ''\n",
      "[team_stats 저장 완료] C:/Users/user080524/Desktop/project/PREMO/data/datas/1\\2021-2022\\Leeds United\\20220511\\20220511_team_stats.csv\n",
      "[players stats summary 저장 완료] C:/Users/user080524/Desktop/project/PREMO/data/datas/1\\2021-2022\\Leeds United\\20220515\\20220515_home_palyers_summary.csv\n",
      "[players stats summary 저장 완료] C:/Users/user080524/Desktop/project/PREMO/data/datas/1\\2021-2022\\Leeds United\\20220515\\20220515_home_gk.csv\n",
      "[players stats summary 저장 완료] C:/Users/user080524/Desktop/project/PREMO/data/datas/1\\2021-2022\\Leeds United\\20220515\\20220515_away_players_summary.csv\n",
      "[players stats summary 저장 완료] C:/Users/user080524/Desktop/project/PREMO/data/datas/1\\2021-2022\\Leeds United\\20220515\\20220515_away_gk.csv\n"
     ]
    },
    {
     "name": "stderr",
     "output_type": "stream",
     "text": [
      "\n",
      "\u001b[A\n",
      "\u001b[A"
     ]
    },
    {
     "name": "stdout",
     "output_type": "stream",
     "text": [
      "[team_stats 저장 완료] C:/Users/user080524/Desktop/project/PREMO/data/datas/1\\2021-2022\\Leeds United\\20220515\\20220515_team_stats.csv\n",
      "[시즌 페이지 로딩] URL: https://fbref.com/en/comps/9/2021-2022/2021-2022-Premier-League-Stats\n",
      "팀: Burnley, 링크:https://fbref.com/en/squads/943e8050/2021-2022/Burnley-Stats\n",
      "20210814\n",
      "https://fbref.com/en/matches/4eb36e37/Burnley-Brighton-and-Hove-Albion-August-14-2021-Premier-League\n",
      "20210829\n",
      "https://fbref.com/en/matches/2e5db698/Burnley-Leeds-United-August-29-2021-Premier-League\n",
      "20210918\n",
      "https://fbref.com/en/matches/a427debc/Burnley-Arsenal-September-18-2021-Premier-League\n",
      "20211002\n",
      "https://fbref.com/en/matches/9231df9a/Burnley-Norwich-City-October-2-2021-Premier-League\n",
      "match row 처리 중 오류: Message: no such element: Unable to locate element: {\"method\":\"css selector\",\"selector\":\"td[data-stat=\"comp\"]\"}\n",
      "  (Session info: chrome=136.0.7103.114); For documentation on this error, please visit: https://www.selenium.dev/documentation/webdriver/troubleshooting/errors#no-such-element-exception\n",
      "Stacktrace:\n",
      "\tGetHandleVerifier [0x00007FF7535BCF45+75717]\n",
      "\tGetHandleVerifier [0x00007FF7535BCFA0+75808]\n",
      "\t(No symbol) [0x00007FF753388F9A]\n",
      "\t(No symbol) [0x00007FF7533DF4C6]\n",
      "\t(No symbol) [0x00007FF7533DF77C]\n",
      "\t(No symbol) [0x00007FF7533D1D7C]\n",
      "\t(No symbol) [0x00007FF7534073BF]\n",
      "\t(No symbol) [0x00007FF7533D1C46]\n",
      "\t(No symbol) [0x00007FF753407590]\n",
      "\t(No symbol) [0x00007FF75342F39C]\n",
      "\t(No symbol) [0x00007FF753407153]\n",
      "\t(No symbol) [0x00007FF7533D0421]\n",
      "\t(No symbol) [0x00007FF7533D11B3]\n",
      "\tGetHandleVerifier [0x00007FF7538BD71D+3223453]\n",
      "\tGetHandleVerifier [0x00007FF7538B7CC2+3200322]\n",
      "\tGetHandleVerifier [0x00007FF7538D5AF3+3322739]\n",
      "\tGetHandleVerifier [0x00007FF7535D6A1A+180890]\n",
      "\tGetHandleVerifier [0x00007FF7535DE11F+211359]\n",
      "\tGetHandleVerifier [0x00007FF7535C5294+109332]\n",
      "\tGetHandleVerifier [0x00007FF7535C5442+109762]\n",
      "\tGetHandleVerifier [0x00007FF7535ABA59+4825]\n",
      "\tBaseThreadInitThunk [0x00007FFE15767374+20]\n",
      "\tRtlUserThreadStart [0x00007FFE16F5CC91+33]\n",
      "\n",
      "20211030\n",
      "https://fbref.com/en/matches/c8915e9e/Burnley-Brentford-October-30-2021-Premier-League\n",
      "20211120\n",
      "https://fbref.com/en/matches/e7ab34c4/Burnley-Crystal-Palace-November-20-2021-Premier-League\n",
      "20211212\n",
      "https://fbref.com/en/matches/6d236ce6/Burnley-West-Ham-United-December-12-2021-Premier-League\n",
      "match row 처리 중 오류: Message: no such element: Unable to locate element: {\"method\":\"css selector\",\"selector\":\"td[data-stat=\"comp\"]\"}\n",
      "  (Session info: chrome=136.0.7103.114); For documentation on this error, please visit: https://www.selenium.dev/documentation/webdriver/troubleshooting/errors#no-such-element-exception\n",
      "Stacktrace:\n",
      "\tGetHandleVerifier [0x00007FF7535BCF45+75717]\n",
      "\tGetHandleVerifier [0x00007FF7535BCFA0+75808]\n",
      "\t(No symbol) [0x00007FF753388F9A]\n",
      "\t(No symbol) [0x00007FF7533DF4C6]\n",
      "\t(No symbol) [0x00007FF7533DF77C]\n",
      "\t(No symbol) [0x00007FF7533D1D7C]\n",
      "\t(No symbol) [0x00007FF7534073BF]\n",
      "\t(No symbol) [0x00007FF7533D1C46]\n",
      "\t(No symbol) [0x00007FF753407590]\n",
      "\t(No symbol) [0x00007FF75342F39C]\n",
      "\t(No symbol) [0x00007FF753407153]\n",
      "\t(No symbol) [0x00007FF7533D0421]\n",
      "\t(No symbol) [0x00007FF7533D11B3]\n",
      "\tGetHandleVerifier [0x00007FF7538BD71D+3223453]\n",
      "\tGetHandleVerifier [0x00007FF7538B7CC2+3200322]\n",
      "\tGetHandleVerifier [0x00007FF7538D5AF3+3322739]\n",
      "\tGetHandleVerifier [0x00007FF7535D6A1A+180890]\n",
      "\tGetHandleVerifier [0x00007FF7535DE11F+211359]\n",
      "\tGetHandleVerifier [0x00007FF7535C5294+109332]\n",
      "\tGetHandleVerifier [0x00007FF7535C5442+109762]\n",
      "\tGetHandleVerifier [0x00007FF7535ABA59+4825]\n",
      "\tBaseThreadInitThunk [0x00007FFE15767374+20]\n",
      "\tRtlUserThreadStart [0x00007FFE16F5CC91+33]\n",
      "\n",
      "20220205\n",
      "https://fbref.com/en/matches/5c31d723/Burnley-Watford-February-5-2022-Premier-League\n",
      "20220208\n",
      "https://fbref.com/en/matches/cb262ab8/Burnley-Manchester-United-February-8-2022-Premier-League\n",
      "20220213\n",
      "https://fbref.com/en/matches/ee0b72dd/Burnley-Liverpool-February-13-2022-Premier-League\n",
      "20220223\n",
      "https://fbref.com/en/matches/f8d646cb/Burnley-Tottenham-Hotspur-February-23-2022-Premier-League\n",
      "20220301\n",
      "https://fbref.com/en/matches/a47f5f21/Burnley-Leicester-City-March-1-2022-Premier-League\n",
      "20220305\n",
      "https://fbref.com/en/matches/926192f8/Burnley-Chelsea-March-5-2022-Premier-League\n",
      "match row 처리 중 오류: Message: no such element: Unable to locate element: {\"method\":\"css selector\",\"selector\":\"td[data-stat=\"comp\"]\"}\n",
      "  (Session info: chrome=136.0.7103.114); For documentation on this error, please visit: https://www.selenium.dev/documentation/webdriver/troubleshooting/errors#no-such-element-exception\n",
      "Stacktrace:\n",
      "\tGetHandleVerifier [0x00007FF7535BCF45+75717]\n",
      "\tGetHandleVerifier [0x00007FF7535BCFA0+75808]\n",
      "\t(No symbol) [0x00007FF753388F9A]\n",
      "\t(No symbol) [0x00007FF7533DF4C6]\n",
      "\t(No symbol) [0x00007FF7533DF77C]\n",
      "\t(No symbol) [0x00007FF7533D1D7C]\n",
      "\t(No symbol) [0x00007FF7534073BF]\n",
      "\t(No symbol) [0x00007FF7533D1C46]\n",
      "\t(No symbol) [0x00007FF753407590]\n",
      "\t(No symbol) [0x00007FF75342F39C]\n",
      "\t(No symbol) [0x00007FF753407153]\n",
      "\t(No symbol) [0x00007FF7533D0421]\n",
      "\t(No symbol) [0x00007FF7533D11B3]\n",
      "\tGetHandleVerifier [0x00007FF7538BD71D+3223453]\n",
      "\tGetHandleVerifier [0x00007FF7538B7CC2+3200322]\n",
      "\tGetHandleVerifier [0x00007FF7538D5AF3+3322739]\n",
      "\tGetHandleVerifier [0x00007FF7535D6A1A+180890]\n",
      "\tGetHandleVerifier [0x00007FF7535DE11F+211359]\n",
      "\tGetHandleVerifier [0x00007FF7535C5294+109332]\n",
      "\tGetHandleVerifier [0x00007FF7535C5442+109762]\n",
      "\tGetHandleVerifier [0x00007FF7535ABA59+4825]\n",
      "\tBaseThreadInitThunk [0x00007FFE15767374+20]\n",
      "\tRtlUserThreadStart [0x00007FFE16F5CC91+33]\n",
      "\n",
      "20220402\n",
      "https://fbref.com/en/matches/c294f564/Burnley-Manchester-City-April-2-2022-Premier-League\n",
      "20220406\n",
      "https://fbref.com/en/matches/8ee025e7/Burnley-Everton-April-6-2022-Premier-League\n",
      "20220421\n",
      "https://fbref.com/en/matches/73ef622b/Burnley-Southampton-April-21-2022-Premier-League\n",
      "20220424\n",
      "https://fbref.com/en/matches/99d0fee1/Burnley-Wolverhampton-Wanderers-April-24-2022-Premier-League\n",
      "20220507\n",
      "https://fbref.com/en/matches/c1dc9202/Burnley-Aston-Villa-May-7-2022-Premier-League\n",
      "20220522\n",
      "https://fbref.com/en/matches/ad4ac82b/Burnley-Newcastle-United-May-22-2022-Premier-League\n",
      "19\n",
      "19\n"
     ]
    },
    {
     "name": "stderr",
     "output_type": "stream",
     "text": [
      "\n",
      "\u001b[A"
     ]
    },
    {
     "name": "stdout",
     "output_type": "stream",
     "text": [
      "[players stats summary 저장 완료] C:/Users/user080524/Desktop/project/PREMO/data/datas/1\\2021-2022\\Burnley\\20210814\\20210814_home_palyers_summary.csv\n",
      "[players stats summary 저장 완료] C:/Users/user080524/Desktop/project/PREMO/data/datas/1\\2021-2022\\Burnley\\20210814\\20210814_home_gk.csv\n",
      "[players stats summary 저장 완료] C:/Users/user080524/Desktop/project/PREMO/data/datas/1\\2021-2022\\Burnley\\20210814\\20210814_away_players_summary.csv\n",
      "[players stats summary 저장 완료] C:/Users/user080524/Desktop/project/PREMO/data/datas/1\\2021-2022\\Burnley\\20210814\\20210814_away_gk.csv\n"
     ]
    },
    {
     "name": "stderr",
     "output_type": "stream",
     "text": [
      "\n",
      "\u001b[A"
     ]
    },
    {
     "name": "stdout",
     "output_type": "stream",
     "text": [
      "[team_stats 저장 완료] C:/Users/user080524/Desktop/project/PREMO/data/datas/1\\2021-2022\\Burnley\\20210814\\20210814_team_stats.csv\n",
      "[players stats summary 저장 완료] C:/Users/user080524/Desktop/project/PREMO/data/datas/1\\2021-2022\\Burnley\\20210829\\20210829_home_palyers_summary.csv\n",
      "[players stats summary 저장 완료] C:/Users/user080524/Desktop/project/PREMO/data/datas/1\\2021-2022\\Burnley\\20210829\\20210829_home_gk.csv\n",
      "[players stats summary 저장 완료] C:/Users/user080524/Desktop/project/PREMO/data/datas/1\\2021-2022\\Burnley\\20210829\\20210829_away_players_summary.csv\n",
      "[players stats summary 저장 완료] C:/Users/user080524/Desktop/project/PREMO/data/datas/1\\2021-2022\\Burnley\\20210829\\20210829_away_gk.csv\n"
     ]
    },
    {
     "name": "stderr",
     "output_type": "stream",
     "text": [
      "\n",
      "\u001b[A"
     ]
    },
    {
     "name": "stdout",
     "output_type": "stream",
     "text": [
      "[team_stats 저장 완료] C:/Users/user080524/Desktop/project/PREMO/data/datas/1\\2021-2022\\Burnley\\20210829\\20210829_team_stats.csv\n",
      "[players stats summary 저장 완료] C:/Users/user080524/Desktop/project/PREMO/data/datas/1\\2021-2022\\Burnley\\20210918\\20210918_home_palyers_summary.csv\n",
      "[players stats summary 저장 완료] C:/Users/user080524/Desktop/project/PREMO/data/datas/1\\2021-2022\\Burnley\\20210918\\20210918_home_gk.csv\n",
      "[players stats summary 저장 완료] C:/Users/user080524/Desktop/project/PREMO/data/datas/1\\2021-2022\\Burnley\\20210918\\20210918_away_players_summary.csv\n",
      "[players stats summary 저장 완료] C:/Users/user080524/Desktop/project/PREMO/data/datas/1\\2021-2022\\Burnley\\20210918\\20210918_away_gk.csv\n"
     ]
    },
    {
     "name": "stderr",
     "output_type": "stream",
     "text": [
      "\n",
      "\u001b[A"
     ]
    },
    {
     "name": "stdout",
     "output_type": "stream",
     "text": [
      "[team_stats 저장 완료] C:/Users/user080524/Desktop/project/PREMO/data/datas/1\\2021-2022\\Burnley\\20210918\\20210918_team_stats.csv\n",
      "[players stats summary 저장 완료] C:/Users/user080524/Desktop/project/PREMO/data/datas/1\\2021-2022\\Burnley\\20211002\\20211002_home_palyers_summary.csv\n",
      "[players stats summary 저장 완료] C:/Users/user080524/Desktop/project/PREMO/data/datas/1\\2021-2022\\Burnley\\20211002\\20211002_home_gk.csv\n",
      "[players stats summary 저장 완료] C:/Users/user080524/Desktop/project/PREMO/data/datas/1\\2021-2022\\Burnley\\20211002\\20211002_away_players_summary.csv\n",
      "[players stats summary 저장 완료] C:/Users/user080524/Desktop/project/PREMO/data/datas/1\\2021-2022\\Burnley\\20211002\\20211002_away_gk.csv\n"
     ]
    },
    {
     "name": "stderr",
     "output_type": "stream",
     "text": [
      "\n",
      "\u001b[A"
     ]
    },
    {
     "name": "stdout",
     "output_type": "stream",
     "text": [
      "[team_stats 저장 완료] C:/Users/user080524/Desktop/project/PREMO/data/datas/1\\2021-2022\\Burnley\\20211002\\20211002_team_stats.csv\n",
      "[players stats summary 저장 완료] C:/Users/user080524/Desktop/project/PREMO/data/datas/1\\2021-2022\\Burnley\\20211030\\20211030_home_palyers_summary.csv\n",
      "[players stats summary 저장 완료] C:/Users/user080524/Desktop/project/PREMO/data/datas/1\\2021-2022\\Burnley\\20211030\\20211030_home_gk.csv\n",
      "[players stats summary 저장 완료] C:/Users/user080524/Desktop/project/PREMO/data/datas/1\\2021-2022\\Burnley\\20211030\\20211030_away_players_summary.csv\n",
      "[players stats summary 저장 완료] C:/Users/user080524/Desktop/project/PREMO/data/datas/1\\2021-2022\\Burnley\\20211030\\20211030_away_gk.csv\n"
     ]
    },
    {
     "name": "stderr",
     "output_type": "stream",
     "text": [
      "\n",
      "\u001b[A"
     ]
    },
    {
     "name": "stdout",
     "output_type": "stream",
     "text": [
      "[team_stats 저장 완료] C:/Users/user080524/Desktop/project/PREMO/data/datas/1\\2021-2022\\Burnley\\20211030\\20211030_team_stats.csv\n",
      "[players stats summary 저장 완료] C:/Users/user080524/Desktop/project/PREMO/data/datas/1\\2021-2022\\Burnley\\20211120\\20211120_home_palyers_summary.csv\n",
      "[players stats summary 저장 완료] C:/Users/user080524/Desktop/project/PREMO/data/datas/1\\2021-2022\\Burnley\\20211120\\20211120_home_gk.csv\n",
      "[players stats summary 저장 완료] C:/Users/user080524/Desktop/project/PREMO/data/datas/1\\2021-2022\\Burnley\\20211120\\20211120_away_players_summary.csv\n",
      "[players stats summary 저장 완료] C:/Users/user080524/Desktop/project/PREMO/data/datas/1\\2021-2022\\Burnley\\20211120\\20211120_away_gk.csv\n"
     ]
    },
    {
     "name": "stderr",
     "output_type": "stream",
     "text": [
      "\n",
      "\u001b[A"
     ]
    },
    {
     "name": "stdout",
     "output_type": "stream",
     "text": [
      "[team_stats 저장 완료] C:/Users/user080524/Desktop/project/PREMO/data/datas/1\\2021-2022\\Burnley\\20211120\\20211120_team_stats.csv\n",
      "[players stats summary 저장 완료] C:/Users/user080524/Desktop/project/PREMO/data/datas/1\\2021-2022\\Burnley\\20211212\\20211212_home_palyers_summary.csv\n",
      "[players stats summary 저장 완료] C:/Users/user080524/Desktop/project/PREMO/data/datas/1\\2021-2022\\Burnley\\20211212\\20211212_home_gk.csv\n",
      "[players stats summary 저장 완료] C:/Users/user080524/Desktop/project/PREMO/data/datas/1\\2021-2022\\Burnley\\20211212\\20211212_away_players_summary.csv\n",
      "[players stats summary 저장 완료] C:/Users/user080524/Desktop/project/PREMO/data/datas/1\\2021-2022\\Burnley\\20211212\\20211212_away_gk.csv\n"
     ]
    },
    {
     "name": "stderr",
     "output_type": "stream",
     "text": [
      "\n",
      "\u001b[A"
     ]
    },
    {
     "name": "stdout",
     "output_type": "stream",
     "text": [
      "[team_stats 저장 완료] C:/Users/user080524/Desktop/project/PREMO/data/datas/1\\2021-2022\\Burnley\\20211212\\20211212_team_stats.csv\n",
      "[players stats summary 저장 완료] C:/Users/user080524/Desktop/project/PREMO/data/datas/1\\2021-2022\\Burnley\\20220205\\20220205_home_palyers_summary.csv\n",
      "[players stats summary 저장 완료] C:/Users/user080524/Desktop/project/PREMO/data/datas/1\\2021-2022\\Burnley\\20220205\\20220205_home_gk.csv\n",
      "[players stats summary 저장 완료] C:/Users/user080524/Desktop/project/PREMO/data/datas/1\\2021-2022\\Burnley\\20220205\\20220205_away_players_summary.csv\n",
      "[players stats summary 저장 완료] C:/Users/user080524/Desktop/project/PREMO/data/datas/1\\2021-2022\\Burnley\\20220205\\20220205_away_gk.csv\n"
     ]
    },
    {
     "name": "stderr",
     "output_type": "stream",
     "text": [
      "\n",
      "\u001b[A"
     ]
    },
    {
     "name": "stdout",
     "output_type": "stream",
     "text": [
      "[team_stats 저장 완료] C:/Users/user080524/Desktop/project/PREMO/data/datas/1\\2021-2022\\Burnley\\20220205\\20220205_team_stats.csv\n",
      "[players stats summary 저장 완료] C:/Users/user080524/Desktop/project/PREMO/data/datas/1\\2021-2022\\Burnley\\20220208\\20220208_home_palyers_summary.csv\n",
      "[players stats summary 저장 완료] C:/Users/user080524/Desktop/project/PREMO/data/datas/1\\2021-2022\\Burnley\\20220208\\20220208_home_gk.csv\n",
      "[players stats summary 저장 완료] C:/Users/user080524/Desktop/project/PREMO/data/datas/1\\2021-2022\\Burnley\\20220208\\20220208_away_players_summary.csv\n",
      "[players stats summary 저장 완료] C:/Users/user080524/Desktop/project/PREMO/data/datas/1\\2021-2022\\Burnley\\20220208\\20220208_away_gk.csv\n"
     ]
    },
    {
     "name": "stderr",
     "output_type": "stream",
     "text": [
      "\n",
      "\u001b[A"
     ]
    },
    {
     "name": "stdout",
     "output_type": "stream",
     "text": [
      "[team_stats 저장 완료] C:/Users/user080524/Desktop/project/PREMO/data/datas/1\\2021-2022\\Burnley\\20220208\\20220208_team_stats.csv\n",
      "[players stats summary 저장 완료] C:/Users/user080524/Desktop/project/PREMO/data/datas/1\\2021-2022\\Burnley\\20220213\\20220213_home_palyers_summary.csv\n",
      "[players stats summary 저장 완료] C:/Users/user080524/Desktop/project/PREMO/data/datas/1\\2021-2022\\Burnley\\20220213\\20220213_home_gk.csv\n",
      "[players stats summary 저장 완료] C:/Users/user080524/Desktop/project/PREMO/data/datas/1\\2021-2022\\Burnley\\20220213\\20220213_away_players_summary.csv\n",
      "[players stats summary 저장 완료] C:/Users/user080524/Desktop/project/PREMO/data/datas/1\\2021-2022\\Burnley\\20220213\\20220213_away_gk.csv\n"
     ]
    },
    {
     "name": "stderr",
     "output_type": "stream",
     "text": [
      "\n",
      "\u001b[A"
     ]
    },
    {
     "name": "stdout",
     "output_type": "stream",
     "text": [
      "[team_stats 저장 완료] C:/Users/user080524/Desktop/project/PREMO/data/datas/1\\2021-2022\\Burnley\\20220213\\20220213_team_stats.csv\n",
      "[players stats summary 저장 완료] C:/Users/user080524/Desktop/project/PREMO/data/datas/1\\2021-2022\\Burnley\\20220223\\20220223_home_palyers_summary.csv\n",
      "[players stats summary 저장 완료] C:/Users/user080524/Desktop/project/PREMO/data/datas/1\\2021-2022\\Burnley\\20220223\\20220223_home_gk.csv\n",
      "[players stats summary 저장 완료] C:/Users/user080524/Desktop/project/PREMO/data/datas/1\\2021-2022\\Burnley\\20220223\\20220223_away_players_summary.csv\n",
      "[players stats summary 저장 완료] C:/Users/user080524/Desktop/project/PREMO/data/datas/1\\2021-2022\\Burnley\\20220223\\20220223_away_gk.csv\n"
     ]
    },
    {
     "name": "stderr",
     "output_type": "stream",
     "text": [
      "\n",
      "\u001b[A"
     ]
    },
    {
     "name": "stdout",
     "output_type": "stream",
     "text": [
      "[team_stats 저장 완료] C:/Users/user080524/Desktop/project/PREMO/data/datas/1\\2021-2022\\Burnley\\20220223\\20220223_team_stats.csv\n",
      "[players stats summary 저장 완료] C:/Users/user080524/Desktop/project/PREMO/data/datas/1\\2021-2022\\Burnley\\20220301\\20220301_home_palyers_summary.csv\n",
      "[players stats summary 저장 완료] C:/Users/user080524/Desktop/project/PREMO/data/datas/1\\2021-2022\\Burnley\\20220301\\20220301_home_gk.csv\n",
      "[players stats summary 저장 완료] C:/Users/user080524/Desktop/project/PREMO/data/datas/1\\2021-2022\\Burnley\\20220301\\20220301_away_players_summary.csv\n",
      "[players stats summary 저장 완료] C:/Users/user080524/Desktop/project/PREMO/data/datas/1\\2021-2022\\Burnley\\20220301\\20220301_away_gk.csv\n"
     ]
    },
    {
     "name": "stderr",
     "output_type": "stream",
     "text": [
      "\n",
      "\u001b[A"
     ]
    },
    {
     "name": "stdout",
     "output_type": "stream",
     "text": [
      "[team_stats 저장 완료] C:/Users/user080524/Desktop/project/PREMO/data/datas/1\\2021-2022\\Burnley\\20220301\\20220301_team_stats.csv\n",
      "[players stats summary 저장 완료] C:/Users/user080524/Desktop/project/PREMO/data/datas/1\\2021-2022\\Burnley\\20220305\\20220305_home_palyers_summary.csv\n",
      "[players stats summary 저장 완료] C:/Users/user080524/Desktop/project/PREMO/data/datas/1\\2021-2022\\Burnley\\20220305\\20220305_home_gk.csv\n",
      "[players stats summary 저장 완료] C:/Users/user080524/Desktop/project/PREMO/data/datas/1\\2021-2022\\Burnley\\20220305\\20220305_away_players_summary.csv\n",
      "[players stats summary 저장 완료] C:/Users/user080524/Desktop/project/PREMO/data/datas/1\\2021-2022\\Burnley\\20220305\\20220305_away_gk.csv\n"
     ]
    },
    {
     "name": "stderr",
     "output_type": "stream",
     "text": [
      "\n",
      "\u001b[A"
     ]
    },
    {
     "name": "stdout",
     "output_type": "stream",
     "text": [
      "team_stats 없음 could not convert string to float: ''\n",
      "[team_stats 저장 완료] C:/Users/user080524/Desktop/project/PREMO/data/datas/1\\2021-2022\\Burnley\\20220305\\20220305_team_stats.csv\n",
      "[players stats summary 저장 완료] C:/Users/user080524/Desktop/project/PREMO/data/datas/1\\2021-2022\\Burnley\\20220402\\20220402_home_palyers_summary.csv\n",
      "[players stats summary 저장 완료] C:/Users/user080524/Desktop/project/PREMO/data/datas/1\\2021-2022\\Burnley\\20220402\\20220402_home_gk.csv\n",
      "[players stats summary 저장 완료] C:/Users/user080524/Desktop/project/PREMO/data/datas/1\\2021-2022\\Burnley\\20220402\\20220402_away_players_summary.csv\n",
      "[players stats summary 저장 완료] C:/Users/user080524/Desktop/project/PREMO/data/datas/1\\2021-2022\\Burnley\\20220402\\20220402_away_gk.csv\n"
     ]
    },
    {
     "name": "stderr",
     "output_type": "stream",
     "text": [
      "\n",
      "\u001b[A"
     ]
    },
    {
     "name": "stdout",
     "output_type": "stream",
     "text": [
      "[team_stats 저장 완료] C:/Users/user080524/Desktop/project/PREMO/data/datas/1\\2021-2022\\Burnley\\20220402\\20220402_team_stats.csv\n",
      "[players stats summary 저장 완료] C:/Users/user080524/Desktop/project/PREMO/data/datas/1\\2021-2022\\Burnley\\20220406\\20220406_home_palyers_summary.csv\n",
      "[players stats summary 저장 완료] C:/Users/user080524/Desktop/project/PREMO/data/datas/1\\2021-2022\\Burnley\\20220406\\20220406_home_gk.csv\n",
      "[players stats summary 저장 완료] C:/Users/user080524/Desktop/project/PREMO/data/datas/1\\2021-2022\\Burnley\\20220406\\20220406_away_players_summary.csv\n",
      "[players stats summary 저장 완료] C:/Users/user080524/Desktop/project/PREMO/data/datas/1\\2021-2022\\Burnley\\20220406\\20220406_away_gk.csv\n"
     ]
    },
    {
     "name": "stderr",
     "output_type": "stream",
     "text": [
      "\n",
      "\u001b[A"
     ]
    },
    {
     "name": "stdout",
     "output_type": "stream",
     "text": [
      "[team_stats 저장 완료] C:/Users/user080524/Desktop/project/PREMO/data/datas/1\\2021-2022\\Burnley\\20220406\\20220406_team_stats.csv\n",
      "[players stats summary 저장 완료] C:/Users/user080524/Desktop/project/PREMO/data/datas/1\\2021-2022\\Burnley\\20220421\\20220421_home_palyers_summary.csv\n",
      "[players stats summary 저장 완료] C:/Users/user080524/Desktop/project/PREMO/data/datas/1\\2021-2022\\Burnley\\20220421\\20220421_home_gk.csv\n",
      "[players stats summary 저장 완료] C:/Users/user080524/Desktop/project/PREMO/data/datas/1\\2021-2022\\Burnley\\20220421\\20220421_away_players_summary.csv\n",
      "[players stats summary 저장 완료] C:/Users/user080524/Desktop/project/PREMO/data/datas/1\\2021-2022\\Burnley\\20220421\\20220421_away_gk.csv\n"
     ]
    },
    {
     "name": "stderr",
     "output_type": "stream",
     "text": [
      "\n",
      "\u001b[A"
     ]
    },
    {
     "name": "stdout",
     "output_type": "stream",
     "text": [
      "[team_stats 저장 완료] C:/Users/user080524/Desktop/project/PREMO/data/datas/1\\2021-2022\\Burnley\\20220421\\20220421_team_stats.csv\n",
      "[players stats summary 저장 완료] C:/Users/user080524/Desktop/project/PREMO/data/datas/1\\2021-2022\\Burnley\\20220424\\20220424_home_palyers_summary.csv\n",
      "[players stats summary 저장 완료] C:/Users/user080524/Desktop/project/PREMO/data/datas/1\\2021-2022\\Burnley\\20220424\\20220424_home_gk.csv\n",
      "[players stats summary 저장 완료] C:/Users/user080524/Desktop/project/PREMO/data/datas/1\\2021-2022\\Burnley\\20220424\\20220424_away_players_summary.csv\n",
      "[players stats summary 저장 완료] C:/Users/user080524/Desktop/project/PREMO/data/datas/1\\2021-2022\\Burnley\\20220424\\20220424_away_gk.csv\n"
     ]
    },
    {
     "name": "stderr",
     "output_type": "stream",
     "text": [
      "\n",
      "\u001b[A"
     ]
    },
    {
     "name": "stdout",
     "output_type": "stream",
     "text": [
      "[team_stats 저장 완료] C:/Users/user080524/Desktop/project/PREMO/data/datas/1\\2021-2022\\Burnley\\20220424\\20220424_team_stats.csv\n",
      "[players stats summary 저장 완료] C:/Users/user080524/Desktop/project/PREMO/data/datas/1\\2021-2022\\Burnley\\20220507\\20220507_home_palyers_summary.csv\n",
      "[players stats summary 저장 완료] C:/Users/user080524/Desktop/project/PREMO/data/datas/1\\2021-2022\\Burnley\\20220507\\20220507_home_gk.csv\n",
      "[players stats summary 저장 완료] C:/Users/user080524/Desktop/project/PREMO/data/datas/1\\2021-2022\\Burnley\\20220507\\20220507_away_players_summary.csv\n",
      "[players stats summary 저장 완료] C:/Users/user080524/Desktop/project/PREMO/data/datas/1\\2021-2022\\Burnley\\20220507\\20220507_away_gk.csv\n"
     ]
    },
    {
     "name": "stderr",
     "output_type": "stream",
     "text": [
      "\n",
      "\u001b[A"
     ]
    },
    {
     "name": "stdout",
     "output_type": "stream",
     "text": [
      "[team_stats 저장 완료] C:/Users/user080524/Desktop/project/PREMO/data/datas/1\\2021-2022\\Burnley\\20220507\\20220507_team_stats.csv\n",
      "[players stats summary 저장 완료] C:/Users/user080524/Desktop/project/PREMO/data/datas/1\\2021-2022\\Burnley\\20220522\\20220522_home_palyers_summary.csv\n",
      "[players stats summary 저장 완료] C:/Users/user080524/Desktop/project/PREMO/data/datas/1\\2021-2022\\Burnley\\20220522\\20220522_home_gk.csv\n",
      "[players stats summary 저장 완료] C:/Users/user080524/Desktop/project/PREMO/data/datas/1\\2021-2022\\Burnley\\20220522\\20220522_away_players_summary.csv\n",
      "[players stats summary 저장 완료] C:/Users/user080524/Desktop/project/PREMO/data/datas/1\\2021-2022\\Burnley\\20220522\\20220522_away_gk.csv\n"
     ]
    },
    {
     "name": "stderr",
     "output_type": "stream",
     "text": [
      "\n",
      "\u001b[A\n",
      "\u001b[A"
     ]
    },
    {
     "name": "stdout",
     "output_type": "stream",
     "text": [
      "[team_stats 저장 완료] C:/Users/user080524/Desktop/project/PREMO/data/datas/1\\2021-2022\\Burnley\\20220522\\20220522_team_stats.csv\n",
      "[시즌 페이지 로딩] URL: https://fbref.com/en/comps/9/2021-2022/2021-2022-Premier-League-Stats\n",
      "팀: Watford, 링크:https://fbref.com/en/squads/2abfe087/2021-2022/Watford-Stats\n",
      "20210814\n",
      "https://fbref.com/en/matches/814b563c/Watford-Aston-Villa-August-14-2021-Premier-League\n",
      "20210911\n",
      "https://fbref.com/en/matches/09db0909/Watford-Wolverhampton-Wanderers-September-11-2021-Premier-League\n",
      "20210925\n",
      "https://fbref.com/en/matches/70fda3e9/Watford-Newcastle-United-September-25-2021-Premier-League\n",
      "20211016\n",
      "https://fbref.com/en/matches/2ce6d340/Watford-Liverpool-October-16-2021-Premier-League\n",
      "match row 처리 중 오류: Message: no such element: Unable to locate element: {\"method\":\"css selector\",\"selector\":\"td[data-stat=\"comp\"]\"}\n",
      "  (Session info: chrome=136.0.7103.114); For documentation on this error, please visit: https://www.selenium.dev/documentation/webdriver/troubleshooting/errors#no-such-element-exception\n",
      "Stacktrace:\n",
      "\tGetHandleVerifier [0x00007FF7535BCF45+75717]\n",
      "\tGetHandleVerifier [0x00007FF7535BCFA0+75808]\n",
      "\t(No symbol) [0x00007FF753388F9A]\n",
      "\t(No symbol) [0x00007FF7533DF4C6]\n",
      "\t(No symbol) [0x00007FF7533DF77C]\n",
      "\t(No symbol) [0x00007FF7533D1D7C]\n",
      "\t(No symbol) [0x00007FF7534073BF]\n",
      "\t(No symbol) [0x00007FF7533D1C46]\n",
      "\t(No symbol) [0x00007FF753407590]\n",
      "\t(No symbol) [0x00007FF75342F39C]\n",
      "\t(No symbol) [0x00007FF753407153]\n",
      "\t(No symbol) [0x00007FF7533D0421]\n",
      "\t(No symbol) [0x00007FF7533D11B3]\n",
      "\tGetHandleVerifier [0x00007FF7538BD71D+3223453]\n",
      "\tGetHandleVerifier [0x00007FF7538B7CC2+3200322]\n",
      "\tGetHandleVerifier [0x00007FF7538D5AF3+3322739]\n",
      "\tGetHandleVerifier [0x00007FF7535D6A1A+180890]\n",
      "\tGetHandleVerifier [0x00007FF7535DE11F+211359]\n",
      "\tGetHandleVerifier [0x00007FF7535C5294+109332]\n",
      "\tGetHandleVerifier [0x00007FF7535C5442+109762]\n",
      "\tGetHandleVerifier [0x00007FF7535ABA59+4825]\n",
      "\tBaseThreadInitThunk [0x00007FFE15767374+20]\n",
      "\tRtlUserThreadStart [0x00007FFE16F5CC91+33]\n",
      "\n",
      "20211030\n",
      "https://fbref.com/en/matches/e3521093/Watford-Southampton-October-30-2021-Premier-League\n",
      "20211120\n",
      "https://fbref.com/en/matches/31a03035/Watford-Manchester-United-November-20-2021-Premier-League\n",
      "20211201\n",
      "https://fbref.com/en/matches/f475576b/Watford-Chelsea-December-1-2021-Premier-League\n",
      "20211204\n",
      "https://fbref.com/en/matches/befb6648/Watford-Manchester-City-December-4-2021-Premier-League\n",
      "20211228\n",
      "https://fbref.com/en/matches/b56fd899/Watford-West-Ham-United-December-28-2021-Premier-League\n",
      "20220101\n",
      "https://fbref.com/en/matches/9c831c07/Watford-Tottenham-Hotspur-January-1-2022-Premier-League\n",
      "match row 처리 중 오류: Message: no such element: Unable to locate element: {\"method\":\"css selector\",\"selector\":\"td[data-stat=\"comp\"]\"}\n",
      "  (Session info: chrome=136.0.7103.114); For documentation on this error, please visit: https://www.selenium.dev/documentation/webdriver/troubleshooting/errors#no-such-element-exception\n",
      "Stacktrace:\n",
      "\tGetHandleVerifier [0x00007FF7535BCF45+75717]\n",
      "\tGetHandleVerifier [0x00007FF7535BCFA0+75808]\n",
      "\t(No symbol) [0x00007FF753388F9A]\n",
      "\t(No symbol) [0x00007FF7533DF4C6]\n",
      "\t(No symbol) [0x00007FF7533DF77C]\n",
      "\t(No symbol) [0x00007FF7533D1D7C]\n",
      "\t(No symbol) [0x00007FF7534073BF]\n",
      "\t(No symbol) [0x00007FF7533D1C46]\n",
      "\t(No symbol) [0x00007FF753407590]\n",
      "\t(No symbol) [0x00007FF75342F39C]\n",
      "\t(No symbol) [0x00007FF753407153]\n",
      "\t(No symbol) [0x00007FF7533D0421]\n",
      "\t(No symbol) [0x00007FF7533D11B3]\n",
      "\tGetHandleVerifier [0x00007FF7538BD71D+3223453]\n",
      "\tGetHandleVerifier [0x00007FF7538B7CC2+3200322]\n",
      "\tGetHandleVerifier [0x00007FF7538D5AF3+3322739]\n",
      "\tGetHandleVerifier [0x00007FF7535D6A1A+180890]\n",
      "\tGetHandleVerifier [0x00007FF7535DE11F+211359]\n",
      "\tGetHandleVerifier [0x00007FF7535C5294+109332]\n",
      "\tGetHandleVerifier [0x00007FF7535C5442+109762]\n",
      "\tGetHandleVerifier [0x00007FF7535ABA59+4825]\n",
      "\tBaseThreadInitThunk [0x00007FFE15767374+20]\n",
      "\tRtlUserThreadStart [0x00007FFE16F5CC91+33]\n",
      "\n",
      "20220121\n",
      "https://fbref.com/en/matches/5c592680/Watford-Norwich-City-January-21-2022-Premier-League\n",
      "20220212\n",
      "https://fbref.com/en/matches/e04d98c4/Watford-Brighton-and-Hove-Albion-February-12-2022-Premier-League\n",
      "20220223\n",
      "https://fbref.com/en/matches/daa35440/Watford-Crystal-Palace-February-23-2022-Premier-League\n",
      "20220306\n",
      "https://fbref.com/en/matches/9d5abf8b/Watford-Arsenal-March-6-2022-Premier-League\n",
      "match row 처리 중 오류: Message: no such element: Unable to locate element: {\"method\":\"css selector\",\"selector\":\"td[data-stat=\"comp\"]\"}\n",
      "  (Session info: chrome=136.0.7103.114); For documentation on this error, please visit: https://www.selenium.dev/documentation/webdriver/troubleshooting/errors#no-such-element-exception\n",
      "Stacktrace:\n",
      "\tGetHandleVerifier [0x00007FF7535BCF45+75717]\n",
      "\tGetHandleVerifier [0x00007FF7535BCFA0+75808]\n",
      "\t(No symbol) [0x00007FF753388F9A]\n",
      "\t(No symbol) [0x00007FF7533DF4C6]\n",
      "\t(No symbol) [0x00007FF7533DF77C]\n",
      "\t(No symbol) [0x00007FF7533D1D7C]\n",
      "\t(No symbol) [0x00007FF7534073BF]\n",
      "\t(No symbol) [0x00007FF7533D1C46]\n",
      "\t(No symbol) [0x00007FF753407590]\n",
      "\t(No symbol) [0x00007FF75342F39C]\n",
      "\t(No symbol) [0x00007FF753407153]\n",
      "\t(No symbol) [0x00007FF7533D0421]\n",
      "\t(No symbol) [0x00007FF7533D11B3]\n",
      "\tGetHandleVerifier [0x00007FF7538BD71D+3223453]\n",
      "\tGetHandleVerifier [0x00007FF7538B7CC2+3200322]\n",
      "\tGetHandleVerifier [0x00007FF7538D5AF3+3322739]\n",
      "\tGetHandleVerifier [0x00007FF7535D6A1A+180890]\n",
      "\tGetHandleVerifier [0x00007FF7535DE11F+211359]\n",
      "\tGetHandleVerifier [0x00007FF7535C5294+109332]\n",
      "\tGetHandleVerifier [0x00007FF7535C5442+109762]\n",
      "\tGetHandleVerifier [0x00007FF7535ABA59+4825]\n",
      "\tBaseThreadInitThunk [0x00007FFE15767374+20]\n",
      "\tRtlUserThreadStart [0x00007FFE16F5CC91+33]\n",
      "\n",
      "20220409\n",
      "https://fbref.com/en/matches/b18deecf/Watford-Leeds-United-April-9-2022-Premier-League\n",
      "20220416\n",
      "https://fbref.com/en/matches/3b17352d/Watford-Brentford-April-16-2022-Premier-League\n",
      "20220430\n",
      "https://fbref.com/en/matches/81ac72d8/Watford-Burnley-April-30-2022-Premier-League\n",
      "20220511\n",
      "https://fbref.com/en/matches/948fa2e3/Watford-Everton-May-11-2022-Premier-League\n",
      "20220515\n",
      "https://fbref.com/en/matches/5a142f6f/Watford-Leicester-City-May-15-2022-Premier-League\n",
      "19\n",
      "19\n"
     ]
    },
    {
     "name": "stderr",
     "output_type": "stream",
     "text": [
      "\n",
      "\u001b[A"
     ]
    },
    {
     "name": "stdout",
     "output_type": "stream",
     "text": [
      "[players stats summary 저장 완료] C:/Users/user080524/Desktop/project/PREMO/data/datas/1\\2021-2022\\Watford\\20210814\\20210814_home_palyers_summary.csv\n",
      "[players stats summary 저장 완료] C:/Users/user080524/Desktop/project/PREMO/data/datas/1\\2021-2022\\Watford\\20210814\\20210814_home_gk.csv\n",
      "[players stats summary 저장 완료] C:/Users/user080524/Desktop/project/PREMO/data/datas/1\\2021-2022\\Watford\\20210814\\20210814_away_players_summary.csv\n",
      "[players stats summary 저장 완료] C:/Users/user080524/Desktop/project/PREMO/data/datas/1\\2021-2022\\Watford\\20210814\\20210814_away_gk.csv\n"
     ]
    },
    {
     "name": "stderr",
     "output_type": "stream",
     "text": [
      "\n",
      "\u001b[A"
     ]
    },
    {
     "name": "stdout",
     "output_type": "stream",
     "text": [
      "[team_stats 저장 완료] C:/Users/user080524/Desktop/project/PREMO/data/datas/1\\2021-2022\\Watford\\20210814\\20210814_team_stats.csv\n",
      "[players stats summary 저장 완료] C:/Users/user080524/Desktop/project/PREMO/data/datas/1\\2021-2022\\Watford\\20210911\\20210911_home_palyers_summary.csv\n",
      "[players stats summary 저장 완료] C:/Users/user080524/Desktop/project/PREMO/data/datas/1\\2021-2022\\Watford\\20210911\\20210911_home_gk.csv\n",
      "[players stats summary 저장 완료] C:/Users/user080524/Desktop/project/PREMO/data/datas/1\\2021-2022\\Watford\\20210911\\20210911_away_players_summary.csv\n",
      "[players stats summary 저장 완료] C:/Users/user080524/Desktop/project/PREMO/data/datas/1\\2021-2022\\Watford\\20210911\\20210911_away_gk.csv\n"
     ]
    },
    {
     "name": "stderr",
     "output_type": "stream",
     "text": [
      "\n",
      "\u001b[A"
     ]
    },
    {
     "name": "stdout",
     "output_type": "stream",
     "text": [
      "[team_stats 저장 완료] C:/Users/user080524/Desktop/project/PREMO/data/datas/1\\2021-2022\\Watford\\20210911\\20210911_team_stats.csv\n",
      "[players stats summary 저장 완료] C:/Users/user080524/Desktop/project/PREMO/data/datas/1\\2021-2022\\Watford\\20210925\\20210925_home_palyers_summary.csv\n",
      "[players stats summary 저장 완료] C:/Users/user080524/Desktop/project/PREMO/data/datas/1\\2021-2022\\Watford\\20210925\\20210925_home_gk.csv\n",
      "[players stats summary 저장 완료] C:/Users/user080524/Desktop/project/PREMO/data/datas/1\\2021-2022\\Watford\\20210925\\20210925_away_players_summary.csv\n",
      "[players stats summary 저장 완료] C:/Users/user080524/Desktop/project/PREMO/data/datas/1\\2021-2022\\Watford\\20210925\\20210925_away_gk.csv\n"
     ]
    },
    {
     "name": "stderr",
     "output_type": "stream",
     "text": [
      "\n",
      "\u001b[A"
     ]
    },
    {
     "name": "stdout",
     "output_type": "stream",
     "text": [
      "[team_stats 저장 완료] C:/Users/user080524/Desktop/project/PREMO/data/datas/1\\2021-2022\\Watford\\20210925\\20210925_team_stats.csv\n",
      "[players stats summary 저장 완료] C:/Users/user080524/Desktop/project/PREMO/data/datas/1\\2021-2022\\Watford\\20211016\\20211016_home_palyers_summary.csv\n",
      "[players stats summary 저장 완료] C:/Users/user080524/Desktop/project/PREMO/data/datas/1\\2021-2022\\Watford\\20211016\\20211016_home_gk.csv\n",
      "[players stats summary 저장 완료] C:/Users/user080524/Desktop/project/PREMO/data/datas/1\\2021-2022\\Watford\\20211016\\20211016_away_players_summary.csv\n",
      "[players stats summary 저장 완료] C:/Users/user080524/Desktop/project/PREMO/data/datas/1\\2021-2022\\Watford\\20211016\\20211016_away_gk.csv\n"
     ]
    },
    {
     "name": "stderr",
     "output_type": "stream",
     "text": [
      "\n",
      "\u001b[A"
     ]
    },
    {
     "name": "stdout",
     "output_type": "stream",
     "text": [
      "[team_stats 저장 완료] C:/Users/user080524/Desktop/project/PREMO/data/datas/1\\2021-2022\\Watford\\20211016\\20211016_team_stats.csv\n",
      "[players stats summary 저장 완료] C:/Users/user080524/Desktop/project/PREMO/data/datas/1\\2021-2022\\Watford\\20211030\\20211030_home_palyers_summary.csv\n",
      "[players stats summary 저장 완료] C:/Users/user080524/Desktop/project/PREMO/data/datas/1\\2021-2022\\Watford\\20211030\\20211030_home_gk.csv\n",
      "[players stats summary 저장 완료] C:/Users/user080524/Desktop/project/PREMO/data/datas/1\\2021-2022\\Watford\\20211030\\20211030_away_players_summary.csv\n",
      "[players stats summary 저장 완료] C:/Users/user080524/Desktop/project/PREMO/data/datas/1\\2021-2022\\Watford\\20211030\\20211030_away_gk.csv\n"
     ]
    },
    {
     "name": "stderr",
     "output_type": "stream",
     "text": [
      "\n",
      "\u001b[A"
     ]
    },
    {
     "name": "stdout",
     "output_type": "stream",
     "text": [
      "[team_stats 저장 완료] C:/Users/user080524/Desktop/project/PREMO/data/datas/1\\2021-2022\\Watford\\20211030\\20211030_team_stats.csv\n",
      "[players stats summary 저장 완료] C:/Users/user080524/Desktop/project/PREMO/data/datas/1\\2021-2022\\Watford\\20211120\\20211120_home_palyers_summary.csv\n",
      "[players stats summary 저장 완료] C:/Users/user080524/Desktop/project/PREMO/data/datas/1\\2021-2022\\Watford\\20211120\\20211120_home_gk.csv\n",
      "[players stats summary 저장 완료] C:/Users/user080524/Desktop/project/PREMO/data/datas/1\\2021-2022\\Watford\\20211120\\20211120_away_players_summary.csv\n",
      "[players stats summary 저장 완료] C:/Users/user080524/Desktop/project/PREMO/data/datas/1\\2021-2022\\Watford\\20211120\\20211120_away_gk.csv\n"
     ]
    },
    {
     "name": "stderr",
     "output_type": "stream",
     "text": [
      "\n",
      "\u001b[A"
     ]
    },
    {
     "name": "stdout",
     "output_type": "stream",
     "text": [
      "[team_stats 저장 완료] C:/Users/user080524/Desktop/project/PREMO/data/datas/1\\2021-2022\\Watford\\20211120\\20211120_team_stats.csv\n",
      "[players stats summary 저장 완료] C:/Users/user080524/Desktop/project/PREMO/data/datas/1\\2021-2022\\Watford\\20211201\\20211201_home_palyers_summary.csv\n",
      "[players stats summary 저장 완료] C:/Users/user080524/Desktop/project/PREMO/data/datas/1\\2021-2022\\Watford\\20211201\\20211201_home_gk.csv\n",
      "[players stats summary 저장 완료] C:/Users/user080524/Desktop/project/PREMO/data/datas/1\\2021-2022\\Watford\\20211201\\20211201_away_players_summary.csv\n",
      "[players stats summary 저장 완료] C:/Users/user080524/Desktop/project/PREMO/data/datas/1\\2021-2022\\Watford\\20211201\\20211201_away_gk.csv\n"
     ]
    },
    {
     "name": "stderr",
     "output_type": "stream",
     "text": [
      "\n",
      "\u001b[A"
     ]
    },
    {
     "name": "stdout",
     "output_type": "stream",
     "text": [
      "[team_stats 저장 완료] C:/Users/user080524/Desktop/project/PREMO/data/datas/1\\2021-2022\\Watford\\20211201\\20211201_team_stats.csv\n",
      "[players stats summary 저장 완료] C:/Users/user080524/Desktop/project/PREMO/data/datas/1\\2021-2022\\Watford\\20211204\\20211204_home_palyers_summary.csv\n",
      "[players stats summary 저장 완료] C:/Users/user080524/Desktop/project/PREMO/data/datas/1\\2021-2022\\Watford\\20211204\\20211204_home_gk.csv\n",
      "[players stats summary 저장 완료] C:/Users/user080524/Desktop/project/PREMO/data/datas/1\\2021-2022\\Watford\\20211204\\20211204_away_players_summary.csv\n",
      "[players stats summary 저장 완료] C:/Users/user080524/Desktop/project/PREMO/data/datas/1\\2021-2022\\Watford\\20211204\\20211204_away_gk.csv\n"
     ]
    },
    {
     "name": "stderr",
     "output_type": "stream",
     "text": [
      "\n",
      "\u001b[A"
     ]
    },
    {
     "name": "stdout",
     "output_type": "stream",
     "text": [
      "[team_stats 저장 완료] C:/Users/user080524/Desktop/project/PREMO/data/datas/1\\2021-2022\\Watford\\20211204\\20211204_team_stats.csv\n",
      "[players stats summary 저장 완료] C:/Users/user080524/Desktop/project/PREMO/data/datas/1\\2021-2022\\Watford\\20211228\\20211228_home_palyers_summary.csv\n",
      "[players stats summary 저장 완료] C:/Users/user080524/Desktop/project/PREMO/data/datas/1\\2021-2022\\Watford\\20211228\\20211228_home_gk.csv\n",
      "[players stats summary 저장 완료] C:/Users/user080524/Desktop/project/PREMO/data/datas/1\\2021-2022\\Watford\\20211228\\20211228_away_players_summary.csv\n",
      "[players stats summary 저장 완료] C:/Users/user080524/Desktop/project/PREMO/data/datas/1\\2021-2022\\Watford\\20211228\\20211228_away_gk.csv\n"
     ]
    },
    {
     "name": "stderr",
     "output_type": "stream",
     "text": [
      "\n",
      "\u001b[A"
     ]
    },
    {
     "name": "stdout",
     "output_type": "stream",
     "text": [
      "[team_stats 저장 완료] C:/Users/user080524/Desktop/project/PREMO/data/datas/1\\2021-2022\\Watford\\20211228\\20211228_team_stats.csv\n",
      "[players stats summary 저장 완료] C:/Users/user080524/Desktop/project/PREMO/data/datas/1\\2021-2022\\Watford\\20220101\\20220101_home_palyers_summary.csv\n",
      "[players stats summary 저장 완료] C:/Users/user080524/Desktop/project/PREMO/data/datas/1\\2021-2022\\Watford\\20220101\\20220101_home_gk.csv\n",
      "[players stats summary 저장 완료] C:/Users/user080524/Desktop/project/PREMO/data/datas/1\\2021-2022\\Watford\\20220101\\20220101_away_players_summary.csv\n",
      "[players stats summary 저장 완료] C:/Users/user080524/Desktop/project/PREMO/data/datas/1\\2021-2022\\Watford\\20220101\\20220101_away_gk.csv\n"
     ]
    },
    {
     "name": "stderr",
     "output_type": "stream",
     "text": [
      "\n",
      "\u001b[A"
     ]
    },
    {
     "name": "stdout",
     "output_type": "stream",
     "text": [
      "[team_stats 저장 완료] C:/Users/user080524/Desktop/project/PREMO/data/datas/1\\2021-2022\\Watford\\20220101\\20220101_team_stats.csv\n",
      "[players stats summary 저장 완료] C:/Users/user080524/Desktop/project/PREMO/data/datas/1\\2021-2022\\Watford\\20220121\\20220121_home_palyers_summary.csv\n",
      "[players stats summary 저장 완료] C:/Users/user080524/Desktop/project/PREMO/data/datas/1\\2021-2022\\Watford\\20220121\\20220121_home_gk.csv\n",
      "[players stats summary 저장 완료] C:/Users/user080524/Desktop/project/PREMO/data/datas/1\\2021-2022\\Watford\\20220121\\20220121_away_players_summary.csv\n",
      "[players stats summary 저장 완료] C:/Users/user080524/Desktop/project/PREMO/data/datas/1\\2021-2022\\Watford\\20220121\\20220121_away_gk.csv\n"
     ]
    },
    {
     "name": "stderr",
     "output_type": "stream",
     "text": [
      "\n",
      "\u001b[A"
     ]
    },
    {
     "name": "stdout",
     "output_type": "stream",
     "text": [
      "[team_stats 저장 완료] C:/Users/user080524/Desktop/project/PREMO/data/datas/1\\2021-2022\\Watford\\20220121\\20220121_team_stats.csv\n",
      "[players stats summary 저장 완료] C:/Users/user080524/Desktop/project/PREMO/data/datas/1\\2021-2022\\Watford\\20220212\\20220212_home_palyers_summary.csv\n",
      "[players stats summary 저장 완료] C:/Users/user080524/Desktop/project/PREMO/data/datas/1\\2021-2022\\Watford\\20220212\\20220212_home_gk.csv\n",
      "[players stats summary 저장 완료] C:/Users/user080524/Desktop/project/PREMO/data/datas/1\\2021-2022\\Watford\\20220212\\20220212_away_players_summary.csv\n",
      "[players stats summary 저장 완료] C:/Users/user080524/Desktop/project/PREMO/data/datas/1\\2021-2022\\Watford\\20220212\\20220212_away_gk.csv\n"
     ]
    },
    {
     "name": "stderr",
     "output_type": "stream",
     "text": [
      "\n",
      "\u001b[A"
     ]
    },
    {
     "name": "stdout",
     "output_type": "stream",
     "text": [
      "[team_stats 저장 완료] C:/Users/user080524/Desktop/project/PREMO/data/datas/1\\2021-2022\\Watford\\20220212\\20220212_team_stats.csv\n",
      "[players stats summary 저장 완료] C:/Users/user080524/Desktop/project/PREMO/data/datas/1\\2021-2022\\Watford\\20220223\\20220223_home_palyers_summary.csv\n",
      "[players stats summary 저장 완료] C:/Users/user080524/Desktop/project/PREMO/data/datas/1\\2021-2022\\Watford\\20220223\\20220223_home_gk.csv\n",
      "[players stats summary 저장 완료] C:/Users/user080524/Desktop/project/PREMO/data/datas/1\\2021-2022\\Watford\\20220223\\20220223_away_players_summary.csv\n",
      "[players stats summary 저장 완료] C:/Users/user080524/Desktop/project/PREMO/data/datas/1\\2021-2022\\Watford\\20220223\\20220223_away_gk.csv\n"
     ]
    },
    {
     "name": "stderr",
     "output_type": "stream",
     "text": [
      "\n",
      "\u001b[A"
     ]
    },
    {
     "name": "stdout",
     "output_type": "stream",
     "text": [
      "[team_stats 저장 완료] C:/Users/user080524/Desktop/project/PREMO/data/datas/1\\2021-2022\\Watford\\20220223\\20220223_team_stats.csv\n",
      "[players stats summary 저장 완료] C:/Users/user080524/Desktop/project/PREMO/data/datas/1\\2021-2022\\Watford\\20220306\\20220306_home_palyers_summary.csv\n",
      "[players stats summary 저장 완료] C:/Users/user080524/Desktop/project/PREMO/data/datas/1\\2021-2022\\Watford\\20220306\\20220306_home_gk.csv\n",
      "[players stats summary 저장 완료] C:/Users/user080524/Desktop/project/PREMO/data/datas/1\\2021-2022\\Watford\\20220306\\20220306_away_players_summary.csv\n",
      "[players stats summary 저장 완료] C:/Users/user080524/Desktop/project/PREMO/data/datas/1\\2021-2022\\Watford\\20220306\\20220306_away_gk.csv\n"
     ]
    },
    {
     "name": "stderr",
     "output_type": "stream",
     "text": [
      "\n",
      "\u001b[A"
     ]
    },
    {
     "name": "stdout",
     "output_type": "stream",
     "text": [
      "[team_stats 저장 완료] C:/Users/user080524/Desktop/project/PREMO/data/datas/1\\2021-2022\\Watford\\20220306\\20220306_team_stats.csv\n",
      "[players stats summary 저장 완료] C:/Users/user080524/Desktop/project/PREMO/data/datas/1\\2021-2022\\Watford\\20220409\\20220409_home_palyers_summary.csv\n",
      "[players stats summary 저장 완료] C:/Users/user080524/Desktop/project/PREMO/data/datas/1\\2021-2022\\Watford\\20220409\\20220409_home_gk.csv\n",
      "[players stats summary 저장 완료] C:/Users/user080524/Desktop/project/PREMO/data/datas/1\\2021-2022\\Watford\\20220409\\20220409_away_players_summary.csv\n",
      "[players stats summary 저장 완료] C:/Users/user080524/Desktop/project/PREMO/data/datas/1\\2021-2022\\Watford\\20220409\\20220409_away_gk.csv\n"
     ]
    },
    {
     "name": "stderr",
     "output_type": "stream",
     "text": [
      "\n",
      "\u001b[A"
     ]
    },
    {
     "name": "stdout",
     "output_type": "stream",
     "text": [
      "[team_stats 저장 완료] C:/Users/user080524/Desktop/project/PREMO/data/datas/1\\2021-2022\\Watford\\20220409\\20220409_team_stats.csv\n",
      "[players stats summary 저장 완료] C:/Users/user080524/Desktop/project/PREMO/data/datas/1\\2021-2022\\Watford\\20220416\\20220416_home_palyers_summary.csv\n",
      "[players stats summary 저장 완료] C:/Users/user080524/Desktop/project/PREMO/data/datas/1\\2021-2022\\Watford\\20220416\\20220416_home_gk.csv\n",
      "[players stats summary 저장 완료] C:/Users/user080524/Desktop/project/PREMO/data/datas/1\\2021-2022\\Watford\\20220416\\20220416_away_players_summary.csv\n",
      "[players stats summary 저장 완료] C:/Users/user080524/Desktop/project/PREMO/data/datas/1\\2021-2022\\Watford\\20220416\\20220416_away_gk.csv\n"
     ]
    },
    {
     "name": "stderr",
     "output_type": "stream",
     "text": [
      "\n",
      "\u001b[A"
     ]
    },
    {
     "name": "stdout",
     "output_type": "stream",
     "text": [
      "[team_stats 저장 완료] C:/Users/user080524/Desktop/project/PREMO/data/datas/1\\2021-2022\\Watford\\20220416\\20220416_team_stats.csv\n",
      "[players stats summary 저장 완료] C:/Users/user080524/Desktop/project/PREMO/data/datas/1\\2021-2022\\Watford\\20220430\\20220430_home_palyers_summary.csv\n",
      "[players stats summary 저장 완료] C:/Users/user080524/Desktop/project/PREMO/data/datas/1\\2021-2022\\Watford\\20220430\\20220430_home_gk.csv\n",
      "[players stats summary 저장 완료] C:/Users/user080524/Desktop/project/PREMO/data/datas/1\\2021-2022\\Watford\\20220430\\20220430_away_players_summary.csv\n",
      "[players stats summary 저장 완료] C:/Users/user080524/Desktop/project/PREMO/data/datas/1\\2021-2022\\Watford\\20220430\\20220430_away_gk.csv\n"
     ]
    },
    {
     "name": "stderr",
     "output_type": "stream",
     "text": [
      "\n",
      "\u001b[A"
     ]
    },
    {
     "name": "stdout",
     "output_type": "stream",
     "text": [
      "[team_stats 저장 완료] C:/Users/user080524/Desktop/project/PREMO/data/datas/1\\2021-2022\\Watford\\20220430\\20220430_team_stats.csv\n",
      "[players stats summary 저장 완료] C:/Users/user080524/Desktop/project/PREMO/data/datas/1\\2021-2022\\Watford\\20220511\\20220511_home_palyers_summary.csv\n",
      "[players stats summary 저장 완료] C:/Users/user080524/Desktop/project/PREMO/data/datas/1\\2021-2022\\Watford\\20220511\\20220511_home_gk.csv\n",
      "[players stats summary 저장 완료] C:/Users/user080524/Desktop/project/PREMO/data/datas/1\\2021-2022\\Watford\\20220511\\20220511_away_players_summary.csv\n",
      "[players stats summary 저장 완료] C:/Users/user080524/Desktop/project/PREMO/data/datas/1\\2021-2022\\Watford\\20220511\\20220511_away_gk.csv\n"
     ]
    },
    {
     "name": "stderr",
     "output_type": "stream",
     "text": [
      "\n",
      "\u001b[A"
     ]
    },
    {
     "name": "stdout",
     "output_type": "stream",
     "text": [
      "team_stats 없음 could not convert string to float: ''\n",
      "[team_stats 저장 완료] C:/Users/user080524/Desktop/project/PREMO/data/datas/1\\2021-2022\\Watford\\20220511\\20220511_team_stats.csv\n",
      "[players stats summary 저장 완료] C:/Users/user080524/Desktop/project/PREMO/data/datas/1\\2021-2022\\Watford\\20220515\\20220515_home_palyers_summary.csv\n",
      "[players stats summary 저장 완료] C:/Users/user080524/Desktop/project/PREMO/data/datas/1\\2021-2022\\Watford\\20220515\\20220515_home_gk.csv\n",
      "[players stats summary 저장 완료] C:/Users/user080524/Desktop/project/PREMO/data/datas/1\\2021-2022\\Watford\\20220515\\20220515_away_players_summary.csv\n",
      "[players stats summary 저장 완료] C:/Users/user080524/Desktop/project/PREMO/data/datas/1\\2021-2022\\Watford\\20220515\\20220515_away_gk.csv\n"
     ]
    },
    {
     "name": "stderr",
     "output_type": "stream",
     "text": [
      "\n",
      "\u001b[A\n",
      "\u001b[A"
     ]
    },
    {
     "name": "stdout",
     "output_type": "stream",
     "text": [
      "[team_stats 저장 완료] C:/Users/user080524/Desktop/project/PREMO/data/datas/1\\2021-2022\\Watford\\20220515\\20220515_team_stats.csv\n",
      "[시즌 페이지 로딩] URL: https://fbref.com/en/comps/9/2021-2022/2021-2022-Premier-League-Stats\n",
      "팀: Norwich City, 링크:https://fbref.com/en/squads/1c781004/2021-2022/Norwich-City-Stats\n",
      "20210814\n",
      "https://fbref.com/en/matches/c52500ad/Norwich-City-Liverpool-August-14-2021-Premier-League\n",
      "20210828\n",
      "https://fbref.com/en/matches/78c685cc/Norwich-City-Leicester-City-August-28-2021-Premier-League\n",
      "20210918\n",
      "https://fbref.com/en/matches/835fa19c/Norwich-City-Watford-September-18-2021-Premier-League\n",
      "20211016\n",
      "https://fbref.com/en/matches/bc0a1eb5/Norwich-City-Brighton-and-Hove-Albion-October-16-2021-Premier-League\n",
      "match row 처리 중 오류: Message: no such element: Unable to locate element: {\"method\":\"css selector\",\"selector\":\"td[data-stat=\"comp\"]\"}\n",
      "  (Session info: chrome=136.0.7103.114); For documentation on this error, please visit: https://www.selenium.dev/documentation/webdriver/troubleshooting/errors#no-such-element-exception\n",
      "Stacktrace:\n",
      "\tGetHandleVerifier [0x00007FF7535BCF45+75717]\n",
      "\tGetHandleVerifier [0x00007FF7535BCFA0+75808]\n",
      "\t(No symbol) [0x00007FF753388F9A]\n",
      "\t(No symbol) [0x00007FF7533DF4C6]\n",
      "\t(No symbol) [0x00007FF7533DF77C]\n",
      "\t(No symbol) [0x00007FF7533D1D7C]\n",
      "\t(No symbol) [0x00007FF7534073BF]\n",
      "\t(No symbol) [0x00007FF7533D1C46]\n",
      "\t(No symbol) [0x00007FF753407590]\n",
      "\t(No symbol) [0x00007FF75342F39C]\n",
      "\t(No symbol) [0x00007FF753407153]\n",
      "\t(No symbol) [0x00007FF7533D0421]\n",
      "\t(No symbol) [0x00007FF7533D11B3]\n",
      "\tGetHandleVerifier [0x00007FF7538BD71D+3223453]\n",
      "\tGetHandleVerifier [0x00007FF7538B7CC2+3200322]\n",
      "\tGetHandleVerifier [0x00007FF7538D5AF3+3322739]\n",
      "\tGetHandleVerifier [0x00007FF7535D6A1A+180890]\n",
      "\tGetHandleVerifier [0x00007FF7535DE11F+211359]\n",
      "\tGetHandleVerifier [0x00007FF7535C5294+109332]\n",
      "\tGetHandleVerifier [0x00007FF7535C5442+109762]\n",
      "\tGetHandleVerifier [0x00007FF7535ABA59+4825]\n",
      "\tBaseThreadInitThunk [0x00007FFE15767374+20]\n",
      "\tRtlUserThreadStart [0x00007FFE16F5CC91+33]\n",
      "\n",
      "20211031\n",
      "https://fbref.com/en/matches/52daf8d4/Norwich-City-Leeds-United-October-31-2021-Premier-League\n",
      "20211120\n",
      "https://fbref.com/en/matches/4bddaba4/Norwich-City-Southampton-November-20-2021-Premier-League\n",
      "20211127\n",
      "https://fbref.com/en/matches/ff3bd755/Norwich-City-Wolverhampton-Wanderers-November-27-2021-Premier-League\n",
      "20211211\n",
      "https://fbref.com/en/matches/11a67612/Norwich-City-Manchester-United-December-11-2021-Premier-League\n",
      "20211214\n",
      "https://fbref.com/en/matches/c78a1d7d/Norwich-City-Aston-Villa-December-14-2021-Premier-League\n",
      "20211226\n",
      "https://fbref.com/en/matches/83ce723b/Norwich-City-Arsenal-December-26-2021-Premier-League\n",
      "match row 처리 중 오류: Message: no such element: Unable to locate element: {\"method\":\"css selector\",\"selector\":\"td[data-stat=\"comp\"]\"}\n",
      "  (Session info: chrome=136.0.7103.114); For documentation on this error, please visit: https://www.selenium.dev/documentation/webdriver/troubleshooting/errors#no-such-element-exception\n",
      "Stacktrace:\n",
      "\tGetHandleVerifier [0x00007FF7535BCF45+75717]\n",
      "\tGetHandleVerifier [0x00007FF7535BCFA0+75808]\n",
      "\t(No symbol) [0x00007FF753388F9A]\n",
      "\t(No symbol) [0x00007FF7533DF4C6]\n",
      "\t(No symbol) [0x00007FF7533DF77C]\n",
      "\t(No symbol) [0x00007FF7533D1D7C]\n",
      "\t(No symbol) [0x00007FF7534073BF]\n",
      "\t(No symbol) [0x00007FF7533D1C46]\n",
      "\t(No symbol) [0x00007FF753407590]\n",
      "\t(No symbol) [0x00007FF75342F39C]\n",
      "\t(No symbol) [0x00007FF753407153]\n",
      "\t(No symbol) [0x00007FF7533D0421]\n",
      "\t(No symbol) [0x00007FF7533D11B3]\n",
      "\tGetHandleVerifier [0x00007FF7538BD71D+3223453]\n",
      "\tGetHandleVerifier [0x00007FF7538B7CC2+3200322]\n",
      "\tGetHandleVerifier [0x00007FF7538D5AF3+3322739]\n",
      "\tGetHandleVerifier [0x00007FF7535D6A1A+180890]\n",
      "\tGetHandleVerifier [0x00007FF7535DE11F+211359]\n",
      "\tGetHandleVerifier [0x00007FF7535C5294+109332]\n",
      "\tGetHandleVerifier [0x00007FF7535C5442+109762]\n",
      "\tGetHandleVerifier [0x00007FF7535ABA59+4825]\n",
      "\tBaseThreadInitThunk [0x00007FFE15767374+20]\n",
      "\tRtlUserThreadStart [0x00007FFE16F5CC91+33]\n",
      "\n",
      "20220115\n",
      "https://fbref.com/en/matches/4574a1a6/Norwich-City-Everton-January-15-2022-Premier-League\n",
      "20220209\n",
      "https://fbref.com/en/matches/22d9fbc9/Norwich-City-Crystal-Palace-February-9-2022-Premier-League\n",
      "20220212\n",
      "https://fbref.com/en/matches/522300d0/Norwich-City-Manchester-City-February-12-2022-Premier-League\n",
      "match row 처리 중 오류: Message: no such element: Unable to locate element: {\"method\":\"css selector\",\"selector\":\"td[data-stat=\"comp\"]\"}\n",
      "  (Session info: chrome=136.0.7103.114); For documentation on this error, please visit: https://www.selenium.dev/documentation/webdriver/troubleshooting/errors#no-such-element-exception\n",
      "Stacktrace:\n",
      "\tGetHandleVerifier [0x00007FF7535BCF45+75717]\n",
      "\tGetHandleVerifier [0x00007FF7535BCFA0+75808]\n",
      "\t(No symbol) [0x00007FF753388F9A]\n",
      "\t(No symbol) [0x00007FF7533DF4C6]\n",
      "\t(No symbol) [0x00007FF7533DF77C]\n",
      "\t(No symbol) [0x00007FF7533D1D7C]\n",
      "\t(No symbol) [0x00007FF7534073BF]\n",
      "\t(No symbol) [0x00007FF7533D1C46]\n",
      "\t(No symbol) [0x00007FF753407590]\n",
      "\t(No symbol) [0x00007FF75342F39C]\n",
      "\t(No symbol) [0x00007FF753407153]\n",
      "\t(No symbol) [0x00007FF7533D0421]\n",
      "\t(No symbol) [0x00007FF7533D11B3]\n",
      "\tGetHandleVerifier [0x00007FF7538BD71D+3223453]\n",
      "\tGetHandleVerifier [0x00007FF7538B7CC2+3200322]\n",
      "\tGetHandleVerifier [0x00007FF7538D5AF3+3322739]\n",
      "\tGetHandleVerifier [0x00007FF7535D6A1A+180890]\n",
      "\tGetHandleVerifier [0x00007FF7535DE11F+211359]\n",
      "\tGetHandleVerifier [0x00007FF7535C5294+109332]\n",
      "\tGetHandleVerifier [0x00007FF7535C5442+109762]\n",
      "\tGetHandleVerifier [0x00007FF7535ABA59+4825]\n",
      "\tBaseThreadInitThunk [0x00007FFE15767374+20]\n",
      "\tRtlUserThreadStart [0x00007FFE16F5CC91+33]\n",
      "\n",
      "20220305\n",
      "https://fbref.com/en/matches/fcb61cff/Norwich-City-Brentford-March-5-2022-Premier-League\n",
      "20220310\n",
      "https://fbref.com/en/matches/4371c286/Norwich-City-Chelsea-March-10-2022-Premier-League\n",
      "20220410\n",
      "https://fbref.com/en/matches/8574aaf3/Norwich-City-Burnley-April-10-2022-Premier-League\n",
      "20220423\n",
      "https://fbref.com/en/matches/f6a877bb/Norwich-City-Newcastle-United-April-23-2022-Premier-League\n",
      "20220508\n",
      "https://fbref.com/en/matches/a370b8d5/Norwich-City-West-Ham-United-May-8-2022-Premier-League\n",
      "20220522\n",
      "https://fbref.com/en/matches/771ecae9/Norwich-City-Tottenham-Hotspur-May-22-2022-Premier-League\n",
      "19\n",
      "19\n"
     ]
    },
    {
     "name": "stderr",
     "output_type": "stream",
     "text": [
      "\n",
      "\u001b[A"
     ]
    },
    {
     "name": "stdout",
     "output_type": "stream",
     "text": [
      "[players stats summary 저장 완료] C:/Users/user080524/Desktop/project/PREMO/data/datas/1\\2021-2022\\Norwich City\\20210814\\20210814_home_palyers_summary.csv\n",
      "[players stats summary 저장 완료] C:/Users/user080524/Desktop/project/PREMO/data/datas/1\\2021-2022\\Norwich City\\20210814\\20210814_home_gk.csv\n",
      "[players stats summary 저장 완료] C:/Users/user080524/Desktop/project/PREMO/data/datas/1\\2021-2022\\Norwich City\\20210814\\20210814_away_players_summary.csv\n",
      "[players stats summary 저장 완료] C:/Users/user080524/Desktop/project/PREMO/data/datas/1\\2021-2022\\Norwich City\\20210814\\20210814_away_gk.csv\n"
     ]
    },
    {
     "name": "stderr",
     "output_type": "stream",
     "text": [
      "\n",
      "\u001b[A"
     ]
    },
    {
     "name": "stdout",
     "output_type": "stream",
     "text": [
      "[team_stats 저장 완료] C:/Users/user080524/Desktop/project/PREMO/data/datas/1\\2021-2022\\Norwich City\\20210814\\20210814_team_stats.csv\n",
      "[players stats summary 저장 완료] C:/Users/user080524/Desktop/project/PREMO/data/datas/1\\2021-2022\\Norwich City\\20210828\\20210828_home_palyers_summary.csv\n",
      "[players stats summary 저장 완료] C:/Users/user080524/Desktop/project/PREMO/data/datas/1\\2021-2022\\Norwich City\\20210828\\20210828_home_gk.csv\n",
      "[players stats summary 저장 완료] C:/Users/user080524/Desktop/project/PREMO/data/datas/1\\2021-2022\\Norwich City\\20210828\\20210828_away_players_summary.csv\n",
      "[players stats summary 저장 완료] C:/Users/user080524/Desktop/project/PREMO/data/datas/1\\2021-2022\\Norwich City\\20210828\\20210828_away_gk.csv\n"
     ]
    },
    {
     "name": "stderr",
     "output_type": "stream",
     "text": [
      "\n",
      "\u001b[A"
     ]
    },
    {
     "name": "stdout",
     "output_type": "stream",
     "text": [
      "[team_stats 저장 완료] C:/Users/user080524/Desktop/project/PREMO/data/datas/1\\2021-2022\\Norwich City\\20210828\\20210828_team_stats.csv\n",
      "[players stats summary 저장 완료] C:/Users/user080524/Desktop/project/PREMO/data/datas/1\\2021-2022\\Norwich City\\20210918\\20210918_home_palyers_summary.csv\n",
      "[players stats summary 저장 완료] C:/Users/user080524/Desktop/project/PREMO/data/datas/1\\2021-2022\\Norwich City\\20210918\\20210918_home_gk.csv\n",
      "[players stats summary 저장 완료] C:/Users/user080524/Desktop/project/PREMO/data/datas/1\\2021-2022\\Norwich City\\20210918\\20210918_away_players_summary.csv\n",
      "[players stats summary 저장 완료] C:/Users/user080524/Desktop/project/PREMO/data/datas/1\\2021-2022\\Norwich City\\20210918\\20210918_away_gk.csv\n"
     ]
    },
    {
     "name": "stderr",
     "output_type": "stream",
     "text": [
      "\n",
      "\u001b[A"
     ]
    },
    {
     "name": "stdout",
     "output_type": "stream",
     "text": [
      "[team_stats 저장 완료] C:/Users/user080524/Desktop/project/PREMO/data/datas/1\\2021-2022\\Norwich City\\20210918\\20210918_team_stats.csv\n",
      "[players stats summary 저장 완료] C:/Users/user080524/Desktop/project/PREMO/data/datas/1\\2021-2022\\Norwich City\\20211016\\20211016_home_palyers_summary.csv\n",
      "[players stats summary 저장 완료] C:/Users/user080524/Desktop/project/PREMO/data/datas/1\\2021-2022\\Norwich City\\20211016\\20211016_home_gk.csv\n",
      "[players stats summary 저장 완료] C:/Users/user080524/Desktop/project/PREMO/data/datas/1\\2021-2022\\Norwich City\\20211016\\20211016_away_players_summary.csv\n",
      "[players stats summary 저장 완료] C:/Users/user080524/Desktop/project/PREMO/data/datas/1\\2021-2022\\Norwich City\\20211016\\20211016_away_gk.csv\n"
     ]
    },
    {
     "name": "stderr",
     "output_type": "stream",
     "text": [
      "\n",
      "\u001b[A"
     ]
    },
    {
     "name": "stdout",
     "output_type": "stream",
     "text": [
      "[team_stats 저장 완료] C:/Users/user080524/Desktop/project/PREMO/data/datas/1\\2021-2022\\Norwich City\\20211016\\20211016_team_stats.csv\n",
      "[players stats summary 저장 완료] C:/Users/user080524/Desktop/project/PREMO/data/datas/1\\2021-2022\\Norwich City\\20211031\\20211031_home_palyers_summary.csv\n",
      "[players stats summary 저장 완료] C:/Users/user080524/Desktop/project/PREMO/data/datas/1\\2021-2022\\Norwich City\\20211031\\20211031_home_gk.csv\n",
      "[players stats summary 저장 완료] C:/Users/user080524/Desktop/project/PREMO/data/datas/1\\2021-2022\\Norwich City\\20211031\\20211031_away_players_summary.csv\n",
      "[players stats summary 저장 완료] C:/Users/user080524/Desktop/project/PREMO/data/datas/1\\2021-2022\\Norwich City\\20211031\\20211031_away_gk.csv\n"
     ]
    },
    {
     "name": "stderr",
     "output_type": "stream",
     "text": [
      "\n",
      "\u001b[A"
     ]
    },
    {
     "name": "stdout",
     "output_type": "stream",
     "text": [
      "[team_stats 저장 완료] C:/Users/user080524/Desktop/project/PREMO/data/datas/1\\2021-2022\\Norwich City\\20211031\\20211031_team_stats.csv\n",
      "[players stats summary 저장 완료] C:/Users/user080524/Desktop/project/PREMO/data/datas/1\\2021-2022\\Norwich City\\20211120\\20211120_home_palyers_summary.csv\n",
      "[players stats summary 저장 완료] C:/Users/user080524/Desktop/project/PREMO/data/datas/1\\2021-2022\\Norwich City\\20211120\\20211120_home_gk.csv\n",
      "[players stats summary 저장 완료] C:/Users/user080524/Desktop/project/PREMO/data/datas/1\\2021-2022\\Norwich City\\20211120\\20211120_away_players_summary.csv\n",
      "[players stats summary 저장 완료] C:/Users/user080524/Desktop/project/PREMO/data/datas/1\\2021-2022\\Norwich City\\20211120\\20211120_away_gk.csv\n"
     ]
    },
    {
     "name": "stderr",
     "output_type": "stream",
     "text": [
      "\n",
      "\u001b[A"
     ]
    },
    {
     "name": "stdout",
     "output_type": "stream",
     "text": [
      "[team_stats 저장 완료] C:/Users/user080524/Desktop/project/PREMO/data/datas/1\\2021-2022\\Norwich City\\20211120\\20211120_team_stats.csv\n",
      "[players stats summary 저장 완료] C:/Users/user080524/Desktop/project/PREMO/data/datas/1\\2021-2022\\Norwich City\\20211127\\20211127_home_palyers_summary.csv\n",
      "[players stats summary 저장 완료] C:/Users/user080524/Desktop/project/PREMO/data/datas/1\\2021-2022\\Norwich City\\20211127\\20211127_home_gk.csv\n",
      "[players stats summary 저장 완료] C:/Users/user080524/Desktop/project/PREMO/data/datas/1\\2021-2022\\Norwich City\\20211127\\20211127_away_players_summary.csv\n",
      "[players stats summary 저장 완료] C:/Users/user080524/Desktop/project/PREMO/data/datas/1\\2021-2022\\Norwich City\\20211127\\20211127_away_gk.csv\n"
     ]
    },
    {
     "name": "stderr",
     "output_type": "stream",
     "text": [
      "\n",
      "\u001b[A"
     ]
    },
    {
     "name": "stdout",
     "output_type": "stream",
     "text": [
      "[team_stats 저장 완료] C:/Users/user080524/Desktop/project/PREMO/data/datas/1\\2021-2022\\Norwich City\\20211127\\20211127_team_stats.csv\n",
      "[players stats summary 저장 완료] C:/Users/user080524/Desktop/project/PREMO/data/datas/1\\2021-2022\\Norwich City\\20211211\\20211211_home_palyers_summary.csv\n",
      "[players stats summary 저장 완료] C:/Users/user080524/Desktop/project/PREMO/data/datas/1\\2021-2022\\Norwich City\\20211211\\20211211_home_gk.csv\n",
      "[players stats summary 저장 완료] C:/Users/user080524/Desktop/project/PREMO/data/datas/1\\2021-2022\\Norwich City\\20211211\\20211211_away_players_summary.csv\n",
      "[players stats summary 저장 완료] C:/Users/user080524/Desktop/project/PREMO/data/datas/1\\2021-2022\\Norwich City\\20211211\\20211211_away_gk.csv\n"
     ]
    },
    {
     "name": "stderr",
     "output_type": "stream",
     "text": [
      "\n",
      "\u001b[A"
     ]
    },
    {
     "name": "stdout",
     "output_type": "stream",
     "text": [
      "[team_stats 저장 완료] C:/Users/user080524/Desktop/project/PREMO/data/datas/1\\2021-2022\\Norwich City\\20211211\\20211211_team_stats.csv\n",
      "[players stats summary 저장 완료] C:/Users/user080524/Desktop/project/PREMO/data/datas/1\\2021-2022\\Norwich City\\20211214\\20211214_home_palyers_summary.csv\n",
      "[players stats summary 저장 완료] C:/Users/user080524/Desktop/project/PREMO/data/datas/1\\2021-2022\\Norwich City\\20211214\\20211214_home_gk.csv\n",
      "[players stats summary 저장 완료] C:/Users/user080524/Desktop/project/PREMO/data/datas/1\\2021-2022\\Norwich City\\20211214\\20211214_away_players_summary.csv\n",
      "[players stats summary 저장 완료] C:/Users/user080524/Desktop/project/PREMO/data/datas/1\\2021-2022\\Norwich City\\20211214\\20211214_away_gk.csv\n"
     ]
    },
    {
     "name": "stderr",
     "output_type": "stream",
     "text": [
      "\n",
      "\u001b[A"
     ]
    },
    {
     "name": "stdout",
     "output_type": "stream",
     "text": [
      "[team_stats 저장 완료] C:/Users/user080524/Desktop/project/PREMO/data/datas/1\\2021-2022\\Norwich City\\20211214\\20211214_team_stats.csv\n",
      "[players stats summary 저장 완료] C:/Users/user080524/Desktop/project/PREMO/data/datas/1\\2021-2022\\Norwich City\\20211226\\20211226_home_palyers_summary.csv\n",
      "[players stats summary 저장 완료] C:/Users/user080524/Desktop/project/PREMO/data/datas/1\\2021-2022\\Norwich City\\20211226\\20211226_home_gk.csv\n",
      "[players stats summary 저장 완료] C:/Users/user080524/Desktop/project/PREMO/data/datas/1\\2021-2022\\Norwich City\\20211226\\20211226_away_players_summary.csv\n",
      "[players stats summary 저장 완료] C:/Users/user080524/Desktop/project/PREMO/data/datas/1\\2021-2022\\Norwich City\\20211226\\20211226_away_gk.csv\n"
     ]
    },
    {
     "name": "stderr",
     "output_type": "stream",
     "text": [
      "\n",
      "\u001b[A"
     ]
    },
    {
     "name": "stdout",
     "output_type": "stream",
     "text": [
      "[team_stats 저장 완료] C:/Users/user080524/Desktop/project/PREMO/data/datas/1\\2021-2022\\Norwich City\\20211226\\20211226_team_stats.csv\n",
      "[players stats summary 저장 완료] C:/Users/user080524/Desktop/project/PREMO/data/datas/1\\2021-2022\\Norwich City\\20220115\\20220115_home_palyers_summary.csv\n",
      "[players stats summary 저장 완료] C:/Users/user080524/Desktop/project/PREMO/data/datas/1\\2021-2022\\Norwich City\\20220115\\20220115_home_gk.csv\n",
      "[players stats summary 저장 완료] C:/Users/user080524/Desktop/project/PREMO/data/datas/1\\2021-2022\\Norwich City\\20220115\\20220115_away_players_summary.csv\n",
      "[players stats summary 저장 완료] C:/Users/user080524/Desktop/project/PREMO/data/datas/1\\2021-2022\\Norwich City\\20220115\\20220115_away_gk.csv\n"
     ]
    },
    {
     "name": "stderr",
     "output_type": "stream",
     "text": [
      "\n",
      "\u001b[A"
     ]
    },
    {
     "name": "stdout",
     "output_type": "stream",
     "text": [
      "[team_stats 저장 완료] C:/Users/user080524/Desktop/project/PREMO/data/datas/1\\2021-2022\\Norwich City\\20220115\\20220115_team_stats.csv\n",
      "[players stats summary 저장 완료] C:/Users/user080524/Desktop/project/PREMO/data/datas/1\\2021-2022\\Norwich City\\20220209\\20220209_home_palyers_summary.csv\n",
      "[players stats summary 저장 완료] C:/Users/user080524/Desktop/project/PREMO/data/datas/1\\2021-2022\\Norwich City\\20220209\\20220209_home_gk.csv\n",
      "[players stats summary 저장 완료] C:/Users/user080524/Desktop/project/PREMO/data/datas/1\\2021-2022\\Norwich City\\20220209\\20220209_away_players_summary.csv\n",
      "[players stats summary 저장 완료] C:/Users/user080524/Desktop/project/PREMO/data/datas/1\\2021-2022\\Norwich City\\20220209\\20220209_away_gk.csv\n"
     ]
    },
    {
     "name": "stderr",
     "output_type": "stream",
     "text": [
      "\n",
      "\u001b[A"
     ]
    },
    {
     "name": "stdout",
     "output_type": "stream",
     "text": [
      "[team_stats 저장 완료] C:/Users/user080524/Desktop/project/PREMO/data/datas/1\\2021-2022\\Norwich City\\20220209\\20220209_team_stats.csv\n",
      "[players stats summary 저장 완료] C:/Users/user080524/Desktop/project/PREMO/data/datas/1\\2021-2022\\Norwich City\\20220212\\20220212_home_palyers_summary.csv\n",
      "[players stats summary 저장 완료] C:/Users/user080524/Desktop/project/PREMO/data/datas/1\\2021-2022\\Norwich City\\20220212\\20220212_home_gk.csv\n",
      "[players stats summary 저장 완료] C:/Users/user080524/Desktop/project/PREMO/data/datas/1\\2021-2022\\Norwich City\\20220212\\20220212_away_players_summary.csv\n",
      "[players stats summary 저장 완료] C:/Users/user080524/Desktop/project/PREMO/data/datas/1\\2021-2022\\Norwich City\\20220212\\20220212_away_gk.csv\n"
     ]
    },
    {
     "name": "stderr",
     "output_type": "stream",
     "text": [
      "\n",
      "\u001b[A"
     ]
    },
    {
     "name": "stdout",
     "output_type": "stream",
     "text": [
      "[team_stats 저장 완료] C:/Users/user080524/Desktop/project/PREMO/data/datas/1\\2021-2022\\Norwich City\\20220212\\20220212_team_stats.csv\n",
      "[players stats summary 저장 완료] C:/Users/user080524/Desktop/project/PREMO/data/datas/1\\2021-2022\\Norwich City\\20220305\\20220305_home_palyers_summary.csv\n",
      "[players stats summary 저장 완료] C:/Users/user080524/Desktop/project/PREMO/data/datas/1\\2021-2022\\Norwich City\\20220305\\20220305_home_gk.csv\n",
      "[players stats summary 저장 완료] C:/Users/user080524/Desktop/project/PREMO/data/datas/1\\2021-2022\\Norwich City\\20220305\\20220305_away_players_summary.csv\n",
      "[players stats summary 저장 완료] C:/Users/user080524/Desktop/project/PREMO/data/datas/1\\2021-2022\\Norwich City\\20220305\\20220305_away_gk.csv\n"
     ]
    },
    {
     "name": "stderr",
     "output_type": "stream",
     "text": [
      "\n",
      "\u001b[A"
     ]
    },
    {
     "name": "stdout",
     "output_type": "stream",
     "text": [
      "[team_stats 저장 완료] C:/Users/user080524/Desktop/project/PREMO/data/datas/1\\2021-2022\\Norwich City\\20220305\\20220305_team_stats.csv\n",
      "[players stats summary 저장 완료] C:/Users/user080524/Desktop/project/PREMO/data/datas/1\\2021-2022\\Norwich City\\20220310\\20220310_home_palyers_summary.csv\n",
      "[players stats summary 저장 완료] C:/Users/user080524/Desktop/project/PREMO/data/datas/1\\2021-2022\\Norwich City\\20220310\\20220310_home_gk.csv\n",
      "[players stats summary 저장 완료] C:/Users/user080524/Desktop/project/PREMO/data/datas/1\\2021-2022\\Norwich City\\20220310\\20220310_away_players_summary.csv\n",
      "[players stats summary 저장 완료] C:/Users/user080524/Desktop/project/PREMO/data/datas/1\\2021-2022\\Norwich City\\20220310\\20220310_away_gk.csv\n"
     ]
    },
    {
     "name": "stderr",
     "output_type": "stream",
     "text": [
      "\n",
      "\u001b[A"
     ]
    },
    {
     "name": "stdout",
     "output_type": "stream",
     "text": [
      "[team_stats 저장 완료] C:/Users/user080524/Desktop/project/PREMO/data/datas/1\\2021-2022\\Norwich City\\20220310\\20220310_team_stats.csv\n",
      "[players stats summary 저장 완료] C:/Users/user080524/Desktop/project/PREMO/data/datas/1\\2021-2022\\Norwich City\\20220410\\20220410_home_palyers_summary.csv\n",
      "[players stats summary 저장 완료] C:/Users/user080524/Desktop/project/PREMO/data/datas/1\\2021-2022\\Norwich City\\20220410\\20220410_home_gk.csv\n",
      "[players stats summary 저장 완료] C:/Users/user080524/Desktop/project/PREMO/data/datas/1\\2021-2022\\Norwich City\\20220410\\20220410_away_players_summary.csv\n",
      "[players stats summary 저장 완료] C:/Users/user080524/Desktop/project/PREMO/data/datas/1\\2021-2022\\Norwich City\\20220410\\20220410_away_gk.csv\n"
     ]
    },
    {
     "name": "stderr",
     "output_type": "stream",
     "text": [
      "\n",
      "\u001b[A"
     ]
    },
    {
     "name": "stdout",
     "output_type": "stream",
     "text": [
      "[team_stats 저장 완료] C:/Users/user080524/Desktop/project/PREMO/data/datas/1\\2021-2022\\Norwich City\\20220410\\20220410_team_stats.csv\n",
      "[players stats summary 저장 완료] C:/Users/user080524/Desktop/project/PREMO/data/datas/1\\2021-2022\\Norwich City\\20220423\\20220423_home_palyers_summary.csv\n",
      "[players stats summary 저장 완료] C:/Users/user080524/Desktop/project/PREMO/data/datas/1\\2021-2022\\Norwich City\\20220423\\20220423_home_gk.csv\n",
      "[players stats summary 저장 완료] C:/Users/user080524/Desktop/project/PREMO/data/datas/1\\2021-2022\\Norwich City\\20220423\\20220423_away_players_summary.csv\n",
      "[players stats summary 저장 완료] C:/Users/user080524/Desktop/project/PREMO/data/datas/1\\2021-2022\\Norwich City\\20220423\\20220423_away_gk.csv\n"
     ]
    },
    {
     "name": "stderr",
     "output_type": "stream",
     "text": [
      "\n",
      "\u001b[A"
     ]
    },
    {
     "name": "stdout",
     "output_type": "stream",
     "text": [
      "[team_stats 저장 완료] C:/Users/user080524/Desktop/project/PREMO/data/datas/1\\2021-2022\\Norwich City\\20220423\\20220423_team_stats.csv\n",
      "[players stats summary 저장 완료] C:/Users/user080524/Desktop/project/PREMO/data/datas/1\\2021-2022\\Norwich City\\20220508\\20220508_home_palyers_summary.csv\n",
      "[players stats summary 저장 완료] C:/Users/user080524/Desktop/project/PREMO/data/datas/1\\2021-2022\\Norwich City\\20220508\\20220508_home_gk.csv\n",
      "[players stats summary 저장 완료] C:/Users/user080524/Desktop/project/PREMO/data/datas/1\\2021-2022\\Norwich City\\20220508\\20220508_away_players_summary.csv\n",
      "[players stats summary 저장 완료] C:/Users/user080524/Desktop/project/PREMO/data/datas/1\\2021-2022\\Norwich City\\20220508\\20220508_away_gk.csv\n"
     ]
    },
    {
     "name": "stderr",
     "output_type": "stream",
     "text": [
      "\n",
      "\u001b[A"
     ]
    },
    {
     "name": "stdout",
     "output_type": "stream",
     "text": [
      "[team_stats 저장 완료] C:/Users/user080524/Desktop/project/PREMO/data/datas/1\\2021-2022\\Norwich City\\20220508\\20220508_team_stats.csv\n",
      "[players stats summary 저장 완료] C:/Users/user080524/Desktop/project/PREMO/data/datas/1\\2021-2022\\Norwich City\\20220522\\20220522_home_palyers_summary.csv\n",
      "[players stats summary 저장 완료] C:/Users/user080524/Desktop/project/PREMO/data/datas/1\\2021-2022\\Norwich City\\20220522\\20220522_home_gk.csv\n",
      "[players stats summary 저장 완료] C:/Users/user080524/Desktop/project/PREMO/data/datas/1\\2021-2022\\Norwich City\\20220522\\20220522_away_players_summary.csv\n",
      "[players stats summary 저장 완료] C:/Users/user080524/Desktop/project/PREMO/data/datas/1\\2021-2022\\Norwich City\\20220522\\20220522_away_gk.csv\n"
     ]
    },
    {
     "name": "stderr",
     "output_type": "stream",
     "text": [
      "\n",
      "\u001b[A\n",
      "Teams in 2021-2022: 100%|██████████| 20/20 [1:04:44<00:00, 194.22s/it]\n",
      "Season URLs:  50%|█████     | 1/2 [1:04:44<1:04:44, 3884.35s/it]"
     ]
    },
    {
     "name": "stdout",
     "output_type": "stream",
     "text": [
      "team_stats 없음 could not convert string to float: ''\n",
      "[team_stats 저장 완료] C:/Users/user080524/Desktop/project/PREMO/data/datas/1\\2021-2022\\Norwich City\\20220522\\20220522_team_stats.csv\n"
     ]
    },
    {
     "name": "stderr",
     "output_type": "stream",
     "text": []
    },
    {
     "name": "stdout",
     "output_type": "stream",
     "text": [
      "[시즌 페이지 로딩] URL: https://fbref.com/en/comps/9/Premier-League-Stats\n",
      "팀: Liverpool, 링크:https://fbref.com/en/squads/822bd0ba/Liverpool-Stats\n",
      "20240825\n",
      "https://fbref.com/en/matches/09b1742e/Liverpool-Brentford-August-25-2024-Premier-League\n",
      "20240914\n",
      "https://fbref.com/en/matches/674bfe9e/Liverpool-Nottingham-Forest-September-14-2024-Premier-League\n",
      "20240921\n",
      "https://fbref.com/en/matches/32a9539b/Liverpool-Bournemouth-September-21-2024-Premier-League\n",
      "20241020\n",
      "https://fbref.com/en/matches/99b4737c/Liverpool-Chelsea-October-20-2024-Premier-League\n",
      "20241102\n",
      "https://fbref.com/en/matches/7d114c70/Liverpool-Brighton-and-Hove-Albion-November-2-2024-Premier-League\n",
      "match row 처리 중 오류: Message: no such element: Unable to locate element: {\"method\":\"css selector\",\"selector\":\"td[data-stat=\"comp\"]\"}\n",
      "  (Session info: chrome=136.0.7103.114); For documentation on this error, please visit: https://www.selenium.dev/documentation/webdriver/troubleshooting/errors#no-such-element-exception\n",
      "Stacktrace:\n",
      "\tGetHandleVerifier [0x00007FF7535BCF45+75717]\n",
      "\tGetHandleVerifier [0x00007FF7535BCFA0+75808]\n",
      "\t(No symbol) [0x00007FF753388F9A]\n",
      "\t(No symbol) [0x00007FF7533DF4C6]\n",
      "\t(No symbol) [0x00007FF7533DF77C]\n",
      "\t(No symbol) [0x00007FF7533D1D7C]\n",
      "\t(No symbol) [0x00007FF7534073BF]\n",
      "\t(No symbol) [0x00007FF7533D1C46]\n",
      "\t(No symbol) [0x00007FF753407590]\n",
      "\t(No symbol) [0x00007FF75342F39C]\n",
      "\t(No symbol) [0x00007FF753407153]\n",
      "\t(No symbol) [0x00007FF7533D0421]\n",
      "\t(No symbol) [0x00007FF7533D11B3]\n",
      "\tGetHandleVerifier [0x00007FF7538BD71D+3223453]\n",
      "\tGetHandleVerifier [0x00007FF7538B7CC2+3200322]\n",
      "\tGetHandleVerifier [0x00007FF7538D5AF3+3322739]\n",
      "\tGetHandleVerifier [0x00007FF7535D6A1A+180890]\n",
      "\tGetHandleVerifier [0x00007FF7535DE11F+211359]\n",
      "\tGetHandleVerifier [0x00007FF7535C5294+109332]\n",
      "\tGetHandleVerifier [0x00007FF7535C5442+109762]\n",
      "\tGetHandleVerifier [0x00007FF7535ABA59+4825]\n",
      "\tBaseThreadInitThunk [0x00007FFE15767374+20]\n",
      "\tRtlUserThreadStart [0x00007FFE16F5CC91+33]\n",
      "\n",
      "20241109\n",
      "https://fbref.com/en/matches/737af5bf/Liverpool-Aston-Villa-November-9-2024-Premier-League\n",
      "20241201\n",
      "https://fbref.com/en/matches/0bd6ad44/Liverpool-Manchester-City-December-1-2024-Premier-League\n",
      "20241214\n",
      "https://fbref.com/en/matches/a436996c/Liverpool-Fulham-December-14-2024-Premier-League\n",
      "20241226\n",
      "https://fbref.com/en/matches/1f604fbd/Liverpool-Leicester-City-December-26-2024-Premier-League\n",
      "20250105\n",
      "https://fbref.com/en/matches/4cef863f/North-West-Derby-Liverpool-Manchester-United-January-5-2025-Premier-League\n",
      "match row 처리 중 오류: Message: no such element: Unable to locate element: {\"method\":\"css selector\",\"selector\":\"td[data-stat=\"comp\"]\"}\n",
      "  (Session info: chrome=136.0.7103.114); For documentation on this error, please visit: https://www.selenium.dev/documentation/webdriver/troubleshooting/errors#no-such-element-exception\n",
      "Stacktrace:\n",
      "\tGetHandleVerifier [0x00007FF7535BCF45+75717]\n",
      "\tGetHandleVerifier [0x00007FF7535BCFA0+75808]\n",
      "\t(No symbol) [0x00007FF753388F9A]\n",
      "\t(No symbol) [0x00007FF7533DF4C6]\n",
      "\t(No symbol) [0x00007FF7533DF77C]\n",
      "\t(No symbol) [0x00007FF7533D1D7C]\n",
      "\t(No symbol) [0x00007FF7534073BF]\n",
      "\t(No symbol) [0x00007FF7533D1C46]\n",
      "\t(No symbol) [0x00007FF753407590]\n",
      "\t(No symbol) [0x00007FF75342F39C]\n",
      "\t(No symbol) [0x00007FF753407153]\n",
      "\t(No symbol) [0x00007FF7533D0421]\n",
      "\t(No symbol) [0x00007FF7533D11B3]\n",
      "\tGetHandleVerifier [0x00007FF7538BD71D+3223453]\n",
      "\tGetHandleVerifier [0x00007FF7538B7CC2+3200322]\n",
      "\tGetHandleVerifier [0x00007FF7538D5AF3+3322739]\n",
      "\tGetHandleVerifier [0x00007FF7535D6A1A+180890]\n",
      "\tGetHandleVerifier [0x00007FF7535DE11F+211359]\n",
      "\tGetHandleVerifier [0x00007FF7535C5294+109332]\n",
      "\tGetHandleVerifier [0x00007FF7535C5442+109762]\n",
      "\tGetHandleVerifier [0x00007FF7535ABA59+4825]\n",
      "\tBaseThreadInitThunk [0x00007FFE15767374+20]\n",
      "\tRtlUserThreadStart [0x00007FFE16F5CC91+33]\n",
      "\n",
      "20250125\n",
      "https://fbref.com/en/matches/ee59115f/Liverpool-Ipswich-Town-January-25-2025-Premier-League\n",
      "20250216\n",
      "https://fbref.com/en/matches/6a917c79/Liverpool-Wolverhampton-Wanderers-February-16-2025-Premier-League\n",
      "20250226\n",
      "https://fbref.com/en/matches/a0975f8c/Liverpool-Newcastle-United-February-26-2025-Premier-League\n",
      "20250308\n",
      "https://fbref.com/en/matches/049341ab/Liverpool-Southampton-March-8-2025-Premier-League\n",
      "match row 처리 중 오류: Message: no such element: Unable to locate element: {\"method\":\"css selector\",\"selector\":\"td[data-stat=\"comp\"]\"}\n",
      "  (Session info: chrome=136.0.7103.114); For documentation on this error, please visit: https://www.selenium.dev/documentation/webdriver/troubleshooting/errors#no-such-element-exception\n",
      "Stacktrace:\n",
      "\tGetHandleVerifier [0x00007FF7535BCF45+75717]\n",
      "\tGetHandleVerifier [0x00007FF7535BCFA0+75808]\n",
      "\t(No symbol) [0x00007FF753388F9A]\n",
      "\t(No symbol) [0x00007FF7533DF4C6]\n",
      "\t(No symbol) [0x00007FF7533DF77C]\n",
      "\t(No symbol) [0x00007FF7533D1D7C]\n",
      "\t(No symbol) [0x00007FF7534073BF]\n",
      "\t(No symbol) [0x00007FF7533D1C46]\n",
      "\t(No symbol) [0x00007FF753407590]\n",
      "\t(No symbol) [0x00007FF75342F39C]\n",
      "\t(No symbol) [0x00007FF753407153]\n",
      "\t(No symbol) [0x00007FF7533D0421]\n",
      "\t(No symbol) [0x00007FF7533D11B3]\n",
      "\tGetHandleVerifier [0x00007FF7538BD71D+3223453]\n",
      "\tGetHandleVerifier [0x00007FF7538B7CC2+3200322]\n",
      "\tGetHandleVerifier [0x00007FF7538D5AF3+3322739]\n",
      "\tGetHandleVerifier [0x00007FF7535D6A1A+180890]\n",
      "\tGetHandleVerifier [0x00007FF7535DE11F+211359]\n",
      "\tGetHandleVerifier [0x00007FF7535C5294+109332]\n",
      "\tGetHandleVerifier [0x00007FF7535C5442+109762]\n",
      "\tGetHandleVerifier [0x00007FF7535ABA59+4825]\n",
      "\tBaseThreadInitThunk [0x00007FFE15767374+20]\n",
      "\tRtlUserThreadStart [0x00007FFE16F5CC91+33]\n",
      "\n",
      "20250402\n",
      "https://fbref.com/en/matches/7e2a8ebe/Merseyside-Derby-Liverpool-Everton-April-2-2025-Premier-League\n",
      "20250413\n",
      "https://fbref.com/en/matches/4975981b/Liverpool-West-Ham-United-April-13-2025-Premier-League\n",
      "20250427\n",
      "https://fbref.com/en/matches/64bc833f/Liverpool-Tottenham-Hotspur-April-27-2025-Premier-League\n",
      "20250511\n",
      "https://fbref.com/en/matches/0dc9bdd9/Liverpool-Arsenal-May-11-2025-Premier-League\n",
      "18\n",
      "18\n"
     ]
    },
    {
     "name": "stderr",
     "output_type": "stream",
     "text": [
      "\n",
      "\u001b[A"
     ]
    },
    {
     "name": "stdout",
     "output_type": "stream",
     "text": [
      "[players stats summary 저장 완료] C:/Users/user080524/Desktop/project/PREMO/data/datas/1\\unknown_season\\Liverpool\\20240825\\20240825_home_palyers_summary.csv\n",
      "[players stats summary 저장 완료] C:/Users/user080524/Desktop/project/PREMO/data/datas/1\\unknown_season\\Liverpool\\20240825\\20240825_home_gk.csv\n",
      "[players stats summary 저장 완료] C:/Users/user080524/Desktop/project/PREMO/data/datas/1\\unknown_season\\Liverpool\\20240825\\20240825_away_players_summary.csv\n",
      "[players stats summary 저장 완료] C:/Users/user080524/Desktop/project/PREMO/data/datas/1\\unknown_season\\Liverpool\\20240825\\20240825_away_gk.csv\n"
     ]
    },
    {
     "name": "stderr",
     "output_type": "stream",
     "text": [
      "\n",
      "\u001b[A"
     ]
    },
    {
     "name": "stdout",
     "output_type": "stream",
     "text": [
      "[team_stats 저장 완료] C:/Users/user080524/Desktop/project/PREMO/data/datas/1\\unknown_season\\Liverpool\\20240825\\20240825_team_stats.csv\n",
      "[players stats summary 저장 완료] C:/Users/user080524/Desktop/project/PREMO/data/datas/1\\unknown_season\\Liverpool\\20240914\\20240914_home_palyers_summary.csv\n",
      "[players stats summary 저장 완료] C:/Users/user080524/Desktop/project/PREMO/data/datas/1\\unknown_season\\Liverpool\\20240914\\20240914_home_gk.csv\n",
      "[players stats summary 저장 완료] C:/Users/user080524/Desktop/project/PREMO/data/datas/1\\unknown_season\\Liverpool\\20240914\\20240914_away_players_summary.csv\n",
      "[players stats summary 저장 완료] C:/Users/user080524/Desktop/project/PREMO/data/datas/1\\unknown_season\\Liverpool\\20240914\\20240914_away_gk.csv\n"
     ]
    },
    {
     "name": "stderr",
     "output_type": "stream",
     "text": [
      "\n",
      "\u001b[A"
     ]
    },
    {
     "name": "stdout",
     "output_type": "stream",
     "text": [
      "[team_stats 저장 완료] C:/Users/user080524/Desktop/project/PREMO/data/datas/1\\unknown_season\\Liverpool\\20240914\\20240914_team_stats.csv\n",
      "[players stats summary 저장 완료] C:/Users/user080524/Desktop/project/PREMO/data/datas/1\\unknown_season\\Liverpool\\20240921\\20240921_home_palyers_summary.csv\n",
      "[players stats summary 저장 완료] C:/Users/user080524/Desktop/project/PREMO/data/datas/1\\unknown_season\\Liverpool\\20240921\\20240921_home_gk.csv\n",
      "[players stats summary 저장 완료] C:/Users/user080524/Desktop/project/PREMO/data/datas/1\\unknown_season\\Liverpool\\20240921\\20240921_away_players_summary.csv\n",
      "[players stats summary 저장 완료] C:/Users/user080524/Desktop/project/PREMO/data/datas/1\\unknown_season\\Liverpool\\20240921\\20240921_away_gk.csv\n"
     ]
    },
    {
     "name": "stderr",
     "output_type": "stream",
     "text": [
      "\n",
      "\u001b[A"
     ]
    },
    {
     "name": "stdout",
     "output_type": "stream",
     "text": [
      "[team_stats 저장 완료] C:/Users/user080524/Desktop/project/PREMO/data/datas/1\\unknown_season\\Liverpool\\20240921\\20240921_team_stats.csv\n",
      "[players stats summary 저장 완료] C:/Users/user080524/Desktop/project/PREMO/data/datas/1\\unknown_season\\Liverpool\\20241020\\20241020_home_palyers_summary.csv\n",
      "[players stats summary 저장 완료] C:/Users/user080524/Desktop/project/PREMO/data/datas/1\\unknown_season\\Liverpool\\20241020\\20241020_home_gk.csv\n",
      "[players stats summary 저장 완료] C:/Users/user080524/Desktop/project/PREMO/data/datas/1\\unknown_season\\Liverpool\\20241020\\20241020_away_players_summary.csv\n",
      "[players stats summary 저장 완료] C:/Users/user080524/Desktop/project/PREMO/data/datas/1\\unknown_season\\Liverpool\\20241020\\20241020_away_gk.csv\n"
     ]
    },
    {
     "name": "stderr",
     "output_type": "stream",
     "text": [
      "\n",
      "\u001b[A"
     ]
    },
    {
     "name": "stdout",
     "output_type": "stream",
     "text": [
      "[team_stats 저장 완료] C:/Users/user080524/Desktop/project/PREMO/data/datas/1\\unknown_season\\Liverpool\\20241020\\20241020_team_stats.csv\n",
      "[players stats summary 저장 완료] C:/Users/user080524/Desktop/project/PREMO/data/datas/1\\unknown_season\\Liverpool\\20241102\\20241102_home_palyers_summary.csv\n",
      "[players stats summary 저장 완료] C:/Users/user080524/Desktop/project/PREMO/data/datas/1\\unknown_season\\Liverpool\\20241102\\20241102_home_gk.csv\n",
      "[players stats summary 저장 완료] C:/Users/user080524/Desktop/project/PREMO/data/datas/1\\unknown_season\\Liverpool\\20241102\\20241102_away_players_summary.csv\n",
      "[players stats summary 저장 완료] C:/Users/user080524/Desktop/project/PREMO/data/datas/1\\unknown_season\\Liverpool\\20241102\\20241102_away_gk.csv\n"
     ]
    },
    {
     "name": "stderr",
     "output_type": "stream",
     "text": [
      "\n",
      "\u001b[A"
     ]
    },
    {
     "name": "stdout",
     "output_type": "stream",
     "text": [
      "[team_stats 저장 완료] C:/Users/user080524/Desktop/project/PREMO/data/datas/1\\unknown_season\\Liverpool\\20241102\\20241102_team_stats.csv\n",
      "[players stats summary 저장 완료] C:/Users/user080524/Desktop/project/PREMO/data/datas/1\\unknown_season\\Liverpool\\20241109\\20241109_home_palyers_summary.csv\n",
      "[players stats summary 저장 완료] C:/Users/user080524/Desktop/project/PREMO/data/datas/1\\unknown_season\\Liverpool\\20241109\\20241109_home_gk.csv\n",
      "[players stats summary 저장 완료] C:/Users/user080524/Desktop/project/PREMO/data/datas/1\\unknown_season\\Liverpool\\20241109\\20241109_away_players_summary.csv\n",
      "[players stats summary 저장 완료] C:/Users/user080524/Desktop/project/PREMO/data/datas/1\\unknown_season\\Liverpool\\20241109\\20241109_away_gk.csv\n"
     ]
    },
    {
     "name": "stderr",
     "output_type": "stream",
     "text": [
      "\n",
      "\u001b[A"
     ]
    },
    {
     "name": "stdout",
     "output_type": "stream",
     "text": [
      "[team_stats 저장 완료] C:/Users/user080524/Desktop/project/PREMO/data/datas/1\\unknown_season\\Liverpool\\20241109\\20241109_team_stats.csv\n",
      "[players stats summary 저장 완료] C:/Users/user080524/Desktop/project/PREMO/data/datas/1\\unknown_season\\Liverpool\\20241201\\20241201_home_palyers_summary.csv\n",
      "[players stats summary 저장 완료] C:/Users/user080524/Desktop/project/PREMO/data/datas/1\\unknown_season\\Liverpool\\20241201\\20241201_home_gk.csv\n",
      "[players stats summary 저장 완료] C:/Users/user080524/Desktop/project/PREMO/data/datas/1\\unknown_season\\Liverpool\\20241201\\20241201_away_players_summary.csv\n",
      "[players stats summary 저장 완료] C:/Users/user080524/Desktop/project/PREMO/data/datas/1\\unknown_season\\Liverpool\\20241201\\20241201_away_gk.csv\n"
     ]
    },
    {
     "name": "stderr",
     "output_type": "stream",
     "text": [
      "\n",
      "\u001b[A"
     ]
    },
    {
     "name": "stdout",
     "output_type": "stream",
     "text": [
      "[team_stats 저장 완료] C:/Users/user080524/Desktop/project/PREMO/data/datas/1\\unknown_season\\Liverpool\\20241201\\20241201_team_stats.csv\n",
      "[players stats summary 저장 완료] C:/Users/user080524/Desktop/project/PREMO/data/datas/1\\unknown_season\\Liverpool\\20241214\\20241214_home_palyers_summary.csv\n",
      "[players stats summary 저장 완료] C:/Users/user080524/Desktop/project/PREMO/data/datas/1\\unknown_season\\Liverpool\\20241214\\20241214_home_gk.csv\n",
      "[players stats summary 저장 완료] C:/Users/user080524/Desktop/project/PREMO/data/datas/1\\unknown_season\\Liverpool\\20241214\\20241214_away_players_summary.csv\n",
      "[players stats summary 저장 완료] C:/Users/user080524/Desktop/project/PREMO/data/datas/1\\unknown_season\\Liverpool\\20241214\\20241214_away_gk.csv\n"
     ]
    },
    {
     "name": "stderr",
     "output_type": "stream",
     "text": [
      "\n",
      "\u001b[A"
     ]
    },
    {
     "name": "stdout",
     "output_type": "stream",
     "text": [
      "[team_stats 저장 완료] C:/Users/user080524/Desktop/project/PREMO/data/datas/1\\unknown_season\\Liverpool\\20241214\\20241214_team_stats.csv\n",
      "[players stats summary 저장 완료] C:/Users/user080524/Desktop/project/PREMO/data/datas/1\\unknown_season\\Liverpool\\20241226\\20241226_home_palyers_summary.csv\n",
      "[players stats summary 저장 완료] C:/Users/user080524/Desktop/project/PREMO/data/datas/1\\unknown_season\\Liverpool\\20241226\\20241226_home_gk.csv\n",
      "[players stats summary 저장 완료] C:/Users/user080524/Desktop/project/PREMO/data/datas/1\\unknown_season\\Liverpool\\20241226\\20241226_away_players_summary.csv\n",
      "[players stats summary 저장 완료] C:/Users/user080524/Desktop/project/PREMO/data/datas/1\\unknown_season\\Liverpool\\20241226\\20241226_away_gk.csv\n"
     ]
    },
    {
     "name": "stderr",
     "output_type": "stream",
     "text": [
      "\n",
      "\u001b[A"
     ]
    },
    {
     "name": "stdout",
     "output_type": "stream",
     "text": [
      "[team_stats 저장 완료] C:/Users/user080524/Desktop/project/PREMO/data/datas/1\\unknown_season\\Liverpool\\20241226\\20241226_team_stats.csv\n",
      "[players stats summary 저장 완료] C:/Users/user080524/Desktop/project/PREMO/data/datas/1\\unknown_season\\Liverpool\\20250105\\20250105_home_palyers_summary.csv\n",
      "[players stats summary 저장 완료] C:/Users/user080524/Desktop/project/PREMO/data/datas/1\\unknown_season\\Liverpool\\20250105\\20250105_home_gk.csv\n",
      "[players stats summary 저장 완료] C:/Users/user080524/Desktop/project/PREMO/data/datas/1\\unknown_season\\Liverpool\\20250105\\20250105_away_players_summary.csv\n",
      "[players stats summary 저장 완료] C:/Users/user080524/Desktop/project/PREMO/data/datas/1\\unknown_season\\Liverpool\\20250105\\20250105_away_gk.csv\n"
     ]
    },
    {
     "name": "stderr",
     "output_type": "stream",
     "text": [
      "\n",
      "\u001b[A"
     ]
    },
    {
     "name": "stdout",
     "output_type": "stream",
     "text": [
      "[team_stats 저장 완료] C:/Users/user080524/Desktop/project/PREMO/data/datas/1\\unknown_season\\Liverpool\\20250105\\20250105_team_stats.csv\n",
      "[players stats summary 저장 완료] C:/Users/user080524/Desktop/project/PREMO/data/datas/1\\unknown_season\\Liverpool\\20250125\\20250125_home_palyers_summary.csv\n",
      "[players stats summary 저장 완료] C:/Users/user080524/Desktop/project/PREMO/data/datas/1\\unknown_season\\Liverpool\\20250125\\20250125_home_gk.csv\n",
      "[players stats summary 저장 완료] C:/Users/user080524/Desktop/project/PREMO/data/datas/1\\unknown_season\\Liverpool\\20250125\\20250125_away_players_summary.csv\n",
      "[players stats summary 저장 완료] C:/Users/user080524/Desktop/project/PREMO/data/datas/1\\unknown_season\\Liverpool\\20250125\\20250125_away_gk.csv\n"
     ]
    },
    {
     "name": "stderr",
     "output_type": "stream",
     "text": [
      "\n",
      "\u001b[A"
     ]
    },
    {
     "name": "stdout",
     "output_type": "stream",
     "text": [
      "[team_stats 저장 완료] C:/Users/user080524/Desktop/project/PREMO/data/datas/1\\unknown_season\\Liverpool\\20250125\\20250125_team_stats.csv\n",
      "[players stats summary 저장 완료] C:/Users/user080524/Desktop/project/PREMO/data/datas/1\\unknown_season\\Liverpool\\20250216\\20250216_home_palyers_summary.csv\n",
      "[players stats summary 저장 완료] C:/Users/user080524/Desktop/project/PREMO/data/datas/1\\unknown_season\\Liverpool\\20250216\\20250216_home_gk.csv\n",
      "[players stats summary 저장 완료] C:/Users/user080524/Desktop/project/PREMO/data/datas/1\\unknown_season\\Liverpool\\20250216\\20250216_away_players_summary.csv\n",
      "[players stats summary 저장 완료] C:/Users/user080524/Desktop/project/PREMO/data/datas/1\\unknown_season\\Liverpool\\20250216\\20250216_away_gk.csv\n"
     ]
    },
    {
     "name": "stderr",
     "output_type": "stream",
     "text": [
      "\n",
      "\u001b[A"
     ]
    },
    {
     "name": "stdout",
     "output_type": "stream",
     "text": [
      "[team_stats 저장 완료] C:/Users/user080524/Desktop/project/PREMO/data/datas/1\\unknown_season\\Liverpool\\20250216\\20250216_team_stats.csv\n",
      "[players stats summary 저장 완료] C:/Users/user080524/Desktop/project/PREMO/data/datas/1\\unknown_season\\Liverpool\\20250226\\20250226_home_palyers_summary.csv\n",
      "[players stats summary 저장 완료] C:/Users/user080524/Desktop/project/PREMO/data/datas/1\\unknown_season\\Liverpool\\20250226\\20250226_home_gk.csv\n",
      "[players stats summary 저장 완료] C:/Users/user080524/Desktop/project/PREMO/data/datas/1\\unknown_season\\Liverpool\\20250226\\20250226_away_players_summary.csv\n",
      "[players stats summary 저장 완료] C:/Users/user080524/Desktop/project/PREMO/data/datas/1\\unknown_season\\Liverpool\\20250226\\20250226_away_gk.csv\n"
     ]
    },
    {
     "name": "stderr",
     "output_type": "stream",
     "text": [
      "\n",
      "\u001b[A"
     ]
    },
    {
     "name": "stdout",
     "output_type": "stream",
     "text": [
      "team_stats 없음 could not convert string to float: ''\n",
      "[team_stats 저장 완료] C:/Users/user080524/Desktop/project/PREMO/data/datas/1\\unknown_season\\Liverpool\\20250226\\20250226_team_stats.csv\n",
      "[players stats summary 저장 완료] C:/Users/user080524/Desktop/project/PREMO/data/datas/1\\unknown_season\\Liverpool\\20250308\\20250308_home_palyers_summary.csv\n",
      "[players stats summary 저장 완료] C:/Users/user080524/Desktop/project/PREMO/data/datas/1\\unknown_season\\Liverpool\\20250308\\20250308_home_gk.csv\n",
      "[players stats summary 저장 완료] C:/Users/user080524/Desktop/project/PREMO/data/datas/1\\unknown_season\\Liverpool\\20250308\\20250308_away_players_summary.csv\n",
      "[players stats summary 저장 완료] C:/Users/user080524/Desktop/project/PREMO/data/datas/1\\unknown_season\\Liverpool\\20250308\\20250308_away_gk.csv\n"
     ]
    },
    {
     "name": "stderr",
     "output_type": "stream",
     "text": [
      "\n",
      "\u001b[A"
     ]
    },
    {
     "name": "stdout",
     "output_type": "stream",
     "text": [
      "[team_stats 저장 완료] C:/Users/user080524/Desktop/project/PREMO/data/datas/1\\unknown_season\\Liverpool\\20250308\\20250308_team_stats.csv\n",
      "[players stats summary 저장 완료] C:/Users/user080524/Desktop/project/PREMO/data/datas/1\\unknown_season\\Liverpool\\20250402\\20250402_home_palyers_summary.csv\n",
      "[players stats summary 저장 완료] C:/Users/user080524/Desktop/project/PREMO/data/datas/1\\unknown_season\\Liverpool\\20250402\\20250402_home_gk.csv\n",
      "[players stats summary 저장 완료] C:/Users/user080524/Desktop/project/PREMO/data/datas/1\\unknown_season\\Liverpool\\20250402\\20250402_away_players_summary.csv\n",
      "[players stats summary 저장 완료] C:/Users/user080524/Desktop/project/PREMO/data/datas/1\\unknown_season\\Liverpool\\20250402\\20250402_away_gk.csv\n"
     ]
    },
    {
     "name": "stderr",
     "output_type": "stream",
     "text": [
      "\n",
      "\u001b[A"
     ]
    },
    {
     "name": "stdout",
     "output_type": "stream",
     "text": [
      "team_stats 없음 could not convert string to float: ''\n",
      "[team_stats 저장 완료] C:/Users/user080524/Desktop/project/PREMO/data/datas/1\\unknown_season\\Liverpool\\20250402\\20250402_team_stats.csv\n",
      "[players stats summary 저장 완료] C:/Users/user080524/Desktop/project/PREMO/data/datas/1\\unknown_season\\Liverpool\\20250413\\20250413_home_palyers_summary.csv\n",
      "[players stats summary 저장 완료] C:/Users/user080524/Desktop/project/PREMO/data/datas/1\\unknown_season\\Liverpool\\20250413\\20250413_home_gk.csv\n",
      "[players stats summary 저장 완료] C:/Users/user080524/Desktop/project/PREMO/data/datas/1\\unknown_season\\Liverpool\\20250413\\20250413_away_players_summary.csv\n",
      "[players stats summary 저장 완료] C:/Users/user080524/Desktop/project/PREMO/data/datas/1\\unknown_season\\Liverpool\\20250413\\20250413_away_gk.csv\n"
     ]
    },
    {
     "name": "stderr",
     "output_type": "stream",
     "text": [
      "\n",
      "\u001b[A"
     ]
    },
    {
     "name": "stdout",
     "output_type": "stream",
     "text": [
      "[team_stats 저장 완료] C:/Users/user080524/Desktop/project/PREMO/data/datas/1\\unknown_season\\Liverpool\\20250413\\20250413_team_stats.csv\n",
      "[players stats summary 저장 완료] C:/Users/user080524/Desktop/project/PREMO/data/datas/1\\unknown_season\\Liverpool\\20250427\\20250427_home_palyers_summary.csv\n",
      "[players stats summary 저장 완료] C:/Users/user080524/Desktop/project/PREMO/data/datas/1\\unknown_season\\Liverpool\\20250427\\20250427_home_gk.csv\n",
      "[players stats summary 저장 완료] C:/Users/user080524/Desktop/project/PREMO/data/datas/1\\unknown_season\\Liverpool\\20250427\\20250427_away_players_summary.csv\n",
      "[players stats summary 저장 완료] C:/Users/user080524/Desktop/project/PREMO/data/datas/1\\unknown_season\\Liverpool\\20250427\\20250427_away_gk.csv\n"
     ]
    },
    {
     "name": "stderr",
     "output_type": "stream",
     "text": [
      "\n",
      "\u001b[A"
     ]
    },
    {
     "name": "stdout",
     "output_type": "stream",
     "text": [
      "[team_stats 저장 완료] C:/Users/user080524/Desktop/project/PREMO/data/datas/1\\unknown_season\\Liverpool\\20250427\\20250427_team_stats.csv\n",
      "[players stats summary 저장 완료] C:/Users/user080524/Desktop/project/PREMO/data/datas/1\\unknown_season\\Liverpool\\20250511\\20250511_home_palyers_summary.csv\n",
      "[players stats summary 저장 완료] C:/Users/user080524/Desktop/project/PREMO/data/datas/1\\unknown_season\\Liverpool\\20250511\\20250511_home_gk.csv\n",
      "[players stats summary 저장 완료] C:/Users/user080524/Desktop/project/PREMO/data/datas/1\\unknown_season\\Liverpool\\20250511\\20250511_away_players_summary.csv\n",
      "[players stats summary 저장 완료] C:/Users/user080524/Desktop/project/PREMO/data/datas/1\\unknown_season\\Liverpool\\20250511\\20250511_away_gk.csv\n"
     ]
    },
    {
     "name": "stderr",
     "output_type": "stream",
     "text": [
      "\n",
      "\u001b[A\n",
      "\u001b[A"
     ]
    },
    {
     "name": "stdout",
     "output_type": "stream",
     "text": [
      "[team_stats 저장 완료] C:/Users/user080524/Desktop/project/PREMO/data/datas/1\\unknown_season\\Liverpool\\20250511\\20250511_team_stats.csv\n",
      "[시즌 페이지 로딩] URL: https://fbref.com/en/comps/9/Premier-League-Stats\n"
     ]
    },
    {
     "name": "stderr",
     "output_type": "stream",
     "text": [
      "Teams in unknown_season:   5%|▌         | 1/20 [03:12<1:00:58, 192.57s/it]\n",
      "Season URLs:  50%|█████     | 1/2 [1:07:56<1:07:56, 4076.91s/it]\n"
     ]
    },
    {
     "ename": "KeyboardInterrupt",
     "evalue": "",
     "output_type": "error",
     "traceback": [
      "\u001b[31m---------------------------------------------------------------------------\u001b[39m",
      "\u001b[31mKeyboardInterrupt\u001b[39m                         Traceback (most recent call last)",
      "\u001b[36mCell\u001b[39m\u001b[36m \u001b[39m\u001b[32mIn[18]\u001b[39m\u001b[32m, line 17\u001b[39m\n\u001b[32m     14\u001b[39m season = season_match.group(\u001b[32m1\u001b[39m) \u001b[38;5;28;01mif\u001b[39;00m season_match \u001b[38;5;28;01melse\u001b[39;00m \u001b[33m\"\u001b[39m\u001b[33munknown_season\u001b[39m\u001b[33m\"\u001b[39m\n\u001b[32m     16\u001b[39m \u001b[38;5;28;01mfor\u001b[39;00m i \u001b[38;5;129;01min\u001b[39;00m tqdm(\u001b[38;5;28mrange\u001b[39m(\u001b[32m20\u001b[39m), desc=\u001b[33mf\u001b[39m\u001b[33m\"\u001b[39m\u001b[33mTeams in \u001b[39m\u001b[38;5;132;01m{\u001b[39;00mseason\u001b[38;5;132;01m}\u001b[39;00m\u001b[33m\"\u001b[39m):\n\u001b[32m---> \u001b[39m\u001b[32m17\u001b[39m     data = \u001b[43mcrawl\u001b[49m\u001b[43m(\u001b[49m\u001b[43mlink\u001b[49m\u001b[43m,\u001b[49m\u001b[43m \u001b[49m\u001b[43mi\u001b[49m\u001b[43m)\u001b[49m\n\u001b[32m     18\u001b[39m     \u001b[38;5;28mprint\u001b[39m(\u001b[38;5;28mlen\u001b[39m(data))\n\u001b[32m     20\u001b[39m     \u001b[38;5;28;01mfor\u001b[39;00m match \u001b[38;5;129;01min\u001b[39;00m tqdm(data, desc=\u001b[33mf\u001b[39m\u001b[33m\"\u001b[39m\u001b[33mMatches for Team\u001b[39m\u001b[38;5;132;01m{\u001b[39;00mi\u001b[38;5;132;01m}\u001b[39;00m\u001b[33m\"\u001b[39m, leave=\u001b[38;5;28;01mFalse\u001b[39;00m):\n",
      "\u001b[36mCell\u001b[39m\u001b[36m \u001b[39m\u001b[32mIn[17]\u001b[39m\u001b[32m, line 4\u001b[39m, in \u001b[36mcrawl\u001b[39m\u001b[34m(season_url, team_index)\u001b[39m\n\u001b[32m      2\u001b[39m \u001b[38;5;28mprint\u001b[39m(\u001b[33mf\u001b[39m\u001b[33m\"\u001b[39m\u001b[33m[시즌 페이지 로딩] URL: \u001b[39m\u001b[38;5;132;01m{\u001b[39;00mseason_url\u001b[38;5;132;01m}\u001b[39;00m\u001b[33m\"\u001b[39m)\n\u001b[32m      3\u001b[39m driver.get(season_url)\n\u001b[32m----> \u001b[39m\u001b[32m4\u001b[39m \u001b[43mtime\u001b[49m\u001b[43m.\u001b[49m\u001b[43msleep\u001b[49m\u001b[43m(\u001b[49m\u001b[32;43m2\u001b[39;49m\u001b[43m)\u001b[49m\n\u001b[32m      6\u001b[39m \u001b[38;5;28;01mtry\u001b[39;00m:\n\u001b[32m      8\u001b[39m     match = re.search(\u001b[33mr\u001b[39m\u001b[33m'\u001b[39m\u001b[33m/(\u001b[39m\u001b[33m\\\u001b[39m\u001b[33md\u001b[39m\u001b[38;5;132;01m{4}\u001b[39;00m\u001b[33m-\u001b[39m\u001b[33m\\\u001b[39m\u001b[33md\u001b[39m\u001b[38;5;132;01m{4}\u001b[39;00m\u001b[33m)/\u001b[39m\u001b[33m'\u001b[39m, season_url)\n",
      "\u001b[31mKeyboardInterrupt\u001b[39m: "
     ]
    }
   ],
   "source": [
    "#시즌별 링크\n",
    "season_urls = []\n",
    "\n",
    "for start_year in range(2021, 2022):\n",
    "    end_year = start_year+1\n",
    "    season = f\"{start_year}-{end_year}\"\n",
    "    url = f\"https://fbref.com/en/comps/9/{season}/{season}-Premier-League-Stats\"\n",
    "    season_urls.append(url)\n",
    "season_urls.append(\"https://fbref.com/en/comps/9/Premier-League-Stats\")\n",
    "\n",
    "\n",
    "for link in tqdm(season_urls, desc=\"Season URLs\"):\n",
    "    season_match = re.search(r'(\\d{4}-\\d{4})', link)\n",
    "    season = season_match.group(1) if season_match else \"unknown_season\"\n",
    "    \n",
    "    for i in tqdm(range(20), desc=f\"Teams in {season}\"):\n",
    "        data = crawl(link, i)\n",
    "        print(len(data))\n",
    "        \n",
    "        for match in tqdm(data, desc=f\"Matches for Team{i}\", leave=False):\n",
    "            match_url = match[\"link\"]\n",
    "            driver.get(match_url)\n",
    "            \n",
    "            time.sleep(2)\n",
    "            \n",
    "            save_folder = os.path.join(SAVE_DIR, season, match[\"team\"], match[\"date\"])\n",
    "            os.makedirs(save_folder, exist_ok=True)\n",
    "            \n",
    "            #players data summary + gk(처음 4개 테이블)\n",
    "            player_tables = driver.find_elements(By.CLASS_NAME, \"stats_table.sortable.now_sortable.sticky_table.eq1.re1.le1\")\n",
    "            if not player_tables or len(player_tables) < 4:\n",
    "                print(\"선수 테이블 개수 오류\")\n",
    "                continue\n",
    "            \n",
    "            summary_gk_labels = [\"home_palyers_summary\", \"home_gk\", \"away_players_summary\", \"away_gk\"]\n",
    "            \n",
    "            for idx, table in enumerate(player_tables[:4]):\n",
    "                try:\n",
    "                    thead = table.find_element(By.CSS_SELECTOR, \"thead\")\n",
    "                    tbody = table.find_element(By.CSS_SELECTOR, \"tbody\")\n",
    "                except Exception as e:\n",
    "                    print(\"thead 또는 tbody 없음\")\n",
    "                    continue\n",
    "                \n",
    "                players_datas=[]\n",
    "                row_elements = tbody.find_elements(By.TAG_NAME, \"tr\")\n",
    "                \n",
    "                for row_elem in row_elements:\n",
    "                    row_data = {}\n",
    "                    try:\n",
    "                        th_elem = row_elem.find_element(By.TAG_NAME, \"th\")\n",
    "                        stat_name = th_elem.get_attribute(\"data-stat\")\n",
    "                        value = th_elem.text.strip()\n",
    "                        row_data[stat_name] = value\n",
    "                    except Exception as e:\n",
    "                        print(\"헤더 추출 오류\", e)\n",
    "                        pass\n",
    "                    \n",
    "                    td_elements = row_elem.find_elements(By.TAG_NAME, \"td\")\n",
    "                    for td in td_elements:\n",
    "                        stat_name = td.get_attribute(\"data-stat\")\n",
    "                        value = td.text.strip()\n",
    "                        row_data[stat_name] = value\n",
    "                    \n",
    "                    if row_data:\n",
    "                        players_datas.append(row_data)\n",
    "                    \n",
    "                df = pd.DataFrame(players_datas)\n",
    "                \n",
    "                match_date = match[\"date\"]\n",
    "                label = summary_gk_labels[idx]\n",
    "                file_name = f\"{match_date}_{label}.csv\"\n",
    "                save_path = os.path.join(save_folder, file_name)\n",
    "                df.to_csv(save_path, index=False, encoding=\"utf-8-sig\")\n",
    "                print(f\"[players stats summary 저장 완료] {save_path}\")\n",
    "            \n",
    "            \n",
    "            \n",
    "            #team stats 추출\n",
    "            try:\n",
    "                team_stats = driver.find_element(By.ID, \"team_stats\")\n",
    "                tbody = team_stats.find_element(By.TAG_NAME, \"tbody\")\n",
    "                trs = tbody.find_elements(By.TAG_NAME, \"tr\")\n",
    "                \n",
    "                target_indices = [2,4,6,8]\n",
    "                stat_names = [\"Possession\", \"Passing Accuracy\", \"Shots on Target\", \"Saves\"]\n",
    "                \n",
    "                stats = {}\n",
    "                for i, idx in enumerate(target_indices):\n",
    "                    tr = trs[idx]\n",
    "                    tds = tr.find_elements(By.TAG_NAME, \"td\")\n",
    "                    home_val = float(tds[0].find_element(By.TAG_NAME, \"strong\").text.replace('%', ''))\n",
    "                    away_val = float(tds[1].find_element(By.TAG_NAME, \"strong\").text.replace('%', ''))\n",
    "                    stats[f\"{stat_names[i]}_home\"] = home_val\n",
    "                    stats[f\"{stat_names[i]}_away\"] = away_val\n",
    "            except Exception as e:\n",
    "                print(\"team_stats 없음\", e)\n",
    "                stats = {}\n",
    "            \n",
    "            #team extra stats 추출\n",
    "            try:\n",
    "                container = driver.find_element(By.ID, \"team_stats_extra\")\n",
    "                blocks = container.find_elements(By.XPATH, \"./div\")\n",
    "                \n",
    "                extra_stats = {}\n",
    "                for block in blocks:\n",
    "                    divs = block.find_elements(By.TAG_NAME, \"div\")\n",
    "                    \n",
    "                    i = 3\n",
    "                    while i+2 < len(divs):\n",
    "                        home_val = divs[i].text.strip()\n",
    "                        stat_name = divs[i+1].text.strip()\n",
    "                        away_val = divs[i+2].text.strip()\n",
    "                        \n",
    "                        if home_val.isdigit() and away_val.isdigit():\n",
    "                            extra_stats[f\"{stat_name}_home\"] = int(home_val)\n",
    "                            extra_stats[f\"{stat_name}_away\"] = int(away_val)\n",
    "                        i+=3\n",
    "            except Exception as e:\n",
    "                print(\"team stats extra 없음\", e)\n",
    "                extra_stats = {}\n",
    "                \n",
    "            combined_stats = {**stats, **extra_stats}\n",
    "            df = pd.DataFrame([combined_stats])\n",
    "            match_date = match[\"date\"]\n",
    "            file_name = f\"{match_date}_team_stats.csv\"\n",
    "            #save_folder = os.path.join(SAVE_DIR, match_date)\n",
    "            save_path = os.path.join(save_folder, file_name)\n",
    "            df.to_csv(save_path, index=False, encoding=\"utf-8-sig\")\n",
    "            print(f\"[team_stats 저장 완료] {save_path}\")\n",
    "            \n",
    "            \n",
    "            \n",
    "            \n",
    "            \n",
    "driver.quit()"
   ]
  }
 ],
 "metadata": {
  "kernelspec": {
   "display_name": "Python (venv)",
   "language": "python",
   "name": "venv"
  },
  "language_info": {
   "codemirror_mode": {
    "name": "ipython",
    "version": 3
   },
   "file_extension": ".py",
   "mimetype": "text/x-python",
   "name": "python",
   "nbconvert_exporter": "python",
   "pygments_lexer": "ipython3",
   "version": "3.13.2"
  }
 },
 "nbformat": 4,
 "nbformat_minor": 5
}
